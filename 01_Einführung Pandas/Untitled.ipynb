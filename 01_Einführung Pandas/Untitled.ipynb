{
 "cells": [
  {
   "cell_type": "code",
   "execution_count": 1,
   "id": "11bde3ce-233f-44bf-be32-e76dd3f67c2d",
   "metadata": {},
   "outputs": [
    {
     "name": "stdout",
     "output_type": "stream",
     "text": [
      "Collecting package metadata (current_repodata.json): ...working... done\n",
      "Solving environment: ...working... done\n",
      "\n",
      "# All requested packages already installed.\n",
      "\n",
      "Retrieving notices: ...working... done\n",
      "\n",
      "Note: you may need to restart the kernel to use updated packages.\n"
     ]
    },
    {
     "name": "stderr",
     "output_type": "stream",
     "text": [
      "\n",
      "\n",
      "==> WARNING: A newer version of conda exists. <==\n",
      "  current version: 22.9.0\n",
      "  latest version: 23.3.1\n",
      "\n",
      "Please update conda by running\n",
      "\n",
      "    $ conda update -n base -c defaults conda\n",
      "\n",
      "\n"
     ]
    }
   ],
   "source": [
    "conda install pandas"
   ]
  },
  {
   "cell_type": "code",
   "execution_count": 3,
   "id": "7a9d381f-ab49-40bc-90d1-86f84cfa0579",
   "metadata": {},
   "outputs": [
    {
     "name": "stdout",
     "output_type": "stream",
     "text": [
      "Collecting package metadata (current_repodata.json): ...working... done\n",
      "Solving environment: ...working... \n",
      "\n",
      "Updating pandas is constricted by \n",
      "\n",
      "anaconda -> requires pandas==1.4.4=py39hd77b12b_0\n",
      "\n",
      "If you are sure you want an update of your package either try `conda update --all` or install a specific version of the package you want using `conda install <pkg>=<version>`\n",
      "\n",
      "done\n",
      "\n",
      "## Package Plan ##\n",
      "\n",
      "  environment location: C:\\Users\\Fabio\\anaconda3\n",
      "\n",
      "  added / updated specs:\n",
      "    - pandas\n",
      "\n",
      "\n",
      "The following packages will be downloaded:\n",
      "\n",
      "    package                    |            build\n",
      "    ---------------------------|-----------------\n",
      "    conda-package-handling-2.0.2|   py39haa95532_0         286 KB\n",
      "    conda-package-streaming-0.7.0|   py39haa95532_0          27 KB\n",
      "    conda-repo-cli-1.0.41      |   py39haa95532_0         142 KB\n",
      "    zstandard-0.19.0           |   py39h2bbff1b_0         340 KB\n",
      "    ------------------------------------------------------------\n",
      "                                           Total:         795 KB\n",
      "\n",
      "The following NEW packages will be INSTALLED:\n",
      "\n",
      "  conda-package-str~ pkgs/main/win-64::conda-package-streaming-0.7.0-py39haa95532_0 None\n",
      "  zstandard          pkgs/main/win-64::zstandard-0.19.0-py39h2bbff1b_0 None\n",
      "\n",
      "The following packages will be UPDATED:\n",
      "\n",
      "  conda-package-han~                   1.9.0-py39h8cc25b3_0 --> 2.0.2-py39haa95532_0 None\n",
      "  conda-repo-cli                      1.0.20-py39haa95532_0 --> 1.0.41-py39haa95532_0 None\n",
      "\n",
      "\n",
      "\n",
      "Downloading and Extracting Packages\n",
      "\n",
      "conda-package-handli | 286 KB    |            |   0% \n",
      "conda-package-handli | 286 KB    | #6         |  17% \n",
      "conda-package-handli | 286 KB    | ########3  |  84% \n",
      "conda-package-handli | 286 KB    | ########## | 100% \n",
      "\n",
      "zstandard-0.19.0     | 340 KB    |            |   0% \n",
      "zstandard-0.19.0     | 340 KB    | ###7       |  38% \n",
      "zstandard-0.19.0     | 340 KB    | ########4  |  85% \n",
      "zstandard-0.19.0     | 340 KB    | ########## | 100% \n",
      "\n",
      "conda-repo-cli-1.0.4 | 142 KB    |            |   0% \n",
      "conda-repo-cli-1.0.4 | 142 KB    | #######8   |  79% \n",
      "conda-repo-cli-1.0.4 | 142 KB    | ########## | 100% \n",
      "\n",
      "conda-package-stream | 27 KB     |            |   0% \n",
      "conda-package-stream | 27 KB     | #####8     |  59% \n",
      "conda-package-stream | 27 KB     | ########## | 100% \n",
      "Preparing transaction: ...working... done\n",
      "Verifying transaction: ...working... done\n",
      "Executing transaction: ...working... done\n",
      "Retrieving notices: ...working... done\n",
      "\n",
      "Note: you may need to restart the kernel to use updated packages.\n"
     ]
    },
    {
     "name": "stderr",
     "output_type": "stream",
     "text": [
      "\n",
      "\n",
      "==> WARNING: A newer version of conda exists. <==\n",
      "  current version: 22.9.0\n",
      "  latest version: 23.3.1\n",
      "\n",
      "Please update conda by running\n",
      "\n",
      "    $ conda update -n base -c defaults conda\n",
      "\n",
      "\n"
     ]
    }
   ],
   "source": [
    "conda update pandas "
   ]
  },
  {
   "cell_type": "code",
   "execution_count": 1,
   "id": "70502cc5-a27b-4cfe-91cb-88c8d5be4682",
   "metadata": {},
   "outputs": [
    {
     "data": {
      "text/plain": [
       "'2.0.0'"
      ]
     },
     "execution_count": 1,
     "metadata": {},
     "output_type": "execute_result"
    }
   ],
   "source": [
    "import pandas as pd\n",
    "pd.__version__"
   ]
  },
  {
   "cell_type": "code",
   "execution_count": 3,
   "id": "6875ed68-b343-4295-88c8-c7135abed190",
   "metadata": {},
   "outputs": [
    {
     "name": "stdout",
     "output_type": "stream",
     "text": [
      "Requirement already satisfied: pandas in c:\\users\\fabio\\anaconda3\\lib\\site-packages (1.4.4)\n",
      "Collecting pandas\n",
      "  Downloading pandas-2.0.0-cp39-cp39-win_amd64.whl (11.3 MB)\n",
      "     ---------------------------------------- 11.3/11.3 MB 2.5 MB/s eta 0:00:00\n",
      "Collecting tzdata>=2022.1\n",
      "  Downloading tzdata-2023.3-py2.py3-none-any.whl (341 kB)\n",
      "     -------------------------------------- 341.8/341.8 kB 2.7 MB/s eta 0:00:00\n",
      "Requirement already satisfied: pytz>=2020.1 in c:\\users\\fabio\\anaconda3\\lib\\site-packages (from pandas) (2022.1)\n",
      "Requirement already satisfied: python-dateutil>=2.8.2 in c:\\users\\fabio\\anaconda3\\lib\\site-packages (from pandas) (2.8.2)\n",
      "Requirement already satisfied: numpy>=1.20.3 in c:\\users\\fabio\\anaconda3\\lib\\site-packages (from pandas) (1.21.5)\n",
      "Requirement already satisfied: six>=1.5 in c:\\users\\fabio\\anaconda3\\lib\\site-packages (from python-dateutil>=2.8.2->pandas) (1.16.0)\n",
      "Installing collected packages: tzdata, pandas\n",
      "  Attempting uninstall: pandas\n",
      "    Found existing installation: pandas 1.4.4\n",
      "    Uninstalling pandas-1.4.4:\n",
      "      Successfully uninstalled pandas-1.4.4\n",
      "Successfully installed pandas-2.0.0 tzdata-2023.3\n"
     ]
    }
   ],
   "source": [
    "!pip install -U pandas"
   ]
  },
  {
   "cell_type": "code",
   "execution_count": null,
   "id": "42fd948f-80eb-4c2b-b348-444b8aefb67c",
   "metadata": {},
   "outputs": [],
   "source": []
  }
 ],
 "metadata": {
  "kernelspec": {
   "display_name": "Python 3 (ipykernel)",
   "language": "python",
   "name": "python3"
  },
  "language_info": {
   "codemirror_mode": {
    "name": "ipython",
    "version": 3
   },
   "file_extension": ".py",
   "mimetype": "text/x-python",
   "name": "python",
   "nbconvert_exporter": "python",
   "pygments_lexer": "ipython3",
   "version": "3.9.13"
  }
 },
 "nbformat": 4,
 "nbformat_minor": 5
}
