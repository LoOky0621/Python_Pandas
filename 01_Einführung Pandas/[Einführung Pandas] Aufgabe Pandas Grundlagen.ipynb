{
 "cells": [
  {
   "cell_type": "markdown",
   "id": "57d24090-a869-4bb2-bde1-cd8266ec8828",
   "metadata": {},
   "source": [
    "# [Einführung Pandas] Aufgabe Pandas Grundlagen"
   ]
  },
  {
   "cell_type": "code",
   "execution_count": 2,
   "id": "02cc35a4-b3ee-4097-93ac-08b38c971ce5",
   "metadata": {},
   "outputs": [],
   "source": [
    "import pandas as pd"
   ]
  },
  {
   "cell_type": "markdown",
   "id": "7de28301-2d4a-454a-ab0a-b0d8587eb2a6",
   "metadata": {},
   "source": [
    "# Aufgabe 1: Pandas-Series"
   ]
  },
  {
   "cell_type": "markdown",
   "id": "1e7d70eb-565d-45e2-9f1b-5b7bdfe56b83",
   "metadata": {},
   "source": [
    "### 1.1) Series aus Liste"
   ]
  },
  {
   "cell_type": "markdown",
   "id": "53f62b5c-8bce-4742-9cc9-8d1aebd9f7d9",
   "metadata": {},
   "source": [
    "*Gegeben ist die Liste mit den Weltrekorden im Hochsprung. Erstelle daraus eine Series und überprüfe den Type*"
   ]
  },
  {
   "cell_type": "code",
   "execution_count": 4,
   "id": "5ad8ca65-80a1-4530-a538-f3c84b0b518b",
   "metadata": {},
   "outputs": [],
   "source": [
    "hochsprung = [2.45, 2.44, 2.43, 2.42, 2.41]"
   ]
  },
  {
   "cell_type": "code",
   "execution_count": 24,
   "id": "ed3d7b94",
   "metadata": {},
   "outputs": [
    {
     "name": "stdout",
     "output_type": "stream",
     "text": [
      "<class 'list'>\n"
     ]
    }
   ],
   "source": [
    "print(type(hochsprung))"
   ]
  },
  {
   "cell_type": "code",
   "execution_count": 5,
   "id": "deecf09f-c49b-4d30-ba2b-f8e4849e320e",
   "metadata": {},
   "outputs": [
    {
     "data": {
      "text/plain": [
       "0    [2.45, 2.44, 2.43, 2.42, 2.41]\n",
       "dtype: object"
      ]
     },
     "execution_count": 5,
     "metadata": {},
     "output_type": "execute_result"
    }
   ],
   "source": [
    "pd.Series(data=[hochsprung])"
   ]
  },
  {
   "cell_type": "markdown",
   "id": "1d613f86-7b3a-4427-9e97-4c4d4eb1903a",
   "metadata": {},
   "source": [
    "### 1.2) Series und Index"
   ]
  },
  {
   "cell_type": "markdown",
   "id": "cd585c83-26fa-4c88-ac8a-67c01f58ec98",
   "metadata": {},
   "source": [
    "*Gegeben ist nun auch die Liste der Athleten zu den Rekorden. Erstelle daraus einen Index für die Series*"
   ]
  },
  {
   "cell_type": "code",
   "execution_count": 6,
   "id": "d30a9d87-9c8c-4883-af47-b634b5347aff",
   "metadata": {},
   "outputs": [],
   "source": [
    "rekorde = [\"Javier Sotomayor\", \"Javier Sotomayor\", \"Javier Sotomayor\", \"Carlo Thränhardt\", \"Igor Paklin\"]"
   ]
  },
  {
   "cell_type": "code",
   "execution_count": 10,
   "id": "679f2fb2-3072-41be-9105-cbb9488eb103",
   "metadata": {},
   "outputs": [
    {
     "data": {
      "text/plain": [
       "Javier Sotomayor    2.45\n",
       "Javier Sotomayor    2.44\n",
       "Javier Sotomayor    2.43\n",
       "Carlo Thränhardt    2.42\n",
       "Igor Paklin         2.41\n",
       "dtype: float64"
      ]
     },
     "execution_count": 10,
     "metadata": {},
     "output_type": "execute_result"
    }
   ],
   "source": [
    "pd.Series(hochsprung, index=rekorde)"
   ]
  },
  {
   "cell_type": "markdown",
   "id": "a79db20a-6019-45aa-8f0f-d12b1659492d",
   "metadata": {},
   "source": [
    "# Aufgabe 2: Pandas-Index"
   ]
  },
  {
   "cell_type": "markdown",
   "id": "49d6f033-b335-4f88-98b4-dabe273ffb66",
   "metadata": {},
   "source": [
    "### 2.1) Index-Erstellung"
   ]
  },
  {
   "cell_type": "markdown",
   "id": "42f20601-d08e-4c1f-81cb-78ea75a312b5",
   "metadata": {},
   "source": [
    "*Erstelle aus der Liste \"athleten\" nun ein Pandas-Index mit der Bezeichnung \"index_athleten\"*"
   ]
  },
  {
   "cell_type": "code",
   "execution_count": 12,
   "id": "c0042b8e-fd4e-4e6d-821a-729ea0f280b1",
   "metadata": {},
   "outputs": [
    {
     "data": {
      "text/plain": [
       "Index(['Javier Sotomayor', 'Javier Sotomayor', 'Javier Sotomayor',\n",
       "       'Carlo Thränhardt', 'Igor Paklin'],\n",
       "      dtype='object')"
      ]
     },
     "execution_count": 12,
     "metadata": {},
     "output_type": "execute_result"
    }
   ],
   "source": [
    "index_athleten = pd.Index(rekorde)\n",
    "index_athleten"
   ]
  },
  {
   "cell_type": "markdown",
   "id": "437952ae-6e6b-4347-ae1d-0f9d698008f7",
   "metadata": {},
   "source": [
    "### 2.2) Index und Series"
   ]
  },
  {
   "cell_type": "markdown",
   "id": "d65366f4-ac65-4f4c-9c08-24c51feca4dc",
   "metadata": {},
   "source": [
    "*Füge den Index nun der Series hinzu*"
   ]
  },
  {
   "cell_type": "code",
   "execution_count": 14,
   "id": "ce3cd6ed-5e60-4869-a668-a4b8a8755e2f",
   "metadata": {},
   "outputs": [
    {
     "data": {
      "text/plain": [
       "Javier Sotomayor    2.45\n",
       "Javier Sotomayor    2.44\n",
       "Javier Sotomayor    2.43\n",
       "Carlo Thränhardt    2.42\n",
       "Igor Paklin         2.41\n",
       "dtype: float64"
      ]
     },
     "execution_count": 14,
     "metadata": {},
     "output_type": "execute_result"
    }
   ],
   "source": [
    "series_index = pd.Series(hochsprung, index=index_athleten)\n",
    "series_index"
   ]
  },
  {
   "cell_type": "markdown",
   "id": "2e4afd67-9476-4436-975c-77c04aa773d6",
   "metadata": {},
   "source": [
    "# Aufgabe 3: Pandas-DataFrame"
   ]
  },
  {
   "cell_type": "markdown",
   "id": "a361f827-626c-41dd-a816-f9d26d31c4d5",
   "metadata": {},
   "source": [
    "### 3.1) DataFrame erstellen"
   ]
  },
  {
   "cell_type": "markdown",
   "id": "f7e8a2a0-f232-4af0-8f8a-6ddbf38d68d2",
   "metadata": {},
   "source": [
    "*Erstelle nun auch ein DataFrame aus den obigen Daten und nenne die Spalte \"Rekorde\"*"
   ]
  },
  {
   "cell_type": "code",
   "execution_count": 23,
   "id": "573e36a8-9ab7-4a33-84f6-ba795dcb7e08",
   "metadata": {},
   "outputs": [
    {
     "data": {
      "text/html": [
       "<div>\n",
       "<style scoped>\n",
       "    .dataframe tbody tr th:only-of-type {\n",
       "        vertical-align: middle;\n",
       "    }\n",
       "\n",
       "    .dataframe tbody tr th {\n",
       "        vertical-align: top;\n",
       "    }\n",
       "\n",
       "    .dataframe thead th {\n",
       "        text-align: right;\n",
       "    }\n",
       "</style>\n",
       "<table border=\"1\" class=\"dataframe\">\n",
       "  <thead>\n",
       "    <tr style=\"text-align: right;\">\n",
       "      <th></th>\n",
       "      <th>Rekorde in m</th>\n",
       "    </tr>\n",
       "  </thead>\n",
       "  <tbody>\n",
       "    <tr>\n",
       "      <th>Javier Sotomayor</th>\n",
       "      <td>2.45</td>\n",
       "    </tr>\n",
       "    <tr>\n",
       "      <th>Javier Sotomayor</th>\n",
       "      <td>2.44</td>\n",
       "    </tr>\n",
       "    <tr>\n",
       "      <th>Javier Sotomayor</th>\n",
       "      <td>2.43</td>\n",
       "    </tr>\n",
       "    <tr>\n",
       "      <th>Carlo Thränhardt</th>\n",
       "      <td>2.42</td>\n",
       "    </tr>\n",
       "    <tr>\n",
       "      <th>Igor Paklin</th>\n",
       "      <td>2.41</td>\n",
       "    </tr>\n",
       "  </tbody>\n",
       "</table>\n",
       "</div>"
      ],
      "text/plain": [
       "                  Rekorde in m\n",
       "Javier Sotomayor          2.45\n",
       "Javier Sotomayor          2.44\n",
       "Javier Sotomayor          2.43\n",
       "Carlo Thränhardt          2.42\n",
       "Igor Paklin               2.41"
      ]
     },
     "execution_count": 23,
     "metadata": {},
     "output_type": "execute_result"
    }
   ],
   "source": [
    "dataframe_hochsprung = pd.DataFrame(hochsprung, index=index_athleten, columns=[\"Rekorde in m\"])\n",
    "dataframe_hochsprung"
   ]
  },
  {
   "cell_type": "markdown",
   "id": "6fee8aff-85d6-4812-b5cb-1c76703d450d",
   "metadata": {},
   "source": [
    "### 3.2) Datentyp überprüfen"
   ]
  },
  {
   "cell_type": "markdown",
   "id": "af3bc46b-032f-43de-8ff4-9effc47ea21a",
   "metadata": {},
   "source": [
    "*Überprüfe nun final auch den Datentypen des DataFrames*"
   ]
  },
  {
   "cell_type": "code",
   "execution_count": null,
   "id": "92137a68-4c7e-4b8d-accf-bfec68bd5ca4",
   "metadata": {},
   "outputs": [],
   "source": [
    "print(type(dataframe_hochsprung))"
   ]
  }
 ],
 "metadata": {
  "kernelspec": {
   "display_name": "Python 3 (ipykernel)",
   "language": "python",
   "name": "python3"
  },
  "language_info": {
   "codemirror_mode": {
    "name": "ipython",
    "version": 3
   },
   "file_extension": ".py",
   "mimetype": "text/x-python",
   "name": "python",
   "nbconvert_exporter": "python",
   "pygments_lexer": "ipython3",
   "version": "3.11.7"
  }
 },
 "nbformat": 4,
 "nbformat_minor": 5
}
