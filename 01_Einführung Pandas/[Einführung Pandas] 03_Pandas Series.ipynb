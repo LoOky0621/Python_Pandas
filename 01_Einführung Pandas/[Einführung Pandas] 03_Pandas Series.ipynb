{
 "cells": [
  {
   "cell_type": "markdown",
   "id": "57d24090-a869-4bb2-bde1-cd8266ec8828",
   "metadata": {},
   "source": [
    "# [Einführung Pandas] Pandas Series"
   ]
  },
  {
   "cell_type": "code",
   "execution_count": 1,
   "id": "02cc35a4-b3ee-4097-93ac-08b38c971ce5",
   "metadata": {},
   "outputs": [],
   "source": [
    "import pandas as pd"
   ]
  },
  {
   "cell_type": "markdown",
   "id": "b5ccc9d5-c9c3-4f1b-bceb-5805c3b4b655",
   "metadata": {},
   "source": [
    "## 1) Series Grundlagen"
   ]
  },
  {
   "cell_type": "markdown",
   "id": "da6a207e-42d9-4692-b0da-78603116d705",
   "metadata": {},
   "source": [
    "### Series mit Zahlenwerten"
   ]
  },
  {
   "cell_type": "code",
   "execution_count": 4,
   "id": "c8f241c6-7494-43c4-a464-85de2af8b40a",
   "metadata": {},
   "outputs": [],
   "source": [
    "series1 = pd.Series(data = [0.1, 0.3, 0.5, 0.6, 0.8])"
   ]
  },
  {
   "cell_type": "code",
   "execution_count": 5,
   "id": "d78eb157-7eb5-4d6f-b81a-28c29f0f33b5",
   "metadata": {},
   "outputs": [],
   "source": [
    "series2 = pd.Series(data = [1, 3, 5, 6, 8])"
   ]
  },
  {
   "cell_type": "markdown",
   "id": "a203b2b4-dce2-40db-9427-b39a376632e2",
   "metadata": {},
   "source": [
    "### Series mit Zeichenketten"
   ]
  },
  {
   "cell_type": "code",
   "execution_count": 6,
   "id": "c1eda613-cf93-47c1-afde-4b52949fba16",
   "metadata": {},
   "outputs": [],
   "source": [
    "series3 = pd.Series(data = [\"rot\", \"gelb\", \"blau\", \"grün\", \"braun\"])"
   ]
  },
  {
   "cell_type": "markdown",
   "id": "51c01e82-6bfe-4624-a2cb-90081739816b",
   "metadata": {},
   "source": [
    "### Series mit unterschiedlichen Datentypen"
   ]
  },
  {
   "cell_type": "code",
   "execution_count": 7,
   "id": "59f7e768-1e5a-4e40-91ac-4032a79080e3",
   "metadata": {},
   "outputs": [],
   "source": [
    "series4 = pd.Series(data = [\"blau\", 3, 3.1, True, False])"
   ]
  },
  {
   "cell_type": "code",
   "execution_count": 8,
   "id": "d2d9214b-fcc7-439e-9782-1a64fd7c4c54",
   "metadata": {},
   "outputs": [
    {
     "data": {
      "text/plain": [
       "0     blau\n",
       "1        3\n",
       "2      3.1\n",
       "3     True\n",
       "4    False\n",
       "dtype: object"
      ]
     },
     "execution_count": 8,
     "metadata": {},
     "output_type": "execute_result"
    }
   ],
   "source": [
    "series4"
   ]
  },
  {
   "cell_type": "markdown",
   "id": "834de459-5c80-4db2-b016-491e00bd9693",
   "metadata": {},
   "source": [
    "## 2) Series aus Dictionary"
   ]
  },
  {
   "cell_type": "code",
   "execution_count": 9,
   "id": "6bddb683-ed16-45f4-80dd-19ffc95e1d41",
   "metadata": {},
   "outputs": [],
   "source": [
    "# Einwohnerzahlen von europ. Städten\n",
    "dict1 = {\"rom\" : 2.8, \"paris\" : 2.1, \"berlin\" : 3.8, \"wien\" : 2.0}"
   ]
  },
  {
   "cell_type": "code",
   "execution_count": 11,
   "id": "3c1da7b3-9e8b-4331-903a-3f9b21ddd8c7",
   "metadata": {},
   "outputs": [
    {
     "data": {
      "text/plain": [
       "dict"
      ]
     },
     "execution_count": 11,
     "metadata": {},
     "output_type": "execute_result"
    }
   ],
   "source": [
    "type(dict1)"
   ]
  },
  {
   "cell_type": "code",
   "execution_count": 12,
   "id": "48061f89-2347-4415-be5f-5c6b426a42d6",
   "metadata": {},
   "outputs": [],
   "source": [
    "series5 = pd.Series(dict1)"
   ]
  },
  {
   "cell_type": "code",
   "execution_count": 13,
   "id": "aa5c9751-ba42-453f-9bfe-9b70c3b77776",
   "metadata": {},
   "outputs": [
    {
     "data": {
      "text/plain": [
       "rom       2.8\n",
       "paris     2.1\n",
       "berlin    3.8\n",
       "wien      2.0\n",
       "dtype: float64"
      ]
     },
     "execution_count": 13,
     "metadata": {},
     "output_type": "execute_result"
    }
   ],
   "source": [
    "series5"
   ]
  },
  {
   "cell_type": "code",
   "execution_count": 14,
   "id": "1b4f3112-33e7-43f8-9de2-b47be3aa56c0",
   "metadata": {},
   "outputs": [
    {
     "data": {
      "text/plain": [
       "pandas.core.series.Series"
      ]
     },
     "execution_count": 14,
     "metadata": {},
     "output_type": "execute_result"
    }
   ],
   "source": [
    "type(series5)"
   ]
  },
  {
   "cell_type": "markdown",
   "id": "21e5fadb-290b-4b8a-9825-81f38cace802",
   "metadata": {},
   "source": [
    "## 3) Index bei Series"
   ]
  },
  {
   "cell_type": "code",
   "execution_count": 17,
   "id": "bbf157c1-5ede-419c-8dff-a22dc530d05c",
   "metadata": {},
   "outputs": [],
   "source": [
    "series5 = pd.Series(dict1, index = [\"berlin\", \"rom\", \"paris\", \"wien\"])"
   ]
  },
  {
   "cell_type": "markdown",
   "id": "c0f476a4-71c8-418c-8464-1b2bf71971cc",
   "metadata": {},
   "source": [
    "### Weiteres Beispiel"
   ]
  },
  {
   "cell_type": "code",
   "execution_count": 20,
   "id": "2db7dd04-7fce-445f-9f31-80b2490eb807",
   "metadata": {},
   "outputs": [
    {
     "data": {
      "text/plain": [
       "1     blau\n",
       "2      rot\n",
       "3     gelb\n",
       "4    braun\n",
       "dtype: object"
      ]
     },
     "execution_count": 20,
     "metadata": {},
     "output_type": "execute_result"
    }
   ],
   "source": [
    "pd.Series([\"blau\", \"rot\", \"gelb\", \"braun\"], index = [1, 2, 3, 4])"
   ]
  },
  {
   "cell_type": "code",
   "execution_count": null,
   "id": "37cbc3fb-454e-4363-8ddb-03500775bcc0",
   "metadata": {},
   "outputs": [],
   "source": []
  }
 ],
 "metadata": {
  "kernelspec": {
   "display_name": "Python 3 (ipykernel)",
   "language": "python",
   "name": "python3"
  },
  "language_info": {
   "codemirror_mode": {
    "name": "ipython",
    "version": 3
   },
   "file_extension": ".py",
   "mimetype": "text/x-python",
   "name": "python",
   "nbconvert_exporter": "python",
   "pygments_lexer": "ipython3",
   "version": "3.9.13"
  }
 },
 "nbformat": 4,
 "nbformat_minor": 5
}
