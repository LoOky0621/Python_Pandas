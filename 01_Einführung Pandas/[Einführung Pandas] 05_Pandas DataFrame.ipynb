{
 "cells": [
  {
   "cell_type": "markdown",
   "id": "57d24090-a869-4bb2-bde1-cd8266ec8828",
   "metadata": {},
   "source": [
    "# [Einführung Pandas] Pandas DataFrame"
   ]
  },
  {
   "cell_type": "code",
   "execution_count": 2,
   "id": "02cc35a4-b3ee-4097-93ac-08b38c971ce5",
   "metadata": {},
   "outputs": [],
   "source": [
    "import pandas as pd"
   ]
  },
  {
   "cell_type": "markdown",
   "id": "41ef2669-3fe3-4907-9fd8-05cba2994358",
   "metadata": {},
   "source": [
    "## Von Series zu DataFrame"
   ]
  },
  {
   "cell_type": "code",
   "execution_count": 3,
   "id": "a13ff9f2-1990-4838-9e21-abb3e3001c05",
   "metadata": {},
   "outputs": [],
   "source": [
    "# Angabe Umsatz, Ergebnis und Börsenwert in Mrd. EUR zum Fiskaljahr 2022"
   ]
  },
  {
   "cell_type": "code",
   "execution_count": 4,
   "id": "13870205-afb5-40cb-838b-6edf201d93c3",
   "metadata": {},
   "outputs": [],
   "source": [
    "airbus = pd.Series([59,5.2,101, 134267], \n",
    "                   index=[\"umsatz\", \"ergebnis\", \"börsenwert\", \"mitarbeiter\"], \n",
    "                   name=\"Airbus\")\n",
    "\n",
    "\n",
    "boeing = pd.Series([66,-3.5,114, 156000], \n",
    "                   index=[\"umsatz\", \"ergebnis\", \"börsenwert\", \"mitarbeiter\"], \n",
    "                   name=\"Boeing\")"
   ]
  },
  {
   "cell_type": "code",
   "execution_count": 5,
   "id": "e1412341-97b8-4929-8092-a777f232cd82",
   "metadata": {},
   "outputs": [
    {
     "name": "stdout",
     "output_type": "stream",
     "text": [
      "umsatz             59.0\n",
      "ergebnis            5.2\n",
      "börsenwert        101.0\n",
      "mitarbeiter    134267.0\n",
      "Name: Airbus, dtype: float64\n",
      "umsatz             66.0\n",
      "ergebnis           -3.5\n",
      "börsenwert        114.0\n",
      "mitarbeiter    156000.0\n",
      "Name: Boeing, dtype: float64\n"
     ]
    }
   ],
   "source": [
    "print(airbus)\n",
    "print(boeing)"
   ]
  },
  {
   "cell_type": "code",
   "execution_count": 6,
   "id": "2b776e90-94b2-4ab3-b2cd-02df8eb7d2bd",
   "metadata": {},
   "outputs": [
    {
     "name": "stdout",
     "output_type": "stream",
     "text": [
      "<class 'pandas.core.series.Series'>\n",
      "<class 'pandas.core.series.Series'>\n"
     ]
    }
   ],
   "source": [
    "print(type(airbus))\n",
    "print(type(boeing))"
   ]
  },
  {
   "cell_type": "markdown",
   "id": "16441b27-1cc3-4608-84c9-97c20a121818",
   "metadata": {},
   "source": [
    "### Umwandlung"
   ]
  },
  {
   "cell_type": "code",
   "execution_count": 7,
   "id": "b06ae142-afa7-4a74-8f9b-d2827b68ee3d",
   "metadata": {},
   "outputs": [
    {
     "name": "stdout",
     "output_type": "stream",
     "text": [
      "<class 'pandas.core.series.Series'>\n"
     ]
    }
   ],
   "source": [
    "print(type(pd.concat([airbus, boeing])))"
   ]
  },
  {
   "cell_type": "code",
   "execution_count": 18,
   "id": "f206dd72-6ba7-480d-9fd3-3772834ae601",
   "metadata": {},
   "outputs": [],
   "source": [
    "airbus_boeing_df = pd.merge(airbus, boeing, right_index=True, left_index=True)"
   ]
  },
  {
   "cell_type": "code",
   "execution_count": 9,
   "id": "a1f3603e-f1c5-4576-b67c-712db34e1b70",
   "metadata": {},
   "outputs": [
    {
     "name": "stdout",
     "output_type": "stream",
     "text": [
      "               Airbus    Boeing\n",
      "umsatz           59.0      66.0\n",
      "ergebnis          5.2      -3.5\n",
      "börsenwert      101.0     114.0\n",
      "mitarbeiter  134267.0  156000.0\n"
     ]
    }
   ],
   "source": [
    "print(airbus_boeing_df)"
   ]
  },
  {
   "cell_type": "code",
   "execution_count": 10,
   "id": "352cb863-d759-46e5-81a9-1664dbadc1ee",
   "metadata": {},
   "outputs": [
    {
     "data": {
      "text/html": [
       "<div>\n",
       "<style scoped>\n",
       "    .dataframe tbody tr th:only-of-type {\n",
       "        vertical-align: middle;\n",
       "    }\n",
       "\n",
       "    .dataframe tbody tr th {\n",
       "        vertical-align: top;\n",
       "    }\n",
       "\n",
       "    .dataframe thead th {\n",
       "        text-align: right;\n",
       "    }\n",
       "</style>\n",
       "<table border=\"1\" class=\"dataframe\">\n",
       "  <thead>\n",
       "    <tr style=\"text-align: right;\">\n",
       "      <th></th>\n",
       "      <th>Airbus</th>\n",
       "      <th>Boeing</th>\n",
       "    </tr>\n",
       "  </thead>\n",
       "  <tbody>\n",
       "    <tr>\n",
       "      <th>umsatz</th>\n",
       "      <td>59.0</td>\n",
       "      <td>66.0</td>\n",
       "    </tr>\n",
       "    <tr>\n",
       "      <th>ergebnis</th>\n",
       "      <td>5.2</td>\n",
       "      <td>-3.5</td>\n",
       "    </tr>\n",
       "    <tr>\n",
       "      <th>börsenwert</th>\n",
       "      <td>101.0</td>\n",
       "      <td>114.0</td>\n",
       "    </tr>\n",
       "    <tr>\n",
       "      <th>mitarbeiter</th>\n",
       "      <td>134267.0</td>\n",
       "      <td>156000.0</td>\n",
       "    </tr>\n",
       "  </tbody>\n",
       "</table>\n",
       "</div>"
      ],
      "text/plain": [
       "               Airbus    Boeing\n",
       "umsatz           59.0      66.0\n",
       "ergebnis          5.2      -3.5\n",
       "börsenwert      101.0     114.0\n",
       "mitarbeiter  134267.0  156000.0"
      ]
     },
     "execution_count": 10,
     "metadata": {},
     "output_type": "execute_result"
    }
   ],
   "source": [
    "airbus_boeing_df"
   ]
  },
  {
   "cell_type": "code",
   "execution_count": 11,
   "id": "a5dc24ec-198c-4c83-aed5-18a53c123e7f",
   "metadata": {},
   "outputs": [
    {
     "name": "stdout",
     "output_type": "stream",
     "text": [
      "<class 'pandas.core.frame.DataFrame'>\n"
     ]
    }
   ],
   "source": [
    "print(type(airbus_boeing_df))"
   ]
  },
  {
   "cell_type": "markdown",
   "id": "14b9c26f-50d9-438e-bccd-28e6d66cc1ba",
   "metadata": {},
   "source": [
    "## DataFrame erstellen"
   ]
  },
  {
   "cell_type": "code",
   "execution_count": 12,
   "id": "0ba90557-3b11-4fb5-befe-4adcda842732",
   "metadata": {},
   "outputs": [
    {
     "data": {
      "text/html": [
       "<div>\n",
       "<style scoped>\n",
       "    .dataframe tbody tr th:only-of-type {\n",
       "        vertical-align: middle;\n",
       "    }\n",
       "\n",
       "    .dataframe tbody tr th {\n",
       "        vertical-align: top;\n",
       "    }\n",
       "\n",
       "    .dataframe thead th {\n",
       "        text-align: right;\n",
       "    }\n",
       "</style>\n",
       "<table border=\"1\" class=\"dataframe\">\n",
       "  <thead>\n",
       "    <tr style=\"text-align: right;\">\n",
       "      <th></th>\n",
       "      <th>0</th>\n",
       "    </tr>\n",
       "  </thead>\n",
       "  <tbody>\n",
       "    <tr>\n",
       "      <th>0</th>\n",
       "      <td>100</td>\n",
       "    </tr>\n",
       "    <tr>\n",
       "      <th>1</th>\n",
       "      <td>200</td>\n",
       "    </tr>\n",
       "    <tr>\n",
       "      <th>2</th>\n",
       "      <td>300</td>\n",
       "    </tr>\n",
       "    <tr>\n",
       "      <th>3</th>\n",
       "      <td>400</td>\n",
       "    </tr>\n",
       "  </tbody>\n",
       "</table>\n",
       "</div>"
      ],
      "text/plain": [
       "     0\n",
       "0  100\n",
       "1  200\n",
       "2  300\n",
       "3  400"
      ]
     },
     "execution_count": 12,
     "metadata": {},
     "output_type": "execute_result"
    }
   ],
   "source": [
    "pd.DataFrame(data = [100, 200, 300, 400])"
   ]
  },
  {
   "cell_type": "code",
   "execution_count": 13,
   "id": "c50e335c-3f38-47aa-b9cb-1d7a24275f5a",
   "metadata": {},
   "outputs": [
    {
     "data": {
      "text/html": [
       "<div>\n",
       "<style scoped>\n",
       "    .dataframe tbody tr th:only-of-type {\n",
       "        vertical-align: middle;\n",
       "    }\n",
       "\n",
       "    .dataframe tbody tr th {\n",
       "        vertical-align: top;\n",
       "    }\n",
       "\n",
       "    .dataframe thead th {\n",
       "        text-align: right;\n",
       "    }\n",
       "</style>\n",
       "<table border=\"1\" class=\"dataframe\">\n",
       "  <thead>\n",
       "    <tr style=\"text-align: right;\">\n",
       "      <th></th>\n",
       "      <th>0</th>\n",
       "    </tr>\n",
       "  </thead>\n",
       "  <tbody>\n",
       "    <tr>\n",
       "      <th>index1</th>\n",
       "      <td>100</td>\n",
       "    </tr>\n",
       "    <tr>\n",
       "      <th>index2</th>\n",
       "      <td>200</td>\n",
       "    </tr>\n",
       "    <tr>\n",
       "      <th>index3</th>\n",
       "      <td>300</td>\n",
       "    </tr>\n",
       "    <tr>\n",
       "      <th>index4</th>\n",
       "      <td>400</td>\n",
       "    </tr>\n",
       "  </tbody>\n",
       "</table>\n",
       "</div>"
      ],
      "text/plain": [
       "          0\n",
       "index1  100\n",
       "index2  200\n",
       "index3  300\n",
       "index4  400"
      ]
     },
     "execution_count": 13,
     "metadata": {},
     "output_type": "execute_result"
    }
   ],
   "source": [
    "pd.DataFrame(data = [100, 200, 300, 400], index = [\"index1\", \"index2\", \"index3\", \"index4\"])"
   ]
  },
  {
   "cell_type": "code",
   "execution_count": 14,
   "id": "d87d263b-de32-4319-a2a8-2618d49a8e28",
   "metadata": {},
   "outputs": [
    {
     "data": {
      "text/html": [
       "<div>\n",
       "<style scoped>\n",
       "    .dataframe tbody tr th:only-of-type {\n",
       "        vertical-align: middle;\n",
       "    }\n",
       "\n",
       "    .dataframe tbody tr th {\n",
       "        vertical-align: top;\n",
       "    }\n",
       "\n",
       "    .dataframe thead th {\n",
       "        text-align: right;\n",
       "    }\n",
       "</style>\n",
       "<table border=\"1\" class=\"dataframe\">\n",
       "  <thead>\n",
       "    <tr style=\"text-align: right;\">\n",
       "      <th></th>\n",
       "      <th>überschrift1</th>\n",
       "    </tr>\n",
       "  </thead>\n",
       "  <tbody>\n",
       "    <tr>\n",
       "      <th>index1</th>\n",
       "      <td>100</td>\n",
       "    </tr>\n",
       "    <tr>\n",
       "      <th>index2</th>\n",
       "      <td>200</td>\n",
       "    </tr>\n",
       "    <tr>\n",
       "      <th>index3</th>\n",
       "      <td>300</td>\n",
       "    </tr>\n",
       "    <tr>\n",
       "      <th>index4</th>\n",
       "      <td>400</td>\n",
       "    </tr>\n",
       "  </tbody>\n",
       "</table>\n",
       "</div>"
      ],
      "text/plain": [
       "        überschrift1\n",
       "index1           100\n",
       "index2           200\n",
       "index3           300\n",
       "index4           400"
      ]
     },
     "execution_count": 14,
     "metadata": {},
     "output_type": "execute_result"
    }
   ],
   "source": [
    "pd.DataFrame(data = {\"überschrift1\":[100, 200, 300, 400]}, index = [\"index1\", \"index2\", \"index3\", \"index4\"])"
   ]
  },
  {
   "cell_type": "markdown",
   "id": "86bb8272-3e13-4ca0-8660-1ef9fbb329f9",
   "metadata": {},
   "source": [
    "### Beispiel: Airbus und Boeing"
   ]
  },
  {
   "cell_type": "code",
   "execution_count": 15,
   "id": "dcc5e3cb-c7b1-48bf-909f-00a0d25cf3da",
   "metadata": {},
   "outputs": [
    {
     "data": {
      "text/html": [
       "<div>\n",
       "<style scoped>\n",
       "    .dataframe tbody tr th:only-of-type {\n",
       "        vertical-align: middle;\n",
       "    }\n",
       "\n",
       "    .dataframe tbody tr th {\n",
       "        vertical-align: top;\n",
       "    }\n",
       "\n",
       "    .dataframe thead th {\n",
       "        text-align: right;\n",
       "    }\n",
       "</style>\n",
       "<table border=\"1\" class=\"dataframe\">\n",
       "  <thead>\n",
       "    <tr style=\"text-align: right;\">\n",
       "      <th></th>\n",
       "      <th>umsatz</th>\n",
       "      <th>ergebnis</th>\n",
       "      <th>börsenwert</th>\n",
       "      <th>mitarbeiter</th>\n",
       "    </tr>\n",
       "  </thead>\n",
       "  <tbody>\n",
       "    <tr>\n",
       "      <th>Airbus</th>\n",
       "      <td>59.0</td>\n",
       "      <td>5.2</td>\n",
       "      <td>101.0</td>\n",
       "      <td>134267.0</td>\n",
       "    </tr>\n",
       "    <tr>\n",
       "      <th>Boeing</th>\n",
       "      <td>66.0</td>\n",
       "      <td>-3.5</td>\n",
       "      <td>114.0</td>\n",
       "      <td>156000.0</td>\n",
       "    </tr>\n",
       "  </tbody>\n",
       "</table>\n",
       "</div>"
      ],
      "text/plain": [
       "        umsatz  ergebnis  börsenwert  mitarbeiter\n",
       "Airbus    59.0       5.2       101.0     134267.0\n",
       "Boeing    66.0      -3.5       114.0     156000.0"
      ]
     },
     "execution_count": 15,
     "metadata": {},
     "output_type": "execute_result"
    }
   ],
   "source": [
    "airbus_boeing_df.transpose()"
   ]
  },
  {
   "cell_type": "code",
   "execution_count": 16,
   "id": "1fe6902f-032d-497b-8319-cc95bf474c6f",
   "metadata": {},
   "outputs": [
    {
     "data": {
      "text/html": [
       "<div>\n",
       "<style scoped>\n",
       "    .dataframe tbody tr th:only-of-type {\n",
       "        vertical-align: middle;\n",
       "    }\n",
       "\n",
       "    .dataframe tbody tr th {\n",
       "        vertical-align: top;\n",
       "    }\n",
       "\n",
       "    .dataframe thead th {\n",
       "        text-align: right;\n",
       "    }\n",
       "</style>\n",
       "<table border=\"1\" class=\"dataframe\">\n",
       "  <thead>\n",
       "    <tr style=\"text-align: right;\">\n",
       "      <th></th>\n",
       "      <th>Airbus</th>\n",
       "      <th>Boeing</th>\n",
       "    </tr>\n",
       "  </thead>\n",
       "  <tbody>\n",
       "    <tr>\n",
       "      <th>umsatz</th>\n",
       "      <td>59.0</td>\n",
       "      <td>66.0</td>\n",
       "    </tr>\n",
       "    <tr>\n",
       "      <th>ergebnis</th>\n",
       "      <td>5.2</td>\n",
       "      <td>-3.5</td>\n",
       "    </tr>\n",
       "    <tr>\n",
       "      <th>börsenwert</th>\n",
       "      <td>101.0</td>\n",
       "      <td>114.0</td>\n",
       "    </tr>\n",
       "    <tr>\n",
       "      <th>mitarbeiter</th>\n",
       "      <td>134267.0</td>\n",
       "      <td>156000.0</td>\n",
       "    </tr>\n",
       "  </tbody>\n",
       "</table>\n",
       "</div>"
      ],
      "text/plain": [
       "               Airbus    Boeing\n",
       "umsatz           59.0      66.0\n",
       "ergebnis          5.2      -3.5\n",
       "börsenwert      101.0     114.0\n",
       "mitarbeiter  134267.0  156000.0"
      ]
     },
     "execution_count": 16,
     "metadata": {},
     "output_type": "execute_result"
    }
   ],
   "source": [
    "pd.DataFrame([airbus, boeing]).transpose()"
   ]
  },
  {
   "cell_type": "code",
   "execution_count": 17,
   "id": "bb8add94-4eea-4503-b482-85f0498f0fef",
   "metadata": {},
   "outputs": [
    {
     "data": {
      "text/html": [
       "<div>\n",
       "<style scoped>\n",
       "    .dataframe tbody tr th:only-of-type {\n",
       "        vertical-align: middle;\n",
       "    }\n",
       "\n",
       "    .dataframe tbody tr th {\n",
       "        vertical-align: top;\n",
       "    }\n",
       "\n",
       "    .dataframe thead th {\n",
       "        text-align: right;\n",
       "    }\n",
       "</style>\n",
       "<table border=\"1\" class=\"dataframe\">\n",
       "  <thead>\n",
       "    <tr style=\"text-align: right;\">\n",
       "      <th></th>\n",
       "      <th>umsatz</th>\n",
       "      <th>ergebnis</th>\n",
       "      <th>börsenwert</th>\n",
       "      <th>mitarbeiter</th>\n",
       "    </tr>\n",
       "  </thead>\n",
       "  <tbody>\n",
       "    <tr>\n",
       "      <th>airbus</th>\n",
       "      <td>59.0</td>\n",
       "      <td>5.2</td>\n",
       "      <td>101.0</td>\n",
       "      <td>134267.0</td>\n",
       "    </tr>\n",
       "    <tr>\n",
       "      <th>boeing</th>\n",
       "      <td>66.0</td>\n",
       "      <td>-3.5</td>\n",
       "      <td>114.0</td>\n",
       "      <td>156000.0</td>\n",
       "    </tr>\n",
       "  </tbody>\n",
       "</table>\n",
       "</div>"
      ],
      "text/plain": [
       "        umsatz  ergebnis  börsenwert  mitarbeiter\n",
       "airbus    59.0       5.2       101.0     134267.0\n",
       "boeing    66.0      -3.5       114.0     156000.0"
      ]
     },
     "execution_count": 17,
     "metadata": {},
     "output_type": "execute_result"
    }
   ],
   "source": [
    "pd.DataFrame(data = {\"airbus\" : [59, 5.2, 101, 134267], \n",
    "                    \"boeing\" : [66, -3.5, 114, 156000]}, \n",
    "             index = [\"umsatz\", \"ergebnis\", \"börsenwert\", \"mitarbeiter\"]).transpose()"
   ]
  },
  {
   "cell_type": "code",
   "execution_count": null,
   "id": "c16686ac-a0b4-49d0-9cd3-1be5a1e864ac",
   "metadata": {},
   "outputs": [],
   "source": []
  }
 ],
 "metadata": {
  "kernelspec": {
   "display_name": "Python 3 (ipykernel)",
   "language": "python",
   "name": "python3"
  },
  "language_info": {
   "codemirror_mode": {
    "name": "ipython",
    "version": 3
   },
   "file_extension": ".py",
   "mimetype": "text/x-python",
   "name": "python",
   "nbconvert_exporter": "python",
   "pygments_lexer": "ipython3",
   "version": "3.11.7"
  }
 },
 "nbformat": 4,
 "nbformat_minor": 5
}
