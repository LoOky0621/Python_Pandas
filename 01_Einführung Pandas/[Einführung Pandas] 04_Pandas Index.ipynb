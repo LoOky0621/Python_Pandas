{
 "cells": [
  {
   "cell_type": "markdown",
   "id": "57d24090-a869-4bb2-bde1-cd8266ec8828",
   "metadata": {},
   "source": [
    "# [Einführung Pandas] Pandas Index"
   ]
  },
  {
   "cell_type": "code",
   "execution_count": 5,
   "id": "02cc35a4-b3ee-4097-93ac-08b38c971ce5",
   "metadata": {},
   "outputs": [],
   "source": [
    "import pandas as pd"
   ]
  },
  {
   "cell_type": "markdown",
   "id": "f31b92e4-c2d1-4f6e-9e76-70969f15492b",
   "metadata": {},
   "source": [
    "- unveränderliche Datenstruktur\n",
    "\n",
    "- Basisobjekt, welches die Achsenbeschriftungen für alle Pandas-Objekte speichert"
   ]
  },
  {
   "cell_type": "code",
   "execution_count": 7,
   "id": "6436787c-a8b3-407d-94d5-af55c947ca63",
   "metadata": {},
   "outputs": [],
   "source": [
    "# pd.Index?"
   ]
  },
  {
   "cell_type": "markdown",
   "id": "9db07583-2bed-414d-85de-45155ac51983",
   "metadata": {},
   "source": [
    "### Index: Integer"
   ]
  },
  {
   "cell_type": "code",
   "execution_count": 9,
   "id": "5c285130-c257-4f14-a4e9-0367317ca2c9",
   "metadata": {},
   "outputs": [
    {
     "data": {
      "text/plain": [
       "Index([100, 200, 300], dtype='int32')"
      ]
     },
     "execution_count": 9,
     "metadata": {},
     "output_type": "execute_result"
    }
   ],
   "source": [
    "pd.Index([100, 200, 300], dtype=\"int32\")"
   ]
  },
  {
   "cell_type": "markdown",
   "id": "3f260893-47b7-42cb-8ae5-87bed3b5c56a",
   "metadata": {},
   "source": [
    "### Index: Floats"
   ]
  },
  {
   "cell_type": "code",
   "execution_count": 11,
   "id": "1eaffc0a-ba96-4434-9ec7-d6df1cfcd582",
   "metadata": {},
   "outputs": [
    {
     "data": {
      "text/plain": [
       "Index([100.0999984741211, 200.1999969482422, 300.29998779296875], dtype='float32')"
      ]
     },
     "execution_count": 11,
     "metadata": {},
     "output_type": "execute_result"
    }
   ],
   "source": [
    "pd.Index([100.1, 200.2, 300.3], dtype=\"float32\")"
   ]
  },
  {
   "cell_type": "markdown",
   "id": "03452bad-f265-4475-9af8-dc21ac1a3983",
   "metadata": {},
   "source": [
    "### Index: Strings"
   ]
  },
  {
   "cell_type": "code",
   "execution_count": 12,
   "id": "b9eedfe0-5fec-413e-b7d7-d26ac22d1877",
   "metadata": {},
   "outputs": [
    {
     "data": {
      "text/plain": [
       "Index(['1', '2', '3'], dtype='object')"
      ]
     },
     "execution_count": 12,
     "metadata": {},
     "output_type": "execute_result"
    }
   ],
   "source": [
    "pd.Index([\"1\", \"2\", \"3\"], dtype=\"object\")"
   ]
  },
  {
   "cell_type": "markdown",
   "id": "e0bc4fe6-068d-400e-be66-93d174d7d213",
   "metadata": {},
   "source": [
    "### Index: Booleans"
   ]
  },
  {
   "cell_type": "code",
   "execution_count": 13,
   "id": "0644215a-229e-4040-a7bd-654118da170e",
   "metadata": {},
   "outputs": [
    {
     "data": {
      "text/plain": [
       "Index([True, False, True, True, False], dtype='bool')"
      ]
     },
     "execution_count": 13,
     "metadata": {},
     "output_type": "execute_result"
    }
   ],
   "source": [
    "pd.Index([True, False, True, True, False], dtype=\"bool\")"
   ]
  },
  {
   "cell_type": "code",
   "execution_count": 14,
   "id": "4897cba0-9192-4a3c-b9be-636bceb387c2",
   "metadata": {},
   "outputs": [
    {
     "data": {
      "text/plain": [
       "pandas.core.indexes.base.Index"
      ]
     },
     "execution_count": 14,
     "metadata": {},
     "output_type": "execute_result"
    }
   ],
   "source": [
    "type(pd.Index([100, 200, 300], dtype=\"int32\"))"
   ]
  },
  {
   "cell_type": "code",
   "execution_count": 15,
   "id": "6fed6904-c3ff-4057-8e99-fb3939aa9e16",
   "metadata": {},
   "outputs": [
    {
     "data": {
      "text/plain": [
       "dtype('int32')"
      ]
     },
     "execution_count": 15,
     "metadata": {},
     "output_type": "execute_result"
    }
   ],
   "source": [
    "pd.Index([100, 200, 300], dtype=\"int32\").dtype"
   ]
  },
  {
   "cell_type": "code",
   "execution_count": 16,
   "id": "b26bd762-5762-4f1b-b82e-4107d8e3780c",
   "metadata": {},
   "outputs": [
    {
     "data": {
      "text/plain": [
       "dtype('float32')"
      ]
     },
     "execution_count": 16,
     "metadata": {},
     "output_type": "execute_result"
    }
   ],
   "source": [
    "pd.Index([100.1, 200.2, 300.3], dtype=\"float32\").dtype"
   ]
  },
  {
   "cell_type": "code",
   "execution_count": 18,
   "id": "afe69801-d87d-4c67-a96c-8781c26f3a14",
   "metadata": {},
   "outputs": [
    {
     "data": {
      "text/plain": [
       "dtype('bool')"
      ]
     },
     "execution_count": 18,
     "metadata": {},
     "output_type": "execute_result"
    }
   ],
   "source": [
    "pd.Index([True, False, True, True, False], dtype=\"bool\").dtype"
   ]
  },
  {
   "cell_type": "code",
   "execution_count": null,
   "id": "d725e73d-0436-4ac0-a629-894b5c0dbcde",
   "metadata": {},
   "outputs": [],
   "source": []
  }
 ],
 "metadata": {
  "kernelspec": {
   "display_name": "Python 3 (ipykernel)",
   "language": "python",
   "name": "python3"
  },
  "language_info": {
   "codemirror_mode": {
    "name": "ipython",
    "version": 3
   },
   "file_extension": ".py",
   "mimetype": "text/x-python",
   "name": "python",
   "nbconvert_exporter": "python",
   "pygments_lexer": "ipython3",
   "version": "3.9.13"
  }
 },
 "nbformat": 4,
 "nbformat_minor": 5
}
