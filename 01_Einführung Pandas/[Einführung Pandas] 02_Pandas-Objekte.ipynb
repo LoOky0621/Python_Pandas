{
 "cells": [
  {
   "cell_type": "markdown",
   "id": "57d24090-a869-4bb2-bde1-cd8266ec8828",
   "metadata": {},
   "source": [
    "# [Einführung Pandas] Pandas Objekte"
   ]
  },
  {
   "cell_type": "code",
   "execution_count": 1,
   "id": "77134fbc-9f2a-4321-b1bf-5bdccbd3a695",
   "metadata": {},
   "outputs": [],
   "source": [
    "import pandas as pd"
   ]
  },
  {
   "cell_type": "code",
   "execution_count": 3,
   "id": "d47a93b4-6dd2-422d-9e6d-f4090a797578",
   "metadata": {},
   "outputs": [],
   "source": [
    "# ?pd"
   ]
  },
  {
   "cell_type": "markdown",
   "id": "fe0a102c-1e2b-4995-986a-0b94542a32fa",
   "metadata": {},
   "source": [
    "## 1) Pandas-Index"
   ]
  },
  {
   "cell_type": "markdown",
   "id": "3b123645-055d-4e83-8e50-1ca85461a881",
   "metadata": {},
   "source": [
    "- Unveränderliches Array\n",
    "\n",
    "- Grundlegende Datenstruktur, welche Achsenbeschriftungen für alle Pandas-Objekte speichert"
   ]
  },
  {
   "cell_type": "code",
   "execution_count": 5,
   "id": "ffaf3bb8-b342-4bfe-be70-bb8d106dc752",
   "metadata": {},
   "outputs": [
    {
     "data": {
      "text/plain": [
       "Int64Index([1, 2, 3, 4, 5, 6, 7, 8, 9, 10], dtype='int64')"
      ]
     },
     "execution_count": 5,
     "metadata": {},
     "output_type": "execute_result"
    }
   ],
   "source": [
    "pd.Index([1, 2, 3, 4, 5, 6, 7, 8, 9, 10])"
   ]
  },
  {
   "cell_type": "code",
   "execution_count": 6,
   "id": "1c938729-c8f3-4440-81b1-f145a4605385",
   "metadata": {},
   "outputs": [],
   "source": [
    "index1 = pd.Index([1, 2, 3, 4, 5, 6, 7, 8, 9, 10])"
   ]
  },
  {
   "cell_type": "code",
   "execution_count": 7,
   "id": "5af00832-8674-4baa-b99d-9185b094390d",
   "metadata": {},
   "outputs": [
    {
     "data": {
      "text/plain": [
       "Int64Index([1, 2, 3, 4, 5, 6, 7, 8, 9, 10], dtype='int64')"
      ]
     },
     "execution_count": 7,
     "metadata": {},
     "output_type": "execute_result"
    }
   ],
   "source": [
    "index1"
   ]
  },
  {
   "cell_type": "code",
   "execution_count": 9,
   "id": "d8475054-34a5-497d-ae8e-5bf430b50e99",
   "metadata": {},
   "outputs": [
    {
     "data": {
      "text/plain": [
       "pandas.core.indexes.numeric.Int64Index"
      ]
     },
     "execution_count": 9,
     "metadata": {},
     "output_type": "execute_result"
    }
   ],
   "source": [
    "type(index1)"
   ]
  },
  {
   "cell_type": "markdown",
   "id": "6fb0526f-cab3-479b-9724-88639f62047b",
   "metadata": {},
   "source": [
    "## 2) Pandas-Series"
   ]
  },
  {
   "cell_type": "markdown",
   "id": "da8305b7-613a-44a6-93df-87e5d9b3df53",
   "metadata": {},
   "source": [
    "- Eindimensionales Array mit Index\n",
    "- Wie eine Spalte"
   ]
  },
  {
   "cell_type": "code",
   "execution_count": 11,
   "id": "06f9eb79-a216-4f4b-a04c-cc2341207256",
   "metadata": {},
   "outputs": [
    {
     "data": {
      "text/plain": [
       "0    0.0\n",
       "1    0.1\n",
       "2    0.3\n",
       "3    0.5\n",
       "4    0.6\n",
       "5    0.8\n",
       "6    1.0\n",
       "dtype: float64"
      ]
     },
     "execution_count": 11,
     "metadata": {},
     "output_type": "execute_result"
    }
   ],
   "source": [
    "pd.Series([0, 0.1, 0.3, 0.5, 0.6, 0.8, 1])"
   ]
  },
  {
   "cell_type": "code",
   "execution_count": 12,
   "id": "91239e73-f00c-4997-bdb0-64ce79095f13",
   "metadata": {},
   "outputs": [],
   "source": [
    "series1 = pd.Series([0, 0.1, 0.3, 0.5, 0.6, 0.8, 1])"
   ]
  },
  {
   "cell_type": "code",
   "execution_count": 13,
   "id": "9e825b59-5f35-49cf-9229-2c1f1a6e9244",
   "metadata": {},
   "outputs": [
    {
     "data": {
      "text/plain": [
       "pandas.core.series.Series"
      ]
     },
     "execution_count": 13,
     "metadata": {},
     "output_type": "execute_result"
    }
   ],
   "source": [
    "type(series1)"
   ]
  },
  {
   "cell_type": "markdown",
   "id": "64fe5789-dfd3-436a-aaa3-6c55b9947538",
   "metadata": {},
   "source": [
    "## 3) Pandas-DataFrame"
   ]
  },
  {
   "cell_type": "markdown",
   "id": "23aaefeb-7f46-4dd2-9ae3-d22a4cdd87a1",
   "metadata": {},
   "source": [
    "- \"Datentabelle\"\n",
    "- Ähnlich wie ein zweidimensionales Array\n",
    "- Beschriftete Achsen mit Zeilen und Spalten\n",
    "- Ideal zum Verarbeiten von Daten"
   ]
  },
  {
   "cell_type": "code",
   "execution_count": 15,
   "id": "10d81c9d-480d-4a0a-a7ff-55205b09269e",
   "metadata": {},
   "outputs": [
    {
     "data": {
      "text/html": [
       "<div>\n",
       "<style scoped>\n",
       "    .dataframe tbody tr th:only-of-type {\n",
       "        vertical-align: middle;\n",
       "    }\n",
       "\n",
       "    .dataframe tbody tr th {\n",
       "        vertical-align: top;\n",
       "    }\n",
       "\n",
       "    .dataframe thead th {\n",
       "        text-align: right;\n",
       "    }\n",
       "</style>\n",
       "<table border=\"1\" class=\"dataframe\">\n",
       "  <thead>\n",
       "    <tr style=\"text-align: right;\">\n",
       "      <th></th>\n",
       "      <th>0</th>\n",
       "    </tr>\n",
       "  </thead>\n",
       "  <tbody>\n",
       "    <tr>\n",
       "      <th>0</th>\n",
       "      <td>2024</td>\n",
       "    </tr>\n",
       "    <tr>\n",
       "      <th>1</th>\n",
       "      <td>2025</td>\n",
       "    </tr>\n",
       "    <tr>\n",
       "      <th>2</th>\n",
       "      <td>2026</td>\n",
       "    </tr>\n",
       "  </tbody>\n",
       "</table>\n",
       "</div>"
      ],
      "text/plain": [
       "      0\n",
       "0  2024\n",
       "1  2025\n",
       "2  2026"
      ]
     },
     "execution_count": 15,
     "metadata": {},
     "output_type": "execute_result"
    }
   ],
   "source": [
    "pd.DataFrame([2024, 2025, 2026])"
   ]
  },
  {
   "cell_type": "code",
   "execution_count": 18,
   "id": "65470358-59b0-4933-9915-fe9ce96b0812",
   "metadata": {},
   "outputs": [],
   "source": [
    "data1 = pd.DataFrame({\"Jahre\":[2024, 2025, 2026]})"
   ]
  },
  {
   "cell_type": "code",
   "execution_count": 19,
   "id": "2fc96474-b30d-4b6c-b5c8-d93c994e6858",
   "metadata": {},
   "outputs": [
    {
     "data": {
      "text/html": [
       "<div>\n",
       "<style scoped>\n",
       "    .dataframe tbody tr th:only-of-type {\n",
       "        vertical-align: middle;\n",
       "    }\n",
       "\n",
       "    .dataframe tbody tr th {\n",
       "        vertical-align: top;\n",
       "    }\n",
       "\n",
       "    .dataframe thead th {\n",
       "        text-align: right;\n",
       "    }\n",
       "</style>\n",
       "<table border=\"1\" class=\"dataframe\">\n",
       "  <thead>\n",
       "    <tr style=\"text-align: right;\">\n",
       "      <th></th>\n",
       "      <th>Jahre</th>\n",
       "    </tr>\n",
       "  </thead>\n",
       "  <tbody>\n",
       "    <tr>\n",
       "      <th>0</th>\n",
       "      <td>2024</td>\n",
       "    </tr>\n",
       "    <tr>\n",
       "      <th>1</th>\n",
       "      <td>2025</td>\n",
       "    </tr>\n",
       "    <tr>\n",
       "      <th>2</th>\n",
       "      <td>2026</td>\n",
       "    </tr>\n",
       "  </tbody>\n",
       "</table>\n",
       "</div>"
      ],
      "text/plain": [
       "   Jahre\n",
       "0   2024\n",
       "1   2025\n",
       "2   2026"
      ]
     },
     "execution_count": 19,
     "metadata": {},
     "output_type": "execute_result"
    }
   ],
   "source": [
    "data1"
   ]
  },
  {
   "cell_type": "code",
   "execution_count": 20,
   "id": "c0f2e97c-c8bd-4a4b-b44a-8c38ea481104",
   "metadata": {},
   "outputs": [
    {
     "name": "stdout",
     "output_type": "stream",
     "text": [
      "   Jahre\n",
      "0   2024\n",
      "1   2025\n",
      "2   2026\n"
     ]
    }
   ],
   "source": [
    "print(data1)"
   ]
  },
  {
   "cell_type": "code",
   "execution_count": 21,
   "id": "46f523df-a6ed-42f0-b934-575f7a171841",
   "metadata": {},
   "outputs": [
    {
     "data": {
      "text/plain": [
       "pandas.core.frame.DataFrame"
      ]
     },
     "execution_count": 21,
     "metadata": {},
     "output_type": "execute_result"
    }
   ],
   "source": [
    "type(data1)"
   ]
  },
  {
   "cell_type": "code",
   "execution_count": null,
   "id": "62b247f2-1f28-4b14-9262-341b6290306d",
   "metadata": {},
   "outputs": [],
   "source": []
  }
 ],
 "metadata": {
  "kernelspec": {
   "display_name": "Python 3 (ipykernel)",
   "language": "python",
   "name": "python3"
  },
  "language_info": {
   "codemirror_mode": {
    "name": "ipython",
    "version": 3
   },
   "file_extension": ".py",
   "mimetype": "text/x-python",
   "name": "python",
   "nbconvert_exporter": "python",
   "pygments_lexer": "ipython3",
   "version": "3.9.13"
  }
 },
 "nbformat": 4,
 "nbformat_minor": 5
}
