{
 "cells": [
  {
   "cell_type": "markdown",
   "id": "959600b4-991d-4c45-a12f-07d6bc50d687",
   "metadata": {},
   "source": [
    "# [Filterungen] Umgang mit NULL-Werten"
   ]
  },
  {
   "cell_type": "code",
   "execution_count": 1,
   "id": "78ecb361-1730-4bad-aff7-c3426ae7f8ed",
   "metadata": {},
   "outputs": [],
   "source": [
    "import pandas as pd\n",
    "import numpy as np"
   ]
  },
  {
   "cell_type": "markdown",
   "id": "e71529e7-e184-448d-95c1-e7a39d003ce8",
   "metadata": {},
   "source": [
    "### Anwendungsbeispiel"
   ]
  },
  {
   "cell_type": "code",
   "execution_count": 16,
   "id": "1bd4eacc-ea02-47e8-8e29-8bb3ff61b236",
   "metadata": {},
   "outputs": [],
   "source": [
    "# Sitz, Umsatz, Ergebnis, Mitarbeiter\n",
    "sports = pd.DataFrame({\"NIKE\" : [\"USA\", np.NaN, 7, 80000], \n",
    "             \"ADI\" : [\"DE\", 22, 0.5, np.NaN], \n",
    "             \"PUMA\" : [\"DE\", np.NaN, np.NaN, 18000]}, \n",
    "                      index=[\"Sitz\", \"Umsatz\", \"Ergebnis\", \"Mitarbeiter\"])"
   ]
  },
  {
   "cell_type": "markdown",
   "id": "05cdfd51-b2ce-42b4-9e77-591ae64d46e1",
   "metadata": {},
   "source": [
    "## Umgang mit NULL"
   ]
  },
  {
   "cell_type": "code",
   "execution_count": 9,
   "id": "579da24d-73a2-44d9-bdce-156888e356b1",
   "metadata": {},
   "outputs": [
    {
     "data": {
      "text/html": [
       "<div>\n",
       "<style scoped>\n",
       "    .dataframe tbody tr th:only-of-type {\n",
       "        vertical-align: middle;\n",
       "    }\n",
       "\n",
       "    .dataframe tbody tr th {\n",
       "        vertical-align: top;\n",
       "    }\n",
       "\n",
       "    .dataframe thead th {\n",
       "        text-align: right;\n",
       "    }\n",
       "</style>\n",
       "<table border=\"1\" class=\"dataframe\">\n",
       "  <thead>\n",
       "    <tr style=\"text-align: right;\">\n",
       "      <th></th>\n",
       "      <th>NIKE</th>\n",
       "      <th>ADI</th>\n",
       "      <th>PUMA</th>\n",
       "    </tr>\n",
       "  </thead>\n",
       "  <tbody>\n",
       "    <tr>\n",
       "      <th>Sitz</th>\n",
       "      <td>False</td>\n",
       "      <td>False</td>\n",
       "      <td>False</td>\n",
       "    </tr>\n",
       "    <tr>\n",
       "      <th>Umsatz</th>\n",
       "      <td>True</td>\n",
       "      <td>False</td>\n",
       "      <td>True</td>\n",
       "    </tr>\n",
       "    <tr>\n",
       "      <th>Ergebnis</th>\n",
       "      <td>False</td>\n",
       "      <td>False</td>\n",
       "      <td>True</td>\n",
       "    </tr>\n",
       "    <tr>\n",
       "      <th>Mitarbeiter</th>\n",
       "      <td>False</td>\n",
       "      <td>True</td>\n",
       "      <td>False</td>\n",
       "    </tr>\n",
       "  </tbody>\n",
       "</table>\n",
       "</div>"
      ],
      "text/plain": [
       "              NIKE    ADI   PUMA\n",
       "Sitz         False  False  False\n",
       "Umsatz        True  False   True\n",
       "Ergebnis     False  False   True\n",
       "Mitarbeiter  False   True  False"
      ]
     },
     "execution_count": 9,
     "metadata": {},
     "output_type": "execute_result"
    }
   ],
   "source": [
    "sports.isnull()"
   ]
  },
  {
   "cell_type": "code",
   "execution_count": 10,
   "id": "fd7f0101-ebc4-4c53-a2bd-b8b10fe340ef",
   "metadata": {},
   "outputs": [
    {
     "data": {
      "text/html": [
       "<div>\n",
       "<style scoped>\n",
       "    .dataframe tbody tr th:only-of-type {\n",
       "        vertical-align: middle;\n",
       "    }\n",
       "\n",
       "    .dataframe tbody tr th {\n",
       "        vertical-align: top;\n",
       "    }\n",
       "\n",
       "    .dataframe thead th {\n",
       "        text-align: right;\n",
       "    }\n",
       "</style>\n",
       "<table border=\"1\" class=\"dataframe\">\n",
       "  <thead>\n",
       "    <tr style=\"text-align: right;\">\n",
       "      <th></th>\n",
       "      <th>NIKE</th>\n",
       "      <th>ADI</th>\n",
       "      <th>PUMA</th>\n",
       "    </tr>\n",
       "  </thead>\n",
       "  <tbody>\n",
       "    <tr>\n",
       "      <th>Sitz</th>\n",
       "      <td>USA</td>\n",
       "      <td>DE</td>\n",
       "      <td>DE</td>\n",
       "    </tr>\n",
       "    <tr>\n",
       "      <th>Umsatz</th>\n",
       "      <td>NaN</td>\n",
       "      <td>22</td>\n",
       "      <td>NaN</td>\n",
       "    </tr>\n",
       "    <tr>\n",
       "      <th>Ergebnis</th>\n",
       "      <td>7</td>\n",
       "      <td>0.5</td>\n",
       "      <td>NaN</td>\n",
       "    </tr>\n",
       "    <tr>\n",
       "      <th>Mitarbeiter</th>\n",
       "      <td>80000</td>\n",
       "      <td>NaN</td>\n",
       "      <td>18000</td>\n",
       "    </tr>\n",
       "  </tbody>\n",
       "</table>\n",
       "</div>"
      ],
      "text/plain": [
       "              NIKE  ADI   PUMA\n",
       "Sitz           USA   DE     DE\n",
       "Umsatz         NaN   22    NaN\n",
       "Ergebnis         7  0.5    NaN\n",
       "Mitarbeiter  80000  NaN  18000"
      ]
     },
     "execution_count": 10,
     "metadata": {},
     "output_type": "execute_result"
    }
   ],
   "source": [
    "sports"
   ]
  },
  {
   "cell_type": "code",
   "execution_count": 13,
   "id": "409b1622-1160-4a20-934e-ce0c27eb9345",
   "metadata": {},
   "outputs": [
    {
     "name": "stdout",
     "output_type": "stream",
     "text": [
      "1\n",
      "1\n",
      "2\n"
     ]
    }
   ],
   "source": [
    "print(sports[\"NIKE\"].isnull().sum())\n",
    "print(sports[\"ADI\"].isnull().sum())\n",
    "print(sports[\"PUMA\"].isnull().sum())"
   ]
  },
  {
   "cell_type": "markdown",
   "id": "b3e4cf63-dbfc-457b-a5d7-2d5b94e993bf",
   "metadata": {},
   "source": [
    "### fillna()-Methode"
   ]
  },
  {
   "cell_type": "code",
   "execution_count": 14,
   "id": "9b3479be-a7f7-4446-800a-65a56827e1b7",
   "metadata": {},
   "outputs": [],
   "source": [
    "sports.fillna(0, inplace=True)"
   ]
  },
  {
   "cell_type": "code",
   "execution_count": 15,
   "id": "c2766cac-fb8a-4e44-b550-6bce6cf58ece",
   "metadata": {},
   "outputs": [
    {
     "data": {
      "text/html": [
       "<div>\n",
       "<style scoped>\n",
       "    .dataframe tbody tr th:only-of-type {\n",
       "        vertical-align: middle;\n",
       "    }\n",
       "\n",
       "    .dataframe tbody tr th {\n",
       "        vertical-align: top;\n",
       "    }\n",
       "\n",
       "    .dataframe thead th {\n",
       "        text-align: right;\n",
       "    }\n",
       "</style>\n",
       "<table border=\"1\" class=\"dataframe\">\n",
       "  <thead>\n",
       "    <tr style=\"text-align: right;\">\n",
       "      <th></th>\n",
       "      <th>NIKE</th>\n",
       "      <th>ADI</th>\n",
       "      <th>PUMA</th>\n",
       "    </tr>\n",
       "  </thead>\n",
       "  <tbody>\n",
       "    <tr>\n",
       "      <th>Sitz</th>\n",
       "      <td>USA</td>\n",
       "      <td>DE</td>\n",
       "      <td>DE</td>\n",
       "    </tr>\n",
       "    <tr>\n",
       "      <th>Umsatz</th>\n",
       "      <td>0</td>\n",
       "      <td>22</td>\n",
       "      <td>0</td>\n",
       "    </tr>\n",
       "    <tr>\n",
       "      <th>Ergebnis</th>\n",
       "      <td>7</td>\n",
       "      <td>0.5</td>\n",
       "      <td>0</td>\n",
       "    </tr>\n",
       "    <tr>\n",
       "      <th>Mitarbeiter</th>\n",
       "      <td>80000</td>\n",
       "      <td>0</td>\n",
       "      <td>18000</td>\n",
       "    </tr>\n",
       "  </tbody>\n",
       "</table>\n",
       "</div>"
      ],
      "text/plain": [
       "              NIKE  ADI   PUMA\n",
       "Sitz           USA   DE     DE\n",
       "Umsatz           0   22      0\n",
       "Ergebnis         7  0.5      0\n",
       "Mitarbeiter  80000    0  18000"
      ]
     },
     "execution_count": 15,
     "metadata": {},
     "output_type": "execute_result"
    }
   ],
   "source": [
    "sports"
   ]
  },
  {
   "cell_type": "code",
   "execution_count": 17,
   "id": "10591b95-6ef1-4755-87ea-ef1537532931",
   "metadata": {},
   "outputs": [],
   "source": [
    "sports.fillna(\"Keine Angabe\", inplace=True)"
   ]
  },
  {
   "cell_type": "code",
   "execution_count": 18,
   "id": "01ac59c7-54f5-4512-b70a-ea8b18290d22",
   "metadata": {},
   "outputs": [
    {
     "data": {
      "text/html": [
       "<div>\n",
       "<style scoped>\n",
       "    .dataframe tbody tr th:only-of-type {\n",
       "        vertical-align: middle;\n",
       "    }\n",
       "\n",
       "    .dataframe tbody tr th {\n",
       "        vertical-align: top;\n",
       "    }\n",
       "\n",
       "    .dataframe thead th {\n",
       "        text-align: right;\n",
       "    }\n",
       "</style>\n",
       "<table border=\"1\" class=\"dataframe\">\n",
       "  <thead>\n",
       "    <tr style=\"text-align: right;\">\n",
       "      <th></th>\n",
       "      <th>NIKE</th>\n",
       "      <th>ADI</th>\n",
       "      <th>PUMA</th>\n",
       "    </tr>\n",
       "  </thead>\n",
       "  <tbody>\n",
       "    <tr>\n",
       "      <th>Sitz</th>\n",
       "      <td>USA</td>\n",
       "      <td>DE</td>\n",
       "      <td>DE</td>\n",
       "    </tr>\n",
       "    <tr>\n",
       "      <th>Umsatz</th>\n",
       "      <td>Keine Angabe</td>\n",
       "      <td>22</td>\n",
       "      <td>Keine Angabe</td>\n",
       "    </tr>\n",
       "    <tr>\n",
       "      <th>Ergebnis</th>\n",
       "      <td>7</td>\n",
       "      <td>0.5</td>\n",
       "      <td>Keine Angabe</td>\n",
       "    </tr>\n",
       "    <tr>\n",
       "      <th>Mitarbeiter</th>\n",
       "      <td>80000</td>\n",
       "      <td>Keine Angabe</td>\n",
       "      <td>18000</td>\n",
       "    </tr>\n",
       "  </tbody>\n",
       "</table>\n",
       "</div>"
      ],
      "text/plain": [
       "                     NIKE           ADI          PUMA\n",
       "Sitz                  USA            DE            DE\n",
       "Umsatz       Keine Angabe            22  Keine Angabe\n",
       "Ergebnis                7           0.5  Keine Angabe\n",
       "Mitarbeiter         80000  Keine Angabe         18000"
      ]
     },
     "execution_count": 18,
     "metadata": {},
     "output_type": "execute_result"
    }
   ],
   "source": [
    "sports"
   ]
  },
  {
   "cell_type": "code",
   "execution_count": null,
   "id": "9062777c-0951-41ce-8d9c-c0bbe10a099d",
   "metadata": {},
   "outputs": [],
   "source": []
  }
 ],
 "metadata": {
  "kernelspec": {
   "display_name": "Python 3 (ipykernel)",
   "language": "python",
   "name": "python3"
  },
  "language_info": {
   "codemirror_mode": {
    "name": "ipython",
    "version": 3
   },
   "file_extension": ".py",
   "mimetype": "text/x-python",
   "name": "python",
   "nbconvert_exporter": "python",
   "pygments_lexer": "ipython3",
   "version": "3.9.13"
  }
 },
 "nbformat": 4,
 "nbformat_minor": 5
}
