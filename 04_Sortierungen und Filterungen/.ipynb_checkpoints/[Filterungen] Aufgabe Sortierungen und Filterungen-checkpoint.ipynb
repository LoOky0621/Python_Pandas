{
 "cells": [
  {
   "cell_type": "markdown",
   "id": "35d1a48f-934f-484f-bbd6-67e019004574",
   "metadata": {},
   "source": [
    "# [Filterungen] Aufgabe Sortierungen und Filterungen"
   ]
  },
  {
   "cell_type": "code",
   "execution_count": 1,
   "id": "f9b1ae75-97cf-4a2a-a51e-dd61b9c06c2f",
   "metadata": {},
   "outputs": [],
   "source": [
    "import pandas as pd\n",
    "import seaborn as sb"
   ]
  },
  {
   "cell_type": "markdown",
   "id": "78bf02a0-7b42-4c35-8774-bdeda24e1c31",
   "metadata": {},
   "source": [
    "### Datengrundlage: healthexp"
   ]
  },
  {
   "cell_type": "code",
   "execution_count": 2,
   "id": "dd446c3a-7d33-4f56-8448-df3590b3b170",
   "metadata": {},
   "outputs": [],
   "source": [
    "healthexp = sb.load_dataset(\"healthexp\")"
   ]
  },
  {
   "cell_type": "code",
   "execution_count": 3,
   "id": "28b46c97-15a6-4f1a-8293-f7d9ea4dba80",
   "metadata": {},
   "outputs": [
    {
     "data": {
      "text/html": [
       "<div>\n",
       "<style scoped>\n",
       "    .dataframe tbody tr th:only-of-type {\n",
       "        vertical-align: middle;\n",
       "    }\n",
       "\n",
       "    .dataframe tbody tr th {\n",
       "        vertical-align: top;\n",
       "    }\n",
       "\n",
       "    .dataframe thead th {\n",
       "        text-align: right;\n",
       "    }\n",
       "</style>\n",
       "<table border=\"1\" class=\"dataframe\">\n",
       "  <thead>\n",
       "    <tr style=\"text-align: right;\">\n",
       "      <th></th>\n",
       "      <th>Year</th>\n",
       "      <th>Country</th>\n",
       "      <th>Spending_USD</th>\n",
       "      <th>Life_Expectancy</th>\n",
       "    </tr>\n",
       "  </thead>\n",
       "  <tbody>\n",
       "    <tr>\n",
       "      <th>0</th>\n",
       "      <td>1970</td>\n",
       "      <td>Germany</td>\n",
       "      <td>252.311</td>\n",
       "      <td>70.6</td>\n",
       "    </tr>\n",
       "    <tr>\n",
       "      <th>1</th>\n",
       "      <td>1970</td>\n",
       "      <td>France</td>\n",
       "      <td>192.143</td>\n",
       "      <td>72.2</td>\n",
       "    </tr>\n",
       "    <tr>\n",
       "      <th>2</th>\n",
       "      <td>1970</td>\n",
       "      <td>Great Britain</td>\n",
       "      <td>123.993</td>\n",
       "      <td>71.9</td>\n",
       "    </tr>\n",
       "    <tr>\n",
       "      <th>3</th>\n",
       "      <td>1970</td>\n",
       "      <td>Japan</td>\n",
       "      <td>150.437</td>\n",
       "      <td>72.0</td>\n",
       "    </tr>\n",
       "    <tr>\n",
       "      <th>4</th>\n",
       "      <td>1970</td>\n",
       "      <td>USA</td>\n",
       "      <td>326.961</td>\n",
       "      <td>70.9</td>\n",
       "    </tr>\n",
       "  </tbody>\n",
       "</table>\n",
       "</div>"
      ],
      "text/plain": [
       "   Year        Country  Spending_USD  Life_Expectancy\n",
       "0  1970        Germany       252.311             70.6\n",
       "1  1970         France       192.143             72.2\n",
       "2  1970  Great Britain       123.993             71.9\n",
       "3  1970          Japan       150.437             72.0\n",
       "4  1970            USA       326.961             70.9"
      ]
     },
     "execution_count": 3,
     "metadata": {},
     "output_type": "execute_result"
    }
   ],
   "source": [
    "healthexp.head()"
   ]
  },
  {
   "cell_type": "code",
   "execution_count": 4,
   "id": "07cf67d4-1deb-470e-8871-62174e0c7868",
   "metadata": {},
   "outputs": [
    {
     "data": {
      "text/html": [
       "<div>\n",
       "<style scoped>\n",
       "    .dataframe tbody tr th:only-of-type {\n",
       "        vertical-align: middle;\n",
       "    }\n",
       "\n",
       "    .dataframe tbody tr th {\n",
       "        vertical-align: top;\n",
       "    }\n",
       "\n",
       "    .dataframe thead th {\n",
       "        text-align: right;\n",
       "    }\n",
       "</style>\n",
       "<table border=\"1\" class=\"dataframe\">\n",
       "  <thead>\n",
       "    <tr style=\"text-align: right;\">\n",
       "      <th></th>\n",
       "      <th>Year</th>\n",
       "      <th>Country</th>\n",
       "      <th>Spending_USD</th>\n",
       "      <th>Life_Expectancy</th>\n",
       "    </tr>\n",
       "  </thead>\n",
       "  <tbody>\n",
       "    <tr>\n",
       "      <th>269</th>\n",
       "      <td>2020</td>\n",
       "      <td>Germany</td>\n",
       "      <td>6938.983</td>\n",
       "      <td>81.1</td>\n",
       "    </tr>\n",
       "    <tr>\n",
       "      <th>270</th>\n",
       "      <td>2020</td>\n",
       "      <td>France</td>\n",
       "      <td>5468.418</td>\n",
       "      <td>82.3</td>\n",
       "    </tr>\n",
       "    <tr>\n",
       "      <th>271</th>\n",
       "      <td>2020</td>\n",
       "      <td>Great Britain</td>\n",
       "      <td>5018.700</td>\n",
       "      <td>80.4</td>\n",
       "    </tr>\n",
       "    <tr>\n",
       "      <th>272</th>\n",
       "      <td>2020</td>\n",
       "      <td>Japan</td>\n",
       "      <td>4665.641</td>\n",
       "      <td>84.7</td>\n",
       "    </tr>\n",
       "    <tr>\n",
       "      <th>273</th>\n",
       "      <td>2020</td>\n",
       "      <td>USA</td>\n",
       "      <td>11859.179</td>\n",
       "      <td>77.0</td>\n",
       "    </tr>\n",
       "  </tbody>\n",
       "</table>\n",
       "</div>"
      ],
      "text/plain": [
       "     Year        Country  Spending_USD  Life_Expectancy\n",
       "269  2020        Germany      6938.983             81.1\n",
       "270  2020         France      5468.418             82.3\n",
       "271  2020  Great Britain      5018.700             80.4\n",
       "272  2020          Japan      4665.641             84.7\n",
       "273  2020            USA     11859.179             77.0"
      ]
     },
     "execution_count": 4,
     "metadata": {},
     "output_type": "execute_result"
    }
   ],
   "source": [
    "healthexp.tail()"
   ]
  },
  {
   "cell_type": "markdown",
   "id": "cbdf4987-e4ed-4ff5-8bd7-fe46effe3f64",
   "metadata": {},
   "source": [
    "## 1) Sortierung"
   ]
  },
  {
   "cell_type": "markdown",
   "id": "34b785b1-5135-4b5a-a081-d73b6fb307c0",
   "metadata": {},
   "source": [
    "### 1.1) Auf- und absteigende Sortierung"
   ]
  },
  {
   "cell_type": "markdown",
   "id": "ec3d899c-2d81-437e-abb0-b5965e0cd5f3",
   "metadata": {},
   "source": [
    "*Sortiere zunächst die Lebenserwartung auf- und absteigend*"
   ]
  },
  {
   "cell_type": "code",
   "execution_count": null,
   "id": "207722f1-f0fa-4564-b05a-3da551b1784a",
   "metadata": {},
   "outputs": [],
   "source": []
  },
  {
   "cell_type": "markdown",
   "id": "7e7e3e8c-6cf5-4b30-94ed-db8aac0ae41b",
   "metadata": {},
   "source": [
    "### 1.2) Kategorische Sortierung"
   ]
  },
  {
   "cell_type": "markdown",
   "id": "9ff35cd7-f52c-4d29-a649-ec83afb6152d",
   "metadata": {},
   "source": [
    "*Sortiere nun zunächst nach der Kategorie Land und dann nach Jahr durch eine Codezeile*"
   ]
  },
  {
   "cell_type": "code",
   "execution_count": null,
   "id": "204d51e7-27e0-442e-9f3c-502624a0c14f",
   "metadata": {},
   "outputs": [],
   "source": []
  },
  {
   "cell_type": "markdown",
   "id": "71ba4be5-4ba8-41bc-b83e-4dc74dce9a0e",
   "metadata": {},
   "source": [
    "## 2) Ranking"
   ]
  },
  {
   "cell_type": "markdown",
   "id": "da5f6d4e-b2d6-4cdd-b6b5-78eef5427f1d",
   "metadata": {},
   "source": [
    "*Berechne nun die Ränge aufsteigend von \"Spending_USD\". Sortiere anschließend die Ergebnisse absteigend*"
   ]
  },
  {
   "cell_type": "code",
   "execution_count": null,
   "id": "99c70708-7328-4770-8fd5-3a3cb733e215",
   "metadata": {},
   "outputs": [],
   "source": []
  },
  {
   "cell_type": "markdown",
   "id": "694b2a44-e466-4439-8257-dbb1229f7865",
   "metadata": {},
   "source": [
    "## 3) Filter-Funktion"
   ]
  },
  {
   "cell_type": "markdown",
   "id": "ed7498ed-1fcc-4898-ba47-60db55c9d83c",
   "metadata": {},
   "source": [
    "### 3.1) Kategorische Filterungen"
   ]
  },
  {
   "cell_type": "markdown",
   "id": "3aed2172-4799-4cda-8987-9c61ed9fdbfc",
   "metadata": {},
   "source": [
    "*Filtere zunächst nach den Jahren 2000-2015*"
   ]
  },
  {
   "cell_type": "markdown",
   "id": "c04c65c4-d14f-4089-a2a0-7a8a5c894ead",
   "metadata": {},
   "source": [
    "#### Möglichkeit 1"
   ]
  },
  {
   "cell_type": "code",
   "execution_count": null,
   "id": "bf194718-f7b7-4d22-bc4a-6f3a2610a39b",
   "metadata": {},
   "outputs": [],
   "source": []
  },
  {
   "cell_type": "markdown",
   "id": "5ed0af45-0e96-4857-a0ff-5d7a715fbc60",
   "metadata": {},
   "source": [
    "#### Möglichkeit 2"
   ]
  },
  {
   "cell_type": "code",
   "execution_count": null,
   "id": "2c81077c-7d45-4b13-86ea-a867acdcf214",
   "metadata": {},
   "outputs": [],
   "source": []
  },
  {
   "cell_type": "markdown",
   "id": "39923697-6ab5-41d2-8b32-7aa4eefb3d0a",
   "metadata": {},
   "source": [
    "#### Möglichkeit 3"
   ]
  },
  {
   "cell_type": "code",
   "execution_count": null,
   "id": "c413add6-9efa-4816-ab2f-c1de74de24f7",
   "metadata": {},
   "outputs": [],
   "source": []
  },
  {
   "cell_type": "markdown",
   "id": "48b50997-dcdf-4eed-a8d3-f4821b83b9d3",
   "metadata": {},
   "source": [
    "### 3.2) Filterung durch Berechnung"
   ]
  },
  {
   "cell_type": "markdown",
   "id": "da69527e-1688-4af2-a7b2-2e3707d68c2e",
   "metadata": {},
   "source": [
    "*Berechne nun die durchschnittliche Lebenserwartung über den Median in diesem Zeitintervall. Filtere nun alle Daten, bei denen die Lebenserwartung über dem Median liegt*"
   ]
  },
  {
   "cell_type": "code",
   "execution_count": null,
   "id": "4c6a9673-495c-4248-bcba-954b3db789b5",
   "metadata": {},
   "outputs": [],
   "source": []
  },
  {
   "cell_type": "markdown",
   "id": "8c692e0f-8eb1-4043-861a-7b8ed7fe1daa",
   "metadata": {},
   "source": [
    "## 4) query-Funktion"
   ]
  },
  {
   "cell_type": "markdown",
   "id": "b907a662-cc65-4884-a393-f767603fd42f",
   "metadata": {},
   "source": [
    "*Betrachte nun ausschließlich die Jahre 2016 bis 2020. Berechne anschließend die neue Spalte \"Spending_USD_new\", welche die Variable \"Spending_USD\" durch die Zahl 60 dividiert. Verwende nun die query()-Funktion, um zu zählen bei wie vielen Einträgen Spending_USD_new größer ist als Life_Expectancy*"
   ]
  },
  {
   "cell_type": "code",
   "execution_count": null,
   "id": "f177db14-4d8d-4a56-929b-f20e1abf5837",
   "metadata": {},
   "outputs": [],
   "source": []
  }
 ],
 "metadata": {
  "kernelspec": {
   "display_name": "Python 3 (ipykernel)",
   "language": "python",
   "name": "python3"
  },
  "language_info": {
   "codemirror_mode": {
    "name": "ipython",
    "version": 3
   },
   "file_extension": ".py",
   "mimetype": "text/x-python",
   "name": "python",
   "nbconvert_exporter": "python",
   "pygments_lexer": "ipython3",
   "version": "3.9.13"
  }
 },
 "nbformat": 4,
 "nbformat_minor": 5
}
