{
 "cells": [
  {
   "cell_type": "markdown",
   "id": "959600b4-991d-4c45-a12f-07d6bc50d687",
   "metadata": {},
   "source": [
    "# [Filterungen] Umgang mit fehlenden Daten"
   ]
  },
  {
   "cell_type": "code",
   "execution_count": 8,
   "id": "091a41f1-d065-4454-a351-5f4f851d3d1f",
   "metadata": {},
   "outputs": [],
   "source": [
    "import pandas as pd"
   ]
  },
  {
   "cell_type": "code",
   "execution_count": null,
   "id": "7fbdf18f-7344-4ad5-aa1d-785808ce40b8",
   "metadata": {},
   "outputs": [],
   "source": []
  }
 ],
 "metadata": {
  "kernelspec": {
   "display_name": "Python 3 (ipykernel)",
   "language": "python",
   "name": "python3"
  },
  "language_info": {
   "codemirror_mode": {
    "name": "ipython",
    "version": 3
   },
   "file_extension": ".py",
   "mimetype": "text/x-python",
   "name": "python",
   "nbconvert_exporter": "python",
   "pygments_lexer": "ipython3",
   "version": "3.9.13"
  }
 },
 "nbformat": 4,
 "nbformat_minor": 5
}
