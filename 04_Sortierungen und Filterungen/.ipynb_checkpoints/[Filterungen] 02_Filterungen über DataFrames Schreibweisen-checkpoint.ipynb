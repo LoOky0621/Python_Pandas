{
 "cells": [
  {
   "cell_type": "markdown",
   "id": "35d1a48f-934f-484f-bbd6-67e019004574",
   "metadata": {},
   "source": [
    "# [Filterungen] Filterungen über DataFrames Schreibweisen"
   ]
  },
  {
   "cell_type": "code",
   "execution_count": 1,
   "id": "58ae2153-9e87-4705-818c-07970508161d",
   "metadata": {},
   "outputs": [],
   "source": [
    "import pandas as pd\n",
    "umsatz = pd.read_csv(\"datengrundlage.xls\")"
   ]
  },
  {
   "cell_type": "markdown",
   "id": "0171d924-7ea8-4d26-aada-43c7d593eac1",
   "metadata": {},
   "source": [
    "## Numerische Filterungen"
   ]
  },
  {
   "cell_type": "markdown",
   "id": "b63f5ac4-960a-4dc0-9dae-f2d7ef83acfb",
   "metadata": {},
   "source": [
    "### Vergleichsoperatoren"
   ]
  },
  {
   "cell_type": "markdown",
   "id": "624b2f85-c7cc-4150-9f7a-075de581f487",
   "metadata": {},
   "source": [
    "> **\"==\": entspricht**\n",
    "\n",
    "> **\"!=\": ungleich**\n",
    "\n",
    "> **\">\": größer**\n",
    "\n",
    "> **\"<\": kleiner**\n",
    "\n",
    "> **\">=\": größer gleich**\n",
    "\n",
    "> **\"<=\": kleiner gleich**"
   ]
  },
  {
   "cell_type": "code",
   "execution_count": null,
   "id": "faca433e-a8ed-4c72-a949-efe8eb731148",
   "metadata": {},
   "outputs": [],
   "source": []
  },
  {
   "cell_type": "markdown",
   "id": "88254d64-4032-4f55-9b2f-8610a96eb17f",
   "metadata": {},
   "source": [
    "## Kategorische Filterungen"
   ]
  },
  {
   "cell_type": "code",
   "execution_count": null,
   "id": "19a8b10e-ae08-46da-8396-e0b246c591cc",
   "metadata": {},
   "outputs": [],
   "source": []
  },
  {
   "cell_type": "markdown",
   "id": "51b49b55-32a2-4398-b7af-b5ac77466db8",
   "metadata": {},
   "source": [
    "## Mehrere Filterkriterien"
   ]
  },
  {
   "cell_type": "markdown",
   "id": "9fd55684-e5e0-4db3-a400-4da189f6d389",
   "metadata": {},
   "source": [
    "### Logisches UND"
   ]
  },
  {
   "cell_type": "code",
   "execution_count": null,
   "id": "edf92959-6ea5-4000-8159-faa57eba33e7",
   "metadata": {},
   "outputs": [],
   "source": []
  },
  {
   "cell_type": "markdown",
   "id": "7431bb8f-6984-438b-b881-a134408185eb",
   "metadata": {},
   "source": [
    "### Logisches ODER"
   ]
  },
  {
   "cell_type": "code",
   "execution_count": null,
   "id": "751fac00-3c92-4108-8d88-9d3f0906b181",
   "metadata": {},
   "outputs": [],
   "source": []
  }
 ],
 "metadata": {
  "kernelspec": {
   "display_name": "Python 3 (ipykernel)",
   "language": "python",
   "name": "python3"
  },
  "language_info": {
   "codemirror_mode": {
    "name": "ipython",
    "version": 3
   },
   "file_extension": ".py",
   "mimetype": "text/x-python",
   "name": "python",
   "nbconvert_exporter": "python",
   "pygments_lexer": "ipython3",
   "version": "3.9.13"
  }
 },
 "nbformat": 4,
 "nbformat_minor": 5
}
