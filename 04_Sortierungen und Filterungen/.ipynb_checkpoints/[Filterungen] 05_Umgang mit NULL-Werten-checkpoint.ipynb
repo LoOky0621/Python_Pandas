{
 "cells": [
  {
   "cell_type": "markdown",
   "id": "959600b4-991d-4c45-a12f-07d6bc50d687",
   "metadata": {},
   "source": [
    "# [Filterungen] Umgang mit NULL-Werten"
   ]
  },
  {
   "cell_type": "code",
   "execution_count": 1,
   "id": "78ecb361-1730-4bad-aff7-c3426ae7f8ed",
   "metadata": {},
   "outputs": [],
   "source": [
    "import pandas as pd\n",
    "import numpy as np"
   ]
  },
  {
   "cell_type": "code",
   "execution_count": 16,
   "id": "1bd4eacc-ea02-47e8-8e29-8bb3ff61b236",
   "metadata": {},
   "outputs": [],
   "source": [
    "# Sitz, Umsatz, Ergebnis, Mitarbeiter"
   ]
  },
  {
   "cell_type": "code",
   "execution_count": null,
   "id": "a6247582-7256-4f88-a392-618961cb29cf",
   "metadata": {},
   "outputs": [],
   "source": []
  }
 ],
 "metadata": {
  "kernelspec": {
   "display_name": "Python 3 (ipykernel)",
   "language": "python",
   "name": "python3"
  },
  "language_info": {
   "codemirror_mode": {
    "name": "ipython",
    "version": 3
   },
   "file_extension": ".py",
   "mimetype": "text/x-python",
   "name": "python",
   "nbconvert_exporter": "python",
   "pygments_lexer": "ipython3",
   "version": "3.9.13"
  }
 },
 "nbformat": 4,
 "nbformat_minor": 5
}
