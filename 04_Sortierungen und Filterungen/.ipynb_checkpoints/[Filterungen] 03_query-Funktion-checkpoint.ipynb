{
 "cells": [
  {
   "cell_type": "markdown",
   "id": "35d1a48f-934f-484f-bbd6-67e019004574",
   "metadata": {},
   "source": [
    "# [Filterungen] query-Funktion"
   ]
  },
  {
   "cell_type": "code",
   "execution_count": 2,
   "id": "f9b1ae75-97cf-4a2a-a51e-dd61b9c06c2f",
   "metadata": {},
   "outputs": [],
   "source": [
    "import pandas as pd\n",
    "umsatz = pd.read_csv(\"datengrundlage.xls\")"
   ]
  },
  {
   "cell_type": "markdown",
   "id": "1cdba6da-8212-4037-b18c-42772d1f600a",
   "metadata": {},
   "source": [
    "*Wie viele Einträge gibt es, bei denen die Kosten größer sind als die Umsätze?*"
   ]
  },
  {
   "cell_type": "code",
   "execution_count": null,
   "id": "69da61e4-ce43-4847-8238-587ddf604ffa",
   "metadata": {},
   "outputs": [],
   "source": []
  },
  {
   "cell_type": "markdown",
   "id": "bb090205-fa04-4850-909f-9c68d5488ba5",
   "metadata": {},
   "source": [
    "## query()-Funktion in der Anwendung"
   ]
  },
  {
   "cell_type": "code",
   "execution_count": null,
   "id": "cf2b7e82-b1ad-4636-8576-c61fd8db2e43",
   "metadata": {},
   "outputs": [],
   "source": []
  },
  {
   "cell_type": "markdown",
   "id": "29cd2f26-94ee-4898-a548-d2079177e8dd",
   "metadata": {},
   "source": [
    "### Weiteres Anwendungsbeispiel"
   ]
  },
  {
   "cell_type": "code",
   "execution_count": null,
   "id": "7084a041-2135-44ac-adf1-9bca40fbc029",
   "metadata": {},
   "outputs": [],
   "source": []
  }
 ],
 "metadata": {
  "kernelspec": {
   "display_name": "Python 3 (ipykernel)",
   "language": "python",
   "name": "python3"
  },
  "language_info": {
   "codemirror_mode": {
    "name": "ipython",
    "version": 3
   },
   "file_extension": ".py",
   "mimetype": "text/x-python",
   "name": "python",
   "nbconvert_exporter": "python",
   "pygments_lexer": "ipython3",
   "version": "3.9.13"
  }
 },
 "nbformat": 4,
 "nbformat_minor": 5
}
