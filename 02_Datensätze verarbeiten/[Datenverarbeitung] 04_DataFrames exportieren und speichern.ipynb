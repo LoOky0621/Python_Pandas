{
 "cells": [
  {
   "cell_type": "markdown",
   "id": "e9a5fbaf-1859-42bc-838c-1c489a3a787e",
   "metadata": {},
   "source": [
    "# [Datenverarbeitung] DataFrames exportieren"
   ]
  },
  {
   "cell_type": "code",
   "execution_count": 1,
   "id": "079bbf69-803e-4c11-a7c3-d3bf7bc12c6e",
   "metadata": {},
   "outputs": [],
   "source": [
    "import pandas as pd"
   ]
  },
  {
   "cell_type": "code",
   "execution_count": 2,
   "id": "9d4b66db-8cea-403e-9e3d-1fd53fc78879",
   "metadata": {},
   "outputs": [],
   "source": [
    "umsatz = pd.read_csv(\"datengrundlage.csv\")"
   ]
  },
  {
   "cell_type": "code",
   "execution_count": 3,
   "id": "4e8b2e7d-c0f8-4904-9762-76715341c6ad",
   "metadata": {},
   "outputs": [
    {
     "data": {
      "text/html": [
       "<div>\n",
       "<style scoped>\n",
       "    .dataframe tbody tr th:only-of-type {\n",
       "        vertical-align: middle;\n",
       "    }\n",
       "\n",
       "    .dataframe tbody tr th {\n",
       "        vertical-align: top;\n",
       "    }\n",
       "\n",
       "    .dataframe thead th {\n",
       "        text-align: right;\n",
       "    }\n",
       "</style>\n",
       "<table border=\"1\" class=\"dataframe\">\n",
       "  <thead>\n",
       "    <tr style=\"text-align: right;\">\n",
       "      <th></th>\n",
       "      <th>Nr</th>\n",
       "      <th>Datum</th>\n",
       "      <th>Jahr</th>\n",
       "      <th>Land</th>\n",
       "      <th>Stadt</th>\n",
       "      <th>Umsatz</th>\n",
       "      <th>Kosten</th>\n",
       "      <th>Rücksendung</th>\n",
       "      <th>Bereich</th>\n",
       "      <th>Produktgruppe</th>\n",
       "      <th>Logistik-Code</th>\n",
       "      <th>Kunde</th>\n",
       "    </tr>\n",
       "  </thead>\n",
       "  <tbody>\n",
       "    <tr>\n",
       "      <th>0</th>\n",
       "      <td>1</td>\n",
       "      <td>1/1/2025</td>\n",
       "      <td>2025</td>\n",
       "      <td>Südkorea</td>\n",
       "      <td>Seoul</td>\n",
       "      <td>5534.55</td>\n",
       "      <td>4427.64</td>\n",
       "      <td>NaN</td>\n",
       "      <td>Bereich-5</td>\n",
       "      <td>prd-3</td>\n",
       "      <td>6-43647-1</td>\n",
       "      <td>C-85</td>\n",
       "    </tr>\n",
       "    <tr>\n",
       "      <th>1</th>\n",
       "      <td>2</td>\n",
       "      <td>1/2/2025</td>\n",
       "      <td>2025</td>\n",
       "      <td>Südkorea</td>\n",
       "      <td>Seoul</td>\n",
       "      <td>6284.70</td>\n",
       "      <td>7164.56</td>\n",
       "      <td>NaN</td>\n",
       "      <td>Bereich-5</td>\n",
       "      <td>prd-1</td>\n",
       "      <td>2-43647-1</td>\n",
       "      <td>C-107</td>\n",
       "    </tr>\n",
       "    <tr>\n",
       "      <th>2</th>\n",
       "      <td>3</td>\n",
       "      <td>1/3/2025</td>\n",
       "      <td>2025</td>\n",
       "      <td>Vereinigtes Königreich</td>\n",
       "      <td>London</td>\n",
       "      <td>5437.65</td>\n",
       "      <td>6198.92</td>\n",
       "      <td>NaN</td>\n",
       "      <td>Bereich-1</td>\n",
       "      <td>prd-56</td>\n",
       "      <td>7-43647-1</td>\n",
       "      <td>C-141</td>\n",
       "    </tr>\n",
       "    <tr>\n",
       "      <th>3</th>\n",
       "      <td>4</td>\n",
       "      <td>1/4/2025</td>\n",
       "      <td>2025</td>\n",
       "      <td>China</td>\n",
       "      <td>Peking</td>\n",
       "      <td>8587.20</td>\n",
       "      <td>5152.32</td>\n",
       "      <td>NaN</td>\n",
       "      <td>Bereich-2</td>\n",
       "      <td>prd-92</td>\n",
       "      <td>4-43647-1</td>\n",
       "      <td>C-124</td>\n",
       "    </tr>\n",
       "    <tr>\n",
       "      <th>4</th>\n",
       "      <td>5</td>\n",
       "      <td>1/5/2025</td>\n",
       "      <td>2025</td>\n",
       "      <td>USA</td>\n",
       "      <td>Los Angeles</td>\n",
       "      <td>9439.05</td>\n",
       "      <td>10382.95</td>\n",
       "      <td>NaN</td>\n",
       "      <td>Bereich-2</td>\n",
       "      <td>prd-85</td>\n",
       "      <td>1-43647-1</td>\n",
       "      <td>C-76</td>\n",
       "    </tr>\n",
       "  </tbody>\n",
       "</table>\n",
       "</div>"
      ],
      "text/plain": [
       "   Nr     Datum  Jahr                    Land        Stadt   Umsatz    Kosten   \n",
       "0   1  1/1/2025  2025                Südkorea        Seoul  5534.55   4427.64  \\\n",
       "1   2  1/2/2025  2025                Südkorea        Seoul  6284.70   7164.56   \n",
       "2   3  1/3/2025  2025  Vereinigtes Königreich       London  5437.65   6198.92   \n",
       "3   4  1/4/2025  2025                   China       Peking  8587.20   5152.32   \n",
       "4   5  1/5/2025  2025                     USA  Los Angeles  9439.05  10382.95   \n",
       "\n",
       "   Rücksendung    Bereich Produktgruppe Logistik-Code  Kunde  \n",
       "0          NaN  Bereich-5         prd-3     6-43647-1   C-85  \n",
       "1          NaN  Bereich-5         prd-1     2-43647-1  C-107  \n",
       "2          NaN  Bereich-1        prd-56     7-43647-1  C-141  \n",
       "3          NaN  Bereich-2        prd-92     4-43647-1  C-124  \n",
       "4          NaN  Bereich-2        prd-85     1-43647-1   C-76  "
      ]
     },
     "execution_count": 3,
     "metadata": {},
     "output_type": "execute_result"
    }
   ],
   "source": [
    "umsatz.head()"
   ]
  },
  {
   "cell_type": "code",
   "execution_count": 8,
   "id": "24e766be-dfc0-4320-a897-a0af4296014c",
   "metadata": {},
   "outputs": [],
   "source": [
    "umsatz_stadt_land = umsatz[[\"Land\", \"Stadt\", \"Umsatz\"]]"
   ]
  },
  {
   "cell_type": "code",
   "execution_count": 10,
   "id": "ca5f342b-c00a-42d7-9ea9-a04c3abfb961",
   "metadata": {},
   "outputs": [],
   "source": [
    "# umsatz_stadt_land"
   ]
  },
  {
   "cell_type": "markdown",
   "id": "7768e256-8202-456d-9fb1-01d53f5cc56c",
   "metadata": {},
   "source": [
    "### CSV exportieren"
   ]
  },
  {
   "cell_type": "code",
   "execution_count": 6,
   "id": "05827230-4fe3-489d-8d78-7ad6559a616a",
   "metadata": {},
   "outputs": [],
   "source": [
    "# pd.DataFrame.to_csv?"
   ]
  },
  {
   "cell_type": "code",
   "execution_count": 11,
   "id": "1f1b2e8c-be53-47fd-a7a0-0adc8b5fadac",
   "metadata": {},
   "outputs": [],
   "source": [
    "umsatz_stadt_land.to_csv(\"umsatz_stadt_land.csv\")"
   ]
  },
  {
   "cell_type": "markdown",
   "id": "7dfaf241-7360-49e8-91d5-db893b63f2a1",
   "metadata": {},
   "source": [
    "### Excel exportieren"
   ]
  },
  {
   "cell_type": "code",
   "execution_count": null,
   "id": "ff5ee02a-c661-42c0-a78a-22aeb8dcbcce",
   "metadata": {},
   "outputs": [],
   "source": [
    "# pd.DataFrame.to_excel?"
   ]
  },
  {
   "cell_type": "code",
   "execution_count": 12,
   "id": "82c44886-08bf-4b5d-80ac-77075677f86d",
   "metadata": {},
   "outputs": [],
   "source": [
    "umsatz_stadt_land.to_excel(\"umsatz_stadt_land.xlsx\")"
   ]
  },
  {
   "cell_type": "markdown",
   "id": "30f8f5ff-72d2-4a63-9d87-ee9d19bf1930",
   "metadata": {},
   "source": [
    "### auf Laufwerk exportieren "
   ]
  },
  {
   "cell_type": "code",
   "execution_count": 13,
   "id": "f7b180e9-c0b4-4b37-ade3-6c79779e132c",
   "metadata": {},
   "outputs": [],
   "source": [
    "umsatz_stadt_land.to_excel(r\"C:\\Users\\Fabio\\OneDrive\\Desktop\\umsatz_stadt_land.xlsx\")"
   ]
  },
  {
   "cell_type": "code",
   "execution_count": null,
   "id": "23c3b342-09a3-49a7-8ea5-8a398313f171",
   "metadata": {},
   "outputs": [],
   "source": []
  }
 ],
 "metadata": {
  "kernelspec": {
   "display_name": "Python 3 (ipykernel)",
   "language": "python",
   "name": "python3"
  },
  "language_info": {
   "codemirror_mode": {
    "name": "ipython",
    "version": 3
   },
   "file_extension": ".py",
   "mimetype": "text/x-python",
   "name": "python",
   "nbconvert_exporter": "python",
   "pygments_lexer": "ipython3",
   "version": "3.9.13"
  }
 },
 "nbformat": 4,
 "nbformat_minor": 5
}
