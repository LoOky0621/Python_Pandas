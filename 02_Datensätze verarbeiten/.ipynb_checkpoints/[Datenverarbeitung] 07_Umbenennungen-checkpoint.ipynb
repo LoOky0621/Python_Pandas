{
 "cells": [
  {
   "cell_type": "markdown",
   "id": "959600b4-991d-4c45-a12f-07d6bc50d687",
   "metadata": {},
   "source": [
    "# [Datenverarbeitung] Umbenennungen"
   ]
  },
  {
   "cell_type": "code",
   "execution_count": 1,
   "id": "261e5b35-d057-4444-81b3-fd88587295b7",
   "metadata": {},
   "outputs": [],
   "source": [
    "import pandas as pd\n",
    "umsatz = pd.read_csv(\"datengrundlage.csv\")"
   ]
  },
  {
   "cell_type": "markdown",
   "id": "483e55b3-6519-42a7-aa09-71622447e825",
   "metadata": {},
   "source": [
    "## Umbenennungen"
   ]
  },
  {
   "cell_type": "markdown",
   "id": "e7a9c37d-09ef-488e-bcae-82b0fa417b4a",
   "metadata": {},
   "source": [
    "### rename"
   ]
  },
  {
   "cell_type": "code",
   "execution_count": null,
   "id": "837595f2-74a0-418a-bef7-2929a9c18ac7",
   "metadata": {},
   "outputs": [],
   "source": []
  },
  {
   "cell_type": "markdown",
   "id": "0c4c96a0-a58d-432c-912a-b8ed63e8b0c2",
   "metadata": {},
   "source": [
    "### rename_axis"
   ]
  },
  {
   "cell_type": "code",
   "execution_count": null,
   "id": "14f2a4da-8878-4461-b7c2-1b3fa4aa1142",
   "metadata": {},
   "outputs": [],
   "source": []
  },
  {
   "cell_type": "markdown",
   "id": "879ef96c-6f93-4c5d-a730-8fe7bd715921",
   "metadata": {},
   "source": [
    "### rename(index=[\"old\":\"new\"])"
   ]
  },
  {
   "cell_type": "code",
   "execution_count": null,
   "id": "f4cd50c2-5fa6-4c8b-8eb7-699a246f2f8c",
   "metadata": {},
   "outputs": [],
   "source": []
  }
 ],
 "metadata": {
  "kernelspec": {
   "display_name": "Python 3 (ipykernel)",
   "language": "python",
   "name": "python3"
  },
  "language_info": {
   "codemirror_mode": {
    "name": "ipython",
    "version": 3
   },
   "file_extension": ".py",
   "mimetype": "text/x-python",
   "name": "python",
   "nbconvert_exporter": "python",
   "pygments_lexer": "ipython3",
   "version": "3.9.13"
  }
 },
 "nbformat": 4,
 "nbformat_minor": 5
}
