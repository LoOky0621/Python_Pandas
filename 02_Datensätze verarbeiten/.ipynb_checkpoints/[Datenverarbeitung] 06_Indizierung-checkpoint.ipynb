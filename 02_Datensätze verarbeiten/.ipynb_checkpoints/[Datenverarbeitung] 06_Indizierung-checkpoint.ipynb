{
 "cells": [
  {
   "cell_type": "markdown",
   "id": "f35d6302-1f7b-42ea-ab68-c05f67f52429",
   "metadata": {},
   "source": [
    "# [Indexing] Indizes mit Pandas"
   ]
  },
  {
   "cell_type": "code",
   "execution_count": 1,
   "id": "7b85c66d-5f9b-4686-b863-6f546807a5ab",
   "metadata": {},
   "outputs": [],
   "source": [
    "import pandas as pd"
   ]
  },
  {
   "cell_type": "code",
   "execution_count": 11,
   "id": "77635bd0-0c75-4b01-a107-bee121c4a123",
   "metadata": {},
   "outputs": [],
   "source": [
    "umsatz = pd.read_excel(\"datengrundlage.xlsx\")"
   ]
  },
  {
   "cell_type": "markdown",
   "id": "9c67b838-662d-409e-b639-c3468e071aa0",
   "metadata": {},
   "source": [
    "## Indizes"
   ]
  },
  {
   "cell_type": "markdown",
   "id": "85029c73-3df1-4b7c-8f97-7e0736d9ed2c",
   "metadata": {},
   "source": [
    "### set_index: \"Nr.\""
   ]
  },
  {
   "cell_type": "code",
   "execution_count": null,
   "id": "ce913c90-3ef5-4ad7-9987-833ebf71a332",
   "metadata": {},
   "outputs": [],
   "source": []
  },
  {
   "cell_type": "markdown",
   "id": "b4a2d08c-6e6d-44d2-b294-d66d496fc943",
   "metadata": {},
   "source": [
    "### del: Spalten Löschen"
   ]
  },
  {
   "cell_type": "code",
   "execution_count": null,
   "id": "5383fa23-46bb-4170-9d04-f2a0500303b3",
   "metadata": {},
   "outputs": [],
   "source": []
  },
  {
   "cell_type": "markdown",
   "id": "0e95f301-df45-4110-ba6b-c25bfd37d50e",
   "metadata": {},
   "source": [
    "### set_index: \"Datum\""
   ]
  },
  {
   "cell_type": "code",
   "execution_count": null,
   "id": "6677ce0b-ab80-4b2f-b7e7-6ff831869b79",
   "metadata": {},
   "outputs": [],
   "source": []
  },
  {
   "cell_type": "markdown",
   "id": "fc78f64e-e789-408e-afb2-4ce88104eeaa",
   "metadata": {},
   "source": [
    "### reset_index()"
   ]
  },
  {
   "cell_type": "code",
   "execution_count": null,
   "id": "57b8ba24-684b-4ef6-a5c7-ff4e44b10a43",
   "metadata": {},
   "outputs": [],
   "source": []
  }
 ],
 "metadata": {
  "kernelspec": {
   "display_name": "Python 3 (ipykernel)",
   "language": "python",
   "name": "python3"
  },
  "language_info": {
   "codemirror_mode": {
    "name": "ipython",
    "version": 3
   },
   "file_extension": ".py",
   "mimetype": "text/x-python",
   "name": "python",
   "nbconvert_exporter": "python",
   "pygments_lexer": "ipython3",
   "version": "3.9.13"
  }
 },
 "nbformat": 4,
 "nbformat_minor": 5
}
