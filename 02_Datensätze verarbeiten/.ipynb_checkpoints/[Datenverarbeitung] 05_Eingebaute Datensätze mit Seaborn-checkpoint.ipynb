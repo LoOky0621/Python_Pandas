{
 "cells": [
  {
   "cell_type": "markdown",
   "id": "959600b4-991d-4c45-a12f-07d6bc50d687",
   "metadata": {},
   "source": [
    "# [Datenverarbeitung] Eingebaute Datensätze mit Seaborn"
   ]
  },
  {
   "cell_type": "code",
   "execution_count": 1,
   "id": "b5ec9ab6-0a06-4d27-8350-ba640002883a",
   "metadata": {},
   "outputs": [],
   "source": [
    "import pandas as pd"
   ]
  },
  {
   "cell_type": "markdown",
   "id": "19a43e94-7f5e-4652-9250-a465e557a1c8",
   "metadata": {},
   "source": [
    "## 1) Seaborn Datensätze"
   ]
  },
  {
   "cell_type": "code",
   "execution_count": null,
   "id": "df8b1f70-dd8a-40dd-88ba-93a3f6c3b961",
   "metadata": {},
   "outputs": [],
   "source": []
  },
  {
   "cell_type": "markdown",
   "id": "42a273ea-6045-45db-bde2-8f7880d4c369",
   "metadata": {},
   "source": [
    "### 1.1) Datensätze anzeigen"
   ]
  },
  {
   "cell_type": "code",
   "execution_count": null,
   "id": "28a93745-174b-40e1-8665-be7ecc9b88c1",
   "metadata": {},
   "outputs": [],
   "source": []
  },
  {
   "cell_type": "markdown",
   "id": "304a104b-6540-4efa-9bfe-f75a1a98ee54",
   "metadata": {},
   "source": [
    "### 1.2) Datensätze laden"
   ]
  },
  {
   "cell_type": "code",
   "execution_count": null,
   "id": "4d53420f-6225-4e0b-aa9e-4f71636b984f",
   "metadata": {},
   "outputs": [],
   "source": []
  },
  {
   "cell_type": "markdown",
   "id": "c58f3453-f48d-4e80-820e-e96a86d72fd9",
   "metadata": {},
   "source": [
    "### 1.3) Beispiel: Datenauswertung"
   ]
  },
  {
   "cell_type": "code",
   "execution_count": null,
   "id": "3dbe390e-c438-413c-87ae-0d86fd6f204b",
   "metadata": {},
   "outputs": [],
   "source": []
  },
  {
   "cell_type": "markdown",
   "id": "7d5f5a49-9e96-40cc-b4ba-2bfc000ab558",
   "metadata": {},
   "source": [
    "## 2) Statsmodels Datensätze"
   ]
  },
  {
   "cell_type": "markdown",
   "id": "c46ffaa0-811e-4077-8b27-0368d97b1b47",
   "metadata": {},
   "source": [
    "### 2.1) Datensätze anzeigen"
   ]
  },
  {
   "cell_type": "code",
   "execution_count": null,
   "id": "274affcc-650d-4728-abfa-3abbf04588c7",
   "metadata": {},
   "outputs": [],
   "source": []
  },
  {
   "cell_type": "markdown",
   "id": "4567930c-9944-49b5-a368-9e6fb1f92f6e",
   "metadata": {},
   "source": [
    "### 2.2) Datensätze laden"
   ]
  },
  {
   "cell_type": "code",
   "execution_count": null,
   "id": "b33e380f-af6e-491c-bfb5-369eb6de1801",
   "metadata": {},
   "outputs": [],
   "source": []
  },
  {
   "cell_type": "markdown",
   "id": "6f9082da-e5f0-4619-ada1-fd9397f0b878",
   "metadata": {},
   "source": [
    "## 3) Sklearn Datensätze"
   ]
  },
  {
   "cell_type": "markdown",
   "id": "f3e726b5-79a6-4620-895b-5d89d78e510c",
   "metadata": {},
   "source": [
    "### 3.1) Datensätze anzeigen"
   ]
  },
  {
   "cell_type": "code",
   "execution_count": null,
   "id": "661bd9e2-6f6d-4e63-bf08-1a9d6f27f3af",
   "metadata": {},
   "outputs": [],
   "source": []
  },
  {
   "cell_type": "markdown",
   "id": "f4e35935-c397-4f58-92c2-74c6c1d1bae3",
   "metadata": {},
   "source": [
    "### 3.2) Datensätze laden"
   ]
  },
  {
   "cell_type": "code",
   "execution_count": null,
   "id": "9e2b8c27-56a9-4c2f-bdfc-a5c757023f7b",
   "metadata": {},
   "outputs": [],
   "source": []
  }
 ],
 "metadata": {
  "kernelspec": {
   "display_name": "Python 3 (ipykernel)",
   "language": "python",
   "name": "python3"
  },
  "language_info": {
   "codemirror_mode": {
    "name": "ipython",
    "version": 3
   },
   "file_extension": ".py",
   "mimetype": "text/x-python",
   "name": "python",
   "nbconvert_exporter": "python",
   "pygments_lexer": "ipython3",
   "version": "3.9.13"
  }
 },
 "nbformat": 4,
 "nbformat_minor": 5
}
