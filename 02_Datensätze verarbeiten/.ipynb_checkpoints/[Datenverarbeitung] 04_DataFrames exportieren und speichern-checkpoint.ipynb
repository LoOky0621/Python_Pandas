{
 "cells": [
  {
   "cell_type": "markdown",
   "id": "e9a5fbaf-1859-42bc-838c-1c489a3a787e",
   "metadata": {},
   "source": [
    "# [Datenverarbeitung] DataFrames exportieren"
   ]
  },
  {
   "cell_type": "code",
   "execution_count": 1,
   "id": "079bbf69-803e-4c11-a7c3-d3bf7bc12c6e",
   "metadata": {},
   "outputs": [],
   "source": [
    "import pandas as pd"
   ]
  },
  {
   "cell_type": "code",
   "execution_count": 2,
   "id": "9d4b66db-8cea-403e-9e3d-1fd53fc78879",
   "metadata": {},
   "outputs": [],
   "source": [
    "umsatz = pd.read_csv(\"datengrundlage.csv\")"
   ]
  },
  {
   "cell_type": "code",
   "execution_count": null,
   "id": "4e8b2e7d-c0f8-4904-9762-76715341c6ad",
   "metadata": {},
   "outputs": [],
   "source": []
  }
 ],
 "metadata": {
  "kernelspec": {
   "display_name": "Python 3 (ipykernel)",
   "language": "python",
   "name": "python3"
  },
  "language_info": {
   "codemirror_mode": {
    "name": "ipython",
    "version": 3
   },
   "file_extension": ".py",
   "mimetype": "text/x-python",
   "name": "python",
   "nbconvert_exporter": "python",
   "pygments_lexer": "ipython3",
   "version": "3.9.13"
  }
 },
 "nbformat": 4,
 "nbformat_minor": 5
}
