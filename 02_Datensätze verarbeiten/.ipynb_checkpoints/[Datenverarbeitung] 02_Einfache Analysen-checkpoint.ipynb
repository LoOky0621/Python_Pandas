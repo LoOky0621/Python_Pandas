{
 "cells": [
  {
   "cell_type": "markdown",
   "id": "959600b4-991d-4c45-a12f-07d6bc50d687",
   "metadata": {},
   "source": [
    "# [Datenverarbeitung] Einfache Analysen"
   ]
  },
  {
   "cell_type": "code",
   "execution_count": 1,
   "id": "78ecb361-1730-4bad-aff7-c3426ae7f8ed",
   "metadata": {},
   "outputs": [],
   "source": [
    "import pandas as pd"
   ]
  },
  {
   "cell_type": "markdown",
   "id": "950308c2-96b3-44bc-b485-4e9999b6f53b",
   "metadata": {},
   "source": [
    "### CSV-Dateien importieren"
   ]
  },
  {
   "cell_type": "code",
   "execution_count": 2,
   "id": "e0c7c706-4b53-4dea-bdf3-8174e6a78c55",
   "metadata": {},
   "outputs": [],
   "source": [
    "umsatz = pd.read_csv(\"datengrundlage.csv\")"
   ]
  },
  {
   "cell_type": "markdown",
   "id": "6927cf49-2c6c-4437-a695-18bf3a8a7820",
   "metadata": {},
   "source": [
    "### Excel-Tabellen importieren"
   ]
  },
  {
   "cell_type": "code",
   "execution_count": 3,
   "id": "556ffc84-9c41-4a87-b18c-475807f0366d",
   "metadata": {},
   "outputs": [],
   "source": [
    "umsatz = pd.read_excel(\"datengrundlage.xlsx\")"
   ]
  },
  {
   "cell_type": "markdown",
   "id": "0cf01f47-17d5-4a6c-b991-f1aea2d409b5",
   "metadata": {},
   "source": [
    "### Anzahl Zeilen"
   ]
  },
  {
   "cell_type": "code",
   "execution_count": null,
   "id": "6eb1f35a-ffde-40f7-8d1a-25a28c8191b9",
   "metadata": {},
   "outputs": [],
   "source": []
  },
  {
   "cell_type": "code",
   "execution_count": null,
   "id": "16eb07c6-e6e9-444c-a479-a03cd9fbb5b9",
   "metadata": {},
   "outputs": [],
   "source": []
  },
  {
   "cell_type": "markdown",
   "id": "6df1ee8b-88d2-40a7-9576-f4018076daec",
   "metadata": {},
   "source": [
    "### Anzahl Spalten"
   ]
  },
  {
   "cell_type": "code",
   "execution_count": null,
   "id": "bcc0d77f-58ca-4c93-8479-c3b79dbe2496",
   "metadata": {},
   "outputs": [],
   "source": []
  },
  {
   "cell_type": "markdown",
   "id": "33dedb79-5a44-4bdd-90fd-a03bdd19fb09",
   "metadata": {},
   "source": [
    "### shape"
   ]
  },
  {
   "cell_type": "code",
   "execution_count": null,
   "id": "281820d8-8f93-44a3-aef3-7269e556f0a7",
   "metadata": {},
   "outputs": [],
   "source": []
  },
  {
   "cell_type": "markdown",
   "id": "36c057ff-5385-4f30-8971-3f213db705b3",
   "metadata": {},
   "source": [
    "### sample"
   ]
  },
  {
   "cell_type": "code",
   "execution_count": null,
   "id": "9a061457-0061-4f7c-b3c0-9e729f50ca21",
   "metadata": {},
   "outputs": [],
   "source": []
  }
 ],
 "metadata": {
  "kernelspec": {
   "display_name": "Python 3 (ipykernel)",
   "language": "python",
   "name": "python3"
  },
  "language_info": {
   "codemirror_mode": {
    "name": "ipython",
    "version": 3
   },
   "file_extension": ".py",
   "mimetype": "text/x-python",
   "name": "python",
   "nbconvert_exporter": "python",
   "pygments_lexer": "ipython3",
   "version": "3.9.13"
  }
 },
 "nbformat": 4,
 "nbformat_minor": 5
}
