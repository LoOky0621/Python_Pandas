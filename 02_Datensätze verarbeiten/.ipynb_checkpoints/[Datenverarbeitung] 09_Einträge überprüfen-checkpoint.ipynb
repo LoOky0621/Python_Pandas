{
 "cells": [
  {
   "cell_type": "markdown",
   "id": "959600b4-991d-4c45-a12f-07d6bc50d687",
   "metadata": {},
   "source": [
    "# [Datenverarbeitung] Einträge überprüfen"
   ]
  },
  {
   "cell_type": "code",
   "execution_count": 5,
   "id": "aafcf4ad-d69b-4d0d-a559-dc5a1a135edb",
   "metadata": {},
   "outputs": [],
   "source": [
    "import pandas as pd"
   ]
  },
  {
   "cell_type": "code",
   "execution_count": 9,
   "id": "1f662500-179e-461b-8511-815b0a985bd7",
   "metadata": {},
   "outputs": [],
   "source": [
    "# Branche, Umsatz, Marktkapitalisierung, Ergebnis\n",
    "tech = pd.DataFrame({'AAPL': [\"Hardware\", 395, 2390, 100], \n",
    "                   'GOOG': [\"Advertisement\", 280, 1240, 60], \n",
    "                  'AMZ' : [\"E-Commerce/Cloud\", 514, 960, 14]}, \n",
    "                   index = [\"branche\", \"umsatz\", \"börsenwert\", \"ergebnis\"])"
   ]
  },
  {
   "cell_type": "code",
   "execution_count": 10,
   "id": "b07da642-d512-4714-ac31-18ade4dd71eb",
   "metadata": {},
   "outputs": [
    {
     "data": {
      "text/html": [
       "<div>\n",
       "<style scoped>\n",
       "    .dataframe tbody tr th:only-of-type {\n",
       "        vertical-align: middle;\n",
       "    }\n",
       "\n",
       "    .dataframe tbody tr th {\n",
       "        vertical-align: top;\n",
       "    }\n",
       "\n",
       "    .dataframe thead th {\n",
       "        text-align: right;\n",
       "    }\n",
       "</style>\n",
       "<table border=\"1\" class=\"dataframe\">\n",
       "  <thead>\n",
       "    <tr style=\"text-align: right;\">\n",
       "      <th></th>\n",
       "      <th>AAPL</th>\n",
       "      <th>GOOG</th>\n",
       "      <th>AMZ</th>\n",
       "    </tr>\n",
       "  </thead>\n",
       "  <tbody>\n",
       "    <tr>\n",
       "      <th>branche</th>\n",
       "      <td>Hardware</td>\n",
       "      <td>Advertisement</td>\n",
       "      <td>E-Commerce/Cloud</td>\n",
       "    </tr>\n",
       "    <tr>\n",
       "      <th>umsatz</th>\n",
       "      <td>395</td>\n",
       "      <td>280</td>\n",
       "      <td>514</td>\n",
       "    </tr>\n",
       "    <tr>\n",
       "      <th>börsenwert</th>\n",
       "      <td>2390</td>\n",
       "      <td>1240</td>\n",
       "      <td>960</td>\n",
       "    </tr>\n",
       "    <tr>\n",
       "      <th>ergebnis</th>\n",
       "      <td>100</td>\n",
       "      <td>60</td>\n",
       "      <td>14</td>\n",
       "    </tr>\n",
       "  </tbody>\n",
       "</table>\n",
       "</div>"
      ],
      "text/plain": [
       "                AAPL           GOOG               AMZ\n",
       "branche     Hardware  Advertisement  E-Commerce/Cloud\n",
       "umsatz           395            280               514\n",
       "börsenwert      2390           1240               960\n",
       "ergebnis         100             60                14"
      ]
     },
     "execution_count": 10,
     "metadata": {},
     "output_type": "execute_result"
    }
   ],
   "source": [
    "tech"
   ]
  },
  {
   "cell_type": "markdown",
   "id": "ee75f39c-3f7f-4190-9da3-476c9c62c131",
   "metadata": {},
   "source": [
    "### Gibt es `ein` Hardware-Unternehmen?"
   ]
  },
  {
   "cell_type": "code",
   "execution_count": 12,
   "id": "0cdc123b-717f-4ad8-9e7e-3dd7597c25bb",
   "metadata": {},
   "outputs": [],
   "source": [
    "# pd.DataFrame.isin?"
   ]
  },
  {
   "cell_type": "code",
   "execution_count": 13,
   "id": "5430a575-4e57-467d-86fa-d1b8ad7aedaf",
   "metadata": {},
   "outputs": [
    {
     "data": {
      "text/html": [
       "<div>\n",
       "<style scoped>\n",
       "    .dataframe tbody tr th:only-of-type {\n",
       "        vertical-align: middle;\n",
       "    }\n",
       "\n",
       "    .dataframe tbody tr th {\n",
       "        vertical-align: top;\n",
       "    }\n",
       "\n",
       "    .dataframe thead th {\n",
       "        text-align: right;\n",
       "    }\n",
       "</style>\n",
       "<table border=\"1\" class=\"dataframe\">\n",
       "  <thead>\n",
       "    <tr style=\"text-align: right;\">\n",
       "      <th></th>\n",
       "      <th>AAPL</th>\n",
       "      <th>GOOG</th>\n",
       "      <th>AMZ</th>\n",
       "    </tr>\n",
       "  </thead>\n",
       "  <tbody>\n",
       "    <tr>\n",
       "      <th>branche</th>\n",
       "      <td>True</td>\n",
       "      <td>False</td>\n",
       "      <td>False</td>\n",
       "    </tr>\n",
       "    <tr>\n",
       "      <th>umsatz</th>\n",
       "      <td>False</td>\n",
       "      <td>False</td>\n",
       "      <td>False</td>\n",
       "    </tr>\n",
       "    <tr>\n",
       "      <th>börsenwert</th>\n",
       "      <td>False</td>\n",
       "      <td>False</td>\n",
       "      <td>False</td>\n",
       "    </tr>\n",
       "    <tr>\n",
       "      <th>ergebnis</th>\n",
       "      <td>False</td>\n",
       "      <td>False</td>\n",
       "      <td>False</td>\n",
       "    </tr>\n",
       "  </tbody>\n",
       "</table>\n",
       "</div>"
      ],
      "text/plain": [
       "             AAPL   GOOG    AMZ\n",
       "branche      True  False  False\n",
       "umsatz      False  False  False\n",
       "börsenwert  False  False  False\n",
       "ergebnis    False  False  False"
      ]
     },
     "execution_count": 13,
     "metadata": {},
     "output_type": "execute_result"
    }
   ],
   "source": [
    "tech.isin([\"Hardware\"])"
   ]
  },
  {
   "cell_type": "markdown",
   "id": "dabe9f4e-e076-407b-8ee4-9a7144672acf",
   "metadata": {},
   "source": [
    "### Gibt es `kein` Hardware-Unternehmen?"
   ]
  },
  {
   "cell_type": "code",
   "execution_count": 14,
   "id": "120c9ebf-7449-4437-9d77-5083b78f04d2",
   "metadata": {},
   "outputs": [
    {
     "data": {
      "text/html": [
       "<div>\n",
       "<style scoped>\n",
       "    .dataframe tbody tr th:only-of-type {\n",
       "        vertical-align: middle;\n",
       "    }\n",
       "\n",
       "    .dataframe tbody tr th {\n",
       "        vertical-align: top;\n",
       "    }\n",
       "\n",
       "    .dataframe thead th {\n",
       "        text-align: right;\n",
       "    }\n",
       "</style>\n",
       "<table border=\"1\" class=\"dataframe\">\n",
       "  <thead>\n",
       "    <tr style=\"text-align: right;\">\n",
       "      <th></th>\n",
       "      <th>AAPL</th>\n",
       "      <th>GOOG</th>\n",
       "      <th>AMZ</th>\n",
       "    </tr>\n",
       "  </thead>\n",
       "  <tbody>\n",
       "    <tr>\n",
       "      <th>branche</th>\n",
       "      <td>False</td>\n",
       "      <td>True</td>\n",
       "      <td>True</td>\n",
       "    </tr>\n",
       "    <tr>\n",
       "      <th>umsatz</th>\n",
       "      <td>True</td>\n",
       "      <td>True</td>\n",
       "      <td>True</td>\n",
       "    </tr>\n",
       "    <tr>\n",
       "      <th>börsenwert</th>\n",
       "      <td>True</td>\n",
       "      <td>True</td>\n",
       "      <td>True</td>\n",
       "    </tr>\n",
       "    <tr>\n",
       "      <th>ergebnis</th>\n",
       "      <td>True</td>\n",
       "      <td>True</td>\n",
       "      <td>True</td>\n",
       "    </tr>\n",
       "  </tbody>\n",
       "</table>\n",
       "</div>"
      ],
      "text/plain": [
       "             AAPL  GOOG   AMZ\n",
       "branche     False  True  True\n",
       "umsatz       True  True  True\n",
       "börsenwert   True  True  True\n",
       "ergebnis     True  True  True"
      ]
     },
     "execution_count": 14,
     "metadata": {},
     "output_type": "execute_result"
    }
   ],
   "source": [
    "~ tech.isin([\"Hardware\"])"
   ]
  },
  {
   "cell_type": "markdown",
   "id": "6a897c09-155f-43d0-ab13-b2a7d1ff8b3a",
   "metadata": {},
   "source": [
    "### Umsatzdatensatz"
   ]
  },
  {
   "cell_type": "code",
   "execution_count": 15,
   "id": "68aa6c63-64ae-437c-822e-77a01a689ac8",
   "metadata": {},
   "outputs": [],
   "source": [
    "umsatz = pd.read_csv(\"datengrundlage.csv\")"
   ]
  },
  {
   "cell_type": "code",
   "execution_count": 16,
   "id": "9f2370be-0c9b-43ac-8957-99668aa1dc50",
   "metadata": {},
   "outputs": [
    {
     "data": {
      "text/html": [
       "<div>\n",
       "<style scoped>\n",
       "    .dataframe tbody tr th:only-of-type {\n",
       "        vertical-align: middle;\n",
       "    }\n",
       "\n",
       "    .dataframe tbody tr th {\n",
       "        vertical-align: top;\n",
       "    }\n",
       "\n",
       "    .dataframe thead th {\n",
       "        text-align: right;\n",
       "    }\n",
       "</style>\n",
       "<table border=\"1\" class=\"dataframe\">\n",
       "  <thead>\n",
       "    <tr style=\"text-align: right;\">\n",
       "      <th></th>\n",
       "      <th>Nr</th>\n",
       "      <th>Datum</th>\n",
       "      <th>Jahr</th>\n",
       "      <th>Land</th>\n",
       "      <th>Stadt</th>\n",
       "      <th>Umsatz</th>\n",
       "      <th>Kosten</th>\n",
       "      <th>Rücksendung</th>\n",
       "      <th>Bereich</th>\n",
       "      <th>Produktgruppe</th>\n",
       "      <th>Logistik-Code</th>\n",
       "      <th>Kunde</th>\n",
       "    </tr>\n",
       "  </thead>\n",
       "  <tbody>\n",
       "    <tr>\n",
       "      <th>0</th>\n",
       "      <td>1</td>\n",
       "      <td>1/1/2025</td>\n",
       "      <td>2025</td>\n",
       "      <td>Südkorea</td>\n",
       "      <td>Seoul</td>\n",
       "      <td>5534.55</td>\n",
       "      <td>4427.64</td>\n",
       "      <td>NaN</td>\n",
       "      <td>Bereich-5</td>\n",
       "      <td>prd-3</td>\n",
       "      <td>6-43647-1</td>\n",
       "      <td>C-85</td>\n",
       "    </tr>\n",
       "    <tr>\n",
       "      <th>1</th>\n",
       "      <td>2</td>\n",
       "      <td>1/2/2025</td>\n",
       "      <td>2025</td>\n",
       "      <td>Südkorea</td>\n",
       "      <td>Seoul</td>\n",
       "      <td>6284.70</td>\n",
       "      <td>7164.56</td>\n",
       "      <td>NaN</td>\n",
       "      <td>Bereich-5</td>\n",
       "      <td>prd-1</td>\n",
       "      <td>2-43647-1</td>\n",
       "      <td>C-107</td>\n",
       "    </tr>\n",
       "    <tr>\n",
       "      <th>2</th>\n",
       "      <td>3</td>\n",
       "      <td>1/3/2025</td>\n",
       "      <td>2025</td>\n",
       "      <td>Vereinigtes Königreich</td>\n",
       "      <td>London</td>\n",
       "      <td>5437.65</td>\n",
       "      <td>6198.92</td>\n",
       "      <td>NaN</td>\n",
       "      <td>Bereich-1</td>\n",
       "      <td>prd-56</td>\n",
       "      <td>7-43647-1</td>\n",
       "      <td>C-141</td>\n",
       "    </tr>\n",
       "  </tbody>\n",
       "</table>\n",
       "</div>"
      ],
      "text/plain": [
       "   Nr     Datum  Jahr                    Land   Stadt   Umsatz   Kosten   \n",
       "0   1  1/1/2025  2025                Südkorea   Seoul  5534.55  4427.64  \\\n",
       "1   2  1/2/2025  2025                Südkorea   Seoul  6284.70  7164.56   \n",
       "2   3  1/3/2025  2025  Vereinigtes Königreich  London  5437.65  6198.92   \n",
       "\n",
       "   Rücksendung    Bereich Produktgruppe Logistik-Code  Kunde  \n",
       "0          NaN  Bereich-5         prd-3     6-43647-1   C-85  \n",
       "1          NaN  Bereich-5         prd-1     2-43647-1  C-107  \n",
       "2          NaN  Bereich-1        prd-56     7-43647-1  C-141  "
      ]
     },
     "execution_count": 16,
     "metadata": {},
     "output_type": "execute_result"
    }
   ],
   "source": [
    "umsatz.head(3)"
   ]
  },
  {
   "cell_type": "code",
   "execution_count": 18,
   "id": "52824354-18bb-421b-b8d3-80dab7ca5850",
   "metadata": {},
   "outputs": [
    {
     "data": {
      "text/plain": [
       "0       False\n",
       "1       False\n",
       "2       False\n",
       "3        True\n",
       "4       False\n",
       "        ...  \n",
       "1375    False\n",
       "1376    False\n",
       "1377    False\n",
       "1378    False\n",
       "1379    False\n",
       "Name: Land, Length: 1380, dtype: bool"
      ]
     },
     "execution_count": 18,
     "metadata": {},
     "output_type": "execute_result"
    }
   ],
   "source": [
    "umsatz.Land.isin([\"China\"])"
   ]
  },
  {
   "cell_type": "code",
   "execution_count": 20,
   "id": "4fb351f4-e101-4a5e-ba11-c7a639d1de1d",
   "metadata": {},
   "outputs": [
    {
     "data": {
      "text/plain": [
       "0       False\n",
       "1       False\n",
       "2       False\n",
       "3        True\n",
       "4        True\n",
       "        ...  \n",
       "1375    False\n",
       "1376    False\n",
       "1377    False\n",
       "1378    False\n",
       "1379     True\n",
       "Name: Land, Length: 1380, dtype: bool"
      ]
     },
     "execution_count": 20,
     "metadata": {},
     "output_type": "execute_result"
    }
   ],
   "source": [
    "umsatz.Land.isin([\"China\", \"USA\", \"Südafrika\"])"
   ]
  },
  {
   "cell_type": "code",
   "execution_count": null,
   "id": "adf2266f-3d47-4965-807a-3a45eab0e8b6",
   "metadata": {},
   "outputs": [],
   "source": []
  }
 ],
 "metadata": {
  "kernelspec": {
   "display_name": "Python 3 (ipykernel)",
   "language": "python",
   "name": "python3"
  },
  "language_info": {
   "codemirror_mode": {
    "name": "ipython",
    "version": 3
   },
   "file_extension": ".py",
   "mimetype": "text/x-python",
   "name": "python",
   "nbconvert_exporter": "python",
   "pygments_lexer": "ipython3",
   "version": "3.9.13"
  }
 },
 "nbformat": 4,
 "nbformat_minor": 5
}
