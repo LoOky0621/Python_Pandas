{
 "cells": [
  {
   "cell_type": "markdown",
   "id": "959600b4-991d-4c45-a12f-07d6bc50d687",
   "metadata": {},
   "source": [
    "# [Datenverarbeitung] Einträge verwalten"
   ]
  },
  {
   "cell_type": "code",
   "execution_count": 1,
   "id": "aafcf4ad-d69b-4d0d-a559-dc5a1a135edb",
   "metadata": {},
   "outputs": [],
   "source": [
    "import pandas as pd"
   ]
  },
  {
   "cell_type": "code",
   "execution_count": 45,
   "id": "718390bf-c7d2-4d88-8324-fd1cd1857b88",
   "metadata": {},
   "outputs": [],
   "source": [
    "# Umsatz, Marktkapitalisierung, Ergebnis\n",
    "tech = pd.DataFrame({'AAPL': [395, 2390, 100], \n",
    "                   'GOOG': [280, 1240, 60], \n",
    "                  'AMZ' : [514, 960, 14]}, \n",
    "                   index = [\"umsatz\", \"marktkapitalisierung\", \"ergebnis\"])"
   ]
  },
  {
   "cell_type": "code",
   "execution_count": 46,
   "id": "3e8b0e8b-a76e-4e8c-9a0b-7f72483d713a",
   "metadata": {},
   "outputs": [
    {
     "data": {
      "text/html": [
       "<div>\n",
       "<style scoped>\n",
       "    .dataframe tbody tr th:only-of-type {\n",
       "        vertical-align: middle;\n",
       "    }\n",
       "\n",
       "    .dataframe tbody tr th {\n",
       "        vertical-align: top;\n",
       "    }\n",
       "\n",
       "    .dataframe thead th {\n",
       "        text-align: right;\n",
       "    }\n",
       "</style>\n",
       "<table border=\"1\" class=\"dataframe\">\n",
       "  <thead>\n",
       "    <tr style=\"text-align: right;\">\n",
       "      <th></th>\n",
       "      <th>AAPL</th>\n",
       "      <th>GOOG</th>\n",
       "      <th>AMZ</th>\n",
       "    </tr>\n",
       "  </thead>\n",
       "  <tbody>\n",
       "    <tr>\n",
       "      <th>umsatz</th>\n",
       "      <td>395</td>\n",
       "      <td>280</td>\n",
       "      <td>514</td>\n",
       "    </tr>\n",
       "    <tr>\n",
       "      <th>marktkapitalisierung</th>\n",
       "      <td>2390</td>\n",
       "      <td>1240</td>\n",
       "      <td>960</td>\n",
       "    </tr>\n",
       "    <tr>\n",
       "      <th>ergebnis</th>\n",
       "      <td>100</td>\n",
       "      <td>60</td>\n",
       "      <td>14</td>\n",
       "    </tr>\n",
       "  </tbody>\n",
       "</table>\n",
       "</div>"
      ],
      "text/plain": [
       "                      AAPL  GOOG  AMZ\n",
       "umsatz                 395   280  514\n",
       "marktkapitalisierung  2390  1240  960\n",
       "ergebnis               100    60   14"
      ]
     },
     "execution_count": 46,
     "metadata": {},
     "output_type": "execute_result"
    }
   ],
   "source": [
    "tech"
   ]
  },
  {
   "cell_type": "markdown",
   "id": "5a46bd10-6c60-409a-874d-bd5dddb6401a",
   "metadata": {},
   "source": [
    "## insert()-Funktion"
   ]
  },
  {
   "cell_type": "code",
   "execution_count": 47,
   "id": "46b42d5d-6f35-48ef-b696-d9dd99a43543",
   "metadata": {},
   "outputs": [],
   "source": [
    "tech.insert(1, \"MSFT\", [199, 1960, 73])"
   ]
  },
  {
   "cell_type": "code",
   "execution_count": 48,
   "id": "a051231e-7510-4214-a451-e1ddeecc01db",
   "metadata": {},
   "outputs": [],
   "source": [
    "tech.insert(1, \"MSFT\", [199, 1960, 73], allow_duplicates= True)"
   ]
  },
  {
   "cell_type": "code",
   "execution_count": 19,
   "id": "7269c866-7e52-4a5f-90fb-305750db4f79",
   "metadata": {},
   "outputs": [
    {
     "data": {
      "text/html": [
       "<div>\n",
       "<style scoped>\n",
       "    .dataframe tbody tr th:only-of-type {\n",
       "        vertical-align: middle;\n",
       "    }\n",
       "\n",
       "    .dataframe tbody tr th {\n",
       "        vertical-align: top;\n",
       "    }\n",
       "\n",
       "    .dataframe thead th {\n",
       "        text-align: right;\n",
       "    }\n",
       "</style>\n",
       "<table border=\"1\" class=\"dataframe\">\n",
       "  <thead>\n",
       "    <tr style=\"text-align: right;\">\n",
       "      <th></th>\n",
       "      <th>AAPL</th>\n",
       "      <th>MSFT</th>\n",
       "      <th>MSFT</th>\n",
       "      <th>GOOG</th>\n",
       "      <th>AMZ</th>\n",
       "    </tr>\n",
       "  </thead>\n",
       "  <tbody>\n",
       "    <tr>\n",
       "      <th>umsatz</th>\n",
       "      <td>395</td>\n",
       "      <td>199</td>\n",
       "      <td>199</td>\n",
       "      <td>280</td>\n",
       "      <td>514</td>\n",
       "    </tr>\n",
       "    <tr>\n",
       "      <th>marktkapitalisierung</th>\n",
       "      <td>2390</td>\n",
       "      <td>1960</td>\n",
       "      <td>1960</td>\n",
       "      <td>1240</td>\n",
       "      <td>960</td>\n",
       "    </tr>\n",
       "    <tr>\n",
       "      <th>ergebnis</th>\n",
       "      <td>100</td>\n",
       "      <td>73</td>\n",
       "      <td>73</td>\n",
       "      <td>60</td>\n",
       "      <td>14</td>\n",
       "    </tr>\n",
       "  </tbody>\n",
       "</table>\n",
       "</div>"
      ],
      "text/plain": [
       "                      AAPL  MSFT  MSFT  GOOG  AMZ\n",
       "umsatz                 395   199   199   280  514\n",
       "marktkapitalisierung  2390  1960  1960  1240  960\n",
       "ergebnis               100    73    73    60   14"
      ]
     },
     "execution_count": 19,
     "metadata": {},
     "output_type": "execute_result"
    }
   ],
   "source": [
    "tech"
   ]
  },
  {
   "cell_type": "markdown",
   "id": "6631f4a9-9656-469e-a179-c734046ba1d3",
   "metadata": {},
   "source": [
    "### Ersetzungen durchführen"
   ]
  },
  {
   "cell_type": "code",
   "execution_count": 27,
   "id": "d054f971-31f4-4d38-be66-aab0a96098f0",
   "metadata": {},
   "outputs": [
    {
     "data": {
      "text/html": [
       "<div>\n",
       "<style scoped>\n",
       "    .dataframe tbody tr th:only-of-type {\n",
       "        vertical-align: middle;\n",
       "    }\n",
       "\n",
       "    .dataframe tbody tr th {\n",
       "        vertical-align: top;\n",
       "    }\n",
       "\n",
       "    .dataframe thead th {\n",
       "        text-align: right;\n",
       "    }\n",
       "</style>\n",
       "<table border=\"1\" class=\"dataframe\">\n",
       "  <thead>\n",
       "    <tr style=\"text-align: right;\">\n",
       "      <th></th>\n",
       "      <th>AAPL</th>\n",
       "      <th>MSFT</th>\n",
       "      <th>MSFT</th>\n",
       "      <th>GOOG</th>\n",
       "      <th>AMZ</th>\n",
       "    </tr>\n",
       "  </thead>\n",
       "  <tbody>\n",
       "    <tr>\n",
       "      <th>umsatz</th>\n",
       "      <td>395</td>\n",
       "      <td>199</td>\n",
       "      <td>199</td>\n",
       "      <td>280</td>\n",
       "      <td>514</td>\n",
       "    </tr>\n",
       "    <tr>\n",
       "      <th>marktkapitalisierung</th>\n",
       "      <td>2390</td>\n",
       "      <td>1960</td>\n",
       "      <td>1960</td>\n",
       "      <td>1240</td>\n",
       "      <td>960</td>\n",
       "    </tr>\n",
       "    <tr>\n",
       "      <th>ergebnis</th>\n",
       "      <td>100</td>\n",
       "      <td>73</td>\n",
       "      <td>73</td>\n",
       "      <td>60</td>\n",
       "      <td>14</td>\n",
       "    </tr>\n",
       "  </tbody>\n",
       "</table>\n",
       "</div>"
      ],
      "text/plain": [
       "                      AAPL  MSFT  MSFT  GOOG  AMZ\n",
       "umsatz                 395   199   199   280  514\n",
       "marktkapitalisierung  2390  1960  1960  1240  960\n",
       "ergebnis               100    73    73    60   14"
      ]
     },
     "execution_count": 27,
     "metadata": {},
     "output_type": "execute_result"
    }
   ],
   "source": [
    "tech"
   ]
  },
  {
   "cell_type": "code",
   "execution_count": 26,
   "id": "ea43aaad-a87f-4d10-bbd3-18e9e4e3782c",
   "metadata": {},
   "outputs": [],
   "source": [
    "# tech.rename(columns = {tech.columns[1] : \"MSFT2\"})"
   ]
  },
  {
   "cell_type": "code",
   "execution_count": 30,
   "id": "09fe13ae-f8a8-4d7b-bc19-e5e45b288b6e",
   "metadata": {},
   "outputs": [
    {
     "data": {
      "text/html": [
       "<div>\n",
       "<style scoped>\n",
       "    .dataframe tbody tr th:only-of-type {\n",
       "        vertical-align: middle;\n",
       "    }\n",
       "\n",
       "    .dataframe tbody tr th {\n",
       "        vertical-align: top;\n",
       "    }\n",
       "\n",
       "    .dataframe thead th {\n",
       "        text-align: right;\n",
       "    }\n",
       "</style>\n",
       "<table border=\"1\" class=\"dataframe\">\n",
       "  <thead>\n",
       "    <tr style=\"text-align: right;\">\n",
       "      <th></th>\n",
       "      <th>umsatz</th>\n",
       "      <th>marktkapitalisierung</th>\n",
       "      <th>ergebnis</th>\n",
       "    </tr>\n",
       "  </thead>\n",
       "  <tbody>\n",
       "    <tr>\n",
       "      <th>AAPL</th>\n",
       "      <td>395</td>\n",
       "      <td>2390</td>\n",
       "      <td>100</td>\n",
       "    </tr>\n",
       "    <tr>\n",
       "      <th>MSFT2</th>\n",
       "      <td>199</td>\n",
       "      <td>1960</td>\n",
       "      <td>73</td>\n",
       "    </tr>\n",
       "    <tr>\n",
       "      <th>MSFT2</th>\n",
       "      <td>199</td>\n",
       "      <td>1960</td>\n",
       "      <td>73</td>\n",
       "    </tr>\n",
       "    <tr>\n",
       "      <th>GOOG</th>\n",
       "      <td>280</td>\n",
       "      <td>1240</td>\n",
       "      <td>60</td>\n",
       "    </tr>\n",
       "    <tr>\n",
       "      <th>AMZ</th>\n",
       "      <td>514</td>\n",
       "      <td>960</td>\n",
       "      <td>14</td>\n",
       "    </tr>\n",
       "  </tbody>\n",
       "</table>\n",
       "</div>"
      ],
      "text/plain": [
       "       umsatz  marktkapitalisierung  ergebnis\n",
       "AAPL      395                  2390       100\n",
       "MSFT2     199                  1960        73\n",
       "MSFT2     199                  1960        73\n",
       "GOOG      280                  1240        60\n",
       "AMZ       514                   960        14"
      ]
     },
     "execution_count": 30,
     "metadata": {},
     "output_type": "execute_result"
    }
   ],
   "source": [
    "tech.transpose().rename(index = {\"MSFT\" : \"MSFT2\"})"
   ]
  },
  {
   "cell_type": "code",
   "execution_count": 35,
   "id": "026b6487-8b42-4153-8c41-aa08e79592f1",
   "metadata": {},
   "outputs": [],
   "source": [
    "tech.columns = [\"AAPL\", \"MSFT\", \"MSFT2\", \"GOOG\", \"AMZ\"]"
   ]
  },
  {
   "cell_type": "code",
   "execution_count": 36,
   "id": "1d74b17a-b5a5-4704-97cf-8dee4910f12b",
   "metadata": {},
   "outputs": [
    {
     "data": {
      "text/html": [
       "<div>\n",
       "<style scoped>\n",
       "    .dataframe tbody tr th:only-of-type {\n",
       "        vertical-align: middle;\n",
       "    }\n",
       "\n",
       "    .dataframe tbody tr th {\n",
       "        vertical-align: top;\n",
       "    }\n",
       "\n",
       "    .dataframe thead th {\n",
       "        text-align: right;\n",
       "    }\n",
       "</style>\n",
       "<table border=\"1\" class=\"dataframe\">\n",
       "  <thead>\n",
       "    <tr style=\"text-align: right;\">\n",
       "      <th></th>\n",
       "      <th>AAPL</th>\n",
       "      <th>MSFT</th>\n",
       "      <th>MSFT2</th>\n",
       "      <th>GOOG</th>\n",
       "      <th>AMZ</th>\n",
       "    </tr>\n",
       "  </thead>\n",
       "  <tbody>\n",
       "    <tr>\n",
       "      <th>umsatz</th>\n",
       "      <td>395</td>\n",
       "      <td>199</td>\n",
       "      <td>199</td>\n",
       "      <td>280</td>\n",
       "      <td>514</td>\n",
       "    </tr>\n",
       "    <tr>\n",
       "      <th>marktkapitalisierung</th>\n",
       "      <td>2390</td>\n",
       "      <td>1960</td>\n",
       "      <td>1960</td>\n",
       "      <td>1240</td>\n",
       "      <td>960</td>\n",
       "    </tr>\n",
       "    <tr>\n",
       "      <th>ergebnis</th>\n",
       "      <td>100</td>\n",
       "      <td>73</td>\n",
       "      <td>73</td>\n",
       "      <td>60</td>\n",
       "      <td>14</td>\n",
       "    </tr>\n",
       "  </tbody>\n",
       "</table>\n",
       "</div>"
      ],
      "text/plain": [
       "                      AAPL  MSFT  MSFT2  GOOG  AMZ\n",
       "umsatz                 395   199    199   280  514\n",
       "marktkapitalisierung  2390  1960   1960  1240  960\n",
       "ergebnis               100    73     73    60   14"
      ]
     },
     "execution_count": 36,
     "metadata": {},
     "output_type": "execute_result"
    }
   ],
   "source": [
    "tech"
   ]
  },
  {
   "cell_type": "code",
   "execution_count": 37,
   "id": "0dc123ad-366e-4f63-99af-ac7f028a3269",
   "metadata": {},
   "outputs": [],
   "source": [
    "tech[\"IBM\"] = [61, 105, 8]"
   ]
  },
  {
   "cell_type": "code",
   "execution_count": 38,
   "id": "38dcef6c-1e2f-4430-9e07-84cdec46147a",
   "metadata": {},
   "outputs": [
    {
     "data": {
      "text/html": [
       "<div>\n",
       "<style scoped>\n",
       "    .dataframe tbody tr th:only-of-type {\n",
       "        vertical-align: middle;\n",
       "    }\n",
       "\n",
       "    .dataframe tbody tr th {\n",
       "        vertical-align: top;\n",
       "    }\n",
       "\n",
       "    .dataframe thead th {\n",
       "        text-align: right;\n",
       "    }\n",
       "</style>\n",
       "<table border=\"1\" class=\"dataframe\">\n",
       "  <thead>\n",
       "    <tr style=\"text-align: right;\">\n",
       "      <th></th>\n",
       "      <th>AAPL</th>\n",
       "      <th>MSFT</th>\n",
       "      <th>MSFT2</th>\n",
       "      <th>GOOG</th>\n",
       "      <th>AMZ</th>\n",
       "      <th>IBM</th>\n",
       "    </tr>\n",
       "  </thead>\n",
       "  <tbody>\n",
       "    <tr>\n",
       "      <th>umsatz</th>\n",
       "      <td>395</td>\n",
       "      <td>199</td>\n",
       "      <td>199</td>\n",
       "      <td>280</td>\n",
       "      <td>514</td>\n",
       "      <td>61</td>\n",
       "    </tr>\n",
       "    <tr>\n",
       "      <th>marktkapitalisierung</th>\n",
       "      <td>2390</td>\n",
       "      <td>1960</td>\n",
       "      <td>1960</td>\n",
       "      <td>1240</td>\n",
       "      <td>960</td>\n",
       "      <td>105</td>\n",
       "    </tr>\n",
       "    <tr>\n",
       "      <th>ergebnis</th>\n",
       "      <td>100</td>\n",
       "      <td>73</td>\n",
       "      <td>73</td>\n",
       "      <td>60</td>\n",
       "      <td>14</td>\n",
       "      <td>8</td>\n",
       "    </tr>\n",
       "  </tbody>\n",
       "</table>\n",
       "</div>"
      ],
      "text/plain": [
       "                      AAPL  MSFT  MSFT2  GOOG  AMZ  IBM\n",
       "umsatz                 395   199    199   280  514   61\n",
       "marktkapitalisierung  2390  1960   1960  1240  960  105\n",
       "ergebnis               100    73     73    60   14    8"
      ]
     },
     "execution_count": 38,
     "metadata": {},
     "output_type": "execute_result"
    }
   ],
   "source": [
    "tech"
   ]
  },
  {
   "cell_type": "code",
   "execution_count": 39,
   "id": "4d677eae-4bd3-45ab-996c-05ac22abf7d7",
   "metadata": {},
   "outputs": [],
   "source": [
    "tech.MSFT2 = tech.IBM"
   ]
  },
  {
   "cell_type": "markdown",
   "id": "78ec08f1-093d-459f-bcbd-4de09b8ac69d",
   "metadata": {},
   "source": [
    "### Spalte entfernen"
   ]
  },
  {
   "cell_type": "code",
   "execution_count": 40,
   "id": "c1a38c8c-c88d-4992-985f-93de54541f1b",
   "metadata": {},
   "outputs": [
    {
     "data": {
      "text/html": [
       "<div>\n",
       "<style scoped>\n",
       "    .dataframe tbody tr th:only-of-type {\n",
       "        vertical-align: middle;\n",
       "    }\n",
       "\n",
       "    .dataframe tbody tr th {\n",
       "        vertical-align: top;\n",
       "    }\n",
       "\n",
       "    .dataframe thead th {\n",
       "        text-align: right;\n",
       "    }\n",
       "</style>\n",
       "<table border=\"1\" class=\"dataframe\">\n",
       "  <thead>\n",
       "    <tr style=\"text-align: right;\">\n",
       "      <th></th>\n",
       "      <th>AAPL</th>\n",
       "      <th>MSFT</th>\n",
       "      <th>MSFT2</th>\n",
       "      <th>GOOG</th>\n",
       "      <th>AMZ</th>\n",
       "      <th>IBM</th>\n",
       "    </tr>\n",
       "  </thead>\n",
       "  <tbody>\n",
       "    <tr>\n",
       "      <th>umsatz</th>\n",
       "      <td>395</td>\n",
       "      <td>199</td>\n",
       "      <td>61</td>\n",
       "      <td>280</td>\n",
       "      <td>514</td>\n",
       "      <td>61</td>\n",
       "    </tr>\n",
       "    <tr>\n",
       "      <th>marktkapitalisierung</th>\n",
       "      <td>2390</td>\n",
       "      <td>1960</td>\n",
       "      <td>105</td>\n",
       "      <td>1240</td>\n",
       "      <td>960</td>\n",
       "      <td>105</td>\n",
       "    </tr>\n",
       "    <tr>\n",
       "      <th>ergebnis</th>\n",
       "      <td>100</td>\n",
       "      <td>73</td>\n",
       "      <td>8</td>\n",
       "      <td>60</td>\n",
       "      <td>14</td>\n",
       "      <td>8</td>\n",
       "    </tr>\n",
       "  </tbody>\n",
       "</table>\n",
       "</div>"
      ],
      "text/plain": [
       "                      AAPL  MSFT  MSFT2  GOOG  AMZ  IBM\n",
       "umsatz                 395   199     61   280  514   61\n",
       "marktkapitalisierung  2390  1960    105  1240  960  105\n",
       "ergebnis               100    73      8    60   14    8"
      ]
     },
     "execution_count": 40,
     "metadata": {},
     "output_type": "execute_result"
    }
   ],
   "source": [
    "tech"
   ]
  },
  {
   "cell_type": "code",
   "execution_count": 41,
   "id": "e5080d3c-1d1f-41ba-a5f4-66e49db470da",
   "metadata": {},
   "outputs": [],
   "source": [
    "del tech[\"IBM\"]"
   ]
  },
  {
   "cell_type": "code",
   "execution_count": 42,
   "id": "f1f71ff9-e323-4f07-b737-0ea373bfe227",
   "metadata": {},
   "outputs": [
    {
     "data": {
      "text/html": [
       "<div>\n",
       "<style scoped>\n",
       "    .dataframe tbody tr th:only-of-type {\n",
       "        vertical-align: middle;\n",
       "    }\n",
       "\n",
       "    .dataframe tbody tr th {\n",
       "        vertical-align: top;\n",
       "    }\n",
       "\n",
       "    .dataframe thead th {\n",
       "        text-align: right;\n",
       "    }\n",
       "</style>\n",
       "<table border=\"1\" class=\"dataframe\">\n",
       "  <thead>\n",
       "    <tr style=\"text-align: right;\">\n",
       "      <th></th>\n",
       "      <th>AAPL</th>\n",
       "      <th>MSFT</th>\n",
       "      <th>MSFT2</th>\n",
       "      <th>GOOG</th>\n",
       "      <th>AMZ</th>\n",
       "    </tr>\n",
       "  </thead>\n",
       "  <tbody>\n",
       "    <tr>\n",
       "      <th>umsatz</th>\n",
       "      <td>395</td>\n",
       "      <td>199</td>\n",
       "      <td>61</td>\n",
       "      <td>280</td>\n",
       "      <td>514</td>\n",
       "    </tr>\n",
       "    <tr>\n",
       "      <th>marktkapitalisierung</th>\n",
       "      <td>2390</td>\n",
       "      <td>1960</td>\n",
       "      <td>105</td>\n",
       "      <td>1240</td>\n",
       "      <td>960</td>\n",
       "    </tr>\n",
       "    <tr>\n",
       "      <th>ergebnis</th>\n",
       "      <td>100</td>\n",
       "      <td>73</td>\n",
       "      <td>8</td>\n",
       "      <td>60</td>\n",
       "      <td>14</td>\n",
       "    </tr>\n",
       "  </tbody>\n",
       "</table>\n",
       "</div>"
      ],
      "text/plain": [
       "                      AAPL  MSFT  MSFT2  GOOG  AMZ\n",
       "umsatz                 395   199     61   280  514\n",
       "marktkapitalisierung  2390  1960    105  1240  960\n",
       "ergebnis               100    73      8    60   14"
      ]
     },
     "execution_count": 42,
     "metadata": {},
     "output_type": "execute_result"
    }
   ],
   "source": [
    "tech"
   ]
  },
  {
   "cell_type": "code",
   "execution_count": 43,
   "id": "b26be56b-95e5-43e6-a6ed-435f3a41cb98",
   "metadata": {},
   "outputs": [],
   "source": [
    "tech.columns = [\"AAPL\", \"MSFT\", \"IBM\", \"GOOG\", \"AMZ\"]"
   ]
  },
  {
   "cell_type": "code",
   "execution_count": 44,
   "id": "298c137f-496c-461d-add8-3234576524f8",
   "metadata": {},
   "outputs": [
    {
     "data": {
      "text/html": [
       "<div>\n",
       "<style scoped>\n",
       "    .dataframe tbody tr th:only-of-type {\n",
       "        vertical-align: middle;\n",
       "    }\n",
       "\n",
       "    .dataframe tbody tr th {\n",
       "        vertical-align: top;\n",
       "    }\n",
       "\n",
       "    .dataframe thead th {\n",
       "        text-align: right;\n",
       "    }\n",
       "</style>\n",
       "<table border=\"1\" class=\"dataframe\">\n",
       "  <thead>\n",
       "    <tr style=\"text-align: right;\">\n",
       "      <th></th>\n",
       "      <th>AAPL</th>\n",
       "      <th>MSFT</th>\n",
       "      <th>IBM</th>\n",
       "      <th>GOOG</th>\n",
       "      <th>AMZ</th>\n",
       "    </tr>\n",
       "  </thead>\n",
       "  <tbody>\n",
       "    <tr>\n",
       "      <th>umsatz</th>\n",
       "      <td>395</td>\n",
       "      <td>199</td>\n",
       "      <td>61</td>\n",
       "      <td>280</td>\n",
       "      <td>514</td>\n",
       "    </tr>\n",
       "    <tr>\n",
       "      <th>marktkapitalisierung</th>\n",
       "      <td>2390</td>\n",
       "      <td>1960</td>\n",
       "      <td>105</td>\n",
       "      <td>1240</td>\n",
       "      <td>960</td>\n",
       "    </tr>\n",
       "    <tr>\n",
       "      <th>ergebnis</th>\n",
       "      <td>100</td>\n",
       "      <td>73</td>\n",
       "      <td>8</td>\n",
       "      <td>60</td>\n",
       "      <td>14</td>\n",
       "    </tr>\n",
       "  </tbody>\n",
       "</table>\n",
       "</div>"
      ],
      "text/plain": [
       "                      AAPL  MSFT  IBM  GOOG  AMZ\n",
       "umsatz                 395   199   61   280  514\n",
       "marktkapitalisierung  2390  1960  105  1240  960\n",
       "ergebnis               100    73    8    60   14"
      ]
     },
     "execution_count": 44,
     "metadata": {},
     "output_type": "execute_result"
    }
   ],
   "source": [
    "tech"
   ]
  },
  {
   "cell_type": "markdown",
   "id": "333bd3cc-fd2b-460f-b200-491964b85e1a",
   "metadata": {},
   "source": [
    "### Alternative: replace()-Funktion"
   ]
  },
  {
   "cell_type": "code",
   "execution_count": 49,
   "id": "dbff6eed-b6ed-4f0e-b8e3-0b71c9f143e0",
   "metadata": {},
   "outputs": [
    {
     "data": {
      "text/html": [
       "<div>\n",
       "<style scoped>\n",
       "    .dataframe tbody tr th:only-of-type {\n",
       "        vertical-align: middle;\n",
       "    }\n",
       "\n",
       "    .dataframe tbody tr th {\n",
       "        vertical-align: top;\n",
       "    }\n",
       "\n",
       "    .dataframe thead th {\n",
       "        text-align: right;\n",
       "    }\n",
       "</style>\n",
       "<table border=\"1\" class=\"dataframe\">\n",
       "  <thead>\n",
       "    <tr style=\"text-align: right;\">\n",
       "      <th></th>\n",
       "      <th>AAPL</th>\n",
       "      <th>MSFT</th>\n",
       "      <th>MSFT</th>\n",
       "      <th>GOOG</th>\n",
       "      <th>AMZ</th>\n",
       "    </tr>\n",
       "  </thead>\n",
       "  <tbody>\n",
       "    <tr>\n",
       "      <th>umsatz</th>\n",
       "      <td>395</td>\n",
       "      <td>199</td>\n",
       "      <td>199</td>\n",
       "      <td>280</td>\n",
       "      <td>514</td>\n",
       "    </tr>\n",
       "    <tr>\n",
       "      <th>marktkapitalisierung</th>\n",
       "      <td>2390</td>\n",
       "      <td>1960</td>\n",
       "      <td>1960</td>\n",
       "      <td>1240</td>\n",
       "      <td>960</td>\n",
       "    </tr>\n",
       "    <tr>\n",
       "      <th>ergebnis</th>\n",
       "      <td>100</td>\n",
       "      <td>73</td>\n",
       "      <td>73</td>\n",
       "      <td>60</td>\n",
       "      <td>14</td>\n",
       "    </tr>\n",
       "  </tbody>\n",
       "</table>\n",
       "</div>"
      ],
      "text/plain": [
       "                      AAPL  MSFT  MSFT  GOOG  AMZ\n",
       "umsatz                 395   199   199   280  514\n",
       "marktkapitalisierung  2390  1960  1960  1240  960\n",
       "ergebnis               100    73    73    60   14"
      ]
     },
     "execution_count": 49,
     "metadata": {},
     "output_type": "execute_result"
    }
   ],
   "source": [
    "tech"
   ]
  },
  {
   "cell_type": "code",
   "execution_count": 50,
   "id": "1dadbca2-a995-4670-9a7a-b4b043c137fc",
   "metadata": {},
   "outputs": [],
   "source": [
    "tech.columns = [\"AAPL\", \"MSFT\", \"MSFT2\", \"GOOG\", \"AMZ\"]"
   ]
  },
  {
   "cell_type": "code",
   "execution_count": 51,
   "id": "ba5aaba5-da07-43e3-b191-9e0acb0d7c01",
   "metadata": {},
   "outputs": [
    {
     "data": {
      "text/html": [
       "<div>\n",
       "<style scoped>\n",
       "    .dataframe tbody tr th:only-of-type {\n",
       "        vertical-align: middle;\n",
       "    }\n",
       "\n",
       "    .dataframe tbody tr th {\n",
       "        vertical-align: top;\n",
       "    }\n",
       "\n",
       "    .dataframe thead th {\n",
       "        text-align: right;\n",
       "    }\n",
       "</style>\n",
       "<table border=\"1\" class=\"dataframe\">\n",
       "  <thead>\n",
       "    <tr style=\"text-align: right;\">\n",
       "      <th></th>\n",
       "      <th>AAPL</th>\n",
       "      <th>MSFT</th>\n",
       "      <th>MSFT2</th>\n",
       "      <th>GOOG</th>\n",
       "      <th>AMZ</th>\n",
       "    </tr>\n",
       "  </thead>\n",
       "  <tbody>\n",
       "    <tr>\n",
       "      <th>umsatz</th>\n",
       "      <td>395</td>\n",
       "      <td>199</td>\n",
       "      <td>199</td>\n",
       "      <td>280</td>\n",
       "      <td>514</td>\n",
       "    </tr>\n",
       "    <tr>\n",
       "      <th>marktkapitalisierung</th>\n",
       "      <td>2390</td>\n",
       "      <td>1960</td>\n",
       "      <td>1960</td>\n",
       "      <td>1240</td>\n",
       "      <td>960</td>\n",
       "    </tr>\n",
       "    <tr>\n",
       "      <th>ergebnis</th>\n",
       "      <td>100</td>\n",
       "      <td>73</td>\n",
       "      <td>73</td>\n",
       "      <td>60</td>\n",
       "      <td>14</td>\n",
       "    </tr>\n",
       "  </tbody>\n",
       "</table>\n",
       "</div>"
      ],
      "text/plain": [
       "                      AAPL  MSFT  MSFT2  GOOG  AMZ\n",
       "umsatz                 395   199    199   280  514\n",
       "marktkapitalisierung  2390  1960   1960  1240  960\n",
       "ergebnis               100    73     73    60   14"
      ]
     },
     "execution_count": 51,
     "metadata": {},
     "output_type": "execute_result"
    }
   ],
   "source": [
    "tech"
   ]
  },
  {
   "cell_type": "code",
   "execution_count": 53,
   "id": "4602077a-b1ae-4224-9571-c0e2e2510121",
   "metadata": {},
   "outputs": [],
   "source": [
    "tech[\"IBM\"] = [61, 105, 8]"
   ]
  },
  {
   "cell_type": "code",
   "execution_count": 54,
   "id": "ea988e71-4f78-4663-addd-ad3701c74b85",
   "metadata": {},
   "outputs": [],
   "source": [
    "tech[\"MSFT2\"] = tech.IBM.replace([199, 1960, 73], [61, 105, 8])"
   ]
  },
  {
   "cell_type": "code",
   "execution_count": 55,
   "id": "f7ac8156-6dbf-4472-a594-0bf04e27bf66",
   "metadata": {},
   "outputs": [
    {
     "data": {
      "text/html": [
       "<div>\n",
       "<style scoped>\n",
       "    .dataframe tbody tr th:only-of-type {\n",
       "        vertical-align: middle;\n",
       "    }\n",
       "\n",
       "    .dataframe tbody tr th {\n",
       "        vertical-align: top;\n",
       "    }\n",
       "\n",
       "    .dataframe thead th {\n",
       "        text-align: right;\n",
       "    }\n",
       "</style>\n",
       "<table border=\"1\" class=\"dataframe\">\n",
       "  <thead>\n",
       "    <tr style=\"text-align: right;\">\n",
       "      <th></th>\n",
       "      <th>AAPL</th>\n",
       "      <th>MSFT</th>\n",
       "      <th>MSFT2</th>\n",
       "      <th>GOOG</th>\n",
       "      <th>AMZ</th>\n",
       "      <th>IBM</th>\n",
       "    </tr>\n",
       "  </thead>\n",
       "  <tbody>\n",
       "    <tr>\n",
       "      <th>umsatz</th>\n",
       "      <td>395</td>\n",
       "      <td>199</td>\n",
       "      <td>61</td>\n",
       "      <td>280</td>\n",
       "      <td>514</td>\n",
       "      <td>61</td>\n",
       "    </tr>\n",
       "    <tr>\n",
       "      <th>marktkapitalisierung</th>\n",
       "      <td>2390</td>\n",
       "      <td>1960</td>\n",
       "      <td>105</td>\n",
       "      <td>1240</td>\n",
       "      <td>960</td>\n",
       "      <td>105</td>\n",
       "    </tr>\n",
       "    <tr>\n",
       "      <th>ergebnis</th>\n",
       "      <td>100</td>\n",
       "      <td>73</td>\n",
       "      <td>8</td>\n",
       "      <td>60</td>\n",
       "      <td>14</td>\n",
       "      <td>8</td>\n",
       "    </tr>\n",
       "  </tbody>\n",
       "</table>\n",
       "</div>"
      ],
      "text/plain": [
       "                      AAPL  MSFT  MSFT2  GOOG  AMZ  IBM\n",
       "umsatz                 395   199     61   280  514   61\n",
       "marktkapitalisierung  2390  1960    105  1240  960  105\n",
       "ergebnis               100    73      8    60   14    8"
      ]
     },
     "execution_count": 55,
     "metadata": {},
     "output_type": "execute_result"
    }
   ],
   "source": [
    "tech"
   ]
  },
  {
   "cell_type": "code",
   "execution_count": 56,
   "id": "8b008590-fde6-4a59-b108-7149011c0890",
   "metadata": {},
   "outputs": [],
   "source": [
    "del tech[\"IBM\"]"
   ]
  },
  {
   "cell_type": "code",
   "execution_count": 57,
   "id": "fa01ff14-4dea-475d-beb0-cf7e7442ce18",
   "metadata": {},
   "outputs": [],
   "source": [
    "tech.columns = [\"AAPL\", \"MSFT\", \"IBM\", \"GOOG\", \"AMZ\"]"
   ]
  },
  {
   "cell_type": "code",
   "execution_count": 58,
   "id": "a2316ab6-e255-4fca-9d8e-b654e8f5f5c8",
   "metadata": {},
   "outputs": [
    {
     "data": {
      "text/html": [
       "<div>\n",
       "<style scoped>\n",
       "    .dataframe tbody tr th:only-of-type {\n",
       "        vertical-align: middle;\n",
       "    }\n",
       "\n",
       "    .dataframe tbody tr th {\n",
       "        vertical-align: top;\n",
       "    }\n",
       "\n",
       "    .dataframe thead th {\n",
       "        text-align: right;\n",
       "    }\n",
       "</style>\n",
       "<table border=\"1\" class=\"dataframe\">\n",
       "  <thead>\n",
       "    <tr style=\"text-align: right;\">\n",
       "      <th></th>\n",
       "      <th>AAPL</th>\n",
       "      <th>MSFT</th>\n",
       "      <th>IBM</th>\n",
       "      <th>GOOG</th>\n",
       "      <th>AMZ</th>\n",
       "    </tr>\n",
       "  </thead>\n",
       "  <tbody>\n",
       "    <tr>\n",
       "      <th>umsatz</th>\n",
       "      <td>395</td>\n",
       "      <td>199</td>\n",
       "      <td>61</td>\n",
       "      <td>280</td>\n",
       "      <td>514</td>\n",
       "    </tr>\n",
       "    <tr>\n",
       "      <th>marktkapitalisierung</th>\n",
       "      <td>2390</td>\n",
       "      <td>1960</td>\n",
       "      <td>105</td>\n",
       "      <td>1240</td>\n",
       "      <td>960</td>\n",
       "    </tr>\n",
       "    <tr>\n",
       "      <th>ergebnis</th>\n",
       "      <td>100</td>\n",
       "      <td>73</td>\n",
       "      <td>8</td>\n",
       "      <td>60</td>\n",
       "      <td>14</td>\n",
       "    </tr>\n",
       "  </tbody>\n",
       "</table>\n",
       "</div>"
      ],
      "text/plain": [
       "                      AAPL  MSFT  IBM  GOOG  AMZ\n",
       "umsatz                 395   199   61   280  514\n",
       "marktkapitalisierung  2390  1960  105  1240  960\n",
       "ergebnis               100    73    8    60   14"
      ]
     },
     "execution_count": 58,
     "metadata": {},
     "output_type": "execute_result"
    }
   ],
   "source": [
    "tech"
   ]
  },
  {
   "cell_type": "code",
   "execution_count": null,
   "id": "6cd36888-c0d4-4155-bf28-4ddcfa4f8c17",
   "metadata": {},
   "outputs": [],
   "source": []
  }
 ],
 "metadata": {
  "kernelspec": {
   "display_name": "Python 3 (ipykernel)",
   "language": "python",
   "name": "python3"
  },
  "language_info": {
   "codemirror_mode": {
    "name": "ipython",
    "version": 3
   },
   "file_extension": ".py",
   "mimetype": "text/x-python",
   "name": "python",
   "nbconvert_exporter": "python",
   "pygments_lexer": "ipython3",
   "version": "3.9.13"
  }
 },
 "nbformat": 4,
 "nbformat_minor": 5
}
