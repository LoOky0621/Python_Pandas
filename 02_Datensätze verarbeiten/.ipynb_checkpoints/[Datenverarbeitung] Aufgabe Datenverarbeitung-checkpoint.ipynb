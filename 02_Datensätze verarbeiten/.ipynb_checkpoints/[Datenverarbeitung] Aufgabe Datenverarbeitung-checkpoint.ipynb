{
 "cells": [
  {
   "cell_type": "markdown",
   "id": "959600b4-991d-4c45-a12f-07d6bc50d687",
   "metadata": {},
   "source": [
    "# [Datenverarbeitung] Aufgabe Datenverarbeitung"
   ]
  },
  {
   "cell_type": "code",
   "execution_count": 1,
   "id": "78ecb361-1730-4bad-aff7-c3426ae7f8ed",
   "metadata": {},
   "outputs": [],
   "source": [
    "import pandas as pd"
   ]
  },
  {
   "cell_type": "markdown",
   "id": "e29c1025-dace-4161-8f88-fddbc15d23e1",
   "metadata": {},
   "source": [
    "## 1) Daten importieren"
   ]
  },
  {
   "cell_type": "markdown",
   "id": "daf96e38-966d-4122-951f-d35d575f7a57",
   "metadata": {},
   "source": [
    "*Gegeben sei die Excel-Datei aufgabe_datenverarbeitung.xlsx mit fiktiven Absatzzahlen eines Unternehmens. Lese die Datei mit Pandas ein*"
   ]
  },
  {
   "cell_type": "code",
   "execution_count": 2,
   "id": "607fec3c-cd10-400b-9d81-4878702522fa",
   "metadata": {},
   "outputs": [],
   "source": [
    "absatz = pd.read_excel(\"aufgabe_datenverarbeitung.xlsx\")"
   ]
  },
  {
   "cell_type": "markdown",
   "id": "0302d174-48fc-4727-9584-a80d8d73398b",
   "metadata": {},
   "source": [
    "## 2) Analysen"
   ]
  },
  {
   "cell_type": "markdown",
   "id": "9b5f2752-f5e7-4f3f-870d-7c7a3e1440e5",
   "metadata": {},
   "source": [
    "### 2.1) Einträge untersuchen"
   ]
  },
  {
   "cell_type": "markdown",
   "id": "f93c6efc-5c41-4305-a72b-74a54596e24d",
   "metadata": {},
   "source": [
    "*Verwende sowohl eine Funktion, um die ersten 5 als auch die letzten 5 Einträge anzuzeigen*"
   ]
  },
  {
   "cell_type": "code",
   "execution_count": null,
   "id": "2cc2ac52-c137-4bb6-9081-14918b879281",
   "metadata": {},
   "outputs": [],
   "source": []
  },
  {
   "cell_type": "markdown",
   "id": "25bfdc52-0ba9-4cad-9525-94534205cfb6",
   "metadata": {},
   "source": [
    "### 2.1) Datensatz erkunden"
   ]
  },
  {
   "cell_type": "markdown",
   "id": "21790b93-3396-48de-94d6-63762c567388",
   "metadata": {},
   "source": [
    "*Wie viele Einträge umfasst der Datensatz? Wie viele Spalten liegen vor?*"
   ]
  },
  {
   "cell_type": "code",
   "execution_count": null,
   "id": "39b70501-3290-48e8-9abf-9f61cddbedcd",
   "metadata": {},
   "outputs": [],
   "source": []
  },
  {
   "cell_type": "markdown",
   "id": "013dbbe8-65e3-4c26-becb-768cabf0beb9",
   "metadata": {},
   "source": [
    "### 2.3) Lageverteilung"
   ]
  },
  {
   "cell_type": "markdown",
   "id": "c802f36b-9f5b-43cc-a3ed-1c85783b498b",
   "metadata": {},
   "source": [
    "*Verwende eine geeignete Funktion, um die Lageverteilung des Absatzes und der Kosten zu analysieren*"
   ]
  },
  {
   "cell_type": "code",
   "execution_count": null,
   "id": "60be04d4-ac0a-4a7e-9137-0098b0a31b00",
   "metadata": {},
   "outputs": [],
   "source": []
  },
  {
   "cell_type": "markdown",
   "id": "68f5eee9-d164-416b-8fad-d5e139fd54aa",
   "metadata": {},
   "source": [
    "### 2.4) Zufällige Werte auswählen"
   ]
  },
  {
   "cell_type": "markdown",
   "id": "0d7a8ee1-f379-462c-9b86-db8557c32138",
   "metadata": {},
   "source": [
    "*Verwende eine Funktion, um nun 5 zufällige Werte zu generieren. Aus welchen Städten stammen die Absätze?*"
   ]
  },
  {
   "cell_type": "code",
   "execution_count": null,
   "id": "51d47a92-b019-4c9b-a381-0b7b4da45377",
   "metadata": {},
   "outputs": [],
   "source": []
  },
  {
   "cell_type": "markdown",
   "id": "2a0b2a55-1f8a-4e9a-9ba5-db5c3c4ec240",
   "metadata": {},
   "source": [
    "## 3) Daten exportieren"
   ]
  },
  {
   "cell_type": "markdown",
   "id": "68b513cd-252c-4a28-949c-c2fc3aa03883",
   "metadata": {},
   "source": [
    "*Speichere den Datensatz nun sowohl als .csv- als auch als -xlsx-Datei ab*"
   ]
  },
  {
   "cell_type": "code",
   "execution_count": null,
   "id": "78fd6508-a02e-4f0e-8c29-f59ae44d0edd",
   "metadata": {},
   "outputs": [],
   "source": []
  },
  {
   "cell_type": "markdown",
   "id": "656fce3a-7f49-41a3-89cc-71c78d5d52cd",
   "metadata": {},
   "source": [
    "## 4) Umbenennungen"
   ]
  },
  {
   "cell_type": "markdown",
   "id": "fe57e538-e115-4b9b-ac24-35bd1befd3a8",
   "metadata": {},
   "source": [
    "*Benenne nun die Spalte \"Absatz\" um zu \"Verkaufsmenge\" und \"Stadt\" zu \"Region\"*"
   ]
  },
  {
   "cell_type": "code",
   "execution_count": null,
   "id": "4ae9a653-2859-49e1-a33e-76c30fe10300",
   "metadata": {},
   "outputs": [],
   "source": []
  },
  {
   "cell_type": "markdown",
   "id": "05b8ff1e-53e5-4f85-9864-26221459167c",
   "metadata": {},
   "source": [
    "## 5) Indizierung"
   ]
  },
  {
   "cell_type": "markdown",
   "id": "e5aeee58-25e3-4a09-b20f-684a7570ad61",
   "metadata": {},
   "source": [
    "### 5.1) Index setzen"
   ]
  },
  {
   "cell_type": "markdown",
   "id": "43345f73-94e6-465a-a575-7b57678f2f66",
   "metadata": {},
   "source": [
    "*Setze nun das Datum als Index*"
   ]
  },
  {
   "cell_type": "code",
   "execution_count": null,
   "id": "c08e8d2c-6a29-48af-82f2-3cc52440693e",
   "metadata": {},
   "outputs": [],
   "source": []
  },
  {
   "cell_type": "markdown",
   "id": "26ce5980-49f0-48fc-bce1-b4cabce3e504",
   "metadata": {},
   "source": [
    "### 5.2) Index zurücksetzen"
   ]
  },
  {
   "cell_type": "markdown",
   "id": "ff9b8aac-1932-4370-a0e6-7d74c9e82ab8",
   "metadata": {},
   "source": [
    "*Setze den Index nun wieder zurück*"
   ]
  },
  {
   "cell_type": "code",
   "execution_count": null,
   "id": "453d9ed2-cd40-48c4-92f2-d168b40d1144",
   "metadata": {},
   "outputs": [],
   "source": []
  },
  {
   "cell_type": "markdown",
   "id": "a839fa16-3807-4386-9d4e-c41f20a2dd44",
   "metadata": {},
   "source": [
    "## 6) Einträge verwalten"
   ]
  },
  {
   "cell_type": "markdown",
   "id": "dcbc760a-e1ec-418a-a108-861d60388acb",
   "metadata": {},
   "source": [
    "*Entferne nun die Spalte \"Kunde\"*"
   ]
  },
  {
   "cell_type": "code",
   "execution_count": null,
   "id": "9cd85e10-d450-40cc-af48-3fe4b417f9af",
   "metadata": {},
   "outputs": [],
   "source": []
  },
  {
   "cell_type": "markdown",
   "id": "5a93da8a-3c59-4f9e-a469-e3df07dc5c16",
   "metadata": {},
   "source": [
    "*Überprüfe nun über alle Einträge hinweg ob die Stadt München vorkommt. Schreibe das Ergebnis als neue Spalte in den Datensatz*"
   ]
  },
  {
   "cell_type": "code",
   "execution_count": null,
   "id": "712d53f2-7f1b-4a8f-88f3-2746e98c7eb7",
   "metadata": {},
   "outputs": [],
   "source": []
  }
 ],
 "metadata": {
  "kernelspec": {
   "display_name": "Python 3 (ipykernel)",
   "language": "python",
   "name": "python3"
  },
  "language_info": {
   "codemirror_mode": {
    "name": "ipython",
    "version": 3
   },
   "file_extension": ".py",
   "mimetype": "text/x-python",
   "name": "python",
   "nbconvert_exporter": "python",
   "pygments_lexer": "ipython3",
   "version": "3.9.13"
  }
 },
 "nbformat": 4,
 "nbformat_minor": 5
}
