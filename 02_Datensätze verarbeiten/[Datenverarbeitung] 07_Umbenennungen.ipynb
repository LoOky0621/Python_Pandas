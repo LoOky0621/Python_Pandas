{
 "cells": [
  {
   "cell_type": "markdown",
   "id": "959600b4-991d-4c45-a12f-07d6bc50d687",
   "metadata": {},
   "source": [
    "# [Datenverarbeitung] Umbenennungen"
   ]
  },
  {
   "cell_type": "code",
   "execution_count": 1,
   "id": "261e5b35-d057-4444-81b3-fd88587295b7",
   "metadata": {},
   "outputs": [],
   "source": [
    "import pandas as pd\n",
    "umsatz = pd.read_csv(\"datengrundlage.csv\")"
   ]
  },
  {
   "cell_type": "code",
   "execution_count": 2,
   "id": "38ed7683-b959-4ca6-89ab-0af1511bb46b",
   "metadata": {},
   "outputs": [
    {
     "data": {
      "text/html": [
       "<div>\n",
       "<style scoped>\n",
       "    .dataframe tbody tr th:only-of-type {\n",
       "        vertical-align: middle;\n",
       "    }\n",
       "\n",
       "    .dataframe tbody tr th {\n",
       "        vertical-align: top;\n",
       "    }\n",
       "\n",
       "    .dataframe thead th {\n",
       "        text-align: right;\n",
       "    }\n",
       "</style>\n",
       "<table border=\"1\" class=\"dataframe\">\n",
       "  <thead>\n",
       "    <tr style=\"text-align: right;\">\n",
       "      <th></th>\n",
       "      <th>Nr</th>\n",
       "      <th>Datum</th>\n",
       "      <th>Jahr</th>\n",
       "      <th>Land</th>\n",
       "      <th>Stadt</th>\n",
       "      <th>Umsatz</th>\n",
       "      <th>Kosten</th>\n",
       "      <th>Rücksendung</th>\n",
       "      <th>Bereich</th>\n",
       "      <th>Produktgruppe</th>\n",
       "      <th>Logistik-Code</th>\n",
       "      <th>Kunde</th>\n",
       "    </tr>\n",
       "  </thead>\n",
       "  <tbody>\n",
       "    <tr>\n",
       "      <th>0</th>\n",
       "      <td>1</td>\n",
       "      <td>1/1/2025</td>\n",
       "      <td>2025</td>\n",
       "      <td>Südkorea</td>\n",
       "      <td>Seoul</td>\n",
       "      <td>5534.55</td>\n",
       "      <td>4427.64</td>\n",
       "      <td>NaN</td>\n",
       "      <td>Bereich-5</td>\n",
       "      <td>prd-3</td>\n",
       "      <td>6-43647-1</td>\n",
       "      <td>C-85</td>\n",
       "    </tr>\n",
       "    <tr>\n",
       "      <th>1</th>\n",
       "      <td>2</td>\n",
       "      <td>1/2/2025</td>\n",
       "      <td>2025</td>\n",
       "      <td>Südkorea</td>\n",
       "      <td>Seoul</td>\n",
       "      <td>6284.70</td>\n",
       "      <td>7164.56</td>\n",
       "      <td>NaN</td>\n",
       "      <td>Bereich-5</td>\n",
       "      <td>prd-1</td>\n",
       "      <td>2-43647-1</td>\n",
       "      <td>C-107</td>\n",
       "    </tr>\n",
       "    <tr>\n",
       "      <th>2</th>\n",
       "      <td>3</td>\n",
       "      <td>1/3/2025</td>\n",
       "      <td>2025</td>\n",
       "      <td>Vereinigtes Königreich</td>\n",
       "      <td>London</td>\n",
       "      <td>5437.65</td>\n",
       "      <td>6198.92</td>\n",
       "      <td>NaN</td>\n",
       "      <td>Bereich-1</td>\n",
       "      <td>prd-56</td>\n",
       "      <td>7-43647-1</td>\n",
       "      <td>C-141</td>\n",
       "    </tr>\n",
       "  </tbody>\n",
       "</table>\n",
       "</div>"
      ],
      "text/plain": [
       "   Nr     Datum  Jahr                    Land   Stadt   Umsatz   Kosten   \n",
       "0   1  1/1/2025  2025                Südkorea   Seoul  5534.55  4427.64  \\\n",
       "1   2  1/2/2025  2025                Südkorea   Seoul  6284.70  7164.56   \n",
       "2   3  1/3/2025  2025  Vereinigtes Königreich  London  5437.65  6198.92   \n",
       "\n",
       "   Rücksendung    Bereich Produktgruppe Logistik-Code  Kunde  \n",
       "0          NaN  Bereich-5         prd-3     6-43647-1   C-85  \n",
       "1          NaN  Bereich-5         prd-1     2-43647-1  C-107  \n",
       "2          NaN  Bereich-1        prd-56     7-43647-1  C-141  "
      ]
     },
     "execution_count": 2,
     "metadata": {},
     "output_type": "execute_result"
    }
   ],
   "source": [
    "umsatz.head(3)"
   ]
  },
  {
   "cell_type": "markdown",
   "id": "483e55b3-6519-42a7-aa09-71622447e825",
   "metadata": {},
   "source": [
    "## Umbenennungen"
   ]
  },
  {
   "cell_type": "markdown",
   "id": "e7a9c37d-09ef-488e-bcae-82b0fa417b4a",
   "metadata": {},
   "source": [
    "### rename"
   ]
  },
  {
   "cell_type": "code",
   "execution_count": 6,
   "id": "837595f2-74a0-418a-bef7-2929a9c18ac7",
   "metadata": {},
   "outputs": [],
   "source": [
    "umsatz = umsatz.rename(columns = {\"Land\":\"Länder\", \"Stadt\":\"Städte\"})"
   ]
  },
  {
   "cell_type": "code",
   "execution_count": 8,
   "id": "c796150f-03f2-482f-9a6f-020132cdc9ab",
   "metadata": {},
   "outputs": [],
   "source": [
    "# umsatz"
   ]
  },
  {
   "cell_type": "markdown",
   "id": "0c4c96a0-a58d-432c-912a-b8ed63e8b0c2",
   "metadata": {},
   "source": [
    "### rename_axis"
   ]
  },
  {
   "cell_type": "code",
   "execution_count": 11,
   "id": "33a39832-dc54-4a26-a80e-327fe061302a",
   "metadata": {},
   "outputs": [
    {
     "data": {
      "text/html": [
       "<div>\n",
       "<style scoped>\n",
       "    .dataframe tbody tr th:only-of-type {\n",
       "        vertical-align: middle;\n",
       "    }\n",
       "\n",
       "    .dataframe tbody tr th {\n",
       "        vertical-align: top;\n",
       "    }\n",
       "\n",
       "    .dataframe thead th {\n",
       "        text-align: right;\n",
       "    }\n",
       "</style>\n",
       "<table border=\"1\" class=\"dataframe\">\n",
       "  <thead>\n",
       "    <tr style=\"text-align: right;\">\n",
       "      <th>ID</th>\n",
       "      <th>Nr</th>\n",
       "      <th>Datum</th>\n",
       "      <th>Jahr</th>\n",
       "      <th>Länder</th>\n",
       "      <th>Städte</th>\n",
       "      <th>Umsatz</th>\n",
       "      <th>Kosten</th>\n",
       "      <th>Rücksendung</th>\n",
       "      <th>Bereich</th>\n",
       "      <th>Produktgruppe</th>\n",
       "      <th>Logistik-Code</th>\n",
       "      <th>Kunde</th>\n",
       "    </tr>\n",
       "  </thead>\n",
       "  <tbody>\n",
       "    <tr>\n",
       "      <th>0</th>\n",
       "      <td>1</td>\n",
       "      <td>1/1/2025</td>\n",
       "      <td>2025</td>\n",
       "      <td>Südkorea</td>\n",
       "      <td>Seoul</td>\n",
       "      <td>5534.55</td>\n",
       "      <td>4427.64</td>\n",
       "      <td>NaN</td>\n",
       "      <td>Bereich-5</td>\n",
       "      <td>prd-3</td>\n",
       "      <td>6-43647-1</td>\n",
       "      <td>C-85</td>\n",
       "    </tr>\n",
       "    <tr>\n",
       "      <th>1</th>\n",
       "      <td>2</td>\n",
       "      <td>1/2/2025</td>\n",
       "      <td>2025</td>\n",
       "      <td>Südkorea</td>\n",
       "      <td>Seoul</td>\n",
       "      <td>6284.70</td>\n",
       "      <td>7164.56</td>\n",
       "      <td>NaN</td>\n",
       "      <td>Bereich-5</td>\n",
       "      <td>prd-1</td>\n",
       "      <td>2-43647-1</td>\n",
       "      <td>C-107</td>\n",
       "    </tr>\n",
       "    <tr>\n",
       "      <th>2</th>\n",
       "      <td>3</td>\n",
       "      <td>1/3/2025</td>\n",
       "      <td>2025</td>\n",
       "      <td>Vereinigtes Königreich</td>\n",
       "      <td>London</td>\n",
       "      <td>5437.65</td>\n",
       "      <td>6198.92</td>\n",
       "      <td>NaN</td>\n",
       "      <td>Bereich-1</td>\n",
       "      <td>prd-56</td>\n",
       "      <td>7-43647-1</td>\n",
       "      <td>C-141</td>\n",
       "    </tr>\n",
       "    <tr>\n",
       "      <th>3</th>\n",
       "      <td>4</td>\n",
       "      <td>1/4/2025</td>\n",
       "      <td>2025</td>\n",
       "      <td>China</td>\n",
       "      <td>Peking</td>\n",
       "      <td>8587.20</td>\n",
       "      <td>5152.32</td>\n",
       "      <td>NaN</td>\n",
       "      <td>Bereich-2</td>\n",
       "      <td>prd-92</td>\n",
       "      <td>4-43647-1</td>\n",
       "      <td>C-124</td>\n",
       "    </tr>\n",
       "    <tr>\n",
       "      <th>4</th>\n",
       "      <td>5</td>\n",
       "      <td>1/5/2025</td>\n",
       "      <td>2025</td>\n",
       "      <td>USA</td>\n",
       "      <td>Los Angeles</td>\n",
       "      <td>9439.05</td>\n",
       "      <td>10382.95</td>\n",
       "      <td>NaN</td>\n",
       "      <td>Bereich-2</td>\n",
       "      <td>prd-85</td>\n",
       "      <td>1-43647-1</td>\n",
       "      <td>C-76</td>\n",
       "    </tr>\n",
       "    <tr>\n",
       "      <th>...</th>\n",
       "      <td>...</td>\n",
       "      <td>...</td>\n",
       "      <td>...</td>\n",
       "      <td>...</td>\n",
       "      <td>...</td>\n",
       "      <td>...</td>\n",
       "      <td>...</td>\n",
       "      <td>...</td>\n",
       "      <td>...</td>\n",
       "      <td>...</td>\n",
       "      <td>...</td>\n",
       "      <td>...</td>\n",
       "    </tr>\n",
       "    <tr>\n",
       "      <th>1375</th>\n",
       "      <td>1376</td>\n",
       "      <td>10/7/2028</td>\n",
       "      <td>2028</td>\n",
       "      <td>Südkorea</td>\n",
       "      <td>Yangsan-si</td>\n",
       "      <td>6019.05</td>\n",
       "      <td>4815.24</td>\n",
       "      <td>NaN</td>\n",
       "      <td>Bereich-3</td>\n",
       "      <td>prd-77</td>\n",
       "      <td>6-43663-1</td>\n",
       "      <td>C-85</td>\n",
       "    </tr>\n",
       "    <tr>\n",
       "      <th>1376</th>\n",
       "      <td>1377</td>\n",
       "      <td>10/8/2028</td>\n",
       "      <td>2028</td>\n",
       "      <td>Südkorea</td>\n",
       "      <td>Yangsan-si</td>\n",
       "      <td>6482.40</td>\n",
       "      <td>5185.92</td>\n",
       "      <td>NaN</td>\n",
       "      <td>Bereich-2</td>\n",
       "      <td>prd-96</td>\n",
       "      <td>5-43655-1</td>\n",
       "      <td>C-65</td>\n",
       "    </tr>\n",
       "    <tr>\n",
       "      <th>1377</th>\n",
       "      <td>1378</td>\n",
       "      <td>10/9/2028</td>\n",
       "      <td>2028</td>\n",
       "      <td>Deutschland</td>\n",
       "      <td>Stuttgart</td>\n",
       "      <td>9192.15</td>\n",
       "      <td>7353.72</td>\n",
       "      <td>NaN</td>\n",
       "      <td>Bereich-1</td>\n",
       "      <td>prd-50</td>\n",
       "      <td>3-43673-1</td>\n",
       "      <td>C-65</td>\n",
       "    </tr>\n",
       "    <tr>\n",
       "      <th>1378</th>\n",
       "      <td>1379</td>\n",
       "      <td>10/10/2028</td>\n",
       "      <td>2028</td>\n",
       "      <td>Mexiko</td>\n",
       "      <td>Torreón</td>\n",
       "      <td>9808.95</td>\n",
       "      <td>7847.16</td>\n",
       "      <td>1.0</td>\n",
       "      <td>Bereich-3</td>\n",
       "      <td>prd-72</td>\n",
       "      <td>8-43659-1</td>\n",
       "      <td>C-109</td>\n",
       "    </tr>\n",
       "    <tr>\n",
       "      <th>1379</th>\n",
       "      <td>1380</td>\n",
       "      <td>10/11/2028</td>\n",
       "      <td>2028</td>\n",
       "      <td>USA</td>\n",
       "      <td>Sacramento</td>\n",
       "      <td>8303.55</td>\n",
       "      <td>6642.84</td>\n",
       "      <td>NaN</td>\n",
       "      <td>Bereich-2</td>\n",
       "      <td>prd-88</td>\n",
       "      <td>1-43654-2</td>\n",
       "      <td>C-76</td>\n",
       "    </tr>\n",
       "  </tbody>\n",
       "</table>\n",
       "<p>1380 rows × 12 columns</p>\n",
       "</div>"
      ],
      "text/plain": [
       "ID      Nr       Datum  Jahr                  Länder       Städte   Umsatz   \n",
       "0        1    1/1/2025  2025                Südkorea        Seoul  5534.55  \\\n",
       "1        2    1/2/2025  2025                Südkorea        Seoul  6284.70   \n",
       "2        3    1/3/2025  2025  Vereinigtes Königreich       London  5437.65   \n",
       "3        4    1/4/2025  2025                   China       Peking  8587.20   \n",
       "4        5    1/5/2025  2025                     USA  Los Angeles  9439.05   \n",
       "...    ...         ...   ...                     ...          ...      ...   \n",
       "1375  1376   10/7/2028  2028                Südkorea   Yangsan-si  6019.05   \n",
       "1376  1377   10/8/2028  2028                Südkorea   Yangsan-si  6482.40   \n",
       "1377  1378   10/9/2028  2028             Deutschland    Stuttgart  9192.15   \n",
       "1378  1379  10/10/2028  2028                  Mexiko      Torreón  9808.95   \n",
       "1379  1380  10/11/2028  2028                     USA   Sacramento  8303.55   \n",
       "\n",
       "ID      Kosten  Rücksendung    Bereich Produktgruppe Logistik-Code  Kunde  \n",
       "0      4427.64          NaN  Bereich-5         prd-3     6-43647-1   C-85  \n",
       "1      7164.56          NaN  Bereich-5         prd-1     2-43647-1  C-107  \n",
       "2      6198.92          NaN  Bereich-1        prd-56     7-43647-1  C-141  \n",
       "3      5152.32          NaN  Bereich-2        prd-92     4-43647-1  C-124  \n",
       "4     10382.95          NaN  Bereich-2        prd-85     1-43647-1   C-76  \n",
       "...        ...          ...        ...           ...           ...    ...  \n",
       "1375   4815.24          NaN  Bereich-3        prd-77     6-43663-1   C-85  \n",
       "1376   5185.92          NaN  Bereich-2        prd-96     5-43655-1   C-65  \n",
       "1377   7353.72          NaN  Bereich-1        prd-50     3-43673-1   C-65  \n",
       "1378   7847.16          1.0  Bereich-3        prd-72     8-43659-1  C-109  \n",
       "1379   6642.84          NaN  Bereich-2        prd-88     1-43654-2   C-76  \n",
       "\n",
       "[1380 rows x 12 columns]"
      ]
     },
     "execution_count": 11,
     "metadata": {},
     "output_type": "execute_result"
    }
   ],
   "source": [
    "umsatz.rename_axis(\"ID\", axis=\"columns\")"
   ]
  },
  {
   "cell_type": "markdown",
   "id": "879ef96c-6f93-4c5d-a730-8fe7bd715921",
   "metadata": {},
   "source": [
    "### rename(index=[\"old\":\"new\"])"
   ]
  },
  {
   "cell_type": "code",
   "execution_count": 15,
   "id": "f4cd50c2-5fa6-4c8b-8eb7-699a246f2f8c",
   "metadata": {},
   "outputs": [],
   "source": [
    "data = pd.DataFrame(data = {\"airbus\" : [59, 5.2, 101, 134267], \n",
    "                    \"boeing\" : [66, -3.5, 114, 156000]}, \n",
    "                    index = [\"umsatz\", \"ergebnis\", \"börsenwert\", \"mitarbeiter\"]).transpose()"
   ]
  },
  {
   "cell_type": "code",
   "execution_count": 16,
   "id": "86dd9519-b72d-4ab0-a5e8-07b86c84ff9d",
   "metadata": {},
   "outputs": [
    {
     "data": {
      "text/plain": [
       "Index(['airbus', 'boeing'], dtype='object')"
      ]
     },
     "execution_count": 16,
     "metadata": {},
     "output_type": "execute_result"
    }
   ],
   "source": [
    "data.index"
   ]
  },
  {
   "cell_type": "code",
   "execution_count": 17,
   "id": "db3f3659-e416-4c45-95c1-b4777a9a2be1",
   "metadata": {},
   "outputs": [
    {
     "data": {
      "text/html": [
       "<div>\n",
       "<style scoped>\n",
       "    .dataframe tbody tr th:only-of-type {\n",
       "        vertical-align: middle;\n",
       "    }\n",
       "\n",
       "    .dataframe tbody tr th {\n",
       "        vertical-align: top;\n",
       "    }\n",
       "\n",
       "    .dataframe thead th {\n",
       "        text-align: right;\n",
       "    }\n",
       "</style>\n",
       "<table border=\"1\" class=\"dataframe\">\n",
       "  <thead>\n",
       "    <tr style=\"text-align: right;\">\n",
       "      <th></th>\n",
       "      <th>umsatz</th>\n",
       "      <th>ergebnis</th>\n",
       "      <th>börsenwert</th>\n",
       "      <th>mitarbeiter</th>\n",
       "    </tr>\n",
       "  </thead>\n",
       "  <tbody>\n",
       "    <tr>\n",
       "      <th>Airbus</th>\n",
       "      <td>59.0</td>\n",
       "      <td>5.2</td>\n",
       "      <td>101.0</td>\n",
       "      <td>134267.0</td>\n",
       "    </tr>\n",
       "    <tr>\n",
       "      <th>Boeing</th>\n",
       "      <td>66.0</td>\n",
       "      <td>-3.5</td>\n",
       "      <td>114.0</td>\n",
       "      <td>156000.0</td>\n",
       "    </tr>\n",
       "  </tbody>\n",
       "</table>\n",
       "</div>"
      ],
      "text/plain": [
       "        umsatz  ergebnis  börsenwert  mitarbeiter\n",
       "Airbus    59.0       5.2       101.0     134267.0\n",
       "Boeing    66.0      -3.5       114.0     156000.0"
      ]
     },
     "execution_count": 17,
     "metadata": {},
     "output_type": "execute_result"
    }
   ],
   "source": [
    "data.rename(index = {\"airbus\":\"Airbus\", \"boeing\":\"Boeing\"})"
   ]
  },
  {
   "cell_type": "code",
   "execution_count": 18,
   "id": "4f7d6d1d-5d19-4803-bd27-7e5bfd0bc606",
   "metadata": {},
   "outputs": [],
   "source": [
    "data2 = pd.DataFrame(data = {\"airbus\" : [59, 5.2, 101, 134267], \n",
    "                    \"boeing\" : [66, -3.5, 114, 156000]}, \n",
    "                    index = [\"umsatz\", \"ergebnis\", \"börsenwert\", \"mitarbeiter\"])"
   ]
  },
  {
   "cell_type": "code",
   "execution_count": 19,
   "id": "69e904ce-fae3-4840-b69a-c53b5e57e666",
   "metadata": {},
   "outputs": [
    {
     "data": {
      "text/plain": [
       "Index(['umsatz', 'ergebnis', 'börsenwert', 'mitarbeiter'], dtype='object')"
      ]
     },
     "execution_count": 19,
     "metadata": {},
     "output_type": "execute_result"
    }
   ],
   "source": [
    "data2.index"
   ]
  },
  {
   "cell_type": "code",
   "execution_count": 21,
   "id": "4d49a30d-483d-417d-8574-8c813816ba7a",
   "metadata": {},
   "outputs": [
    {
     "data": {
      "text/html": [
       "<div>\n",
       "<style scoped>\n",
       "    .dataframe tbody tr th:only-of-type {\n",
       "        vertical-align: middle;\n",
       "    }\n",
       "\n",
       "    .dataframe tbody tr th {\n",
       "        vertical-align: top;\n",
       "    }\n",
       "\n",
       "    .dataframe thead th {\n",
       "        text-align: right;\n",
       "    }\n",
       "</style>\n",
       "<table border=\"1\" class=\"dataframe\">\n",
       "  <thead>\n",
       "    <tr style=\"text-align: right;\">\n",
       "      <th></th>\n",
       "      <th>airbus</th>\n",
       "      <th>boeing</th>\n",
       "    </tr>\n",
       "  </thead>\n",
       "  <tbody>\n",
       "    <tr>\n",
       "      <th>Umsatz</th>\n",
       "      <td>59.0</td>\n",
       "      <td>66.0</td>\n",
       "    </tr>\n",
       "    <tr>\n",
       "      <th>Ergebnis</th>\n",
       "      <td>5.2</td>\n",
       "      <td>-3.5</td>\n",
       "    </tr>\n",
       "    <tr>\n",
       "      <th>Marktkapitalisierung</th>\n",
       "      <td>101.0</td>\n",
       "      <td>114.0</td>\n",
       "    </tr>\n",
       "    <tr>\n",
       "      <th>Mitarbeiter</th>\n",
       "      <td>134267.0</td>\n",
       "      <td>156000.0</td>\n",
       "    </tr>\n",
       "  </tbody>\n",
       "</table>\n",
       "</div>"
      ],
      "text/plain": [
       "                        airbus    boeing\n",
       "Umsatz                    59.0      66.0\n",
       "Ergebnis                   5.2      -3.5\n",
       "Marktkapitalisierung     101.0     114.0\n",
       "Mitarbeiter           134267.0  156000.0"
      ]
     },
     "execution_count": 21,
     "metadata": {},
     "output_type": "execute_result"
    }
   ],
   "source": [
    "data2.rename(index = {\"umsatz\":\"Umsatz\", \"ergebnis\":\"Ergebnis\", \n",
    "                     \"börsenwert\":\"Marktkapitalisierung\", \"mitarbeiter\":\"Mitarbeiter\"})"
   ]
  },
  {
   "cell_type": "code",
   "execution_count": null,
   "id": "0009bd75-c619-46fd-a2fd-72af374a12ba",
   "metadata": {},
   "outputs": [],
   "source": []
  }
 ],
 "metadata": {
  "kernelspec": {
   "display_name": "Python 3 (ipykernel)",
   "language": "python",
   "name": "python3"
  },
  "language_info": {
   "codemirror_mode": {
    "name": "ipython",
    "version": 3
   },
   "file_extension": ".py",
   "mimetype": "text/x-python",
   "name": "python",
   "nbconvert_exporter": "python",
   "pygments_lexer": "ipython3",
   "version": "3.9.13"
  }
 },
 "nbformat": 4,
 "nbformat_minor": 5
}
