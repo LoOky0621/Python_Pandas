{
 "cells": [
  {
   "cell_type": "markdown",
   "id": "959600b4-991d-4c45-a12f-07d6bc50d687",
   "metadata": {},
   "source": [
    "# [Datenverarbeitung] Spalten analysieren"
   ]
  },
  {
   "cell_type": "code",
   "execution_count": 2,
   "id": "78ecb361-1730-4bad-aff7-c3426ae7f8ed",
   "metadata": {},
   "outputs": [],
   "source": [
    "import pandas as pd"
   ]
  },
  {
   "cell_type": "markdown",
   "id": "950308c2-96b3-44bc-b485-4e9999b6f53b",
   "metadata": {},
   "source": [
    "### CSV-Dateien importieren"
   ]
  },
  {
   "cell_type": "code",
   "execution_count": 3,
   "id": "e0c7c706-4b53-4dea-bdf3-8174e6a78c55",
   "metadata": {},
   "outputs": [],
   "source": [
    "umsatz = pd.read_csv(\"datengrundlage.csv\")"
   ]
  },
  {
   "cell_type": "code",
   "execution_count": 4,
   "id": "1904baa7-6bf9-4bed-97f3-466abebc99d5",
   "metadata": {},
   "outputs": [
    {
     "data": {
      "text/html": [
       "<div>\n",
       "<style scoped>\n",
       "    .dataframe tbody tr th:only-of-type {\n",
       "        vertical-align: middle;\n",
       "    }\n",
       "\n",
       "    .dataframe tbody tr th {\n",
       "        vertical-align: top;\n",
       "    }\n",
       "\n",
       "    .dataframe thead th {\n",
       "        text-align: right;\n",
       "    }\n",
       "</style>\n",
       "<table border=\"1\" class=\"dataframe\">\n",
       "  <thead>\n",
       "    <tr style=\"text-align: right;\">\n",
       "      <th></th>\n",
       "      <th>Nr</th>\n",
       "      <th>Datum</th>\n",
       "      <th>Jahr</th>\n",
       "      <th>Land</th>\n",
       "      <th>Stadt</th>\n",
       "      <th>Umsatz</th>\n",
       "      <th>Kosten</th>\n",
       "      <th>Rücksendung</th>\n",
       "      <th>Bereich</th>\n",
       "      <th>Produktgruppe</th>\n",
       "      <th>Logistik-Code</th>\n",
       "      <th>Kunde</th>\n",
       "    </tr>\n",
       "  </thead>\n",
       "  <tbody>\n",
       "    <tr>\n",
       "      <th>0</th>\n",
       "      <td>1</td>\n",
       "      <td>1/1/2025</td>\n",
       "      <td>2025</td>\n",
       "      <td>Südkorea</td>\n",
       "      <td>Seoul</td>\n",
       "      <td>5534.55</td>\n",
       "      <td>4427.64</td>\n",
       "      <td>NaN</td>\n",
       "      <td>Bereich-5</td>\n",
       "      <td>prd-3</td>\n",
       "      <td>6-43647-1</td>\n",
       "      <td>C-85</td>\n",
       "    </tr>\n",
       "    <tr>\n",
       "      <th>1</th>\n",
       "      <td>2</td>\n",
       "      <td>1/2/2025</td>\n",
       "      <td>2025</td>\n",
       "      <td>Südkorea</td>\n",
       "      <td>Seoul</td>\n",
       "      <td>6284.70</td>\n",
       "      <td>7164.56</td>\n",
       "      <td>NaN</td>\n",
       "      <td>Bereich-5</td>\n",
       "      <td>prd-1</td>\n",
       "      <td>2-43647-1</td>\n",
       "      <td>C-107</td>\n",
       "    </tr>\n",
       "    <tr>\n",
       "      <th>2</th>\n",
       "      <td>3</td>\n",
       "      <td>1/3/2025</td>\n",
       "      <td>2025</td>\n",
       "      <td>Vereinigtes Königreich</td>\n",
       "      <td>London</td>\n",
       "      <td>5437.65</td>\n",
       "      <td>6198.92</td>\n",
       "      <td>NaN</td>\n",
       "      <td>Bereich-1</td>\n",
       "      <td>prd-56</td>\n",
       "      <td>7-43647-1</td>\n",
       "      <td>C-141</td>\n",
       "    </tr>\n",
       "    <tr>\n",
       "      <th>3</th>\n",
       "      <td>4</td>\n",
       "      <td>1/4/2025</td>\n",
       "      <td>2025</td>\n",
       "      <td>China</td>\n",
       "      <td>Peking</td>\n",
       "      <td>8587.20</td>\n",
       "      <td>5152.32</td>\n",
       "      <td>NaN</td>\n",
       "      <td>Bereich-2</td>\n",
       "      <td>prd-92</td>\n",
       "      <td>4-43647-1</td>\n",
       "      <td>C-124</td>\n",
       "    </tr>\n",
       "    <tr>\n",
       "      <th>4</th>\n",
       "      <td>5</td>\n",
       "      <td>1/5/2025</td>\n",
       "      <td>2025</td>\n",
       "      <td>USA</td>\n",
       "      <td>Los Angeles</td>\n",
       "      <td>9439.05</td>\n",
       "      <td>10382.95</td>\n",
       "      <td>NaN</td>\n",
       "      <td>Bereich-2</td>\n",
       "      <td>prd-85</td>\n",
       "      <td>1-43647-1</td>\n",
       "      <td>C-76</td>\n",
       "    </tr>\n",
       "  </tbody>\n",
       "</table>\n",
       "</div>"
      ],
      "text/plain": [
       "   Nr     Datum  Jahr                    Land        Stadt   Umsatz    Kosten  \\\n",
       "0   1  1/1/2025  2025                Südkorea        Seoul  5534.55   4427.64   \n",
       "1   2  1/2/2025  2025                Südkorea        Seoul  6284.70   7164.56   \n",
       "2   3  1/3/2025  2025  Vereinigtes Königreich       London  5437.65   6198.92   \n",
       "3   4  1/4/2025  2025                   China       Peking  8587.20   5152.32   \n",
       "4   5  1/5/2025  2025                     USA  Los Angeles  9439.05  10382.95   \n",
       "\n",
       "   Rücksendung    Bereich Produktgruppe Logistik-Code  Kunde  \n",
       "0          NaN  Bereich-5         prd-3     6-43647-1   C-85  \n",
       "1          NaN  Bereich-5         prd-1     2-43647-1  C-107  \n",
       "2          NaN  Bereich-1        prd-56     7-43647-1  C-141  \n",
       "3          NaN  Bereich-2        prd-92     4-43647-1  C-124  \n",
       "4          NaN  Bereich-2        prd-85     1-43647-1   C-76  "
      ]
     },
     "execution_count": 4,
     "metadata": {},
     "output_type": "execute_result"
    }
   ],
   "source": [
    "umsatz.head()"
   ]
  },
  {
   "cell_type": "code",
   "execution_count": 6,
   "id": "5fe61dcf-703b-45f7-acee-8c4303a0aeb5",
   "metadata": {},
   "outputs": [
    {
     "name": "stdout",
     "output_type": "stream",
     "text": [
      "        Nr       Datum  Jahr                    Land        Stadt   Umsatz  \\\n",
      "0        1    1/1/2025  2025                Südkorea        Seoul  5534.55   \n",
      "1        2    1/2/2025  2025                Südkorea        Seoul  6284.70   \n",
      "2        3    1/3/2025  2025  Vereinigtes Königreich       London  5437.65   \n",
      "3        4    1/4/2025  2025                   China       Peking  8587.20   \n",
      "4        5    1/5/2025  2025                     USA  Los Angeles  9439.05   \n",
      "...    ...         ...   ...                     ...          ...      ...   \n",
      "1375  1376   10/7/2028  2028                Südkorea   Yangsan-si  6019.05   \n",
      "1376  1377   10/8/2028  2028                Südkorea   Yangsan-si  6482.40   \n",
      "1377  1378   10/9/2028  2028             Deutschland    Stuttgart  9192.15   \n",
      "1378  1379  10/10/2028  2028                  Mexiko      Torreón  9808.95   \n",
      "1379  1380  10/11/2028  2028                     USA   Sacramento  8303.55   \n",
      "\n",
      "        Kosten  Rücksendung    Bereich Produktgruppe Logistik-Code  Kunde  \n",
      "0      4427.64          NaN  Bereich-5         prd-3     6-43647-1   C-85  \n",
      "1      7164.56          NaN  Bereich-5         prd-1     2-43647-1  C-107  \n",
      "2      6198.92          NaN  Bereich-1        prd-56     7-43647-1  C-141  \n",
      "3      5152.32          NaN  Bereich-2        prd-92     4-43647-1  C-124  \n",
      "4     10382.95          NaN  Bereich-2        prd-85     1-43647-1   C-76  \n",
      "...        ...          ...        ...           ...           ...    ...  \n",
      "1375   4815.24          NaN  Bereich-3        prd-77     6-43663-1   C-85  \n",
      "1376   5185.92          NaN  Bereich-2        prd-96     5-43655-1   C-65  \n",
      "1377   7353.72          NaN  Bereich-1        prd-50     3-43673-1   C-65  \n",
      "1378   7847.16          1.0  Bereich-3        prd-72     8-43659-1  C-109  \n",
      "1379   6642.84          NaN  Bereich-2        prd-88     1-43654-2   C-76  \n",
      "\n",
      "[1380 rows x 12 columns]\n"
     ]
    }
   ],
   "source": [
    "print(umsatz)"
   ]
  },
  {
   "cell_type": "markdown",
   "id": "fd6191c0-2109-468f-aed5-6ee78b7a94d5",
   "metadata": {},
   "source": [
    "### Einzelne Spalte auswählen"
   ]
  },
  {
   "cell_type": "markdown",
   "id": "db33f5a7-afdb-4211-91e3-eb012de16479",
   "metadata": {},
   "source": [
    "#### Variante 1"
   ]
  },
  {
   "cell_type": "code",
   "execution_count": 5,
   "id": "56c158e6-d1a5-470e-b8a3-d607ac7b602f",
   "metadata": {},
   "outputs": [
    {
     "data": {
      "text/plain": [
       "0             Seoul\n",
       "1             Seoul\n",
       "2            London\n",
       "3            Peking\n",
       "4       Los Angeles\n",
       "           ...     \n",
       "1375     Yangsan-si\n",
       "1376     Yangsan-si\n",
       "1377      Stuttgart\n",
       "1378        Torreón\n",
       "1379     Sacramento\n",
       "Name: Stadt, Length: 1380, dtype: object"
      ]
     },
     "execution_count": 5,
     "metadata": {},
     "output_type": "execute_result"
    }
   ],
   "source": [
    "umsatz.Stadt"
   ]
  },
  {
   "cell_type": "code",
   "execution_count": 8,
   "id": "addad985-c858-4b0d-afcb-317e92715408",
   "metadata": {},
   "outputs": [
    {
     "name": "stdout",
     "output_type": "stream",
     "text": [
      "<class 'pandas.core.frame.DataFrame'>\n",
      "<class 'pandas.core.series.Series'>\n"
     ]
    }
   ],
   "source": [
    "print(type(umsatz))\n",
    "print(type(umsatz.Stadt))"
   ]
  },
  {
   "cell_type": "markdown",
   "id": "033f2b2a-7f9d-4dba-82c2-b4e05983ece3",
   "metadata": {},
   "source": [
    "#### Variante 2"
   ]
  },
  {
   "cell_type": "code",
   "execution_count": 9,
   "id": "5f50dde0-a3bd-4930-aaf2-a58f5cfb3000",
   "metadata": {},
   "outputs": [
    {
     "data": {
      "text/plain": [
       "0             Seoul\n",
       "1             Seoul\n",
       "2            London\n",
       "3            Peking\n",
       "4       Los Angeles\n",
       "           ...     \n",
       "1375     Yangsan-si\n",
       "1376     Yangsan-si\n",
       "1377      Stuttgart\n",
       "1378        Torreón\n",
       "1379     Sacramento\n",
       "Name: Stadt, Length: 1380, dtype: object"
      ]
     },
     "execution_count": 9,
     "metadata": {},
     "output_type": "execute_result"
    }
   ],
   "source": [
    "umsatz[\"Stadt\"]"
   ]
  },
  {
   "cell_type": "markdown",
   "id": "d6723932-b77b-436b-a383-94a30c4718af",
   "metadata": {},
   "source": [
    "### Shape"
   ]
  },
  {
   "cell_type": "code",
   "execution_count": 10,
   "id": "fd7a3003-8afd-4236-954f-664b78fce0ca",
   "metadata": {},
   "outputs": [
    {
     "data": {
      "text/plain": [
       "(1380,)"
      ]
     },
     "execution_count": 10,
     "metadata": {},
     "output_type": "execute_result"
    }
   ],
   "source": [
    "umsatz[\"Stadt\"].shape"
   ]
  },
  {
   "cell_type": "code",
   "execution_count": 11,
   "id": "eec261c3-916f-4f72-b8cd-4578dcdb5ff4",
   "metadata": {},
   "outputs": [
    {
     "data": {
      "text/plain": [
       "1380"
      ]
     },
     "execution_count": 11,
     "metadata": {},
     "output_type": "execute_result"
    }
   ],
   "source": [
    "len(umsatz)"
   ]
  },
  {
   "cell_type": "markdown",
   "id": "a067d962-f848-46b9-9b2b-121541983d5d",
   "metadata": {},
   "source": [
    "### Unique"
   ]
  },
  {
   "cell_type": "code",
   "execution_count": 13,
   "id": "baa69128-b51d-4c4b-b1ee-d76b08821def",
   "metadata": {},
   "outputs": [
    {
     "data": {
      "text/plain": [
       "array(['Seoul', 'London', 'Peking', 'Los Angeles', 'Berlin', 'Oaxaca',\n",
       "       'Busan', 'Las Vegas', 'Shanghai', 'Seattle', 'München', 'Incheon',\n",
       "       'Chongqing', 'Miami', 'Shenzhen', 'Daegu', 'Houston', 'Puebla',\n",
       "       'Guangzhou', 'Hannover', 'Daejeon', 'Portland', 'Manchester',\n",
       "       'Wuhan', 'Detroit', 'Veracruz', 'Gwangju', 'Ulsan', 'Dongguan',\n",
       "       'Denver', 'Gangneung', 'Tianjin', 'Seogwipo', 'Dortmund',\n",
       "       'Monterrey', 'Richmond', 'Bristol', 'Gunpo', 'Chuncheon',\n",
       "       'Ciudad Juárez', 'Nanjing', 'San José', 'Liverpool', 'Suncheon',\n",
       "       'Karlsruhe', 'Asan', 'Honolulu', 'Cancún', 'Pyeongtaek', 'Leeds',\n",
       "       'Orlando', 'Freiburg', 'Mokpo', 'Jackson', 'Gimpo', 'Guanajuato',\n",
       "       'Jinan', 'Osan', 'Leipzig', 'Baton Rouge', 'Paju',\n",
       "       'San Luis Potosi', 'Naju', 'Bremen', 'Birmingham', 'Fort Worth',\n",
       "       'Gimhae', 'Luoyang', 'Hartford', 'Durango', 'Salem', 'Hamburg',\n",
       "       'Bucheon', 'Montgomery', 'Nürnberg', 'Shenyang', 'Anyang',\n",
       "       'Topeka', 'Acapulco', 'Miryang', 'Phoenix', 'Stuttgart',\n",
       "       'Quingdao', 'Torreón', 'Silheung', 'Leicester', 'Sacramento',\n",
       "       'Yangsan-si'], dtype=object)"
      ]
     },
     "execution_count": 13,
     "metadata": {},
     "output_type": "execute_result"
    }
   ],
   "source": [
    "umsatz.Stadt.unique()"
   ]
  },
  {
   "cell_type": "markdown",
   "id": "6391666e-ca9b-4eb4-b014-eaf5256d1070",
   "metadata": {},
   "source": [
    "### nunique"
   ]
  },
  {
   "cell_type": "code",
   "execution_count": 15,
   "id": "bf245ff7-c3ef-455f-b6aa-fded536d7081",
   "metadata": {},
   "outputs": [
    {
     "data": {
      "text/plain": [
       "88"
      ]
     },
     "execution_count": 15,
     "metadata": {},
     "output_type": "execute_result"
    }
   ],
   "source": [
    "umsatz.Stadt.nunique()"
   ]
  },
  {
   "cell_type": "markdown",
   "id": "157a976b-e1d8-4fcd-9f30-d549d870ed70",
   "metadata": {},
   "source": [
    "### nlargest"
   ]
  },
  {
   "cell_type": "code",
   "execution_count": 17,
   "id": "166350b7-4694-40df-b627-692d4c5a232a",
   "metadata": {},
   "outputs": [
    {
     "data": {
      "text/html": [
       "<div>\n",
       "<style scoped>\n",
       "    .dataframe tbody tr th:only-of-type {\n",
       "        vertical-align: middle;\n",
       "    }\n",
       "\n",
       "    .dataframe tbody tr th {\n",
       "        vertical-align: top;\n",
       "    }\n",
       "\n",
       "    .dataframe thead th {\n",
       "        text-align: right;\n",
       "    }\n",
       "</style>\n",
       "<table border=\"1\" class=\"dataframe\">\n",
       "  <thead>\n",
       "    <tr style=\"text-align: right;\">\n",
       "      <th></th>\n",
       "      <th>Nr</th>\n",
       "      <th>Datum</th>\n",
       "      <th>Jahr</th>\n",
       "      <th>Land</th>\n",
       "      <th>Stadt</th>\n",
       "      <th>Umsatz</th>\n",
       "      <th>Kosten</th>\n",
       "      <th>Rücksendung</th>\n",
       "      <th>Bereich</th>\n",
       "      <th>Produktgruppe</th>\n",
       "      <th>Logistik-Code</th>\n",
       "      <th>Kunde</th>\n",
       "    </tr>\n",
       "  </thead>\n",
       "  <tbody>\n",
       "    <tr>\n",
       "      <th>1008</th>\n",
       "      <td>1009</td>\n",
       "      <td>10/6/2027</td>\n",
       "      <td>2027</td>\n",
       "      <td>Südkorea</td>\n",
       "      <td>Gimhae</td>\n",
       "      <td>10650.60</td>\n",
       "      <td>12141.68</td>\n",
       "      <td>NaN</td>\n",
       "      <td>Bereich-2</td>\n",
       "      <td>prd-80</td>\n",
       "      <td>5-43647-1</td>\n",
       "      <td>C-65</td>\n",
       "    </tr>\n",
       "    <tr>\n",
       "      <th>575</th>\n",
       "      <td>576</td>\n",
       "      <td>7/30/2026</td>\n",
       "      <td>2026</td>\n",
       "      <td>Südkorea</td>\n",
       "      <td>Suncheon</td>\n",
       "      <td>9959.10</td>\n",
       "      <td>11353.37</td>\n",
       "      <td>NaN</td>\n",
       "      <td>Bereich-5</td>\n",
       "      <td>prd-9</td>\n",
       "      <td>5-43675-1</td>\n",
       "      <td>C-65</td>\n",
       "    </tr>\n",
       "    <tr>\n",
       "      <th>1004</th>\n",
       "      <td>1005</td>\n",
       "      <td>10/2/2027</td>\n",
       "      <td>2027</td>\n",
       "      <td>USA</td>\n",
       "      <td>Hartford</td>\n",
       "      <td>9439.05</td>\n",
       "      <td>10760.52</td>\n",
       "      <td>NaN</td>\n",
       "      <td>Bereich-2</td>\n",
       "      <td>prd-85</td>\n",
       "      <td>1-43647-1</td>\n",
       "      <td>C-76</td>\n",
       "    </tr>\n",
       "    <tr>\n",
       "      <th>613</th>\n",
       "      <td>614</td>\n",
       "      <td>9/6/2026</td>\n",
       "      <td>2026</td>\n",
       "      <td>Deutschland</td>\n",
       "      <td>Karlsruhe</td>\n",
       "      <td>9219.75</td>\n",
       "      <td>10510.51</td>\n",
       "      <td>1.0</td>\n",
       "      <td>Bereich-1</td>\n",
       "      <td>prd-45</td>\n",
       "      <td>3-43647-2</td>\n",
       "      <td>C-65</td>\n",
       "    </tr>\n",
       "    <tr>\n",
       "      <th>651</th>\n",
       "      <td>652</td>\n",
       "      <td>10/14/2026</td>\n",
       "      <td>2026</td>\n",
       "      <td>USA</td>\n",
       "      <td>Honolulu</td>\n",
       "      <td>13112.40</td>\n",
       "      <td>10489.92</td>\n",
       "      <td>NaN</td>\n",
       "      <td>Bereich-5</td>\n",
       "      <td>prd-19</td>\n",
       "      <td>1-43658-2</td>\n",
       "      <td>C-76</td>\n",
       "    </tr>\n",
       "    <tr>\n",
       "      <th>4</th>\n",
       "      <td>5</td>\n",
       "      <td>1/5/2025</td>\n",
       "      <td>2025</td>\n",
       "      <td>USA</td>\n",
       "      <td>Los Angeles</td>\n",
       "      <td>9439.05</td>\n",
       "      <td>10382.95</td>\n",
       "      <td>NaN</td>\n",
       "      <td>Bereich-2</td>\n",
       "      <td>prd-85</td>\n",
       "      <td>1-43647-1</td>\n",
       "      <td>C-76</td>\n",
       "    </tr>\n",
       "    <tr>\n",
       "      <th>58</th>\n",
       "      <td>59</td>\n",
       "      <td>2/28/2025</td>\n",
       "      <td>2025</td>\n",
       "      <td>USA</td>\n",
       "      <td>Las Vegas</td>\n",
       "      <td>8631.45</td>\n",
       "      <td>9839.85</td>\n",
       "      <td>NaN</td>\n",
       "      <td>Bereich-1</td>\n",
       "      <td>prd-43</td>\n",
       "      <td>1-43655-1</td>\n",
       "      <td>C-76</td>\n",
       "    </tr>\n",
       "  </tbody>\n",
       "</table>\n",
       "</div>"
      ],
      "text/plain": [
       "        Nr       Datum  Jahr         Land        Stadt    Umsatz    Kosten  \\\n",
       "1008  1009   10/6/2027  2027     Südkorea       Gimhae  10650.60  12141.68   \n",
       "575    576   7/30/2026  2026     Südkorea     Suncheon   9959.10  11353.37   \n",
       "1004  1005   10/2/2027  2027          USA     Hartford   9439.05  10760.52   \n",
       "613    614    9/6/2026  2026  Deutschland    Karlsruhe   9219.75  10510.51   \n",
       "651    652  10/14/2026  2026          USA     Honolulu  13112.40  10489.92   \n",
       "4        5    1/5/2025  2025          USA  Los Angeles   9439.05  10382.95   \n",
       "58      59   2/28/2025  2025          USA    Las Vegas   8631.45   9839.85   \n",
       "\n",
       "      Rücksendung    Bereich Produktgruppe Logistik-Code Kunde  \n",
       "1008          NaN  Bereich-2        prd-80     5-43647-1  C-65  \n",
       "575           NaN  Bereich-5         prd-9     5-43675-1  C-65  \n",
       "1004          NaN  Bereich-2        prd-85     1-43647-1  C-76  \n",
       "613           1.0  Bereich-1        prd-45     3-43647-2  C-65  \n",
       "651           NaN  Bereich-5        prd-19     1-43658-2  C-76  \n",
       "4             NaN  Bereich-2        prd-85     1-43647-1  C-76  \n",
       "58            NaN  Bereich-1        prd-43     1-43655-1  C-76  "
      ]
     },
     "execution_count": 17,
     "metadata": {},
     "output_type": "execute_result"
    }
   ],
   "source": [
    "umsatz.nlargest(7, \"Kosten\")"
   ]
  },
  {
   "cell_type": "markdown",
   "id": "2cc7115a-a342-4be2-89da-c5db9122b83b",
   "metadata": {},
   "source": [
    "### Mehrere Spalten auswählen"
   ]
  },
  {
   "cell_type": "code",
   "execution_count": 21,
   "id": "e50836c1-529f-4ca7-9374-edbdd80a73ef",
   "metadata": {},
   "outputs": [
    {
     "data": {
      "text/html": [
       "<div>\n",
       "<style scoped>\n",
       "    .dataframe tbody tr th:only-of-type {\n",
       "        vertical-align: middle;\n",
       "    }\n",
       "\n",
       "    .dataframe tbody tr th {\n",
       "        vertical-align: top;\n",
       "    }\n",
       "\n",
       "    .dataframe thead th {\n",
       "        text-align: right;\n",
       "    }\n",
       "</style>\n",
       "<table border=\"1\" class=\"dataframe\">\n",
       "  <thead>\n",
       "    <tr style=\"text-align: right;\">\n",
       "      <th></th>\n",
       "      <th>Stadt</th>\n",
       "      <th>Land</th>\n",
       "    </tr>\n",
       "  </thead>\n",
       "  <tbody>\n",
       "    <tr>\n",
       "      <th>0</th>\n",
       "      <td>Seoul</td>\n",
       "      <td>Südkorea</td>\n",
       "    </tr>\n",
       "    <tr>\n",
       "      <th>1</th>\n",
       "      <td>Seoul</td>\n",
       "      <td>Südkorea</td>\n",
       "    </tr>\n",
       "    <tr>\n",
       "      <th>2</th>\n",
       "      <td>London</td>\n",
       "      <td>Vereinigtes Königreich</td>\n",
       "    </tr>\n",
       "    <tr>\n",
       "      <th>3</th>\n",
       "      <td>Peking</td>\n",
       "      <td>China</td>\n",
       "    </tr>\n",
       "    <tr>\n",
       "      <th>4</th>\n",
       "      <td>Los Angeles</td>\n",
       "      <td>USA</td>\n",
       "    </tr>\n",
       "    <tr>\n",
       "      <th>...</th>\n",
       "      <td>...</td>\n",
       "      <td>...</td>\n",
       "    </tr>\n",
       "    <tr>\n",
       "      <th>1375</th>\n",
       "      <td>Yangsan-si</td>\n",
       "      <td>Südkorea</td>\n",
       "    </tr>\n",
       "    <tr>\n",
       "      <th>1376</th>\n",
       "      <td>Yangsan-si</td>\n",
       "      <td>Südkorea</td>\n",
       "    </tr>\n",
       "    <tr>\n",
       "      <th>1377</th>\n",
       "      <td>Stuttgart</td>\n",
       "      <td>Deutschland</td>\n",
       "    </tr>\n",
       "    <tr>\n",
       "      <th>1378</th>\n",
       "      <td>Torreón</td>\n",
       "      <td>Mexiko</td>\n",
       "    </tr>\n",
       "    <tr>\n",
       "      <th>1379</th>\n",
       "      <td>Sacramento</td>\n",
       "      <td>USA</td>\n",
       "    </tr>\n",
       "  </tbody>\n",
       "</table>\n",
       "<p>1380 rows × 2 columns</p>\n",
       "</div>"
      ],
      "text/plain": [
       "            Stadt                    Land\n",
       "0           Seoul                Südkorea\n",
       "1           Seoul                Südkorea\n",
       "2          London  Vereinigtes Königreich\n",
       "3          Peking                   China\n",
       "4     Los Angeles                     USA\n",
       "...           ...                     ...\n",
       "1375   Yangsan-si                Südkorea\n",
       "1376   Yangsan-si                Südkorea\n",
       "1377    Stuttgart             Deutschland\n",
       "1378      Torreón                  Mexiko\n",
       "1379   Sacramento                     USA\n",
       "\n",
       "[1380 rows x 2 columns]"
      ]
     },
     "execution_count": 21,
     "metadata": {},
     "output_type": "execute_result"
    }
   ],
   "source": [
    "umsatz[[\"Stadt\", \"Land\"]]"
   ]
  },
  {
   "cell_type": "code",
   "execution_count": 20,
   "id": "fba9eb18-cbd9-4935-9c51-bc19caecc980",
   "metadata": {},
   "outputs": [
    {
     "data": {
      "text/html": [
       "<div>\n",
       "<style scoped>\n",
       "    .dataframe tbody tr th:only-of-type {\n",
       "        vertical-align: middle;\n",
       "    }\n",
       "\n",
       "    .dataframe tbody tr th {\n",
       "        vertical-align: top;\n",
       "    }\n",
       "\n",
       "    .dataframe thead th {\n",
       "        text-align: right;\n",
       "    }\n",
       "</style>\n",
       "<table border=\"1\" class=\"dataframe\">\n",
       "  <thead>\n",
       "    <tr style=\"text-align: right;\">\n",
       "      <th></th>\n",
       "      <th>Land</th>\n",
       "      <th>Stadt</th>\n",
       "    </tr>\n",
       "  </thead>\n",
       "  <tbody>\n",
       "    <tr>\n",
       "      <th>0</th>\n",
       "      <td>Südkorea</td>\n",
       "      <td>Seoul</td>\n",
       "    </tr>\n",
       "    <tr>\n",
       "      <th>1</th>\n",
       "      <td>Südkorea</td>\n",
       "      <td>Seoul</td>\n",
       "    </tr>\n",
       "    <tr>\n",
       "      <th>2</th>\n",
       "      <td>Vereinigtes Königreich</td>\n",
       "      <td>London</td>\n",
       "    </tr>\n",
       "    <tr>\n",
       "      <th>3</th>\n",
       "      <td>China</td>\n",
       "      <td>Peking</td>\n",
       "    </tr>\n",
       "    <tr>\n",
       "      <th>4</th>\n",
       "      <td>USA</td>\n",
       "      <td>Los Angeles</td>\n",
       "    </tr>\n",
       "    <tr>\n",
       "      <th>...</th>\n",
       "      <td>...</td>\n",
       "      <td>...</td>\n",
       "    </tr>\n",
       "    <tr>\n",
       "      <th>1375</th>\n",
       "      <td>Südkorea</td>\n",
       "      <td>Yangsan-si</td>\n",
       "    </tr>\n",
       "    <tr>\n",
       "      <th>1376</th>\n",
       "      <td>Südkorea</td>\n",
       "      <td>Yangsan-si</td>\n",
       "    </tr>\n",
       "    <tr>\n",
       "      <th>1377</th>\n",
       "      <td>Deutschland</td>\n",
       "      <td>Stuttgart</td>\n",
       "    </tr>\n",
       "    <tr>\n",
       "      <th>1378</th>\n",
       "      <td>Mexiko</td>\n",
       "      <td>Torreón</td>\n",
       "    </tr>\n",
       "    <tr>\n",
       "      <th>1379</th>\n",
       "      <td>USA</td>\n",
       "      <td>Sacramento</td>\n",
       "    </tr>\n",
       "  </tbody>\n",
       "</table>\n",
       "<p>1380 rows × 2 columns</p>\n",
       "</div>"
      ],
      "text/plain": [
       "                        Land        Stadt\n",
       "0                   Südkorea        Seoul\n",
       "1                   Südkorea        Seoul\n",
       "2     Vereinigtes Königreich       London\n",
       "3                      China       Peking\n",
       "4                        USA  Los Angeles\n",
       "...                      ...          ...\n",
       "1375                Südkorea   Yangsan-si\n",
       "1376                Südkorea   Yangsan-si\n",
       "1377             Deutschland    Stuttgart\n",
       "1378                  Mexiko      Torreón\n",
       "1379                     USA   Sacramento\n",
       "\n",
       "[1380 rows x 2 columns]"
      ]
     },
     "execution_count": 20,
     "metadata": {},
     "output_type": "execute_result"
    }
   ],
   "source": [
    "umsatz[[\"Land\", \"Stadt\"]]"
   ]
  },
  {
   "cell_type": "code",
   "execution_count": null,
   "id": "3d299cb8-510a-443d-8664-8b8ce92bab5e",
   "metadata": {},
   "outputs": [],
   "source": []
  }
 ],
 "metadata": {
  "kernelspec": {
   "display_name": "Python 3 (ipykernel)",
   "language": "python",
   "name": "python3"
  },
  "language_info": {
   "codemirror_mode": {
    "name": "ipython",
    "version": 3
   },
   "file_extension": ".py",
   "mimetype": "text/x-python",
   "name": "python",
   "nbconvert_exporter": "python",
   "pygments_lexer": "ipython3",
   "version": "3.9.13"
  }
 },
 "nbformat": 4,
 "nbformat_minor": 5
}
