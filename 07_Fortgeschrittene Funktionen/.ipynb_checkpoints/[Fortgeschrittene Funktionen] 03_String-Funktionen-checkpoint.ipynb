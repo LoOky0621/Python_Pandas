{
 "cells": [
  {
   "cell_type": "markdown",
   "id": "25312332-3978-43d9-bbb3-32b25b3c2e2d",
   "metadata": {},
   "source": [
    "# [Fortgeschrittene Funktionen] String-Funktionen"
   ]
  },
  {
   "cell_type": "markdown",
   "id": "cd5e9d0f-0d9e-420f-ba9a-c590c5575306",
   "metadata": {},
   "source": [
    "> - len\n",
    "\n",
    "> - cat\n",
    "\n",
    "> - upper()\n",
    "\n",
    "> - lower()\n",
    "\n",
    "> - isupper()\n",
    "\n",
    "> - contains()\n",
    "\n",
    "> - replace()\n",
    "\n",
    "> - split()\n",
    "\n",
    "> - find()\n",
    "\n",
    "> - findall()\n",
    "\n",
    "> - startswith()\n",
    "\n",
    "> - endswith()"
   ]
  },
  {
   "cell_type": "code",
   "execution_count": 1,
   "id": "63863b6e-4dce-44fb-8b41-976be5ec70f7",
   "metadata": {},
   "outputs": [],
   "source": [
    "import pandas as pd"
   ]
  },
  {
   "cell_type": "code",
   "execution_count": 2,
   "id": "9ef3b675-c4ff-4ae7-8ec7-b0aefa64a25c",
   "metadata": {},
   "outputs": [],
   "source": [
    "umsatz = pd.read_csv(\"datengrundlage.xls\")"
   ]
  },
  {
   "cell_type": "markdown",
   "id": "9af7ca9e-151c-4aee-abdf-e82bcc3d87f5",
   "metadata": {},
   "source": [
    "### len"
   ]
  },
  {
   "cell_type": "code",
   "execution_count": null,
   "id": "c4af931b-d74e-460b-84e6-f45a91fc366e",
   "metadata": {},
   "outputs": [],
   "source": []
  },
  {
   "cell_type": "markdown",
   "id": "f5b466da-ff10-4e89-838f-c235a2b58cd8",
   "metadata": {},
   "source": [
    "### cat"
   ]
  },
  {
   "cell_type": "code",
   "execution_count": null,
   "id": "45294ff2-c715-40dd-9951-0411bb3fe055",
   "metadata": {},
   "outputs": [],
   "source": []
  },
  {
   "cell_type": "markdown",
   "id": "a8d9bd03-1f24-477b-aef0-26f1f71d20e5",
   "metadata": {},
   "source": [
    "### lower"
   ]
  },
  {
   "cell_type": "code",
   "execution_count": null,
   "id": "ebfe634c-ebf8-477d-a8fc-1498022dcaf8",
   "metadata": {},
   "outputs": [],
   "source": []
  },
  {
   "cell_type": "markdown",
   "id": "358392cb-ba66-4200-8a7b-1fadaba44df0",
   "metadata": {},
   "source": [
    "### upper"
   ]
  },
  {
   "cell_type": "code",
   "execution_count": null,
   "id": "7e9abee0-03be-4baf-b7b9-9bf4bba170d6",
   "metadata": {},
   "outputs": [],
   "source": []
  },
  {
   "cell_type": "markdown",
   "id": "57ec5a93-aab4-44a5-b765-39858262229c",
   "metadata": {},
   "source": [
    "### isupper"
   ]
  },
  {
   "cell_type": "code",
   "execution_count": null,
   "id": "50779ce0-3d80-45e2-bea8-0fd0c37fcbea",
   "metadata": {},
   "outputs": [],
   "source": []
  },
  {
   "cell_type": "markdown",
   "id": "513421d6-7220-4cfc-a536-e833fa1f53bb",
   "metadata": {},
   "source": [
    "### islower"
   ]
  },
  {
   "cell_type": "code",
   "execution_count": null,
   "id": "0bfcd392-2781-401c-82c1-3712313adcfc",
   "metadata": {},
   "outputs": [],
   "source": []
  },
  {
   "cell_type": "markdown",
   "id": "ed23e37c-f8b1-42e0-b072-6c34a4a2dd16",
   "metadata": {},
   "source": [
    "### contains"
   ]
  },
  {
   "cell_type": "code",
   "execution_count": null,
   "id": "c8d24386-b03d-490d-be0d-644839fed3e5",
   "metadata": {},
   "outputs": [],
   "source": []
  },
  {
   "cell_type": "markdown",
   "id": "255a4e5b-cd43-47ad-800e-785681694142",
   "metadata": {},
   "source": [
    "### replace"
   ]
  },
  {
   "cell_type": "code",
   "execution_count": null,
   "id": "6fe3f2fe-a78f-46f1-adb7-2742df3dd178",
   "metadata": {},
   "outputs": [],
   "source": []
  },
  {
   "cell_type": "markdown",
   "id": "3e192452-4aff-4e82-a517-b14ae6f3a89a",
   "metadata": {},
   "source": [
    "### split"
   ]
  },
  {
   "cell_type": "code",
   "execution_count": null,
   "id": "d3d29af0-10f1-4379-b704-fa8f23aec330",
   "metadata": {},
   "outputs": [],
   "source": []
  },
  {
   "cell_type": "markdown",
   "id": "7bb78f31-e9b4-4a34-adc1-6425b7007cd4",
   "metadata": {},
   "source": [
    "### find"
   ]
  },
  {
   "cell_type": "code",
   "execution_count": null,
   "id": "02217af9-ed7c-4849-afb0-75df3eb0710d",
   "metadata": {},
   "outputs": [],
   "source": []
  },
  {
   "cell_type": "markdown",
   "id": "6b26dda8-cc50-4877-a1ce-bd8a58b38742",
   "metadata": {},
   "source": [
    "### findall"
   ]
  },
  {
   "cell_type": "code",
   "execution_count": null,
   "id": "e5676fce-e926-4bd0-93ff-3e4117211c51",
   "metadata": {},
   "outputs": [],
   "source": []
  },
  {
   "cell_type": "markdown",
   "id": "c5f8dd61-9322-4891-967a-f2095ac17473",
   "metadata": {},
   "source": [
    "### startswith"
   ]
  },
  {
   "cell_type": "code",
   "execution_count": null,
   "id": "c7fb9580-3b47-4132-bd02-d78432878fa5",
   "metadata": {},
   "outputs": [],
   "source": []
  },
  {
   "cell_type": "markdown",
   "id": "0d9c6021-bddb-4c04-bb3f-52c3131f3cc7",
   "metadata": {},
   "source": [
    "### endswith"
   ]
  },
  {
   "cell_type": "code",
   "execution_count": null,
   "id": "68606f67-3371-4ca2-bbea-8d4a048eacb5",
   "metadata": {},
   "outputs": [],
   "source": []
  }
 ],
 "metadata": {
  "kernelspec": {
   "display_name": "Python 3 (ipykernel)",
   "language": "python",
   "name": "python3"
  },
  "language_info": {
   "codemirror_mode": {
    "name": "ipython",
    "version": 3
   },
   "file_extension": ".py",
   "mimetype": "text/x-python",
   "name": "python",
   "nbconvert_exporter": "python",
   "pygments_lexer": "ipython3",
   "version": "3.9.13"
  }
 },
 "nbformat": 4,
 "nbformat_minor": 5
}
