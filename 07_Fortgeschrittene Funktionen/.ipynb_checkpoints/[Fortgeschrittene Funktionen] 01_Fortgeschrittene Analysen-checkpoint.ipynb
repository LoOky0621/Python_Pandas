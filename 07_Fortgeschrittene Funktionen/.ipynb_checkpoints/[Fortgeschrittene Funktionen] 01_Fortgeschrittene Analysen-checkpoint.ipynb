{
 "cells": [
  {
   "cell_type": "markdown",
   "id": "25312332-3978-43d9-bbb3-32b25b3c2e2d",
   "metadata": {},
   "source": [
    "# [Fortgeschrittene Funktionen] Fortgeschrittene Analysen"
   ]
  },
  {
   "cell_type": "code",
   "execution_count": 1,
   "id": "a128bb54-a9d4-4884-99f4-4cb903972b94",
   "metadata": {},
   "outputs": [],
   "source": [
    "import pandas as pd\n",
    "umsatz = pd.read_csv(\"datengrundlage.xls\")"
   ]
  },
  {
   "cell_type": "markdown",
   "id": "95e04544-4f1d-4a25-a600-600b57df87b7",
   "metadata": {},
   "source": [
    "### dtypes"
   ]
  },
  {
   "cell_type": "code",
   "execution_count": null,
   "id": "9d000b56-725c-4d16-b0af-33780d9b35b3",
   "metadata": {},
   "outputs": [],
   "source": []
  },
  {
   "cell_type": "markdown",
   "id": "9d9cd29d-bce9-4a1d-879b-b4f8569d58df",
   "metadata": {},
   "source": [
    "### to_datetime"
   ]
  },
  {
   "cell_type": "code",
   "execution_count": null,
   "id": "c999f2b9-6ea5-4a1a-a2af-4dfa653b5baf",
   "metadata": {},
   "outputs": [],
   "source": []
  },
  {
   "cell_type": "markdown",
   "id": "f73b6af6-264f-4488-b173-80b082ec88c2",
   "metadata": {},
   "source": [
    "### memory_usage"
   ]
  },
  {
   "cell_type": "code",
   "execution_count": null,
   "id": "53a6db9e-b286-4f87-89d8-89de7c0ffc30",
   "metadata": {},
   "outputs": [],
   "source": []
  },
  {
   "cell_type": "markdown",
   "id": "acd34af7-8d24-40cf-82ca-c298f8b71c42",
   "metadata": {},
   "source": [
    "### value_counts"
   ]
  },
  {
   "cell_type": "code",
   "execution_count": null,
   "id": "f8cc41e7-26a5-45fe-a0a5-d6dc0b6f35b9",
   "metadata": {},
   "outputs": [],
   "source": []
  },
  {
   "cell_type": "markdown",
   "id": "7b8c92e0-7dcc-4588-90f9-bfc2cfe2e7ae",
   "metadata": {},
   "source": [
    "### describe und transpose"
   ]
  },
  {
   "cell_type": "code",
   "execution_count": null,
   "id": "31dbaa8b-fe4e-4c52-8b69-eb81f5fca061",
   "metadata": {},
   "outputs": [],
   "source": []
  },
  {
   "cell_type": "markdown",
   "id": "c0d20e45-aa36-44f2-88ba-1fe4f6a509dd",
   "metadata": {},
   "source": [
    "### convert_dtypes"
   ]
  },
  {
   "cell_type": "code",
   "execution_count": null,
   "id": "e329050f-19cd-47af-9a0d-6990f7108be9",
   "metadata": {},
   "outputs": [],
   "source": []
  }
 ],
 "metadata": {
  "kernelspec": {
   "display_name": "Python 3 (ipykernel)",
   "language": "python",
   "name": "python3"
  },
  "language_info": {
   "codemirror_mode": {
    "name": "ipython",
    "version": 3
   },
   "file_extension": ".py",
   "mimetype": "text/x-python",
   "name": "python",
   "nbconvert_exporter": "python",
   "pygments_lexer": "ipython3",
   "version": "3.9.13"
  }
 },
 "nbformat": 4,
 "nbformat_minor": 5
}
