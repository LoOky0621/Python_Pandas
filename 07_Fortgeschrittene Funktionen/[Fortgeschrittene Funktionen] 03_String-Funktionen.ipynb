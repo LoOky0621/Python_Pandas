{
 "cells": [
  {
   "cell_type": "markdown",
   "id": "25312332-3978-43d9-bbb3-32b25b3c2e2d",
   "metadata": {},
   "source": [
    "# [Fortgeschrittene Funktionen] String-Funktionen"
   ]
  },
  {
   "cell_type": "markdown",
   "id": "cd5e9d0f-0d9e-420f-ba9a-c590c5575306",
   "metadata": {},
   "source": [
    "> - len\n",
    "\n",
    "> - cat\n",
    "\n",
    "> - upper()\n",
    "\n",
    "> - lower()\n",
    "\n",
    "> - isupper()\n",
    "\n",
    "> - contains()\n",
    "\n",
    "> - replace()\n",
    "\n",
    "> - split()\n",
    "\n",
    "> - find()\n",
    "\n",
    "> - findall()\n",
    "\n",
    "> - startswith()\n",
    "\n",
    "> - endswith()"
   ]
  },
  {
   "cell_type": "code",
   "execution_count": 11,
   "id": "a054421e-86f5-48e7-9b90-d9c75f845bee",
   "metadata": {},
   "outputs": [],
   "source": [
    "# type(\"Pandas\")\n",
    "# type('Pandas')"
   ]
  },
  {
   "cell_type": "code",
   "execution_count": 48,
   "id": "63863b6e-4dce-44fb-8b41-976be5ec70f7",
   "metadata": {},
   "outputs": [],
   "source": [
    "import pandas as pd"
   ]
  },
  {
   "cell_type": "code",
   "execution_count": 49,
   "id": "9ef3b675-c4ff-4ae7-8ec7-b0aefa64a25c",
   "metadata": {},
   "outputs": [],
   "source": [
    "umsatz = pd.read_csv(\"datengrundlage.xls\")"
   ]
  },
  {
   "cell_type": "code",
   "execution_count": 14,
   "id": "184d7d3b-9ceb-4ff9-bba7-365bece10189",
   "metadata": {},
   "outputs": [
    {
     "data": {
      "text/html": [
       "<div>\n",
       "<style scoped>\n",
       "    .dataframe tbody tr th:only-of-type {\n",
       "        vertical-align: middle;\n",
       "    }\n",
       "\n",
       "    .dataframe tbody tr th {\n",
       "        vertical-align: top;\n",
       "    }\n",
       "\n",
       "    .dataframe thead th {\n",
       "        text-align: right;\n",
       "    }\n",
       "</style>\n",
       "<table border=\"1\" class=\"dataframe\">\n",
       "  <thead>\n",
       "    <tr style=\"text-align: right;\">\n",
       "      <th></th>\n",
       "      <th>Nr</th>\n",
       "      <th>Datum</th>\n",
       "      <th>Jahr</th>\n",
       "      <th>Land</th>\n",
       "      <th>Stadt</th>\n",
       "      <th>Umsatz</th>\n",
       "      <th>Kosten</th>\n",
       "      <th>Rücksendung</th>\n",
       "      <th>Bereich</th>\n",
       "      <th>Produktgruppe</th>\n",
       "      <th>Logistik-Code</th>\n",
       "      <th>Kunde</th>\n",
       "    </tr>\n",
       "  </thead>\n",
       "  <tbody>\n",
       "    <tr>\n",
       "      <th>0</th>\n",
       "      <td>1</td>\n",
       "      <td>1/1/2025</td>\n",
       "      <td>2025</td>\n",
       "      <td>Südkorea</td>\n",
       "      <td>Seoul</td>\n",
       "      <td>5534.55</td>\n",
       "      <td>4427.64</td>\n",
       "      <td>NaN</td>\n",
       "      <td>Bereich-5</td>\n",
       "      <td>prd-3</td>\n",
       "      <td>6-43647-1</td>\n",
       "      <td>C-85</td>\n",
       "    </tr>\n",
       "    <tr>\n",
       "      <th>1</th>\n",
       "      <td>2</td>\n",
       "      <td>1/2/2025</td>\n",
       "      <td>2025</td>\n",
       "      <td>Südkorea</td>\n",
       "      <td>Seoul</td>\n",
       "      <td>6284.70</td>\n",
       "      <td>7164.56</td>\n",
       "      <td>NaN</td>\n",
       "      <td>Bereich-5</td>\n",
       "      <td>prd-1</td>\n",
       "      <td>2-43647-1</td>\n",
       "      <td>C-107</td>\n",
       "    </tr>\n",
       "    <tr>\n",
       "      <th>2</th>\n",
       "      <td>3</td>\n",
       "      <td>1/3/2025</td>\n",
       "      <td>2025</td>\n",
       "      <td>Vereinigtes Königreich</td>\n",
       "      <td>London</td>\n",
       "      <td>5437.65</td>\n",
       "      <td>6198.92</td>\n",
       "      <td>NaN</td>\n",
       "      <td>Bereich-1</td>\n",
       "      <td>prd-56</td>\n",
       "      <td>7-43647-1</td>\n",
       "      <td>C-141</td>\n",
       "    </tr>\n",
       "  </tbody>\n",
       "</table>\n",
       "</div>"
      ],
      "text/plain": [
       "   Nr     Datum  Jahr                    Land   Stadt   Umsatz   Kosten   \n",
       "0   1  1/1/2025  2025                Südkorea   Seoul  5534.55  4427.64  \\\n",
       "1   2  1/2/2025  2025                Südkorea   Seoul  6284.70  7164.56   \n",
       "2   3  1/3/2025  2025  Vereinigtes Königreich  London  5437.65  6198.92   \n",
       "\n",
       "   Rücksendung    Bereich Produktgruppe Logistik-Code  Kunde  \n",
       "0          NaN  Bereich-5         prd-3     6-43647-1   C-85  \n",
       "1          NaN  Bereich-5         prd-1     2-43647-1  C-107  \n",
       "2          NaN  Bereich-1        prd-56     7-43647-1  C-141  "
      ]
     },
     "execution_count": 14,
     "metadata": {},
     "output_type": "execute_result"
    }
   ],
   "source": [
    "umsatz.head(3)"
   ]
  },
  {
   "cell_type": "markdown",
   "id": "9af7ca9e-151c-4aee-abdf-e82bcc3d87f5",
   "metadata": {},
   "source": [
    "### len"
   ]
  },
  {
   "cell_type": "code",
   "execution_count": 15,
   "id": "c4af931b-d74e-460b-84e6-f45a91fc366e",
   "metadata": {},
   "outputs": [
    {
     "data": {
      "text/plain": [
       "1380"
      ]
     },
     "execution_count": 15,
     "metadata": {},
     "output_type": "execute_result"
    }
   ],
   "source": [
    "len(umsatz.Land)"
   ]
  },
  {
   "cell_type": "code",
   "execution_count": 17,
   "id": "413a2edf-947d-4383-9a63-8844336bbfa2",
   "metadata": {},
   "outputs": [
    {
     "data": {
      "text/plain": [
       "12"
      ]
     },
     "execution_count": 17,
     "metadata": {},
     "output_type": "execute_result"
    }
   ],
   "source": [
    "len(umsatz.columns)"
   ]
  },
  {
   "cell_type": "code",
   "execution_count": 19,
   "id": "72cbbb58-cffb-4399-9ee3-47891b47e45e",
   "metadata": {},
   "outputs": [
    {
     "data": {
      "text/plain": [
       "0                     Südkorea\n",
       "1                     Südkorea\n",
       "2       Vereinigtes Königreich\n",
       "3                        China\n",
       "4                          USA\n",
       "                 ...          \n",
       "1375                  Südkorea\n",
       "1376                  Südkorea\n",
       "1377               Deutschland\n",
       "1378                    Mexiko\n",
       "1379                       USA\n",
       "Name: Land, Length: 1380, dtype: object"
      ]
     },
     "execution_count": 19,
     "metadata": {},
     "output_type": "execute_result"
    }
   ],
   "source": [
    "umsatz.Land"
   ]
  },
  {
   "cell_type": "code",
   "execution_count": 18,
   "id": "858581fc-e7a0-49cf-b7f0-6fb6418621a2",
   "metadata": {},
   "outputs": [
    {
     "data": {
      "text/plain": [
       "0        8\n",
       "1        8\n",
       "2       22\n",
       "3        5\n",
       "4        3\n",
       "        ..\n",
       "1375     8\n",
       "1376     8\n",
       "1377    11\n",
       "1378     6\n",
       "1379     3\n",
       "Name: Land, Length: 1380, dtype: int64"
      ]
     },
     "execution_count": 18,
     "metadata": {},
     "output_type": "execute_result"
    }
   ],
   "source": [
    "umsatz.Land.str.len()"
   ]
  },
  {
   "cell_type": "markdown",
   "id": "f5b466da-ff10-4e89-838f-c235a2b58cd8",
   "metadata": {},
   "source": [
    "### cat"
   ]
  },
  {
   "cell_type": "code",
   "execution_count": 21,
   "id": "e08e896e-d5b1-4fa3-aeb1-7672b5e4b864",
   "metadata": {},
   "outputs": [
    {
     "data": {
      "text/plain": [
       "str"
      ]
     },
     "execution_count": 21,
     "metadata": {},
     "output_type": "execute_result"
    }
   ],
   "source": [
    "type(umsatz.Land.str.cat())"
   ]
  },
  {
   "cell_type": "code",
   "execution_count": 22,
   "id": "45294ff2-c715-40dd-9951-0411bb3fe055",
   "metadata": {},
   "outputs": [],
   "source": [
    "# umsatz.Land.str.cat()"
   ]
  },
  {
   "cell_type": "markdown",
   "id": "a8d9bd03-1f24-477b-aef0-26f1f71d20e5",
   "metadata": {},
   "source": [
    "### lower"
   ]
  },
  {
   "cell_type": "code",
   "execution_count": 24,
   "id": "00436c1b-2c3c-433f-beac-418dd465cac7",
   "metadata": {},
   "outputs": [
    {
     "data": {
      "text/plain": [
       "0                     Südkorea\n",
       "1                     Südkorea\n",
       "2       Vereinigtes Königreich\n",
       "3                        China\n",
       "4                          USA\n",
       "                 ...          \n",
       "1375                  Südkorea\n",
       "1376                  Südkorea\n",
       "1377               Deutschland\n",
       "1378                    Mexiko\n",
       "1379                       USA\n",
       "Name: Land, Length: 1380, dtype: object"
      ]
     },
     "execution_count": 24,
     "metadata": {},
     "output_type": "execute_result"
    }
   ],
   "source": [
    "umsatz.Land"
   ]
  },
  {
   "cell_type": "code",
   "execution_count": 23,
   "id": "ebfe634c-ebf8-477d-a8fc-1498022dcaf8",
   "metadata": {},
   "outputs": [
    {
     "data": {
      "text/plain": [
       "0                     südkorea\n",
       "1                     südkorea\n",
       "2       vereinigtes königreich\n",
       "3                        china\n",
       "4                          usa\n",
       "                 ...          \n",
       "1375                  südkorea\n",
       "1376                  südkorea\n",
       "1377               deutschland\n",
       "1378                    mexiko\n",
       "1379                       usa\n",
       "Name: Land, Length: 1380, dtype: object"
      ]
     },
     "execution_count": 23,
     "metadata": {},
     "output_type": "execute_result"
    }
   ],
   "source": [
    "umsatz.Land.str.lower()"
   ]
  },
  {
   "cell_type": "code",
   "execution_count": 32,
   "id": "facaf397-1540-48c1-bf55-64e8cb27cfee",
   "metadata": {},
   "outputs": [],
   "source": [
    "lower = umsatz.Land.str.lower()"
   ]
  },
  {
   "cell_type": "markdown",
   "id": "358392cb-ba66-4200-8a7b-1fadaba44df0",
   "metadata": {},
   "source": [
    "### upper"
   ]
  },
  {
   "cell_type": "code",
   "execution_count": 28,
   "id": "7e9abee0-03be-4baf-b7b9-9bf4bba170d6",
   "metadata": {},
   "outputs": [],
   "source": [
    "upper = umsatz.Land.str.upper()"
   ]
  },
  {
   "cell_type": "markdown",
   "id": "57ec5a93-aab4-44a5-b765-39858262229c",
   "metadata": {},
   "source": [
    "### isupper"
   ]
  },
  {
   "cell_type": "code",
   "execution_count": 26,
   "id": "50779ce0-3d80-45e2-bea8-0fd0c37fcbea",
   "metadata": {},
   "outputs": [
    {
     "data": {
      "text/plain": [
       "0       False\n",
       "1       False\n",
       "2       False\n",
       "3       False\n",
       "4       False\n",
       "        ...  \n",
       "1375    False\n",
       "1376    False\n",
       "1377    False\n",
       "1378    False\n",
       "1379    False\n",
       "Name: Stadt, Length: 1380, dtype: bool"
      ]
     },
     "execution_count": 26,
     "metadata": {},
     "output_type": "execute_result"
    }
   ],
   "source": [
    "umsatz.Stadt.str.isupper()"
   ]
  },
  {
   "cell_type": "code",
   "execution_count": 31,
   "id": "b72cad76-26e9-46c4-b194-7e31a95c5dbd",
   "metadata": {},
   "outputs": [
    {
     "data": {
      "text/plain": [
       "0       True\n",
       "1       True\n",
       "2       True\n",
       "3       True\n",
       "4       True\n",
       "        ... \n",
       "1375    True\n",
       "1376    True\n",
       "1377    True\n",
       "1378    True\n",
       "1379    True\n",
       "Name: Land, Length: 1380, dtype: bool"
      ]
     },
     "execution_count": 31,
     "metadata": {},
     "output_type": "execute_result"
    }
   ],
   "source": [
    "upper.str.isupper()"
   ]
  },
  {
   "cell_type": "code",
   "execution_count": 33,
   "id": "f6d33470-4c3a-4d3e-82f1-463211808f58",
   "metadata": {},
   "outputs": [
    {
     "data": {
      "text/plain": [
       "0       False\n",
       "1       False\n",
       "2       False\n",
       "3       False\n",
       "4       False\n",
       "        ...  \n",
       "1375    False\n",
       "1376    False\n",
       "1377    False\n",
       "1378    False\n",
       "1379    False\n",
       "Name: Land, Length: 1380, dtype: bool"
      ]
     },
     "execution_count": 33,
     "metadata": {},
     "output_type": "execute_result"
    }
   ],
   "source": [
    "lower.str.isupper()"
   ]
  },
  {
   "cell_type": "markdown",
   "id": "513421d6-7220-4cfc-a536-e833fa1f53bb",
   "metadata": {},
   "source": [
    "### islower"
   ]
  },
  {
   "cell_type": "code",
   "execution_count": 27,
   "id": "0bfcd392-2781-401c-82c1-3712313adcfc",
   "metadata": {},
   "outputs": [
    {
     "data": {
      "text/plain": [
       "0       False\n",
       "1       False\n",
       "2       False\n",
       "3       False\n",
       "4       False\n",
       "        ...  \n",
       "1375    False\n",
       "1376    False\n",
       "1377    False\n",
       "1378    False\n",
       "1379    False\n",
       "Name: Stadt, Length: 1380, dtype: bool"
      ]
     },
     "execution_count": 27,
     "metadata": {},
     "output_type": "execute_result"
    }
   ],
   "source": [
    "umsatz.Stadt.str.islower()"
   ]
  },
  {
   "cell_type": "code",
   "execution_count": 35,
   "id": "37e47032-8e55-4564-a3c9-348689b79ffd",
   "metadata": {},
   "outputs": [
    {
     "data": {
      "text/plain": [
       "0       False\n",
       "1       False\n",
       "2       False\n",
       "3       False\n",
       "4       False\n",
       "        ...  \n",
       "1375    False\n",
       "1376    False\n",
       "1377    False\n",
       "1378    False\n",
       "1379    False\n",
       "Name: Land, Length: 1380, dtype: bool"
      ]
     },
     "execution_count": 35,
     "metadata": {},
     "output_type": "execute_result"
    }
   ],
   "source": [
    "upper.str.islower()"
   ]
  },
  {
   "cell_type": "code",
   "execution_count": 34,
   "id": "4c6580c3-1385-49ec-943a-9039a548133a",
   "metadata": {},
   "outputs": [
    {
     "data": {
      "text/plain": [
       "0       True\n",
       "1       True\n",
       "2       True\n",
       "3       True\n",
       "4       True\n",
       "        ... \n",
       "1375    True\n",
       "1376    True\n",
       "1377    True\n",
       "1378    True\n",
       "1379    True\n",
       "Name: Land, Length: 1380, dtype: bool"
      ]
     },
     "execution_count": 34,
     "metadata": {},
     "output_type": "execute_result"
    }
   ],
   "source": [
    "lower.str.islower()"
   ]
  },
  {
   "cell_type": "markdown",
   "id": "ed23e37c-f8b1-42e0-b072-6c34a4a2dd16",
   "metadata": {},
   "source": [
    "### contains"
   ]
  },
  {
   "cell_type": "code",
   "execution_count": 39,
   "id": "12c7e63f-abda-4fab-9251-e994b8d1aaa8",
   "metadata": {},
   "outputs": [],
   "source": [
    "# umsatz[\"Logistik-Code\"]"
   ]
  },
  {
   "cell_type": "code",
   "execution_count": 40,
   "id": "c8d24386-b03d-490d-be0d-644839fed3e5",
   "metadata": {},
   "outputs": [
    {
     "data": {
      "text/html": [
       "<div>\n",
       "<style scoped>\n",
       "    .dataframe tbody tr th:only-of-type {\n",
       "        vertical-align: middle;\n",
       "    }\n",
       "\n",
       "    .dataframe tbody tr th {\n",
       "        vertical-align: top;\n",
       "    }\n",
       "\n",
       "    .dataframe thead th {\n",
       "        text-align: right;\n",
       "    }\n",
       "</style>\n",
       "<table border=\"1\" class=\"dataframe\">\n",
       "  <thead>\n",
       "    <tr style=\"text-align: right;\">\n",
       "      <th></th>\n",
       "      <th>Nr</th>\n",
       "      <th>Datum</th>\n",
       "      <th>Jahr</th>\n",
       "      <th>Land</th>\n",
       "      <th>Stadt</th>\n",
       "      <th>Umsatz</th>\n",
       "      <th>Kosten</th>\n",
       "      <th>Rücksendung</th>\n",
       "      <th>Bereich</th>\n",
       "      <th>Produktgruppe</th>\n",
       "      <th>Logistik-Code</th>\n",
       "      <th>Kunde</th>\n",
       "    </tr>\n",
       "  </thead>\n",
       "  <tbody>\n",
       "    <tr>\n",
       "      <th>0</th>\n",
       "      <td>1</td>\n",
       "      <td>1/1/2025</td>\n",
       "      <td>2025</td>\n",
       "      <td>Südkorea</td>\n",
       "      <td>Seoul</td>\n",
       "      <td>5534.55</td>\n",
       "      <td>4427.64</td>\n",
       "      <td>NaN</td>\n",
       "      <td>Bereich-5</td>\n",
       "      <td>prd-3</td>\n",
       "      <td>6-43647-1</td>\n",
       "      <td>C-85</td>\n",
       "    </tr>\n",
       "    <tr>\n",
       "      <th>24</th>\n",
       "      <td>25</td>\n",
       "      <td>1/25/2025</td>\n",
       "      <td>2025</td>\n",
       "      <td>Südkorea</td>\n",
       "      <td>Seoul</td>\n",
       "      <td>6381.75</td>\n",
       "      <td>7019.93</td>\n",
       "      <td>NaN</td>\n",
       "      <td>Bereich-2</td>\n",
       "      <td>prd-83</td>\n",
       "      <td>6-43648-1</td>\n",
       "      <td>C-85</td>\n",
       "    </tr>\n",
       "    <tr>\n",
       "      <th>33</th>\n",
       "      <td>34</td>\n",
       "      <td>2/3/2025</td>\n",
       "      <td>2025</td>\n",
       "      <td>Südkorea</td>\n",
       "      <td>Seoul</td>\n",
       "      <td>4778.10</td>\n",
       "      <td>2866.86</td>\n",
       "      <td>1.0</td>\n",
       "      <td>Bereich-5</td>\n",
       "      <td>prd-19</td>\n",
       "      <td>6-43649-1</td>\n",
       "      <td>C-85</td>\n",
       "    </tr>\n",
       "    <tr>\n",
       "      <th>39</th>\n",
       "      <td>40</td>\n",
       "      <td>2/9/2025</td>\n",
       "      <td>2025</td>\n",
       "      <td>Südkorea</td>\n",
       "      <td>Seoul</td>\n",
       "      <td>4943.55</td>\n",
       "      <td>3954.84</td>\n",
       "      <td>NaN</td>\n",
       "      <td>Bereich-2</td>\n",
       "      <td>prd-91</td>\n",
       "      <td>6-43650-1</td>\n",
       "      <td>C-85</td>\n",
       "    </tr>\n",
       "    <tr>\n",
       "      <th>55</th>\n",
       "      <td>56</td>\n",
       "      <td>2/25/2025</td>\n",
       "      <td>2025</td>\n",
       "      <td>Deutschland</td>\n",
       "      <td>Berlin</td>\n",
       "      <td>7496.55</td>\n",
       "      <td>8246.20</td>\n",
       "      <td>NaN</td>\n",
       "      <td>Bereich-1</td>\n",
       "      <td>prd-59</td>\n",
       "      <td>3-43656-1</td>\n",
       "      <td>C-65</td>\n",
       "    </tr>\n",
       "    <tr>\n",
       "      <th>...</th>\n",
       "      <td>...</td>\n",
       "      <td>...</td>\n",
       "      <td>...</td>\n",
       "      <td>...</td>\n",
       "      <td>...</td>\n",
       "      <td>...</td>\n",
       "      <td>...</td>\n",
       "      <td>...</td>\n",
       "      <td>...</td>\n",
       "      <td>...</td>\n",
       "      <td>...</td>\n",
       "      <td>...</td>\n",
       "    </tr>\n",
       "    <tr>\n",
       "      <th>1335</th>\n",
       "      <td>1336</td>\n",
       "      <td>8/28/2028</td>\n",
       "      <td>2028</td>\n",
       "      <td>Südkorea</td>\n",
       "      <td>Silheung</td>\n",
       "      <td>6159.30</td>\n",
       "      <td>4927.44</td>\n",
       "      <td>NaN</td>\n",
       "      <td>Bereich-3</td>\n",
       "      <td>prd-65</td>\n",
       "      <td>6-43662-1</td>\n",
       "      <td>C-85</td>\n",
       "    </tr>\n",
       "    <tr>\n",
       "      <th>1343</th>\n",
       "      <td>1344</td>\n",
       "      <td>9/5/2028</td>\n",
       "      <td>2028</td>\n",
       "      <td>USA</td>\n",
       "      <td>Sacramento</td>\n",
       "      <td>7279.20</td>\n",
       "      <td>5823.36</td>\n",
       "      <td>NaN</td>\n",
       "      <td>Bereich-3</td>\n",
       "      <td>prd-60</td>\n",
       "      <td>1-43676-1</td>\n",
       "      <td>C-76</td>\n",
       "    </tr>\n",
       "    <tr>\n",
       "      <th>1348</th>\n",
       "      <td>1349</td>\n",
       "      <td>9/10/2028</td>\n",
       "      <td>2028</td>\n",
       "      <td>USA</td>\n",
       "      <td>Sacramento</td>\n",
       "      <td>5570.85</td>\n",
       "      <td>4456.68</td>\n",
       "      <td>NaN</td>\n",
       "      <td>Bereich-2</td>\n",
       "      <td>prd-89</td>\n",
       "      <td>12-43676-1</td>\n",
       "      <td>C-53</td>\n",
       "    </tr>\n",
       "    <tr>\n",
       "      <th>1349</th>\n",
       "      <td>1350</td>\n",
       "      <td>9/11/2028</td>\n",
       "      <td>2028</td>\n",
       "      <td>Südkorea</td>\n",
       "      <td>Silheung</td>\n",
       "      <td>6458.85</td>\n",
       "      <td>5167.08</td>\n",
       "      <td>1.0</td>\n",
       "      <td>Bereich-2</td>\n",
       "      <td>prd-86</td>\n",
       "      <td>2-43656-1</td>\n",
       "      <td>C-107</td>\n",
       "    </tr>\n",
       "    <tr>\n",
       "      <th>1375</th>\n",
       "      <td>1376</td>\n",
       "      <td>10/7/2028</td>\n",
       "      <td>2028</td>\n",
       "      <td>Südkorea</td>\n",
       "      <td>Yangsan-si</td>\n",
       "      <td>6019.05</td>\n",
       "      <td>4815.24</td>\n",
       "      <td>NaN</td>\n",
       "      <td>Bereich-3</td>\n",
       "      <td>prd-77</td>\n",
       "      <td>6-43663-1</td>\n",
       "      <td>C-85</td>\n",
       "    </tr>\n",
       "  </tbody>\n",
       "</table>\n",
       "<p>185 rows × 12 columns</p>\n",
       "</div>"
      ],
      "text/plain": [
       "        Nr      Datum  Jahr         Land       Stadt   Umsatz   Kosten   \n",
       "0        1   1/1/2025  2025     Südkorea       Seoul  5534.55  4427.64  \\\n",
       "24      25  1/25/2025  2025     Südkorea       Seoul  6381.75  7019.93   \n",
       "33      34   2/3/2025  2025     Südkorea       Seoul  4778.10  2866.86   \n",
       "39      40   2/9/2025  2025     Südkorea       Seoul  4943.55  3954.84   \n",
       "55      56  2/25/2025  2025  Deutschland      Berlin  7496.55  8246.20   \n",
       "...    ...        ...   ...          ...         ...      ...      ...   \n",
       "1335  1336  8/28/2028  2028     Südkorea    Silheung  6159.30  4927.44   \n",
       "1343  1344   9/5/2028  2028          USA  Sacramento  7279.20  5823.36   \n",
       "1348  1349  9/10/2028  2028          USA  Sacramento  5570.85  4456.68   \n",
       "1349  1350  9/11/2028  2028     Südkorea    Silheung  6458.85  5167.08   \n",
       "1375  1376  10/7/2028  2028     Südkorea  Yangsan-si  6019.05  4815.24   \n",
       "\n",
       "      Rücksendung    Bereich Produktgruppe Logistik-Code  Kunde  \n",
       "0             NaN  Bereich-5         prd-3     6-43647-1   C-85  \n",
       "24            NaN  Bereich-2        prd-83     6-43648-1   C-85  \n",
       "33            1.0  Bereich-5        prd-19     6-43649-1   C-85  \n",
       "39            NaN  Bereich-2        prd-91     6-43650-1   C-85  \n",
       "55            NaN  Bereich-1        prd-59     3-43656-1   C-65  \n",
       "...           ...        ...           ...           ...    ...  \n",
       "1335          NaN  Bereich-3        prd-65     6-43662-1   C-85  \n",
       "1343          NaN  Bereich-3        prd-60     1-43676-1   C-76  \n",
       "1348          NaN  Bereich-2        prd-89    12-43676-1   C-53  \n",
       "1349          1.0  Bereich-2        prd-86     2-43656-1  C-107  \n",
       "1375          NaN  Bereich-3        prd-77     6-43663-1   C-85  \n",
       "\n",
       "[185 rows x 12 columns]"
      ]
     },
     "execution_count": 40,
     "metadata": {},
     "output_type": "execute_result"
    }
   ],
   "source": [
    "umsatz[umsatz[\"Logistik-Code\"].str.contains(\"6-\")]"
   ]
  },
  {
   "cell_type": "code",
   "execution_count": 41,
   "id": "d76a3254-ebff-4034-b413-e0a84e50d4c7",
   "metadata": {},
   "outputs": [
    {
     "data": {
      "text/plain": [
       "185"
      ]
     },
     "execution_count": 41,
     "metadata": {},
     "output_type": "execute_result"
    }
   ],
   "source": [
    "len(umsatz[umsatz[\"Logistik-Code\"].str.contains(\"6-\")])"
   ]
  },
  {
   "cell_type": "code",
   "execution_count": 42,
   "id": "4e53168b-0e40-4518-8585-9ce8e0e7f40a",
   "metadata": {},
   "outputs": [
    {
     "data": {
      "text/html": [
       "<div>\n",
       "<style scoped>\n",
       "    .dataframe tbody tr th:only-of-type {\n",
       "        vertical-align: middle;\n",
       "    }\n",
       "\n",
       "    .dataframe tbody tr th {\n",
       "        vertical-align: top;\n",
       "    }\n",
       "\n",
       "    .dataframe thead th {\n",
       "        text-align: right;\n",
       "    }\n",
       "</style>\n",
       "<table border=\"1\" class=\"dataframe\">\n",
       "  <thead>\n",
       "    <tr style=\"text-align: right;\">\n",
       "      <th></th>\n",
       "      <th>Nr</th>\n",
       "      <th>Datum</th>\n",
       "      <th>Jahr</th>\n",
       "      <th>Land</th>\n",
       "      <th>Stadt</th>\n",
       "      <th>Umsatz</th>\n",
       "      <th>Kosten</th>\n",
       "      <th>Rücksendung</th>\n",
       "      <th>Bereich</th>\n",
       "      <th>Produktgruppe</th>\n",
       "      <th>Logistik-Code</th>\n",
       "      <th>Kunde</th>\n",
       "    </tr>\n",
       "  </thead>\n",
       "  <tbody>\n",
       "    <tr>\n",
       "      <th>0</th>\n",
       "      <td>1</td>\n",
       "      <td>1/1/2025</td>\n",
       "      <td>2025</td>\n",
       "      <td>Südkorea</td>\n",
       "      <td>Seoul</td>\n",
       "      <td>5534.55</td>\n",
       "      <td>4427.64</td>\n",
       "      <td>NaN</td>\n",
       "      <td>Bereich-5</td>\n",
       "      <td>prd-3</td>\n",
       "      <td>6-43647-1</td>\n",
       "      <td>C-85</td>\n",
       "    </tr>\n",
       "    <tr>\n",
       "      <th>1</th>\n",
       "      <td>2</td>\n",
       "      <td>1/2/2025</td>\n",
       "      <td>2025</td>\n",
       "      <td>Südkorea</td>\n",
       "      <td>Seoul</td>\n",
       "      <td>6284.70</td>\n",
       "      <td>7164.56</td>\n",
       "      <td>NaN</td>\n",
       "      <td>Bereich-5</td>\n",
       "      <td>prd-1</td>\n",
       "      <td>2-43647-1</td>\n",
       "      <td>C-107</td>\n",
       "    </tr>\n",
       "    <tr>\n",
       "      <th>2</th>\n",
       "      <td>3</td>\n",
       "      <td>1/3/2025</td>\n",
       "      <td>2025</td>\n",
       "      <td>Vereinigtes Königreich</td>\n",
       "      <td>London</td>\n",
       "      <td>5437.65</td>\n",
       "      <td>6198.92</td>\n",
       "      <td>NaN</td>\n",
       "      <td>Bereich-1</td>\n",
       "      <td>prd-56</td>\n",
       "      <td>7-43647-1</td>\n",
       "      <td>C-141</td>\n",
       "    </tr>\n",
       "    <tr>\n",
       "      <th>3</th>\n",
       "      <td>4</td>\n",
       "      <td>1/4/2025</td>\n",
       "      <td>2025</td>\n",
       "      <td>China</td>\n",
       "      <td>Peking</td>\n",
       "      <td>8587.20</td>\n",
       "      <td>5152.32</td>\n",
       "      <td>NaN</td>\n",
       "      <td>Bereich-2</td>\n",
       "      <td>prd-92</td>\n",
       "      <td>4-43647-1</td>\n",
       "      <td>C-124</td>\n",
       "    </tr>\n",
       "    <tr>\n",
       "      <th>4</th>\n",
       "      <td>5</td>\n",
       "      <td>1/5/2025</td>\n",
       "      <td>2025</td>\n",
       "      <td>USA</td>\n",
       "      <td>Los Angeles</td>\n",
       "      <td>9439.05</td>\n",
       "      <td>10382.95</td>\n",
       "      <td>NaN</td>\n",
       "      <td>Bereich-2</td>\n",
       "      <td>prd-85</td>\n",
       "      <td>1-43647-1</td>\n",
       "      <td>C-76</td>\n",
       "    </tr>\n",
       "    <tr>\n",
       "      <th>...</th>\n",
       "      <td>...</td>\n",
       "      <td>...</td>\n",
       "      <td>...</td>\n",
       "      <td>...</td>\n",
       "      <td>...</td>\n",
       "      <td>...</td>\n",
       "      <td>...</td>\n",
       "      <td>...</td>\n",
       "      <td>...</td>\n",
       "      <td>...</td>\n",
       "      <td>...</td>\n",
       "      <td>...</td>\n",
       "    </tr>\n",
       "    <tr>\n",
       "      <th>1375</th>\n",
       "      <td>1376</td>\n",
       "      <td>10/7/2028</td>\n",
       "      <td>2028</td>\n",
       "      <td>Südkorea</td>\n",
       "      <td>Yangsan-si</td>\n",
       "      <td>6019.05</td>\n",
       "      <td>4815.24</td>\n",
       "      <td>NaN</td>\n",
       "      <td>Bereich-3</td>\n",
       "      <td>prd-77</td>\n",
       "      <td>6-43663-1</td>\n",
       "      <td>C-85</td>\n",
       "    </tr>\n",
       "    <tr>\n",
       "      <th>1376</th>\n",
       "      <td>1377</td>\n",
       "      <td>10/8/2028</td>\n",
       "      <td>2028</td>\n",
       "      <td>Südkorea</td>\n",
       "      <td>Yangsan-si</td>\n",
       "      <td>6482.40</td>\n",
       "      <td>5185.92</td>\n",
       "      <td>NaN</td>\n",
       "      <td>Bereich-2</td>\n",
       "      <td>prd-96</td>\n",
       "      <td>5-43655-1</td>\n",
       "      <td>C-65</td>\n",
       "    </tr>\n",
       "    <tr>\n",
       "      <th>1377</th>\n",
       "      <td>1378</td>\n",
       "      <td>10/9/2028</td>\n",
       "      <td>2028</td>\n",
       "      <td>Deutschland</td>\n",
       "      <td>Stuttgart</td>\n",
       "      <td>9192.15</td>\n",
       "      <td>7353.72</td>\n",
       "      <td>NaN</td>\n",
       "      <td>Bereich-1</td>\n",
       "      <td>prd-50</td>\n",
       "      <td>3-43673-1</td>\n",
       "      <td>C-65</td>\n",
       "    </tr>\n",
       "    <tr>\n",
       "      <th>1378</th>\n",
       "      <td>1379</td>\n",
       "      <td>10/10/2028</td>\n",
       "      <td>2028</td>\n",
       "      <td>Mexiko</td>\n",
       "      <td>Torreón</td>\n",
       "      <td>9808.95</td>\n",
       "      <td>7847.16</td>\n",
       "      <td>1.0</td>\n",
       "      <td>Bereich-3</td>\n",
       "      <td>prd-72</td>\n",
       "      <td>8-43659-1</td>\n",
       "      <td>C-109</td>\n",
       "    </tr>\n",
       "    <tr>\n",
       "      <th>1379</th>\n",
       "      <td>1380</td>\n",
       "      <td>10/11/2028</td>\n",
       "      <td>2028</td>\n",
       "      <td>USA</td>\n",
       "      <td>Sacramento</td>\n",
       "      <td>8303.55</td>\n",
       "      <td>6642.84</td>\n",
       "      <td>NaN</td>\n",
       "      <td>Bereich-2</td>\n",
       "      <td>prd-88</td>\n",
       "      <td>1-43654-2</td>\n",
       "      <td>C-76</td>\n",
       "    </tr>\n",
       "  </tbody>\n",
       "</table>\n",
       "<p>1380 rows × 12 columns</p>\n",
       "</div>"
      ],
      "text/plain": [
       "        Nr       Datum  Jahr                    Land        Stadt   Umsatz   \n",
       "0        1    1/1/2025  2025                Südkorea        Seoul  5534.55  \\\n",
       "1        2    1/2/2025  2025                Südkorea        Seoul  6284.70   \n",
       "2        3    1/3/2025  2025  Vereinigtes Königreich       London  5437.65   \n",
       "3        4    1/4/2025  2025                   China       Peking  8587.20   \n",
       "4        5    1/5/2025  2025                     USA  Los Angeles  9439.05   \n",
       "...    ...         ...   ...                     ...          ...      ...   \n",
       "1375  1376   10/7/2028  2028                Südkorea   Yangsan-si  6019.05   \n",
       "1376  1377   10/8/2028  2028                Südkorea   Yangsan-si  6482.40   \n",
       "1377  1378   10/9/2028  2028             Deutschland    Stuttgart  9192.15   \n",
       "1378  1379  10/10/2028  2028                  Mexiko      Torreón  9808.95   \n",
       "1379  1380  10/11/2028  2028                     USA   Sacramento  8303.55   \n",
       "\n",
       "        Kosten  Rücksendung    Bereich Produktgruppe Logistik-Code  Kunde  \n",
       "0      4427.64          NaN  Bereich-5         prd-3     6-43647-1   C-85  \n",
       "1      7164.56          NaN  Bereich-5         prd-1     2-43647-1  C-107  \n",
       "2      6198.92          NaN  Bereich-1        prd-56     7-43647-1  C-141  \n",
       "3      5152.32          NaN  Bereich-2        prd-92     4-43647-1  C-124  \n",
       "4     10382.95          NaN  Bereich-2        prd-85     1-43647-1   C-76  \n",
       "...        ...          ...        ...           ...           ...    ...  \n",
       "1375   4815.24          NaN  Bereich-3        prd-77     6-43663-1   C-85  \n",
       "1376   5185.92          NaN  Bereich-2        prd-96     5-43655-1   C-65  \n",
       "1377   7353.72          NaN  Bereich-1        prd-50     3-43673-1   C-65  \n",
       "1378   7847.16          1.0  Bereich-3        prd-72     8-43659-1  C-109  \n",
       "1379   6642.84          NaN  Bereich-2        prd-88     1-43654-2   C-76  \n",
       "\n",
       "[1380 rows x 12 columns]"
      ]
     },
     "execution_count": 42,
     "metadata": {},
     "output_type": "execute_result"
    }
   ],
   "source": [
    "umsatz"
   ]
  },
  {
   "cell_type": "code",
   "execution_count": 43,
   "id": "1509fa75-89bd-4eeb-8160-8a1d358d3e48",
   "metadata": {},
   "outputs": [
    {
     "name": "stdout",
     "output_type": "stream",
     "text": [
      "0.13405797101449277\n"
     ]
    }
   ],
   "source": [
    "print(185/1380)"
   ]
  },
  {
   "cell_type": "markdown",
   "id": "255a4e5b-cd43-47ad-800e-785681694142",
   "metadata": {},
   "source": [
    "### replace"
   ]
  },
  {
   "cell_type": "code",
   "execution_count": 46,
   "id": "6fe3f2fe-a78f-46f1-adb7-2742df3dd178",
   "metadata": {},
   "outputs": [],
   "source": [
    "umsatz = umsatz.Land.str.replace(\"Deutschland\", \"DE\")"
   ]
  },
  {
   "cell_type": "code",
   "execution_count": 47,
   "id": "d446e374-4ab3-4476-b529-c1e6595a82a3",
   "metadata": {},
   "outputs": [
    {
     "data": {
      "text/plain": [
       "0                     Südkorea\n",
       "1                     Südkorea\n",
       "2       Vereinigtes Königreich\n",
       "3                        China\n",
       "4                          USA\n",
       "                 ...          \n",
       "1375                  Südkorea\n",
       "1376                  Südkorea\n",
       "1377                        DE\n",
       "1378                    Mexiko\n",
       "1379                       USA\n",
       "Name: Land, Length: 1380, dtype: object"
      ]
     },
     "execution_count": 47,
     "metadata": {},
     "output_type": "execute_result"
    }
   ],
   "source": [
    "umsatz"
   ]
  },
  {
   "cell_type": "markdown",
   "id": "3e192452-4aff-4e82-a517-b14ae6f3a89a",
   "metadata": {},
   "source": [
    "### split"
   ]
  },
  {
   "cell_type": "code",
   "execution_count": 51,
   "id": "d3d29af0-10f1-4379-b704-fa8f23aec330",
   "metadata": {},
   "outputs": [
    {
     "data": {
      "text/plain": [
       "0        [C, 85]\n",
       "1       [C, 107]\n",
       "2       [C, 141]\n",
       "3       [C, 124]\n",
       "4        [C, 76]\n",
       "          ...   \n",
       "1375     [C, 85]\n",
       "1376     [C, 65]\n",
       "1377     [C, 65]\n",
       "1378    [C, 109]\n",
       "1379     [C, 76]\n",
       "Name: Kunde, Length: 1380, dtype: object"
      ]
     },
     "execution_count": 51,
     "metadata": {},
     "output_type": "execute_result"
    }
   ],
   "source": [
    "umsatz.Kunde.str.split(\"-\")"
   ]
  },
  {
   "cell_type": "markdown",
   "id": "7bb78f31-e9b4-4a34-adc1-6425b7007cd4",
   "metadata": {},
   "source": [
    "### find"
   ]
  },
  {
   "cell_type": "code",
   "execution_count": 53,
   "id": "8c8c7cea-f8d7-489e-b593-81395995c0a6",
   "metadata": {},
   "outputs": [
    {
     "data": {
      "text/plain": [
       "0             Seoul\n",
       "1             Seoul\n",
       "2            London\n",
       "3            Peking\n",
       "4       Los Angeles\n",
       "           ...     \n",
       "1375     Yangsan-si\n",
       "1376     Yangsan-si\n",
       "1377      Stuttgart\n",
       "1378        Torreón\n",
       "1379     Sacramento\n",
       "Name: Stadt, Length: 1380, dtype: object"
      ]
     },
     "execution_count": 53,
     "metadata": {},
     "output_type": "execute_result"
    }
   ],
   "source": [
    "umsatz.Stadt"
   ]
  },
  {
   "cell_type": "code",
   "execution_count": 52,
   "id": "02217af9-ed7c-4849-afb0-75df3eb0710d",
   "metadata": {},
   "outputs": [
    {
     "data": {
      "text/plain": [
       "0      -1\n",
       "1      -1\n",
       "2      -1\n",
       "3      -1\n",
       "4      -1\n",
       "       ..\n",
       "1375    1\n",
       "1376    1\n",
       "1377    6\n",
       "1378   -1\n",
       "1379    1\n",
       "Name: Stadt, Length: 1380, dtype: int64"
      ]
     },
     "execution_count": 52,
     "metadata": {},
     "output_type": "execute_result"
    }
   ],
   "source": [
    "umsatz.Stadt.str.find(\"a\")"
   ]
  },
  {
   "cell_type": "markdown",
   "id": "6b26dda8-cc50-4877-a1ce-bd8a58b38742",
   "metadata": {},
   "source": [
    "### findall"
   ]
  },
  {
   "cell_type": "code",
   "execution_count": 55,
   "id": "e8458e92-9cf9-41a3-b6bd-b2285dbd1fcd",
   "metadata": {},
   "outputs": [
    {
     "data": {
      "text/plain": [
       "0        C-85\n",
       "1       C-107\n",
       "2       C-141\n",
       "3       C-124\n",
       "4        C-76\n",
       "        ...  \n",
       "1375     C-85\n",
       "1376     C-65\n",
       "1377     C-65\n",
       "1378    C-109\n",
       "1379     C-76\n",
       "Name: Kunde, Length: 1380, dtype: object"
      ]
     },
     "execution_count": 55,
     "metadata": {},
     "output_type": "execute_result"
    }
   ],
   "source": [
    "umsatz.Kunde"
   ]
  },
  {
   "cell_type": "code",
   "execution_count": 54,
   "id": "e5676fce-e926-4bd0-93ff-3e4117211c51",
   "metadata": {},
   "outputs": [
    {
     "data": {
      "text/plain": [
       "0          []\n",
       "1       [C-1]\n",
       "2       [C-1]\n",
       "3       [C-1]\n",
       "4          []\n",
       "        ...  \n",
       "1375       []\n",
       "1376       []\n",
       "1377       []\n",
       "1378    [C-1]\n",
       "1379       []\n",
       "Name: Kunde, Length: 1380, dtype: object"
      ]
     },
     "execution_count": 54,
     "metadata": {},
     "output_type": "execute_result"
    }
   ],
   "source": [
    "umsatz.Kunde.str.findall(\"C-1\")"
   ]
  },
  {
   "cell_type": "code",
   "execution_count": 56,
   "id": "36ed3fc4-a450-41b3-9207-0e4dd5a53079",
   "metadata": {},
   "outputs": [
    {
     "data": {
      "text/plain": [
       "0        [C-]\n",
       "1       [C-1]\n",
       "2       [C-1]\n",
       "3       [C-1]\n",
       "4        [C-]\n",
       "        ...  \n",
       "1375     [C-]\n",
       "1376     [C-]\n",
       "1377     [C-]\n",
       "1378    [C-1]\n",
       "1379     [C-]\n",
       "Name: Kunde, Length: 1380, dtype: object"
      ]
     },
     "execution_count": 56,
     "metadata": {},
     "output_type": "execute_result"
    }
   ],
   "source": [
    "umsatz.Kunde.str.findall(\"C-1*\")"
   ]
  },
  {
   "cell_type": "markdown",
   "id": "c5f8dd61-9322-4891-967a-f2095ac17473",
   "metadata": {},
   "source": [
    "### startswith"
   ]
  },
  {
   "cell_type": "code",
   "execution_count": 57,
   "id": "c7fb9580-3b47-4132-bd02-d78432878fa5",
   "metadata": {},
   "outputs": [
    {
     "data": {
      "text/plain": [
       "0       False\n",
       "1        True\n",
       "2        True\n",
       "3        True\n",
       "4       False\n",
       "        ...  \n",
       "1375    False\n",
       "1376    False\n",
       "1377    False\n",
       "1378     True\n",
       "1379    False\n",
       "Name: Kunde, Length: 1380, dtype: bool"
      ]
     },
     "execution_count": 57,
     "metadata": {},
     "output_type": "execute_result"
    }
   ],
   "source": [
    "umsatz.Kunde.str.startswith(\"C-1\")"
   ]
  },
  {
   "cell_type": "code",
   "execution_count": 58,
   "id": "02b172bd-9fe8-4455-a618-09b2a3f8a846",
   "metadata": {},
   "outputs": [
    {
     "data": {
      "text/html": [
       "<div>\n",
       "<style scoped>\n",
       "    .dataframe tbody tr th:only-of-type {\n",
       "        vertical-align: middle;\n",
       "    }\n",
       "\n",
       "    .dataframe tbody tr th {\n",
       "        vertical-align: top;\n",
       "    }\n",
       "\n",
       "    .dataframe thead th {\n",
       "        text-align: right;\n",
       "    }\n",
       "</style>\n",
       "<table border=\"1\" class=\"dataframe\">\n",
       "  <thead>\n",
       "    <tr style=\"text-align: right;\">\n",
       "      <th></th>\n",
       "      <th>Nr</th>\n",
       "      <th>Datum</th>\n",
       "      <th>Jahr</th>\n",
       "      <th>Land</th>\n",
       "      <th>Stadt</th>\n",
       "      <th>Umsatz</th>\n",
       "      <th>Kosten</th>\n",
       "      <th>Rücksendung</th>\n",
       "      <th>Bereich</th>\n",
       "      <th>Produktgruppe</th>\n",
       "      <th>Logistik-Code</th>\n",
       "      <th>Kunde</th>\n",
       "    </tr>\n",
       "  </thead>\n",
       "  <tbody>\n",
       "    <tr>\n",
       "      <th>1</th>\n",
       "      <td>2</td>\n",
       "      <td>1/2/2025</td>\n",
       "      <td>2025</td>\n",
       "      <td>Südkorea</td>\n",
       "      <td>Seoul</td>\n",
       "      <td>6284.70</td>\n",
       "      <td>7164.56</td>\n",
       "      <td>NaN</td>\n",
       "      <td>Bereich-5</td>\n",
       "      <td>prd-1</td>\n",
       "      <td>2-43647-1</td>\n",
       "      <td>C-107</td>\n",
       "    </tr>\n",
       "    <tr>\n",
       "      <th>2</th>\n",
       "      <td>3</td>\n",
       "      <td>1/3/2025</td>\n",
       "      <td>2025</td>\n",
       "      <td>Vereinigtes Königreich</td>\n",
       "      <td>London</td>\n",
       "      <td>5437.65</td>\n",
       "      <td>6198.92</td>\n",
       "      <td>NaN</td>\n",
       "      <td>Bereich-1</td>\n",
       "      <td>prd-56</td>\n",
       "      <td>7-43647-1</td>\n",
       "      <td>C-141</td>\n",
       "    </tr>\n",
       "    <tr>\n",
       "      <th>3</th>\n",
       "      <td>4</td>\n",
       "      <td>1/4/2025</td>\n",
       "      <td>2025</td>\n",
       "      <td>China</td>\n",
       "      <td>Peking</td>\n",
       "      <td>8587.20</td>\n",
       "      <td>5152.32</td>\n",
       "      <td>NaN</td>\n",
       "      <td>Bereich-2</td>\n",
       "      <td>prd-92</td>\n",
       "      <td>4-43647-1</td>\n",
       "      <td>C-124</td>\n",
       "    </tr>\n",
       "    <tr>\n",
       "      <th>6</th>\n",
       "      <td>7</td>\n",
       "      <td>1/7/2025</td>\n",
       "      <td>2025</td>\n",
       "      <td>Südkorea</td>\n",
       "      <td>Seoul</td>\n",
       "      <td>6589.80</td>\n",
       "      <td>7248.78</td>\n",
       "      <td>NaN</td>\n",
       "      <td>Bereich-1</td>\n",
       "      <td>prd-59</td>\n",
       "      <td>2-43648-1</td>\n",
       "      <td>C-107</td>\n",
       "    </tr>\n",
       "    <tr>\n",
       "      <th>11</th>\n",
       "      <td>12</td>\n",
       "      <td>1/12/2025</td>\n",
       "      <td>2025</td>\n",
       "      <td>China</td>\n",
       "      <td>Peking</td>\n",
       "      <td>6857.40</td>\n",
       "      <td>4114.44</td>\n",
       "      <td>NaN</td>\n",
       "      <td>Bereich-1</td>\n",
       "      <td>prd-56</td>\n",
       "      <td>4-43648-1</td>\n",
       "      <td>C-124</td>\n",
       "    </tr>\n",
       "    <tr>\n",
       "      <th>...</th>\n",
       "      <td>...</td>\n",
       "      <td>...</td>\n",
       "      <td>...</td>\n",
       "      <td>...</td>\n",
       "      <td>...</td>\n",
       "      <td>...</td>\n",
       "      <td>...</td>\n",
       "      <td>...</td>\n",
       "      <td>...</td>\n",
       "      <td>...</td>\n",
       "      <td>...</td>\n",
       "      <td>...</td>\n",
       "    </tr>\n",
       "    <tr>\n",
       "      <th>1367</th>\n",
       "      <td>1368</td>\n",
       "      <td>9/29/2028</td>\n",
       "      <td>2028</td>\n",
       "      <td>China</td>\n",
       "      <td>Quingdao</td>\n",
       "      <td>4496.25</td>\n",
       "      <td>3597.00</td>\n",
       "      <td>NaN</td>\n",
       "      <td>Bereich-3</td>\n",
       "      <td>prd-68</td>\n",
       "      <td>4-43653-1</td>\n",
       "      <td>C-124</td>\n",
       "    </tr>\n",
       "    <tr>\n",
       "      <th>1369</th>\n",
       "      <td>1370</td>\n",
       "      <td>10/1/2028</td>\n",
       "      <td>2028</td>\n",
       "      <td>Südkorea</td>\n",
       "      <td>Yangsan-si</td>\n",
       "      <td>6586.05</td>\n",
       "      <td>5268.84</td>\n",
       "      <td>NaN</td>\n",
       "      <td>Bereich-3</td>\n",
       "      <td>prd-73</td>\n",
       "      <td>2-43663-1</td>\n",
       "      <td>C-107</td>\n",
       "    </tr>\n",
       "    <tr>\n",
       "      <th>1370</th>\n",
       "      <td>1371</td>\n",
       "      <td>10/2/2028</td>\n",
       "      <td>2028</td>\n",
       "      <td>Vereinigtes Königreich</td>\n",
       "      <td>Leicester</td>\n",
       "      <td>7890.45</td>\n",
       "      <td>6312.36</td>\n",
       "      <td>NaN</td>\n",
       "      <td>Bereich-3</td>\n",
       "      <td>prd-78</td>\n",
       "      <td>10-43662-1</td>\n",
       "      <td>C-115</td>\n",
       "    </tr>\n",
       "    <tr>\n",
       "      <th>1372</th>\n",
       "      <td>1373</td>\n",
       "      <td>10/4/2028</td>\n",
       "      <td>2028</td>\n",
       "      <td>Südkorea</td>\n",
       "      <td>Yangsan-si</td>\n",
       "      <td>8589.90</td>\n",
       "      <td>6871.92</td>\n",
       "      <td>1.0</td>\n",
       "      <td>Bereich-3</td>\n",
       "      <td>prd-61</td>\n",
       "      <td>2-43664-1</td>\n",
       "      <td>C-107</td>\n",
       "    </tr>\n",
       "    <tr>\n",
       "      <th>1378</th>\n",
       "      <td>1379</td>\n",
       "      <td>10/10/2028</td>\n",
       "      <td>2028</td>\n",
       "      <td>Mexiko</td>\n",
       "      <td>Torreón</td>\n",
       "      <td>9808.95</td>\n",
       "      <td>7847.16</td>\n",
       "      <td>1.0</td>\n",
       "      <td>Bereich-3</td>\n",
       "      <td>prd-72</td>\n",
       "      <td>8-43659-1</td>\n",
       "      <td>C-109</td>\n",
       "    </tr>\n",
       "  </tbody>\n",
       "</table>\n",
       "<p>641 rows × 12 columns</p>\n",
       "</div>"
      ],
      "text/plain": [
       "        Nr       Datum  Jahr                    Land       Stadt   Umsatz   \n",
       "1        2    1/2/2025  2025                Südkorea       Seoul  6284.70  \\\n",
       "2        3    1/3/2025  2025  Vereinigtes Königreich      London  5437.65   \n",
       "3        4    1/4/2025  2025                   China      Peking  8587.20   \n",
       "6        7    1/7/2025  2025                Südkorea       Seoul  6589.80   \n",
       "11      12   1/12/2025  2025                   China      Peking  6857.40   \n",
       "...    ...         ...   ...                     ...         ...      ...   \n",
       "1367  1368   9/29/2028  2028                   China    Quingdao  4496.25   \n",
       "1369  1370   10/1/2028  2028                Südkorea  Yangsan-si  6586.05   \n",
       "1370  1371   10/2/2028  2028  Vereinigtes Königreich   Leicester  7890.45   \n",
       "1372  1373   10/4/2028  2028                Südkorea  Yangsan-si  8589.90   \n",
       "1378  1379  10/10/2028  2028                  Mexiko     Torreón  9808.95   \n",
       "\n",
       "       Kosten  Rücksendung    Bereich Produktgruppe Logistik-Code  Kunde  \n",
       "1     7164.56          NaN  Bereich-5         prd-1     2-43647-1  C-107  \n",
       "2     6198.92          NaN  Bereich-1        prd-56     7-43647-1  C-141  \n",
       "3     5152.32          NaN  Bereich-2        prd-92     4-43647-1  C-124  \n",
       "6     7248.78          NaN  Bereich-1        prd-59     2-43648-1  C-107  \n",
       "11    4114.44          NaN  Bereich-1        prd-56     4-43648-1  C-124  \n",
       "...       ...          ...        ...           ...           ...    ...  \n",
       "1367  3597.00          NaN  Bereich-3        prd-68     4-43653-1  C-124  \n",
       "1369  5268.84          NaN  Bereich-3        prd-73     2-43663-1  C-107  \n",
       "1370  6312.36          NaN  Bereich-3        prd-78    10-43662-1  C-115  \n",
       "1372  6871.92          1.0  Bereich-3        prd-61     2-43664-1  C-107  \n",
       "1378  7847.16          1.0  Bereich-3        prd-72     8-43659-1  C-109  \n",
       "\n",
       "[641 rows x 12 columns]"
      ]
     },
     "execution_count": 58,
     "metadata": {},
     "output_type": "execute_result"
    }
   ],
   "source": [
    "umsatz[umsatz.Kunde.str.startswith(\"C-1\")]"
   ]
  },
  {
   "cell_type": "markdown",
   "id": "0d9c6021-bddb-4c04-bb3f-52c3131f3cc7",
   "metadata": {},
   "source": [
    "### endswith"
   ]
  },
  {
   "cell_type": "code",
   "execution_count": 60,
   "id": "68606f67-3371-4ca2-bbea-8d4a048eacb5",
   "metadata": {},
   "outputs": [
    {
     "data": {
      "text/plain": [
       "0       False\n",
       "1       False\n",
       "2       False\n",
       "3        True\n",
       "4       False\n",
       "        ...  \n",
       "1375    False\n",
       "1376    False\n",
       "1377    False\n",
       "1378    False\n",
       "1379    False\n",
       "Name: Kunde, Length: 1380, dtype: bool"
      ]
     },
     "execution_count": 60,
     "metadata": {},
     "output_type": "execute_result"
    }
   ],
   "source": [
    "umsatz.Kunde.str.endswith(\"4\")"
   ]
  },
  {
   "cell_type": "code",
   "execution_count": 61,
   "id": "d98ac316-a522-4ca2-be3f-c002ec8f123b",
   "metadata": {},
   "outputs": [
    {
     "data": {
      "text/html": [
       "<div>\n",
       "<style scoped>\n",
       "    .dataframe tbody tr th:only-of-type {\n",
       "        vertical-align: middle;\n",
       "    }\n",
       "\n",
       "    .dataframe tbody tr th {\n",
       "        vertical-align: top;\n",
       "    }\n",
       "\n",
       "    .dataframe thead th {\n",
       "        text-align: right;\n",
       "    }\n",
       "</style>\n",
       "<table border=\"1\" class=\"dataframe\">\n",
       "  <thead>\n",
       "    <tr style=\"text-align: right;\">\n",
       "      <th></th>\n",
       "      <th>Nr</th>\n",
       "      <th>Datum</th>\n",
       "      <th>Jahr</th>\n",
       "      <th>Land</th>\n",
       "      <th>Stadt</th>\n",
       "      <th>Umsatz</th>\n",
       "      <th>Kosten</th>\n",
       "      <th>Rücksendung</th>\n",
       "      <th>Bereich</th>\n",
       "      <th>Produktgruppe</th>\n",
       "      <th>Logistik-Code</th>\n",
       "      <th>Kunde</th>\n",
       "    </tr>\n",
       "  </thead>\n",
       "  <tbody>\n",
       "    <tr>\n",
       "      <th>3</th>\n",
       "      <td>4</td>\n",
       "      <td>1/4/2025</td>\n",
       "      <td>2025</td>\n",
       "      <td>China</td>\n",
       "      <td>Peking</td>\n",
       "      <td>8587.20</td>\n",
       "      <td>5152.32</td>\n",
       "      <td>NaN</td>\n",
       "      <td>Bereich-2</td>\n",
       "      <td>prd-92</td>\n",
       "      <td>4-43647-1</td>\n",
       "      <td>C-124</td>\n",
       "    </tr>\n",
       "    <tr>\n",
       "      <th>11</th>\n",
       "      <td>12</td>\n",
       "      <td>1/12/2025</td>\n",
       "      <td>2025</td>\n",
       "      <td>China</td>\n",
       "      <td>Peking</td>\n",
       "      <td>6857.40</td>\n",
       "      <td>4114.44</td>\n",
       "      <td>NaN</td>\n",
       "      <td>Bereich-1</td>\n",
       "      <td>prd-56</td>\n",
       "      <td>4-43648-1</td>\n",
       "      <td>C-124</td>\n",
       "    </tr>\n",
       "    <tr>\n",
       "      <th>18</th>\n",
       "      <td>19</td>\n",
       "      <td>1/19/2025</td>\n",
       "      <td>2025</td>\n",
       "      <td>China</td>\n",
       "      <td>Peking</td>\n",
       "      <td>3970.95</td>\n",
       "      <td>3176.76</td>\n",
       "      <td>NaN</td>\n",
       "      <td>Bereich-4</td>\n",
       "      <td>prd-27</td>\n",
       "      <td>4-43649-1</td>\n",
       "      <td>C-124</td>\n",
       "    </tr>\n",
       "    <tr>\n",
       "      <th>30</th>\n",
       "      <td>31</td>\n",
       "      <td>1/31/2025</td>\n",
       "      <td>2025</td>\n",
       "      <td>China</td>\n",
       "      <td>Peking</td>\n",
       "      <td>4834.80</td>\n",
       "      <td>2900.88</td>\n",
       "      <td>NaN</td>\n",
       "      <td>Bereich-5</td>\n",
       "      <td>prd-3</td>\n",
       "      <td>4-43650-1</td>\n",
       "      <td>C-124</td>\n",
       "    </tr>\n",
       "    <tr>\n",
       "      <th>37</th>\n",
       "      <td>38</td>\n",
       "      <td>2/7/2025</td>\n",
       "      <td>2025</td>\n",
       "      <td>China</td>\n",
       "      <td>Peking</td>\n",
       "      <td>6168.90</td>\n",
       "      <td>3701.34</td>\n",
       "      <td>NaN</td>\n",
       "      <td>Bereich-4</td>\n",
       "      <td>prd-25</td>\n",
       "      <td>4-43651-1</td>\n",
       "      <td>C-124</td>\n",
       "    </tr>\n",
       "    <tr>\n",
       "      <th>...</th>\n",
       "      <td>...</td>\n",
       "      <td>...</td>\n",
       "      <td>...</td>\n",
       "      <td>...</td>\n",
       "      <td>...</td>\n",
       "      <td>...</td>\n",
       "      <td>...</td>\n",
       "      <td>...</td>\n",
       "      <td>...</td>\n",
       "      <td>...</td>\n",
       "      <td>...</td>\n",
       "      <td>...</td>\n",
       "    </tr>\n",
       "    <tr>\n",
       "      <th>1330</th>\n",
       "      <td>1331</td>\n",
       "      <td>8/23/2028</td>\n",
       "      <td>2028</td>\n",
       "      <td>China</td>\n",
       "      <td>Quingdao</td>\n",
       "      <td>6972.60</td>\n",
       "      <td>5578.08</td>\n",
       "      <td>NaN</td>\n",
       "      <td>Bereich-3</td>\n",
       "      <td>prd-62</td>\n",
       "      <td>4-43649-1</td>\n",
       "      <td>C-124</td>\n",
       "    </tr>\n",
       "    <tr>\n",
       "      <th>1332</th>\n",
       "      <td>1333</td>\n",
       "      <td>8/25/2028</td>\n",
       "      <td>2028</td>\n",
       "      <td>China</td>\n",
       "      <td>Quingdao</td>\n",
       "      <td>5892.00</td>\n",
       "      <td>4713.60</td>\n",
       "      <td>1.0</td>\n",
       "      <td>Bereich-2</td>\n",
       "      <td>prd-99</td>\n",
       "      <td>4-43650-1</td>\n",
       "      <td>C-124</td>\n",
       "    </tr>\n",
       "    <tr>\n",
       "      <th>1356</th>\n",
       "      <td>1357</td>\n",
       "      <td>9/18/2028</td>\n",
       "      <td>2028</td>\n",
       "      <td>China</td>\n",
       "      <td>Quingdao</td>\n",
       "      <td>5502.75</td>\n",
       "      <td>4402.20</td>\n",
       "      <td>NaN</td>\n",
       "      <td>Bereich-1</td>\n",
       "      <td>prd-51</td>\n",
       "      <td>4-43651-1</td>\n",
       "      <td>C-124</td>\n",
       "    </tr>\n",
       "    <tr>\n",
       "      <th>1360</th>\n",
       "      <td>1361</td>\n",
       "      <td>9/22/2028</td>\n",
       "      <td>2028</td>\n",
       "      <td>China</td>\n",
       "      <td>Quingdao</td>\n",
       "      <td>4873.35</td>\n",
       "      <td>3898.68</td>\n",
       "      <td>1.0</td>\n",
       "      <td>Bereich-3</td>\n",
       "      <td>prd-68</td>\n",
       "      <td>4-43652-1</td>\n",
       "      <td>C-124</td>\n",
       "    </tr>\n",
       "    <tr>\n",
       "      <th>1367</th>\n",
       "      <td>1368</td>\n",
       "      <td>9/29/2028</td>\n",
       "      <td>2028</td>\n",
       "      <td>China</td>\n",
       "      <td>Quingdao</td>\n",
       "      <td>4496.25</td>\n",
       "      <td>3597.00</td>\n",
       "      <td>NaN</td>\n",
       "      <td>Bereich-3</td>\n",
       "      <td>prd-68</td>\n",
       "      <td>4-43653-1</td>\n",
       "      <td>C-124</td>\n",
       "    </tr>\n",
       "  </tbody>\n",
       "</table>\n",
       "<p>130 rows × 12 columns</p>\n",
       "</div>"
      ],
      "text/plain": [
       "        Nr      Datum  Jahr   Land     Stadt   Umsatz   Kosten  Rücksendung   \n",
       "3        4   1/4/2025  2025  China    Peking  8587.20  5152.32          NaN  \\\n",
       "11      12  1/12/2025  2025  China    Peking  6857.40  4114.44          NaN   \n",
       "18      19  1/19/2025  2025  China    Peking  3970.95  3176.76          NaN   \n",
       "30      31  1/31/2025  2025  China    Peking  4834.80  2900.88          NaN   \n",
       "37      38   2/7/2025  2025  China    Peking  6168.90  3701.34          NaN   \n",
       "...    ...        ...   ...    ...       ...      ...      ...          ...   \n",
       "1330  1331  8/23/2028  2028  China  Quingdao  6972.60  5578.08          NaN   \n",
       "1332  1333  8/25/2028  2028  China  Quingdao  5892.00  4713.60          1.0   \n",
       "1356  1357  9/18/2028  2028  China  Quingdao  5502.75  4402.20          NaN   \n",
       "1360  1361  9/22/2028  2028  China  Quingdao  4873.35  3898.68          1.0   \n",
       "1367  1368  9/29/2028  2028  China  Quingdao  4496.25  3597.00          NaN   \n",
       "\n",
       "        Bereich Produktgruppe Logistik-Code  Kunde  \n",
       "3     Bereich-2        prd-92     4-43647-1  C-124  \n",
       "11    Bereich-1        prd-56     4-43648-1  C-124  \n",
       "18    Bereich-4        prd-27     4-43649-1  C-124  \n",
       "30    Bereich-5         prd-3     4-43650-1  C-124  \n",
       "37    Bereich-4        prd-25     4-43651-1  C-124  \n",
       "...         ...           ...           ...    ...  \n",
       "1330  Bereich-3        prd-62     4-43649-1  C-124  \n",
       "1332  Bereich-2        prd-99     4-43650-1  C-124  \n",
       "1356  Bereich-1        prd-51     4-43651-1  C-124  \n",
       "1360  Bereich-3        prd-68     4-43652-1  C-124  \n",
       "1367  Bereich-3        prd-68     4-43653-1  C-124  \n",
       "\n",
       "[130 rows x 12 columns]"
      ]
     },
     "execution_count": 61,
     "metadata": {},
     "output_type": "execute_result"
    }
   ],
   "source": [
    "umsatz[umsatz.Kunde.str.endswith(\"4\")]"
   ]
  },
  {
   "cell_type": "code",
   "execution_count": null,
   "id": "93d732d0-8ea4-4eb5-a780-665d56365a98",
   "metadata": {},
   "outputs": [],
   "source": []
  }
 ],
 "metadata": {
  "kernelspec": {
   "display_name": "Python 3 (ipykernel)",
   "language": "python",
   "name": "python3"
  },
  "language_info": {
   "codemirror_mode": {
    "name": "ipython",
    "version": 3
   },
   "file_extension": ".py",
   "mimetype": "text/x-python",
   "name": "python",
   "nbconvert_exporter": "python",
   "pygments_lexer": "ipython3",
   "version": "3.9.13"
  }
 },
 "nbformat": 4,
 "nbformat_minor": 5
}
