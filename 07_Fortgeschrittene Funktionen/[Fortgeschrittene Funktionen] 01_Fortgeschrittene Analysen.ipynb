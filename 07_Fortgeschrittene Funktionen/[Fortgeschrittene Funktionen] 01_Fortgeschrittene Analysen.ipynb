{
 "cells": [
  {
   "cell_type": "markdown",
   "id": "25312332-3978-43d9-bbb3-32b25b3c2e2d",
   "metadata": {},
   "source": [
    "# [Fortgeschrittene Funktionen] Fortgeschrittene Analysen"
   ]
  },
  {
   "cell_type": "code",
   "execution_count": 1,
   "id": "a128bb54-a9d4-4884-99f4-4cb903972b94",
   "metadata": {},
   "outputs": [],
   "source": [
    "import pandas as pd\n",
    "umsatz = pd.read_csv(\"datengrundlage.xls\")"
   ]
  },
  {
   "cell_type": "code",
   "execution_count": 2,
   "id": "08adf5bc-0885-4b47-a176-dbaeb7b4df4c",
   "metadata": {},
   "outputs": [
    {
     "data": {
      "text/html": [
       "<div>\n",
       "<style scoped>\n",
       "    .dataframe tbody tr th:only-of-type {\n",
       "        vertical-align: middle;\n",
       "    }\n",
       "\n",
       "    .dataframe tbody tr th {\n",
       "        vertical-align: top;\n",
       "    }\n",
       "\n",
       "    .dataframe thead th {\n",
       "        text-align: right;\n",
       "    }\n",
       "</style>\n",
       "<table border=\"1\" class=\"dataframe\">\n",
       "  <thead>\n",
       "    <tr style=\"text-align: right;\">\n",
       "      <th></th>\n",
       "      <th>Nr</th>\n",
       "      <th>Datum</th>\n",
       "      <th>Jahr</th>\n",
       "      <th>Land</th>\n",
       "      <th>Stadt</th>\n",
       "      <th>Umsatz</th>\n",
       "      <th>Kosten</th>\n",
       "      <th>Rücksendung</th>\n",
       "      <th>Bereich</th>\n",
       "      <th>Produktgruppe</th>\n",
       "      <th>Logistik-Code</th>\n",
       "      <th>Kunde</th>\n",
       "    </tr>\n",
       "  </thead>\n",
       "  <tbody>\n",
       "    <tr>\n",
       "      <th>0</th>\n",
       "      <td>1</td>\n",
       "      <td>1/1/2025</td>\n",
       "      <td>2025</td>\n",
       "      <td>Südkorea</td>\n",
       "      <td>Seoul</td>\n",
       "      <td>5534.55</td>\n",
       "      <td>4427.64</td>\n",
       "      <td>NaN</td>\n",
       "      <td>Bereich-5</td>\n",
       "      <td>prd-3</td>\n",
       "      <td>6-43647-1</td>\n",
       "      <td>C-85</td>\n",
       "    </tr>\n",
       "    <tr>\n",
       "      <th>1</th>\n",
       "      <td>2</td>\n",
       "      <td>1/2/2025</td>\n",
       "      <td>2025</td>\n",
       "      <td>Südkorea</td>\n",
       "      <td>Seoul</td>\n",
       "      <td>6284.70</td>\n",
       "      <td>7164.56</td>\n",
       "      <td>NaN</td>\n",
       "      <td>Bereich-5</td>\n",
       "      <td>prd-1</td>\n",
       "      <td>2-43647-1</td>\n",
       "      <td>C-107</td>\n",
       "    </tr>\n",
       "    <tr>\n",
       "      <th>2</th>\n",
       "      <td>3</td>\n",
       "      <td>1/3/2025</td>\n",
       "      <td>2025</td>\n",
       "      <td>Vereinigtes Königreich</td>\n",
       "      <td>London</td>\n",
       "      <td>5437.65</td>\n",
       "      <td>6198.92</td>\n",
       "      <td>NaN</td>\n",
       "      <td>Bereich-1</td>\n",
       "      <td>prd-56</td>\n",
       "      <td>7-43647-1</td>\n",
       "      <td>C-141</td>\n",
       "    </tr>\n",
       "  </tbody>\n",
       "</table>\n",
       "</div>"
      ],
      "text/plain": [
       "   Nr     Datum  Jahr                    Land   Stadt   Umsatz   Kosten   \n",
       "0   1  1/1/2025  2025                Südkorea   Seoul  5534.55  4427.64  \\\n",
       "1   2  1/2/2025  2025                Südkorea   Seoul  6284.70  7164.56   \n",
       "2   3  1/3/2025  2025  Vereinigtes Königreich  London  5437.65  6198.92   \n",
       "\n",
       "   Rücksendung    Bereich Produktgruppe Logistik-Code  Kunde  \n",
       "0          NaN  Bereich-5         prd-3     6-43647-1   C-85  \n",
       "1          NaN  Bereich-5         prd-1     2-43647-1  C-107  \n",
       "2          NaN  Bereich-1        prd-56     7-43647-1  C-141  "
      ]
     },
     "execution_count": 2,
     "metadata": {},
     "output_type": "execute_result"
    }
   ],
   "source": [
    "umsatz.head(3)"
   ]
  },
  {
   "cell_type": "markdown",
   "id": "95e04544-4f1d-4a25-a600-600b57df87b7",
   "metadata": {},
   "source": [
    "### dtypes"
   ]
  },
  {
   "cell_type": "code",
   "execution_count": 3,
   "id": "9d000b56-725c-4d16-b0af-33780d9b35b3",
   "metadata": {},
   "outputs": [
    {
     "data": {
      "text/plain": [
       "Nr                 int64\n",
       "Datum             object\n",
       "Jahr               int64\n",
       "Land              object\n",
       "Stadt             object\n",
       "Umsatz           float64\n",
       "Kosten           float64\n",
       "Rücksendung      float64\n",
       "Bereich           object\n",
       "Produktgruppe     object\n",
       "Logistik-Code     object\n",
       "Kunde             object\n",
       "dtype: object"
      ]
     },
     "execution_count": 3,
     "metadata": {},
     "output_type": "execute_result"
    }
   ],
   "source": [
    "umsatz.dtypes"
   ]
  },
  {
   "cell_type": "markdown",
   "id": "9d9cd29d-bce9-4a1d-879b-b4f8569d58df",
   "metadata": {},
   "source": [
    "### to_datetime"
   ]
  },
  {
   "cell_type": "code",
   "execution_count": 6,
   "id": "c999f2b9-6ea5-4a1a-a2af-4dfa653b5baf",
   "metadata": {},
   "outputs": [],
   "source": [
    "umsatz.Datum = pd.to_datetime(umsatz.Datum)"
   ]
  },
  {
   "cell_type": "code",
   "execution_count": 7,
   "id": "16e51280-970c-4a49-8fe1-a629bb3022c3",
   "metadata": {},
   "outputs": [
    {
     "data": {
      "text/plain": [
       "Nr                        int64\n",
       "Datum            datetime64[ns]\n",
       "Jahr                      int64\n",
       "Land                     object\n",
       "Stadt                    object\n",
       "Umsatz                  float64\n",
       "Kosten                  float64\n",
       "Rücksendung             float64\n",
       "Bereich                  object\n",
       "Produktgruppe            object\n",
       "Logistik-Code            object\n",
       "Kunde                    object\n",
       "dtype: object"
      ]
     },
     "execution_count": 7,
     "metadata": {},
     "output_type": "execute_result"
    }
   ],
   "source": [
    "umsatz.dtypes"
   ]
  },
  {
   "cell_type": "markdown",
   "id": "f73b6af6-264f-4488-b173-80b082ec88c2",
   "metadata": {},
   "source": [
    "### memory_usage"
   ]
  },
  {
   "cell_type": "code",
   "execution_count": 8,
   "id": "53a6db9e-b286-4f87-89d8-89de7c0ffc30",
   "metadata": {},
   "outputs": [
    {
     "data": {
      "text/plain": [
       "Index               128\n",
       "Nr                11040\n",
       "Datum             11040\n",
       "Jahr              11040\n",
       "Land             102689\n",
       "Stadt             91004\n",
       "Umsatz            11040\n",
       "Kosten            11040\n",
       "Rücksendung       11040\n",
       "Bereich           91080\n",
       "Produktgruppe     86813\n",
       "Logistik-Code     91288\n",
       "Kunde             84821\n",
       "dtype: int64"
      ]
     },
     "execution_count": 8,
     "metadata": {},
     "output_type": "execute_result"
    }
   ],
   "source": [
    "umsatz.memory_usage(deep=True)"
   ]
  },
  {
   "cell_type": "markdown",
   "id": "acd34af7-8d24-40cf-82ca-c298f8b71c42",
   "metadata": {},
   "source": [
    "### value_counts"
   ]
  },
  {
   "cell_type": "code",
   "execution_count": 12,
   "id": "f8cc41e7-26a5-45fe-a0a5-d6dc0b6f35b9",
   "metadata": {},
   "outputs": [
    {
     "name": "stdout",
     "output_type": "stream",
     "text": [
      "['Südkorea' 'Vereinigtes Königreich' 'China' 'USA' 'Deutschland' 'Mexiko']\n",
      "['Seoul' 'London' 'Peking' 'Los Angeles' 'Berlin' 'Oaxaca' 'Busan'\n",
      " 'Las Vegas' 'Shanghai' 'Seattle' 'München' 'Incheon' 'Chongqing' 'Miami'\n",
      " 'Shenzhen' 'Daegu' 'Houston' 'Puebla' 'Guangzhou' 'Hannover' 'Daejeon'\n",
      " 'Portland' 'Manchester' 'Wuhan' 'Detroit' 'Veracruz' 'Gwangju' 'Ulsan'\n",
      " 'Dongguan' 'Denver' 'Gangneung' 'Tianjin' 'Seogwipo' 'Dortmund'\n",
      " 'Monterrey' 'Richmond' 'Bristol' 'Gunpo' 'Chuncheon' 'Ciudad Juárez'\n",
      " 'Nanjing' 'San José' 'Liverpool' 'Suncheon' 'Karlsruhe' 'Asan' 'Honolulu'\n",
      " 'Cancún' 'Pyeongtaek' 'Leeds' 'Orlando' 'Freiburg' 'Mokpo' 'Jackson'\n",
      " 'Gimpo' 'Guanajuato' 'Jinan' 'Osan' 'Leipzig' 'Baton Rouge' 'Paju'\n",
      " 'San Luis Potosi' 'Naju' 'Bremen' 'Birmingham' 'Fort Worth' 'Gimhae'\n",
      " 'Luoyang' 'Hartford' 'Durango' 'Salem' 'Hamburg' 'Bucheon' 'Montgomery'\n",
      " 'Nürnberg' 'Shenyang' 'Anyang' 'Topeka' 'Acapulco' 'Miryang' 'Phoenix'\n",
      " 'Stuttgart' 'Quingdao' 'Torreón' 'Silheung' 'Leicester' 'Sacramento'\n",
      " 'Yangsan-si']\n"
     ]
    }
   ],
   "source": [
    "print(umsatz.Land.unique())\n",
    "print(umsatz.Stadt.unique())"
   ]
  },
  {
   "cell_type": "code",
   "execution_count": 14,
   "id": "454b323c-03a3-4961-a811-b3b3d395d933",
   "metadata": {},
   "outputs": [
    {
     "name": "stdout",
     "output_type": "stream",
     "text": [
      "Land\n",
      "Südkorea                  421\n",
      "USA                       308\n",
      "Deutschland               207\n",
      "China                     188\n",
      "Mexiko                    134\n",
      "Vereinigtes Königreich    122\n",
      "Name: count, dtype: int64\n",
      "Stadt\n",
      "Nanjing       33\n",
      "San José      31\n",
      "Jinan         31\n",
      "Hannover      29\n",
      "Birmingham    28\n",
      "              ..\n",
      "Shenzhen       7\n",
      "Dongguan       7\n",
      "Guangzhou      7\n",
      "Miami          7\n",
      "Peking         6\n",
      "Name: count, Length: 88, dtype: int64\n"
     ]
    }
   ],
   "source": [
    "print(umsatz.Land.value_counts())\n",
    "print(umsatz.Stadt.value_counts())"
   ]
  },
  {
   "cell_type": "markdown",
   "id": "7b8c92e0-7dcc-4588-90f9-bfc2cfe2e7ae",
   "metadata": {},
   "source": [
    "### describe und transpose"
   ]
  },
  {
   "cell_type": "code",
   "execution_count": 17,
   "id": "31dbaa8b-fe4e-4c52-8b69-eb81f5fca061",
   "metadata": {},
   "outputs": [
    {
     "data": {
      "text/html": [
       "<div>\n",
       "<style scoped>\n",
       "    .dataframe tbody tr th:only-of-type {\n",
       "        vertical-align: middle;\n",
       "    }\n",
       "\n",
       "    .dataframe tbody tr th {\n",
       "        vertical-align: top;\n",
       "    }\n",
       "\n",
       "    .dataframe thead th {\n",
       "        text-align: right;\n",
       "    }\n",
       "</style>\n",
       "<table border=\"1\" class=\"dataframe\">\n",
       "  <thead>\n",
       "    <tr style=\"text-align: right;\">\n",
       "      <th></th>\n",
       "      <th>count</th>\n",
       "      <th>mean</th>\n",
       "      <th>min</th>\n",
       "      <th>10%</th>\n",
       "      <th>50%</th>\n",
       "      <th>90%</th>\n",
       "      <th>max</th>\n",
       "      <th>std</th>\n",
       "    </tr>\n",
       "  </thead>\n",
       "  <tbody>\n",
       "    <tr>\n",
       "      <th>Nr</th>\n",
       "      <td>1380.0</td>\n",
       "      <td>690.5</td>\n",
       "      <td>1.0</td>\n",
       "      <td>138.9</td>\n",
       "      <td>690.5</td>\n",
       "      <td>1242.1</td>\n",
       "      <td>1380.0</td>\n",
       "      <td>398.515997</td>\n",
       "    </tr>\n",
       "    <tr>\n",
       "      <th>Datum</th>\n",
       "      <td>1380</td>\n",
       "      <td>2026-11-21 12:00:00</td>\n",
       "      <td>2025-01-01 00:00:00</td>\n",
       "      <td>2025-05-18 21:36:00</td>\n",
       "      <td>2026-11-21 12:00:00</td>\n",
       "      <td>2028-05-26 02:24:00</td>\n",
       "      <td>2028-10-11 00:00:00</td>\n",
       "      <td>NaN</td>\n",
       "    </tr>\n",
       "    <tr>\n",
       "      <th>Jahr</th>\n",
       "      <td>1380.0</td>\n",
       "      <td>2026.413043</td>\n",
       "      <td>2025.0</td>\n",
       "      <td>2025.0</td>\n",
       "      <td>2026.0</td>\n",
       "      <td>2028.0</td>\n",
       "      <td>2028.0</td>\n",
       "      <td>1.088727</td>\n",
       "    </tr>\n",
       "    <tr>\n",
       "      <th>Umsatz</th>\n",
       "      <td>1380.0</td>\n",
       "      <td>6473.974348</td>\n",
       "      <td>2055.45</td>\n",
       "      <td>4302.825</td>\n",
       "      <td>6341.1</td>\n",
       "      <td>8845.71</td>\n",
       "      <td>13112.4</td>\n",
       "      <td>1767.118045</td>\n",
       "    </tr>\n",
       "    <tr>\n",
       "      <th>Kosten</th>\n",
       "      <td>1380.0</td>\n",
       "      <td>5233.8115</td>\n",
       "      <td>1644.36</td>\n",
       "      <td>3400.14</td>\n",
       "      <td>5115.06</td>\n",
       "      <td>7213.584</td>\n",
       "      <td>12141.68</td>\n",
       "      <td>1502.02577</td>\n",
       "    </tr>\n",
       "    <tr>\n",
       "      <th>Rücksendung</th>\n",
       "      <td>181.0</td>\n",
       "      <td>1.0</td>\n",
       "      <td>1.0</td>\n",
       "      <td>1.0</td>\n",
       "      <td>1.0</td>\n",
       "      <td>1.0</td>\n",
       "      <td>1.0</td>\n",
       "      <td>0.0</td>\n",
       "    </tr>\n",
       "  </tbody>\n",
       "</table>\n",
       "</div>"
      ],
      "text/plain": [
       "              count                 mean                  min   \n",
       "Nr           1380.0                690.5                  1.0  \\\n",
       "Datum          1380  2026-11-21 12:00:00  2025-01-01 00:00:00   \n",
       "Jahr         1380.0          2026.413043               2025.0   \n",
       "Umsatz       1380.0          6473.974348              2055.45   \n",
       "Kosten       1380.0            5233.8115              1644.36   \n",
       "Rücksendung   181.0                  1.0                  1.0   \n",
       "\n",
       "                             10%                  50%                  90%   \n",
       "Nr                         138.9                690.5               1242.1  \\\n",
       "Datum        2025-05-18 21:36:00  2026-11-21 12:00:00  2028-05-26 02:24:00   \n",
       "Jahr                      2025.0               2026.0               2028.0   \n",
       "Umsatz                  4302.825               6341.1              8845.71   \n",
       "Kosten                   3400.14              5115.06             7213.584   \n",
       "Rücksendung                  1.0                  1.0                  1.0   \n",
       "\n",
       "                             max          std  \n",
       "Nr                        1380.0   398.515997  \n",
       "Datum        2028-10-11 00:00:00          NaN  \n",
       "Jahr                      2028.0     1.088727  \n",
       "Umsatz                   13112.4  1767.118045  \n",
       "Kosten                  12141.68   1502.02577  \n",
       "Rücksendung                  1.0          0.0  "
      ]
     },
     "execution_count": 17,
     "metadata": {},
     "output_type": "execute_result"
    }
   ],
   "source": [
    "umsatz.describe(percentiles=[0.1, 0.9]).transpose()"
   ]
  },
  {
   "cell_type": "code",
   "execution_count": 18,
   "id": "c9eacd41-1ee3-4fe3-bd03-126c265a3715",
   "metadata": {},
   "outputs": [
    {
     "data": {
      "text/html": [
       "<div>\n",
       "<style scoped>\n",
       "    .dataframe tbody tr th:only-of-type {\n",
       "        vertical-align: middle;\n",
       "    }\n",
       "\n",
       "    .dataframe tbody tr th {\n",
       "        vertical-align: top;\n",
       "    }\n",
       "\n",
       "    .dataframe thead th {\n",
       "        text-align: right;\n",
       "    }\n",
       "</style>\n",
       "<table border=\"1\" class=\"dataframe\">\n",
       "  <thead>\n",
       "    <tr style=\"text-align: right;\">\n",
       "      <th></th>\n",
       "      <th>count</th>\n",
       "      <th>mean</th>\n",
       "      <th>min</th>\n",
       "      <th>10%</th>\n",
       "      <th>50%</th>\n",
       "      <th>90%</th>\n",
       "      <th>max</th>\n",
       "      <th>std</th>\n",
       "    </tr>\n",
       "  </thead>\n",
       "  <tbody>\n",
       "    <tr>\n",
       "      <th>Nr</th>\n",
       "      <td>1380.0</td>\n",
       "      <td>690.5</td>\n",
       "      <td>1.0</td>\n",
       "      <td>138.9</td>\n",
       "      <td>690.5</td>\n",
       "      <td>1242.1</td>\n",
       "      <td>1380.0</td>\n",
       "      <td>398.515997</td>\n",
       "    </tr>\n",
       "    <tr>\n",
       "      <th>Datum</th>\n",
       "      <td>1380</td>\n",
       "      <td>2026-11-21 12:00:00</td>\n",
       "      <td>2025-01-01 00:00:00</td>\n",
       "      <td>2025-05-18 21:36:00</td>\n",
       "      <td>2026-11-21 12:00:00</td>\n",
       "      <td>2028-05-26 02:24:00</td>\n",
       "      <td>2028-10-11 00:00:00</td>\n",
       "      <td>NaN</td>\n",
       "    </tr>\n",
       "    <tr>\n",
       "      <th>Jahr</th>\n",
       "      <td>1380.0</td>\n",
       "      <td>2026.413043</td>\n",
       "      <td>2025.0</td>\n",
       "      <td>2025.0</td>\n",
       "      <td>2026.0</td>\n",
       "      <td>2028.0</td>\n",
       "      <td>2028.0</td>\n",
       "      <td>1.088727</td>\n",
       "    </tr>\n",
       "    <tr>\n",
       "      <th>Umsatz</th>\n",
       "      <td>1380.0</td>\n",
       "      <td>6473.974348</td>\n",
       "      <td>2055.45</td>\n",
       "      <td>4302.825</td>\n",
       "      <td>6341.1</td>\n",
       "      <td>8845.71</td>\n",
       "      <td>13112.4</td>\n",
       "      <td>1767.118045</td>\n",
       "    </tr>\n",
       "    <tr>\n",
       "      <th>Kosten</th>\n",
       "      <td>1380.0</td>\n",
       "      <td>5233.8115</td>\n",
       "      <td>1644.36</td>\n",
       "      <td>3400.14</td>\n",
       "      <td>5115.06</td>\n",
       "      <td>7213.584</td>\n",
       "      <td>12141.68</td>\n",
       "      <td>1502.02577</td>\n",
       "    </tr>\n",
       "    <tr>\n",
       "      <th>Rücksendung</th>\n",
       "      <td>181.0</td>\n",
       "      <td>1.0</td>\n",
       "      <td>1.0</td>\n",
       "      <td>1.0</td>\n",
       "      <td>1.0</td>\n",
       "      <td>1.0</td>\n",
       "      <td>1.0</td>\n",
       "      <td>0.0</td>\n",
       "    </tr>\n",
       "  </tbody>\n",
       "</table>\n",
       "</div>"
      ],
      "text/plain": [
       "              count                 mean                  min   \n",
       "Nr           1380.0                690.5                  1.0  \\\n",
       "Datum          1380  2026-11-21 12:00:00  2025-01-01 00:00:00   \n",
       "Jahr         1380.0          2026.413043               2025.0   \n",
       "Umsatz       1380.0          6473.974348              2055.45   \n",
       "Kosten       1380.0            5233.8115              1644.36   \n",
       "Rücksendung   181.0                  1.0                  1.0   \n",
       "\n",
       "                             10%                  50%                  90%   \n",
       "Nr                         138.9                690.5               1242.1  \\\n",
       "Datum        2025-05-18 21:36:00  2026-11-21 12:00:00  2028-05-26 02:24:00   \n",
       "Jahr                      2025.0               2026.0               2028.0   \n",
       "Umsatz                  4302.825               6341.1              8845.71   \n",
       "Kosten                   3400.14              5115.06             7213.584   \n",
       "Rücksendung                  1.0                  1.0                  1.0   \n",
       "\n",
       "                             max          std  \n",
       "Nr                        1380.0   398.515997  \n",
       "Datum        2028-10-11 00:00:00          NaN  \n",
       "Jahr                      2028.0     1.088727  \n",
       "Umsatz                   13112.4  1767.118045  \n",
       "Kosten                  12141.68   1502.02577  \n",
       "Rücksendung                  1.0          0.0  "
      ]
     },
     "execution_count": 18,
     "metadata": {},
     "output_type": "execute_result"
    }
   ],
   "source": [
    "umsatz.describe(percentiles=[0.1, 0.9]).T"
   ]
  },
  {
   "cell_type": "markdown",
   "id": "c0d20e45-aa36-44f2-88ba-1fe4f6a509dd",
   "metadata": {},
   "source": [
    "### convert_dtypes"
   ]
  },
  {
   "cell_type": "code",
   "execution_count": 19,
   "id": "e329050f-19cd-47af-9a0d-6990f7108be9",
   "metadata": {},
   "outputs": [
    {
     "name": "stdout",
     "output_type": "stream",
     "text": [
      "Nr                        int64\n",
      "Datum            datetime64[ns]\n",
      "Jahr                      int64\n",
      "Land                     object\n",
      "Stadt                    object\n",
      "Umsatz                  float64\n",
      "Kosten                  float64\n",
      "Rücksendung             float64\n",
      "Bereich                  object\n",
      "Produktgruppe            object\n",
      "Logistik-Code            object\n",
      "Kunde                    object\n",
      "dtype: object\n"
     ]
    }
   ],
   "source": [
    "print(umsatz.dtypes)"
   ]
  },
  {
   "cell_type": "code",
   "execution_count": 21,
   "id": "c586c793-699b-4a2a-b20c-e96a2ae4ac28",
   "metadata": {},
   "outputs": [
    {
     "data": {
      "text/plain": [
       "Nr                        Int64\n",
       "Datum            datetime64[ns]\n",
       "Jahr                      Int64\n",
       "Land             string[python]\n",
       "Stadt            string[python]\n",
       "Umsatz                  Float64\n",
       "Kosten                  Float64\n",
       "Rücksendung               Int64\n",
       "Bereich          string[python]\n",
       "Produktgruppe    string[python]\n",
       "Logistik-Code    string[python]\n",
       "Kunde            string[python]\n",
       "dtype: object"
      ]
     },
     "execution_count": 21,
     "metadata": {},
     "output_type": "execute_result"
    }
   ],
   "source": [
    "umsatz.convert_dtypes().dtypes"
   ]
  },
  {
   "cell_type": "code",
   "execution_count": null,
   "id": "aaa063ed-93c3-45df-9f82-6c07e936390f",
   "metadata": {},
   "outputs": [],
   "source": []
  }
 ],
 "metadata": {
  "kernelspec": {
   "display_name": "Python 3 (ipykernel)",
   "language": "python",
   "name": "python3"
  },
  "language_info": {
   "codemirror_mode": {
    "name": "ipython",
    "version": 3
   },
   "file_extension": ".py",
   "mimetype": "text/x-python",
   "name": "python",
   "nbconvert_exporter": "python",
   "pygments_lexer": "ipython3",
   "version": "3.9.13"
  }
 },
 "nbformat": 4,
 "nbformat_minor": 5
}
