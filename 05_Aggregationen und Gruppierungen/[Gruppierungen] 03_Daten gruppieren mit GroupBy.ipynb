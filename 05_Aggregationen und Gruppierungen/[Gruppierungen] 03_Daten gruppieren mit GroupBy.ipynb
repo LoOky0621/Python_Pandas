{
 "cells": [
  {
   "cell_type": "markdown",
   "id": "5e63b9ad-78c5-4f49-a87e-cc08fc7cbe6f",
   "metadata": {},
   "source": [
    "# [Gruppierungen] Daten gruppieren mit GroupBy"
   ]
  },
  {
   "cell_type": "code",
   "execution_count": 1,
   "id": "69e05d79-a758-480a-8236-d82230f45519",
   "metadata": {},
   "outputs": [],
   "source": [
    "import pandas as pd\n",
    "umsatz = pd.read_csv(\"datengrundlage.xls\")"
   ]
  },
  {
   "cell_type": "markdown",
   "id": "4dbef36d-c63f-4663-88c2-2166b6b47bf3",
   "metadata": {},
   "source": [
    "### Aggregation"
   ]
  },
  {
   "cell_type": "code",
   "execution_count": 3,
   "id": "ef4642e0-01e4-4ac9-9f3f-c8f15445b17e",
   "metadata": {},
   "outputs": [
    {
     "data": {
      "text/plain": [
       "6473.974347826087"
      ]
     },
     "execution_count": 3,
     "metadata": {},
     "output_type": "execute_result"
    }
   ],
   "source": [
    "umsatz.Umsatz.agg(\"mean\")"
   ]
  },
  {
   "cell_type": "code",
   "execution_count": 4,
   "id": "98aaf3c7-5e91-4887-8f2a-a7f9c4de48a0",
   "metadata": {},
   "outputs": [
    {
     "data": {
      "text/plain": [
       "Umsatz    6473.974348\n",
       "dtype: float64"
      ]
     },
     "execution_count": 4,
     "metadata": {},
     "output_type": "execute_result"
    }
   ],
   "source": [
    "umsatz.agg({\"Umsatz\":\"mean\"})"
   ]
  },
  {
   "cell_type": "markdown",
   "id": "e9c301a7-b590-4375-a5ff-7f04d22e147a",
   "metadata": {},
   "source": [
    "### GroupBy"
   ]
  },
  {
   "cell_type": "code",
   "execution_count": 16,
   "id": "e575dd9d-4e74-4aee-9bf4-4ff2b8798d88",
   "metadata": {},
   "outputs": [
    {
     "data": {
      "text/html": [
       "<div>\n",
       "<style scoped>\n",
       "    .dataframe tbody tr th:only-of-type {\n",
       "        vertical-align: middle;\n",
       "    }\n",
       "\n",
       "    .dataframe tbody tr th {\n",
       "        vertical-align: top;\n",
       "    }\n",
       "\n",
       "    .dataframe thead th {\n",
       "        text-align: right;\n",
       "    }\n",
       "</style>\n",
       "<table border=\"1\" class=\"dataframe\">\n",
       "  <thead>\n",
       "    <tr style=\"text-align: right;\">\n",
       "      <th></th>\n",
       "      <th>Umsatz</th>\n",
       "    </tr>\n",
       "    <tr>\n",
       "      <th>Land</th>\n",
       "      <th></th>\n",
       "    </tr>\n",
       "  </thead>\n",
       "  <tbody>\n",
       "    <tr>\n",
       "      <th>China</th>\n",
       "      <td>5424.118085</td>\n",
       "    </tr>\n",
       "    <tr>\n",
       "      <th>Deutschland</th>\n",
       "      <td>7638.501449</td>\n",
       "    </tr>\n",
       "    <tr>\n",
       "      <th>Mexiko</th>\n",
       "      <td>6191.175000</td>\n",
       "    </tr>\n",
       "    <tr>\n",
       "      <th>Südkorea</th>\n",
       "      <td>6094.123753</td>\n",
       "    </tr>\n",
       "    <tr>\n",
       "      <th>USA</th>\n",
       "      <td>6947.958604</td>\n",
       "    </tr>\n",
       "    <tr>\n",
       "      <th>Vereinigtes Königreich</th>\n",
       "      <td>6540.703279</td>\n",
       "    </tr>\n",
       "  </tbody>\n",
       "</table>\n",
       "</div>"
      ],
      "text/plain": [
       "                             Umsatz\n",
       "Land                               \n",
       "China                   5424.118085\n",
       "Deutschland             7638.501449\n",
       "Mexiko                  6191.175000\n",
       "Südkorea                6094.123753\n",
       "USA                     6947.958604\n",
       "Vereinigtes Königreich  6540.703279"
      ]
     },
     "execution_count": 16,
     "metadata": {},
     "output_type": "execute_result"
    }
   ],
   "source": [
    "umsatz.groupby(by=\"Land\")[[\"Umsatz\"]].mean()"
   ]
  },
  {
   "cell_type": "code",
   "execution_count": 10,
   "id": "ea774c00-50b3-4d57-986b-926979148008",
   "metadata": {},
   "outputs": [],
   "source": [
    "# pd.DataFrame.groupby?"
   ]
  },
  {
   "cell_type": "markdown",
   "id": "7dece9e5-f872-46d7-b3da-147732e3e0b7",
   "metadata": {},
   "source": [
    "### GroupBy mit agg"
   ]
  },
  {
   "cell_type": "code",
   "execution_count": 15,
   "id": "b5cb46a7-cb9d-430a-91fb-69a5e82a4836",
   "metadata": {},
   "outputs": [
    {
     "data": {
      "text/html": [
       "<div>\n",
       "<style scoped>\n",
       "    .dataframe tbody tr th:only-of-type {\n",
       "        vertical-align: middle;\n",
       "    }\n",
       "\n",
       "    .dataframe tbody tr th {\n",
       "        vertical-align: top;\n",
       "    }\n",
       "\n",
       "    .dataframe thead th {\n",
       "        text-align: right;\n",
       "    }\n",
       "</style>\n",
       "<table border=\"1\" class=\"dataframe\">\n",
       "  <thead>\n",
       "    <tr style=\"text-align: right;\">\n",
       "      <th></th>\n",
       "      <th>Umsatz</th>\n",
       "    </tr>\n",
       "    <tr>\n",
       "      <th>Land</th>\n",
       "      <th></th>\n",
       "    </tr>\n",
       "  </thead>\n",
       "  <tbody>\n",
       "    <tr>\n",
       "      <th>China</th>\n",
       "      <td>5424.118085</td>\n",
       "    </tr>\n",
       "    <tr>\n",
       "      <th>Deutschland</th>\n",
       "      <td>7638.501449</td>\n",
       "    </tr>\n",
       "    <tr>\n",
       "      <th>Mexiko</th>\n",
       "      <td>6191.175000</td>\n",
       "    </tr>\n",
       "    <tr>\n",
       "      <th>Südkorea</th>\n",
       "      <td>6094.123753</td>\n",
       "    </tr>\n",
       "    <tr>\n",
       "      <th>USA</th>\n",
       "      <td>6947.958604</td>\n",
       "    </tr>\n",
       "    <tr>\n",
       "      <th>Vereinigtes Königreich</th>\n",
       "      <td>6540.703279</td>\n",
       "    </tr>\n",
       "  </tbody>\n",
       "</table>\n",
       "</div>"
      ],
      "text/plain": [
       "                             Umsatz\n",
       "Land                               \n",
       "China                   5424.118085\n",
       "Deutschland             7638.501449\n",
       "Mexiko                  6191.175000\n",
       "Südkorea                6094.123753\n",
       "USA                     6947.958604\n",
       "Vereinigtes Königreich  6540.703279"
      ]
     },
     "execution_count": 15,
     "metadata": {},
     "output_type": "execute_result"
    }
   ],
   "source": [
    "umsatz.groupby(by=\"Land\")[[\"Umsatz\"]].agg(\"mean\")"
   ]
  },
  {
   "cell_type": "markdown",
   "id": "016b8d16-9bf4-4329-bb62-34ec31eecdf3",
   "metadata": {},
   "source": [
    "### GroupBy mit aggregate"
   ]
  },
  {
   "cell_type": "code",
   "execution_count": 14,
   "id": "140b2110-0783-4629-ad0b-71269701bcac",
   "metadata": {},
   "outputs": [
    {
     "data": {
      "text/html": [
       "<div>\n",
       "<style scoped>\n",
       "    .dataframe tbody tr th:only-of-type {\n",
       "        vertical-align: middle;\n",
       "    }\n",
       "\n",
       "    .dataframe tbody tr th {\n",
       "        vertical-align: top;\n",
       "    }\n",
       "\n",
       "    .dataframe thead th {\n",
       "        text-align: right;\n",
       "    }\n",
       "</style>\n",
       "<table border=\"1\" class=\"dataframe\">\n",
       "  <thead>\n",
       "    <tr style=\"text-align: right;\">\n",
       "      <th></th>\n",
       "      <th>Umsatz</th>\n",
       "    </tr>\n",
       "    <tr>\n",
       "      <th>Land</th>\n",
       "      <th></th>\n",
       "    </tr>\n",
       "  </thead>\n",
       "  <tbody>\n",
       "    <tr>\n",
       "      <th>China</th>\n",
       "      <td>5424.118085</td>\n",
       "    </tr>\n",
       "    <tr>\n",
       "      <th>Deutschland</th>\n",
       "      <td>7638.501449</td>\n",
       "    </tr>\n",
       "    <tr>\n",
       "      <th>Mexiko</th>\n",
       "      <td>6191.175000</td>\n",
       "    </tr>\n",
       "    <tr>\n",
       "      <th>Südkorea</th>\n",
       "      <td>6094.123753</td>\n",
       "    </tr>\n",
       "    <tr>\n",
       "      <th>USA</th>\n",
       "      <td>6947.958604</td>\n",
       "    </tr>\n",
       "    <tr>\n",
       "      <th>Vereinigtes Königreich</th>\n",
       "      <td>6540.703279</td>\n",
       "    </tr>\n",
       "  </tbody>\n",
       "</table>\n",
       "</div>"
      ],
      "text/plain": [
       "                             Umsatz\n",
       "Land                               \n",
       "China                   5424.118085\n",
       "Deutschland             7638.501449\n",
       "Mexiko                  6191.175000\n",
       "Südkorea                6094.123753\n",
       "USA                     6947.958604\n",
       "Vereinigtes Königreich  6540.703279"
      ]
     },
     "execution_count": 14,
     "metadata": {},
     "output_type": "execute_result"
    }
   ],
   "source": [
    "umsatz.groupby(by=\"Land\")[[\"Umsatz\"]].aggregate(\"mean\")"
   ]
  },
  {
   "cell_type": "markdown",
   "id": "c05ceb1d-7959-4694-999e-8b1c34cef5be",
   "metadata": {},
   "source": [
    "### Transpose"
   ]
  },
  {
   "cell_type": "code",
   "execution_count": 17,
   "id": "2c2d385c-af43-4350-8fb5-6a3d14a7efe5",
   "metadata": {},
   "outputs": [
    {
     "data": {
      "text/html": [
       "<div>\n",
       "<style scoped>\n",
       "    .dataframe tbody tr th:only-of-type {\n",
       "        vertical-align: middle;\n",
       "    }\n",
       "\n",
       "    .dataframe tbody tr th {\n",
       "        vertical-align: top;\n",
       "    }\n",
       "\n",
       "    .dataframe thead th {\n",
       "        text-align: right;\n",
       "    }\n",
       "</style>\n",
       "<table border=\"1\" class=\"dataframe\">\n",
       "  <thead>\n",
       "    <tr style=\"text-align: right;\">\n",
       "      <th>Land</th>\n",
       "      <th>China</th>\n",
       "      <th>Deutschland</th>\n",
       "      <th>Mexiko</th>\n",
       "      <th>Südkorea</th>\n",
       "      <th>USA</th>\n",
       "      <th>Vereinigtes Königreich</th>\n",
       "    </tr>\n",
       "  </thead>\n",
       "  <tbody>\n",
       "    <tr>\n",
       "      <th>Umsatz</th>\n",
       "      <td>5424.118085</td>\n",
       "      <td>7638.501449</td>\n",
       "      <td>6191.175</td>\n",
       "      <td>6094.123753</td>\n",
       "      <td>6947.958604</td>\n",
       "      <td>6540.703279</td>\n",
       "    </tr>\n",
       "  </tbody>\n",
       "</table>\n",
       "</div>"
      ],
      "text/plain": [
       "Land          China  Deutschland    Mexiko     Südkorea          USA   \n",
       "Umsatz  5424.118085  7638.501449  6191.175  6094.123753  6947.958604  \\\n",
       "\n",
       "Land    Vereinigtes Königreich  \n",
       "Umsatz             6540.703279  "
      ]
     },
     "execution_count": 17,
     "metadata": {},
     "output_type": "execute_result"
    }
   ],
   "source": [
    "umsatz.groupby(by=\"Land\")[[\"Umsatz\"]].aggregate(\"mean\").transpose()"
   ]
  },
  {
   "cell_type": "markdown",
   "id": "69ac8221-de3a-40c7-8a55-896f31f99e4e",
   "metadata": {},
   "source": [
    "### Aggregationsmöglichkeiten"
   ]
  },
  {
   "cell_type": "code",
   "execution_count": 19,
   "id": "f1cbab27-1dc5-452b-adbc-84b368384b9a",
   "metadata": {},
   "outputs": [
    {
     "name": "stdout",
     "output_type": "stream",
     "text": [
      "Summe:                             Umsatz\n",
      "Land                              \n",
      "China                   1019734.20\n",
      "Deutschland             1581169.80\n",
      "Mexiko                   829617.45\n",
      "Südkorea                2565626.10\n",
      "USA                     2139971.25\n",
      "Vereinigtes Königreich   797965.80\n",
      "Median:                           Umsatz\n",
      "Land                            \n",
      "China                   5496.525\n",
      "Deutschland             7668.300\n",
      "Mexiko                  6255.525\n",
      "Südkorea                5911.050\n",
      "USA                     6941.925\n",
      "Vereinigtes Königreich  6472.800\n",
      "Quantile:                           Umsatz\n",
      "Land                            \n",
      "China                   5496.525\n",
      "Deutschland             7668.300\n",
      "Mexiko                  6255.525\n",
      "Südkorea                5911.050\n",
      "USA                     6941.925\n",
      "Vereinigtes Königreich  6472.800\n",
      "STD                              Umsatz\n",
      "Land                               \n",
      "China                   1049.979777\n",
      "Deutschland             1642.905614\n",
      "Mexiko                  1686.103560\n",
      "Südkorea                1796.572775\n",
      "USA                     1598.499708\n",
      "Vereinigtes Königreich  1810.705580\n",
      "VAR                               Umsatz\n",
      "Land                                \n",
      "China                   1.102458e+06\n",
      "Deutschland             2.699139e+06\n",
      "Mexiko                  2.842945e+06\n",
      "Südkorea                3.227674e+06\n",
      "USA                     2.555201e+06\n",
      "Vereinigtes Königreich  3.278655e+06\n"
     ]
    }
   ],
   "source": [
    "print(\"Summe:\", umsatz.groupby(\"Land\")[[\"Umsatz\"]].aggregate(\"sum\"))\n",
    "print(\"Median:\", umsatz.groupby(\"Land\")[[\"Umsatz\"]].aggregate(\"median\"))\n",
    "print(\"Quantile:\", umsatz.groupby(\"Land\")[[\"Umsatz\"]].aggregate(\"quantile\"))\n",
    "print(\"STD\", umsatz.groupby(\"Land\")[[\"Umsatz\"]].aggregate(\"std\"))\n",
    "print(\"VAR\", umsatz.groupby(\"Land\")[[\"Umsatz\"]].aggregate(\"var\"))"
   ]
  },
  {
   "cell_type": "code",
   "execution_count": null,
   "id": "e2e94662-4037-4034-b601-cd43f7fedc33",
   "metadata": {},
   "outputs": [],
   "source": []
  }
 ],
 "metadata": {
  "kernelspec": {
   "display_name": "Python 3 (ipykernel)",
   "language": "python",
   "name": "python3"
  },
  "language_info": {
   "codemirror_mode": {
    "name": "ipython",
    "version": 3
   },
   "file_extension": ".py",
   "mimetype": "text/x-python",
   "name": "python",
   "nbconvert_exporter": "python",
   "pygments_lexer": "ipython3",
   "version": "3.9.13"
  }
 },
 "nbformat": 4,
 "nbformat_minor": 5
}
