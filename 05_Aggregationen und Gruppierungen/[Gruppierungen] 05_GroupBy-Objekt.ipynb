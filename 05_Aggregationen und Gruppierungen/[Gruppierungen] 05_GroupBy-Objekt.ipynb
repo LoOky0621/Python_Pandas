{
 "cells": [
  {
   "cell_type": "markdown",
   "id": "5e63b9ad-78c5-4f49-a87e-cc08fc7cbe6f",
   "metadata": {},
   "source": [
    "# [Gruppierungen] GroupBy-Objekt"
   ]
  },
  {
   "cell_type": "code",
   "execution_count": 1,
   "id": "69e05d79-a758-480a-8236-d82230f45519",
   "metadata": {},
   "outputs": [],
   "source": [
    "import pandas as pd\n",
    "umsatz = pd.read_csv(\"datengrundlage.xls\")"
   ]
  },
  {
   "cell_type": "markdown",
   "id": "0f8daaa6-1daa-4682-a030-c19fe28f92a1",
   "metadata": {},
   "source": [
    "- Flexible Datenstruktur\n",
    "\n",
    "- Es können mehrere Funktionen auf ein Groupby-Objekt angewendet werden\n",
    "\n",
    "- Aggregationsfunktionen wie wie sum(), mean() und count() sowie Lambda-Funktionen oder apply()"
   ]
  },
  {
   "cell_type": "code",
   "execution_count": 2,
   "id": "1629d931-5d75-48af-84c0-6c53b8ab2855",
   "metadata": {},
   "outputs": [
    {
     "data": {
      "text/plain": [
       "<pandas.core.groupby.generic.DataFrameGroupBy object at 0x000001623C0307F0>"
      ]
     },
     "execution_count": 2,
     "metadata": {},
     "output_type": "execute_result"
    }
   ],
   "source": [
    "umsatz.groupby(by=\"Land\")[[\"Umsatz\"]]"
   ]
  },
  {
   "cell_type": "code",
   "execution_count": 3,
   "id": "f2acb334-b200-4a4e-88b4-bca789fb8a55",
   "metadata": {},
   "outputs": [],
   "source": [
    "groupby_object = umsatz.groupby(by=\"Land\")[[\"Umsatz\"]]"
   ]
  },
  {
   "cell_type": "code",
   "execution_count": 4,
   "id": "a5cf3c54-6531-44cf-a74d-f917c9af8e07",
   "metadata": {},
   "outputs": [
    {
     "name": "stdout",
     "output_type": "stream",
     "text": [
      "<class 'pandas.core.groupby.generic.DataFrameGroupBy'>\n"
     ]
    }
   ],
   "source": [
    "print(type(groupby_object))"
   ]
  },
  {
   "cell_type": "code",
   "execution_count": 7,
   "id": "29d4e487-8708-4d38-8ddc-49c77371591e",
   "metadata": {},
   "outputs": [
    {
     "data": {
      "text/html": [
       "<div>\n",
       "<style scoped>\n",
       "    .dataframe tbody tr th:only-of-type {\n",
       "        vertical-align: middle;\n",
       "    }\n",
       "\n",
       "    .dataframe tbody tr th {\n",
       "        vertical-align: top;\n",
       "    }\n",
       "\n",
       "    .dataframe thead th {\n",
       "        text-align: right;\n",
       "    }\n",
       "</style>\n",
       "<table border=\"1\" class=\"dataframe\">\n",
       "  <thead>\n",
       "    <tr style=\"text-align: right;\">\n",
       "      <th>Land</th>\n",
       "      <th>China</th>\n",
       "      <th>Deutschland</th>\n",
       "      <th>Mexiko</th>\n",
       "      <th>Südkorea</th>\n",
       "      <th>USA</th>\n",
       "      <th>Vereinigtes Königreich</th>\n",
       "    </tr>\n",
       "  </thead>\n",
       "  <tbody>\n",
       "    <tr>\n",
       "      <th>Umsatz</th>\n",
       "      <td>5424.118085</td>\n",
       "      <td>7638.501449</td>\n",
       "      <td>6191.175</td>\n",
       "      <td>6094.123753</td>\n",
       "      <td>6947.958604</td>\n",
       "      <td>6540.703279</td>\n",
       "    </tr>\n",
       "  </tbody>\n",
       "</table>\n",
       "</div>"
      ],
      "text/plain": [
       "Land          China  Deutschland    Mexiko     Südkorea          USA   \n",
       "Umsatz  5424.118085  7638.501449  6191.175  6094.123753  6947.958604  \\\n",
       "\n",
       "Land    Vereinigtes Königreich  \n",
       "Umsatz             6540.703279  "
      ]
     },
     "execution_count": 7,
     "metadata": {},
     "output_type": "execute_result"
    }
   ],
   "source": [
    "umsatz.groupby(by=\"Land\")[[\"Umsatz\"]].mean().transpose()"
   ]
  },
  {
   "cell_type": "code",
   "execution_count": null,
   "id": "ebe4cacb-2b6c-48a4-b8ac-13acd7d420bf",
   "metadata": {},
   "outputs": [],
   "source": []
  }
 ],
 "metadata": {
  "kernelspec": {
   "display_name": "Python 3 (ipykernel)",
   "language": "python",
   "name": "python3"
  },
  "language_info": {
   "codemirror_mode": {
    "name": "ipython",
    "version": 3
   },
   "file_extension": ".py",
   "mimetype": "text/x-python",
   "name": "python",
   "nbconvert_exporter": "python",
   "pygments_lexer": "ipython3",
   "version": "3.9.13"
  }
 },
 "nbformat": 4,
 "nbformat_minor": 5
}
