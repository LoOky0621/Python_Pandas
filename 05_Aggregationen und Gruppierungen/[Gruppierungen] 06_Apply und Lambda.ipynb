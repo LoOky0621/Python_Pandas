{
 "cells": [
  {
   "cell_type": "markdown",
   "id": "5e63b9ad-78c5-4f49-a87e-cc08fc7cbe6f",
   "metadata": {},
   "source": [
    "# [Gruppierungen] Apply und Lambda"
   ]
  },
  {
   "cell_type": "code",
   "execution_count": 1,
   "id": "69e05d79-a758-480a-8236-d82230f45519",
   "metadata": {},
   "outputs": [],
   "source": [
    "import pandas as pd\n",
    "umsatz = pd.read_csv(\"datengrundlage.xls\")"
   ]
  },
  {
   "cell_type": "markdown",
   "id": "a4334924-96a8-4905-9c36-c2b0875abcb6",
   "metadata": {},
   "source": [
    "### Gruppierung"
   ]
  },
  {
   "cell_type": "code",
   "execution_count": 2,
   "id": "95b950f5-9af4-421b-8fe9-4956fb74c731",
   "metadata": {},
   "outputs": [
    {
     "data": {
      "text/html": [
       "<div>\n",
       "<style scoped>\n",
       "    .dataframe tbody tr th:only-of-type {\n",
       "        vertical-align: middle;\n",
       "    }\n",
       "\n",
       "    .dataframe tbody tr th {\n",
       "        vertical-align: top;\n",
       "    }\n",
       "\n",
       "    .dataframe thead th {\n",
       "        text-align: right;\n",
       "    }\n",
       "</style>\n",
       "<table border=\"1\" class=\"dataframe\">\n",
       "  <thead>\n",
       "    <tr style=\"text-align: right;\">\n",
       "      <th></th>\n",
       "      <th>Umsatz</th>\n",
       "    </tr>\n",
       "    <tr>\n",
       "      <th>Land</th>\n",
       "      <th></th>\n",
       "    </tr>\n",
       "  </thead>\n",
       "  <tbody>\n",
       "    <tr>\n",
       "      <th>China</th>\n",
       "      <td>5424.118085</td>\n",
       "    </tr>\n",
       "    <tr>\n",
       "      <th>Deutschland</th>\n",
       "      <td>7638.501449</td>\n",
       "    </tr>\n",
       "    <tr>\n",
       "      <th>Mexiko</th>\n",
       "      <td>6191.175000</td>\n",
       "    </tr>\n",
       "    <tr>\n",
       "      <th>Südkorea</th>\n",
       "      <td>6094.123753</td>\n",
       "    </tr>\n",
       "    <tr>\n",
       "      <th>USA</th>\n",
       "      <td>6947.958604</td>\n",
       "    </tr>\n",
       "    <tr>\n",
       "      <th>Vereinigtes Königreich</th>\n",
       "      <td>6540.703279</td>\n",
       "    </tr>\n",
       "  </tbody>\n",
       "</table>\n",
       "</div>"
      ],
      "text/plain": [
       "                             Umsatz\n",
       "Land                               \n",
       "China                   5424.118085\n",
       "Deutschland             7638.501449\n",
       "Mexiko                  6191.175000\n",
       "Südkorea                6094.123753\n",
       "USA                     6947.958604\n",
       "Vereinigtes Königreich  6540.703279"
      ]
     },
     "execution_count": 2,
     "metadata": {},
     "output_type": "execute_result"
    }
   ],
   "source": [
    "umsatz.groupby(by=\"Land\")[[\"Umsatz\"]].mean()"
   ]
  },
  {
   "cell_type": "markdown",
   "id": "6373b59d-2a98-4bc2-b753-5ecd1a666969",
   "metadata": {},
   "source": [
    "### Funktion erstellen"
   ]
  },
  {
   "cell_type": "code",
   "execution_count": 3,
   "id": "6049a7e9-1fbd-4d34-a88b-47551fb59893",
   "metadata": {},
   "outputs": [],
   "source": [
    "def steuer(x):\n",
    "    return x * 1.19"
   ]
  },
  {
   "cell_type": "code",
   "execution_count": 5,
   "id": "22b35171-1596-47b3-b693-fcac83f9b8e6",
   "metadata": {},
   "outputs": [
    {
     "data": {
      "text/plain": [
       "23.799999999999997"
      ]
     },
     "execution_count": 5,
     "metadata": {},
     "output_type": "execute_result"
    }
   ],
   "source": [
    "steuer(20)"
   ]
  },
  {
   "cell_type": "markdown",
   "id": "7bb89b05-67e9-4f77-ace1-5b515077029c",
   "metadata": {},
   "source": [
    "## apply"
   ]
  },
  {
   "cell_type": "code",
   "execution_count": 6,
   "id": "7c8c49f6-ba42-4d2a-b4d1-5b02b5407a0a",
   "metadata": {},
   "outputs": [
    {
     "data": {
      "text/html": [
       "<div>\n",
       "<style scoped>\n",
       "    .dataframe tbody tr th:only-of-type {\n",
       "        vertical-align: middle;\n",
       "    }\n",
       "\n",
       "    .dataframe tbody tr th {\n",
       "        vertical-align: top;\n",
       "    }\n",
       "\n",
       "    .dataframe thead th {\n",
       "        text-align: right;\n",
       "    }\n",
       "</style>\n",
       "<table border=\"1\" class=\"dataframe\">\n",
       "  <thead>\n",
       "    <tr style=\"text-align: right;\">\n",
       "      <th></th>\n",
       "      <th></th>\n",
       "      <th>Umsatz</th>\n",
       "    </tr>\n",
       "    <tr>\n",
       "      <th>Land</th>\n",
       "      <th></th>\n",
       "      <th></th>\n",
       "    </tr>\n",
       "  </thead>\n",
       "  <tbody>\n",
       "    <tr>\n",
       "      <th rowspan=\"5\" valign=\"top\">China</th>\n",
       "      <th>3</th>\n",
       "      <td>10218.7680</td>\n",
       "    </tr>\n",
       "    <tr>\n",
       "      <th>11</th>\n",
       "      <td>8160.3060</td>\n",
       "    </tr>\n",
       "    <tr>\n",
       "      <th>18</th>\n",
       "      <td>4725.4305</td>\n",
       "    </tr>\n",
       "    <tr>\n",
       "      <th>30</th>\n",
       "      <td>5753.4120</td>\n",
       "    </tr>\n",
       "    <tr>\n",
       "      <th>34</th>\n",
       "      <td>8535.5130</td>\n",
       "    </tr>\n",
       "    <tr>\n",
       "      <th>...</th>\n",
       "      <th>...</th>\n",
       "      <td>...</td>\n",
       "    </tr>\n",
       "    <tr>\n",
       "      <th rowspan=\"5\" valign=\"top\">Vereinigtes Königreich</th>\n",
       "      <th>1324</th>\n",
       "      <td>6712.6710</td>\n",
       "    </tr>\n",
       "    <tr>\n",
       "      <th>1341</th>\n",
       "      <td>5559.3825</td>\n",
       "    </tr>\n",
       "    <tr>\n",
       "      <th>1347</th>\n",
       "      <td>10154.3295</td>\n",
       "    </tr>\n",
       "    <tr>\n",
       "      <th>1352</th>\n",
       "      <td>9070.6560</td>\n",
       "    </tr>\n",
       "    <tr>\n",
       "      <th>1370</th>\n",
       "      <td>9389.6355</td>\n",
       "    </tr>\n",
       "  </tbody>\n",
       "</table>\n",
       "<p>1380 rows × 1 columns</p>\n",
       "</div>"
      ],
      "text/plain": [
       "                                 Umsatz\n",
       "Land                                   \n",
       "China                  3     10218.7680\n",
       "                       11     8160.3060\n",
       "                       18     4725.4305\n",
       "                       30     5753.4120\n",
       "                       34     8535.5130\n",
       "...                                 ...\n",
       "Vereinigtes Königreich 1324   6712.6710\n",
       "                       1341   5559.3825\n",
       "                       1347  10154.3295\n",
       "                       1352   9070.6560\n",
       "                       1370   9389.6355\n",
       "\n",
       "[1380 rows x 1 columns]"
      ]
     },
     "execution_count": 6,
     "metadata": {},
     "output_type": "execute_result"
    }
   ],
   "source": [
    "umsatz.groupby(\"Land\")[[\"Umsatz\"]].apply(steuer)"
   ]
  },
  {
   "cell_type": "markdown",
   "id": "01fefe64-bda2-4c94-bc3e-c1af70106ed1",
   "metadata": {},
   "source": [
    "## Lambda"
   ]
  },
  {
   "cell_type": "code",
   "execution_count": 7,
   "id": "bda98292-2542-48c9-bce6-e09606bd9319",
   "metadata": {},
   "outputs": [],
   "source": [
    "steuer2 = lambda x: x*1.19"
   ]
  },
  {
   "cell_type": "code",
   "execution_count": 8,
   "id": "bb6d646a-248e-46dd-8d39-a17ad7c56384",
   "metadata": {},
   "outputs": [
    {
     "data": {
      "text/html": [
       "<div>\n",
       "<style scoped>\n",
       "    .dataframe tbody tr th:only-of-type {\n",
       "        vertical-align: middle;\n",
       "    }\n",
       "\n",
       "    .dataframe tbody tr th {\n",
       "        vertical-align: top;\n",
       "    }\n",
       "\n",
       "    .dataframe thead th {\n",
       "        text-align: right;\n",
       "    }\n",
       "</style>\n",
       "<table border=\"1\" class=\"dataframe\">\n",
       "  <thead>\n",
       "    <tr style=\"text-align: right;\">\n",
       "      <th></th>\n",
       "      <th></th>\n",
       "      <th>Umsatz</th>\n",
       "    </tr>\n",
       "    <tr>\n",
       "      <th>Land</th>\n",
       "      <th></th>\n",
       "      <th></th>\n",
       "    </tr>\n",
       "  </thead>\n",
       "  <tbody>\n",
       "    <tr>\n",
       "      <th rowspan=\"5\" valign=\"top\">China</th>\n",
       "      <th>3</th>\n",
       "      <td>10218.7680</td>\n",
       "    </tr>\n",
       "    <tr>\n",
       "      <th>11</th>\n",
       "      <td>8160.3060</td>\n",
       "    </tr>\n",
       "    <tr>\n",
       "      <th>18</th>\n",
       "      <td>4725.4305</td>\n",
       "    </tr>\n",
       "    <tr>\n",
       "      <th>30</th>\n",
       "      <td>5753.4120</td>\n",
       "    </tr>\n",
       "    <tr>\n",
       "      <th>34</th>\n",
       "      <td>8535.5130</td>\n",
       "    </tr>\n",
       "    <tr>\n",
       "      <th>...</th>\n",
       "      <th>...</th>\n",
       "      <td>...</td>\n",
       "    </tr>\n",
       "    <tr>\n",
       "      <th rowspan=\"5\" valign=\"top\">Vereinigtes Königreich</th>\n",
       "      <th>1324</th>\n",
       "      <td>6712.6710</td>\n",
       "    </tr>\n",
       "    <tr>\n",
       "      <th>1341</th>\n",
       "      <td>5559.3825</td>\n",
       "    </tr>\n",
       "    <tr>\n",
       "      <th>1347</th>\n",
       "      <td>10154.3295</td>\n",
       "    </tr>\n",
       "    <tr>\n",
       "      <th>1352</th>\n",
       "      <td>9070.6560</td>\n",
       "    </tr>\n",
       "    <tr>\n",
       "      <th>1370</th>\n",
       "      <td>9389.6355</td>\n",
       "    </tr>\n",
       "  </tbody>\n",
       "</table>\n",
       "<p>1380 rows × 1 columns</p>\n",
       "</div>"
      ],
      "text/plain": [
       "                                 Umsatz\n",
       "Land                                   \n",
       "China                  3     10218.7680\n",
       "                       11     8160.3060\n",
       "                       18     4725.4305\n",
       "                       30     5753.4120\n",
       "                       34     8535.5130\n",
       "...                                 ...\n",
       "Vereinigtes Königreich 1324   6712.6710\n",
       "                       1341   5559.3825\n",
       "                       1347  10154.3295\n",
       "                       1352   9070.6560\n",
       "                       1370   9389.6355\n",
       "\n",
       "[1380 rows x 1 columns]"
      ]
     },
     "execution_count": 8,
     "metadata": {},
     "output_type": "execute_result"
    }
   ],
   "source": [
    "umsatz.groupby(\"Land\")[[\"Umsatz\"]].apply(steuer2)"
   ]
  },
  {
   "cell_type": "code",
   "execution_count": null,
   "id": "6a33110a-1889-4bba-b917-bd638338c867",
   "metadata": {},
   "outputs": [],
   "source": []
  }
 ],
 "metadata": {
  "kernelspec": {
   "display_name": "Python 3 (ipykernel)",
   "language": "python",
   "name": "python3"
  },
  "language_info": {
   "codemirror_mode": {
    "name": "ipython",
    "version": 3
   },
   "file_extension": ".py",
   "mimetype": "text/x-python",
   "name": "python",
   "nbconvert_exporter": "python",
   "pygments_lexer": "ipython3",
   "version": "3.9.13"
  }
 },
 "nbformat": 4,
 "nbformat_minor": 5
}
