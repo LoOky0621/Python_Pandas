{
 "cells": [
  {
   "cell_type": "markdown",
   "id": "5e63b9ad-78c5-4f49-a87e-cc08fc7cbe6f",
   "metadata": {},
   "source": [
    "# [Gruppierungen] Apply und Lambda"
   ]
  },
  {
   "cell_type": "code",
   "execution_count": 18,
   "id": "69e05d79-a758-480a-8236-d82230f45519",
   "metadata": {},
   "outputs": [],
   "source": [
    "import pandas as pd\n",
    "umsatz = pd.read_csv(\"datengrundlage.xls\")"
   ]
  },
  {
   "cell_type": "markdown",
   "id": "a4334924-96a8-4905-9c36-c2b0875abcb6",
   "metadata": {},
   "source": [
    "### Gruppierung"
   ]
  },
  {
   "cell_type": "code",
   "execution_count": null,
   "id": "95b950f5-9af4-421b-8fe9-4956fb74c731",
   "metadata": {},
   "outputs": [],
   "source": []
  },
  {
   "cell_type": "markdown",
   "id": "6373b59d-2a98-4bc2-b753-5ecd1a666969",
   "metadata": {},
   "source": [
    "### Funktion erstellen"
   ]
  },
  {
   "cell_type": "code",
   "execution_count": null,
   "id": "6049a7e9-1fbd-4d34-a88b-47551fb59893",
   "metadata": {},
   "outputs": [],
   "source": []
  },
  {
   "cell_type": "markdown",
   "id": "7bb89b05-67e9-4f77-ace1-5b515077029c",
   "metadata": {},
   "source": [
    "## apply"
   ]
  },
  {
   "cell_type": "code",
   "execution_count": null,
   "id": "7c8c49f6-ba42-4d2a-b4d1-5b02b5407a0a",
   "metadata": {},
   "outputs": [],
   "source": []
  },
  {
   "cell_type": "markdown",
   "id": "01fefe64-bda2-4c94-bc3e-c1af70106ed1",
   "metadata": {},
   "source": [
    "## Lambda"
   ]
  },
  {
   "cell_type": "code",
   "execution_count": null,
   "id": "bda98292-2542-48c9-bce6-e09606bd9319",
   "metadata": {},
   "outputs": [],
   "source": []
  }
 ],
 "metadata": {
  "kernelspec": {
   "display_name": "Python 3 (ipykernel)",
   "language": "python",
   "name": "python3"
  },
  "language_info": {
   "codemirror_mode": {
    "name": "ipython",
    "version": 3
   },
   "file_extension": ".py",
   "mimetype": "text/x-python",
   "name": "python",
   "nbconvert_exporter": "python",
   "pygments_lexer": "ipython3",
   "version": "3.9.13"
  }
 },
 "nbformat": 4,
 "nbformat_minor": 5
}
