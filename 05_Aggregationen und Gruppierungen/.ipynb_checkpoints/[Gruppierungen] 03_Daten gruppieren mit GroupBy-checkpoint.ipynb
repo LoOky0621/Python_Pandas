{
 "cells": [
  {
   "cell_type": "markdown",
   "id": "5e63b9ad-78c5-4f49-a87e-cc08fc7cbe6f",
   "metadata": {},
   "source": [
    "# [Gruppierungen] 03_Daten gruppieren mit GroupBy"
   ]
  },
  {
   "cell_type": "code",
   "execution_count": 1,
   "id": "69e05d79-a758-480a-8236-d82230f45519",
   "metadata": {},
   "outputs": [],
   "source": [
    "import pandas as pd\n",
    "umsatz = pd.read_csv(\"datengrundlage.xls\")"
   ]
  },
  {
   "cell_type": "markdown",
   "id": "4dbef36d-c63f-4663-88c2-2166b6b47bf3",
   "metadata": {},
   "source": [
    "### Aggregation"
   ]
  },
  {
   "cell_type": "code",
   "execution_count": null,
   "id": "ef4642e0-01e4-4ac9-9f3f-c8f15445b17e",
   "metadata": {},
   "outputs": [],
   "source": []
  },
  {
   "cell_type": "markdown",
   "id": "e9c301a7-b590-4375-a5ff-7f04d22e147a",
   "metadata": {},
   "source": [
    "### GroupBy"
   ]
  },
  {
   "cell_type": "code",
   "execution_count": null,
   "id": "ea774c00-50b3-4d57-986b-926979148008",
   "metadata": {},
   "outputs": [],
   "source": []
  },
  {
   "cell_type": "markdown",
   "id": "7dece9e5-f872-46d7-b3da-147732e3e0b7",
   "metadata": {},
   "source": [
    "### GroupBy mit agg"
   ]
  },
  {
   "cell_type": "code",
   "execution_count": null,
   "id": "b5cb46a7-cb9d-430a-91fb-69a5e82a4836",
   "metadata": {},
   "outputs": [],
   "source": []
  },
  {
   "cell_type": "markdown",
   "id": "016b8d16-9bf4-4329-bb62-34ec31eecdf3",
   "metadata": {},
   "source": [
    "### GroupBy mit aggregate"
   ]
  },
  {
   "cell_type": "code",
   "execution_count": null,
   "id": "140b2110-0783-4629-ad0b-71269701bcac",
   "metadata": {},
   "outputs": [],
   "source": []
  },
  {
   "cell_type": "markdown",
   "id": "c05ceb1d-7959-4694-999e-8b1c34cef5be",
   "metadata": {},
   "source": [
    "### Transpose"
   ]
  },
  {
   "cell_type": "code",
   "execution_count": null,
   "id": "2c2d385c-af43-4350-8fb5-6a3d14a7efe5",
   "metadata": {},
   "outputs": [],
   "source": []
  },
  {
   "cell_type": "markdown",
   "id": "69ac8221-de3a-40c7-8a55-896f31f99e4e",
   "metadata": {},
   "source": [
    "### Aggregationsmöglichkeiten"
   ]
  },
  {
   "cell_type": "code",
   "execution_count": null,
   "id": "f1cbab27-1dc5-452b-adbc-84b368384b9a",
   "metadata": {},
   "outputs": [],
   "source": []
  }
 ],
 "metadata": {
  "kernelspec": {
   "display_name": "Python 3 (ipykernel)",
   "language": "python",
   "name": "python3"
  },
  "language_info": {
   "codemirror_mode": {
    "name": "ipython",
    "version": 3
   },
   "file_extension": ".py",
   "mimetype": "text/x-python",
   "name": "python",
   "nbconvert_exporter": "python",
   "pygments_lexer": "ipython3",
   "version": "3.9.13"
  }
 },
 "nbformat": 4,
 "nbformat_minor": 5
}
