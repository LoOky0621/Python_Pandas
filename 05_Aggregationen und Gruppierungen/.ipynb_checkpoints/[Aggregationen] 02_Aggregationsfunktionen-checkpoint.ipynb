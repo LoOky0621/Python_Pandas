{
 "cells": [
  {
   "cell_type": "markdown",
   "id": "5e63b9ad-78c5-4f49-a87e-cc08fc7cbe6f",
   "metadata": {},
   "source": [
    "# [Aggregationen] Aggregationsfunktionen mit Pandas"
   ]
  },
  {
   "cell_type": "code",
   "execution_count": 3,
   "id": "69e05d79-a758-480a-8236-d82230f45519",
   "metadata": {},
   "outputs": [],
   "source": [
    "import pandas as pd\n",
    "umsatz = pd.read_csv(\"datengrundlage.xls\")"
   ]
  },
  {
   "cell_type": "markdown",
   "id": "53b7a5ae-ed1b-48e6-96cd-4df11db65b44",
   "metadata": {},
   "source": [
    "### Describe()-Funktion"
   ]
  },
  {
   "cell_type": "code",
   "execution_count": 4,
   "id": "6a7bf7c1-2ade-4e12-b973-76c06311ad2f",
   "metadata": {},
   "outputs": [
    {
     "data": {
      "text/html": [
       "<div>\n",
       "<style scoped>\n",
       "    .dataframe tbody tr th:only-of-type {\n",
       "        vertical-align: middle;\n",
       "    }\n",
       "\n",
       "    .dataframe tbody tr th {\n",
       "        vertical-align: top;\n",
       "    }\n",
       "\n",
       "    .dataframe thead th {\n",
       "        text-align: right;\n",
       "    }\n",
       "</style>\n",
       "<table border=\"1\" class=\"dataframe\">\n",
       "  <thead>\n",
       "    <tr style=\"text-align: right;\">\n",
       "      <th></th>\n",
       "      <th>count</th>\n",
       "      <th>mean</th>\n",
       "      <th>std</th>\n",
       "      <th>min</th>\n",
       "      <th>25%</th>\n",
       "      <th>50%</th>\n",
       "      <th>75%</th>\n",
       "      <th>max</th>\n",
       "    </tr>\n",
       "  </thead>\n",
       "  <tbody>\n",
       "    <tr>\n",
       "      <th>Nr</th>\n",
       "      <td>1380.0</td>\n",
       "      <td>690.500000</td>\n",
       "      <td>398.515997</td>\n",
       "      <td>1.00</td>\n",
       "      <td>345.7500</td>\n",
       "      <td>690.50</td>\n",
       "      <td>1035.25</td>\n",
       "      <td>1380.00</td>\n",
       "    </tr>\n",
       "    <tr>\n",
       "      <th>Jahr</th>\n",
       "      <td>1380.0</td>\n",
       "      <td>2026.413043</td>\n",
       "      <td>1.088727</td>\n",
       "      <td>2025.00</td>\n",
       "      <td>2025.0000</td>\n",
       "      <td>2026.00</td>\n",
       "      <td>2027.00</td>\n",
       "      <td>2028.00</td>\n",
       "    </tr>\n",
       "    <tr>\n",
       "      <th>Umsatz</th>\n",
       "      <td>1380.0</td>\n",
       "      <td>6473.974348</td>\n",
       "      <td>1767.118045</td>\n",
       "      <td>2055.45</td>\n",
       "      <td>5171.6625</td>\n",
       "      <td>6341.10</td>\n",
       "      <td>7669.05</td>\n",
       "      <td>13112.40</td>\n",
       "    </tr>\n",
       "    <tr>\n",
       "      <th>Kosten</th>\n",
       "      <td>1380.0</td>\n",
       "      <td>5233.811500</td>\n",
       "      <td>1502.025770</td>\n",
       "      <td>1644.36</td>\n",
       "      <td>4136.9400</td>\n",
       "      <td>5115.06</td>\n",
       "      <td>6202.38</td>\n",
       "      <td>12141.68</td>\n",
       "    </tr>\n",
       "    <tr>\n",
       "      <th>Rücksendung</th>\n",
       "      <td>181.0</td>\n",
       "      <td>1.000000</td>\n",
       "      <td>0.000000</td>\n",
       "      <td>1.00</td>\n",
       "      <td>1.0000</td>\n",
       "      <td>1.00</td>\n",
       "      <td>1.00</td>\n",
       "      <td>1.00</td>\n",
       "    </tr>\n",
       "  </tbody>\n",
       "</table>\n",
       "</div>"
      ],
      "text/plain": [
       "              count         mean          std      min        25%      50%   \n",
       "Nr           1380.0   690.500000   398.515997     1.00   345.7500   690.50  \\\n",
       "Jahr         1380.0  2026.413043     1.088727  2025.00  2025.0000  2026.00   \n",
       "Umsatz       1380.0  6473.974348  1767.118045  2055.45  5171.6625  6341.10   \n",
       "Kosten       1380.0  5233.811500  1502.025770  1644.36  4136.9400  5115.06   \n",
       "Rücksendung   181.0     1.000000     0.000000     1.00     1.0000     1.00   \n",
       "\n",
       "                 75%       max  \n",
       "Nr           1035.25   1380.00  \n",
       "Jahr         2027.00   2028.00  \n",
       "Umsatz       7669.05  13112.40  \n",
       "Kosten       6202.38  12141.68  \n",
       "Rücksendung     1.00      1.00  "
      ]
     },
     "execution_count": 4,
     "metadata": {},
     "output_type": "execute_result"
    }
   ],
   "source": [
    "umsatz.describe().transpose()"
   ]
  },
  {
   "cell_type": "markdown",
   "id": "2b98db5e-34c1-40f5-a15c-00748f00c11f",
   "metadata": {},
   "source": [
    "### Aggregationsfunktionen"
   ]
  },
  {
   "cell_type": "markdown",
   "id": "6d925bbb-033f-451e-8150-9aaf03fa37e1",
   "metadata": {},
   "source": [
    "- Summe \n",
    "- Anzahl\n",
    "- Minimum\n",
    "- Maximum\n",
    "- Mittelwert\n",
    "- Median\n",
    "- Quantile\n",
    "- Perzentile\n",
    "- Standardabweichung\n",
    "- Varianz\n",
    "- mad (mittlere absolute Abweichung)"
   ]
  },
  {
   "cell_type": "markdown",
   "id": "7dfc034c-6e9a-4604-bc54-ee7547b36268",
   "metadata": {},
   "source": [
    "#### Summe"
   ]
  },
  {
   "cell_type": "code",
   "execution_count": 5,
   "id": "d9306281-688f-4b23-872f-f2793daf02c3",
   "metadata": {},
   "outputs": [
    {
     "data": {
      "text/plain": [
       "\u001b[1;31mSignature:\u001b[0m \u001b[0msum\u001b[0m\u001b[1;33m(\u001b[0m\u001b[0miterable\u001b[0m\u001b[1;33m,\u001b[0m \u001b[1;33m/\u001b[0m\u001b[1;33m,\u001b[0m \u001b[0mstart\u001b[0m\u001b[1;33m=\u001b[0m\u001b[1;36m0\u001b[0m\u001b[1;33m)\u001b[0m\u001b[1;33m\u001b[0m\u001b[1;33m\u001b[0m\u001b[0m\n",
       "\u001b[1;31mDocstring:\u001b[0m\n",
       "Return the sum of a 'start' value (default: 0) plus an iterable of numbers\n",
       "\n",
       "When the iterable is empty, return the start value.\n",
       "This function is intended specifically for use with numeric values and may\n",
       "reject non-numeric types.\n",
       "\u001b[1;31mType:\u001b[0m      builtin_function_or_method\n"
      ]
     },
     "metadata": {},
     "output_type": "display_data"
    }
   ],
   "source": [
    "sum?"
   ]
  },
  {
   "cell_type": "code",
   "execution_count": 6,
   "id": "038a4ed2-ddc3-4d65-ba9e-0f91d5da2bd5",
   "metadata": {},
   "outputs": [
    {
     "data": {
      "text/plain": [
       "8934084.600000005"
      ]
     },
     "execution_count": 6,
     "metadata": {},
     "output_type": "execute_result"
    }
   ],
   "source": [
    "sum(umsatz.Umsatz)"
   ]
  },
  {
   "cell_type": "code",
   "execution_count": 7,
   "id": "98b6a768-35e8-4108-8653-727e278c5d26",
   "metadata": {},
   "outputs": [
    {
     "data": {
      "text/plain": [
       "8934084.6"
      ]
     },
     "execution_count": 7,
     "metadata": {},
     "output_type": "execute_result"
    }
   ],
   "source": [
    "umsatz.Umsatz.sum()"
   ]
  },
  {
   "cell_type": "markdown",
   "id": "d1f593af-400d-46a2-a6a7-bc827ea19da5",
   "metadata": {},
   "source": [
    "### Anzahl"
   ]
  },
  {
   "cell_type": "code",
   "execution_count": 8,
   "id": "84c26ba6-6755-4018-83c3-a3837e14bb5c",
   "metadata": {},
   "outputs": [
    {
     "data": {
      "text/plain": [
       "1380"
      ]
     },
     "execution_count": 8,
     "metadata": {},
     "output_type": "execute_result"
    }
   ],
   "source": [
    "umsatz.Umsatz.count()"
   ]
  },
  {
   "cell_type": "markdown",
   "id": "aa592d3f-9265-4af4-9699-37d50c6b402b",
   "metadata": {},
   "source": [
    "#### Minimum"
   ]
  },
  {
   "cell_type": "code",
   "execution_count": 9,
   "id": "76efa9b1-bc1f-46bf-ba2c-c4fe1dec916e",
   "metadata": {},
   "outputs": [
    {
     "data": {
      "text/plain": [
       "2055.45"
      ]
     },
     "execution_count": 9,
     "metadata": {},
     "output_type": "execute_result"
    }
   ],
   "source": [
    "umsatz.Umsatz.min()"
   ]
  },
  {
   "cell_type": "markdown",
   "id": "f9030ecf-6378-4b7b-99ef-30baeb4984e0",
   "metadata": {},
   "source": [
    "#### Maximum"
   ]
  },
  {
   "cell_type": "code",
   "execution_count": 10,
   "id": "1490d468-af31-443b-a027-de51fdbbbf90",
   "metadata": {},
   "outputs": [
    {
     "data": {
      "text/plain": [
       "13112.4"
      ]
     },
     "execution_count": 10,
     "metadata": {},
     "output_type": "execute_result"
    }
   ],
   "source": [
    "umsatz.Umsatz.max()"
   ]
  },
  {
   "cell_type": "markdown",
   "id": "9034ce1d-d95a-4bd2-a3cc-ec0188186da5",
   "metadata": {},
   "source": [
    "#### Mittelwert"
   ]
  },
  {
   "cell_type": "code",
   "execution_count": 11,
   "id": "483a0121-50e0-4b20-8a79-2c6b3de463c5",
   "metadata": {},
   "outputs": [
    {
     "data": {
      "text/plain": [
       "6473.974347826087"
      ]
     },
     "execution_count": 11,
     "metadata": {},
     "output_type": "execute_result"
    }
   ],
   "source": [
    "umsatz.Umsatz.mean()"
   ]
  },
  {
   "cell_type": "markdown",
   "id": "d1888cdc-b49c-4d52-b1ba-36661b3cb227",
   "metadata": {},
   "source": [
    "#### Median"
   ]
  },
  {
   "cell_type": "code",
   "execution_count": 12,
   "id": "aac4fc99-bfdf-4887-98d6-ca6b327aca21",
   "metadata": {},
   "outputs": [
    {
     "data": {
      "text/plain": [
       "6341.1"
      ]
     },
     "execution_count": 12,
     "metadata": {},
     "output_type": "execute_result"
    }
   ],
   "source": [
    "umsatz.Umsatz.median()"
   ]
  },
  {
   "cell_type": "markdown",
   "id": "c883c05d-b5b1-4dbf-b202-62de72e7e7c1",
   "metadata": {},
   "source": [
    "#### Quantile"
   ]
  },
  {
   "cell_type": "code",
   "execution_count": 13,
   "id": "de710443-f2de-40b5-a4ff-372df353afbc",
   "metadata": {},
   "outputs": [
    {
     "data": {
      "text/plain": [
       "0.25    5171.6625\n",
       "0.75    7669.0500\n",
       "Name: Umsatz, dtype: float64"
      ]
     },
     "execution_count": 13,
     "metadata": {},
     "output_type": "execute_result"
    }
   ],
   "source": [
    "umsatz.Umsatz.quantile(q=[0.25, 0.75])"
   ]
  },
  {
   "cell_type": "markdown",
   "id": "d938d618-6ec3-4359-8ab5-a075347e529f",
   "metadata": {},
   "source": [
    "#### Perzentile"
   ]
  },
  {
   "cell_type": "code",
   "execution_count": 14,
   "id": "75908814-ec09-46b5-bf6a-2c83ad2eff1b",
   "metadata": {},
   "outputs": [
    {
     "data": {
      "text/plain": [
       "0.1    4302.825\n",
       "0.9    8845.710\n",
       "Name: Umsatz, dtype: float64"
      ]
     },
     "execution_count": 14,
     "metadata": {},
     "output_type": "execute_result"
    }
   ],
   "source": [
    "umsatz.Umsatz.quantile(q=[0.1, 0.9])"
   ]
  },
  {
   "cell_type": "markdown",
   "id": "87ca8238-38a7-49fd-a5ab-cd473ef07411",
   "metadata": {},
   "source": [
    "#### Standardabweichung"
   ]
  },
  {
   "cell_type": "code",
   "execution_count": 15,
   "id": "e962a9c7-b7bd-493c-85c9-286c321ef14c",
   "metadata": {},
   "outputs": [
    {
     "data": {
      "text/plain": [
       "1767.1180446246585"
      ]
     },
     "execution_count": 15,
     "metadata": {},
     "output_type": "execute_result"
    }
   ],
   "source": [
    "umsatz.Umsatz.std()"
   ]
  },
  {
   "cell_type": "markdown",
   "id": "4ba70f24-7443-4775-8c85-1ae8bab8cfa2",
   "metadata": {},
   "source": [
    "#### Varianz"
   ]
  },
  {
   "cell_type": "code",
   "execution_count": 16,
   "id": "cba18d54-7cc3-40f6-a9fb-789acfeeffe9",
   "metadata": {},
   "outputs": [
    {
     "data": {
      "text/plain": [
       "3122706.1836380763"
      ]
     },
     "execution_count": 16,
     "metadata": {},
     "output_type": "execute_result"
    }
   ],
   "source": [
    "umsatz.Umsatz.var()"
   ]
  },
  {
   "cell_type": "markdown",
   "id": "2b6166b2-77ab-4907-babf-ed16a3070fb3",
   "metadata": {},
   "source": [
    "### agg()-/aggregate-Funktion"
   ]
  },
  {
   "cell_type": "code",
   "execution_count": 21,
   "id": "f6d7e3e6-7e60-44b7-bd8d-11b97e58971e",
   "metadata": {},
   "outputs": [
    {
     "data": {
      "text/plain": [
       "sum         8.934085e+06\n",
       "min         2.055450e+03\n",
       "max         1.311240e+04\n",
       "mean        6.473974e+03\n",
       "median      6.341100e+03\n",
       "quantile    6.341100e+03\n",
       "std         1.767118e+03\n",
       "var         3.122706e+06\n",
       "Name: Umsatz, dtype: float64"
      ]
     },
     "execution_count": 21,
     "metadata": {},
     "output_type": "execute_result"
    }
   ],
   "source": [
    "umsatz.Umsatz.agg([\"sum\", \"min\", \"max\", \"mean\", \"median\", \"quantile\", \"std\", \"var\"])"
   ]
  },
  {
   "cell_type": "code",
   "execution_count": 22,
   "id": "67520644-3d00-4b7a-95ab-35adb692f4e5",
   "metadata": {},
   "outputs": [
    {
     "data": {
      "text/plain": [
       "sum         8.934085e+06\n",
       "min         2.055450e+03\n",
       "max         1.311240e+04\n",
       "mean        6.473974e+03\n",
       "median      6.341100e+03\n",
       "quantile    6.341100e+03\n",
       "std         1.767118e+03\n",
       "var         3.122706e+06\n",
       "Name: Umsatz, dtype: float64"
      ]
     },
     "execution_count": 22,
     "metadata": {},
     "output_type": "execute_result"
    }
   ],
   "source": [
    "umsatz.Umsatz.aggregate([\"sum\", \"min\", \"max\", \"mean\", \"median\", \"quantile\", \"std\", \"var\"])"
   ]
  },
  {
   "cell_type": "code",
   "execution_count": 23,
   "id": "efe813fe-4f3b-4d89-859d-55d1a6dec793",
   "metadata": {},
   "outputs": [
    {
     "data": {
      "text/plain": [
       "Umsatz    6473.974348\n",
       "dtype: float64"
      ]
     },
     "execution_count": 23,
     "metadata": {},
     "output_type": "execute_result"
    }
   ],
   "source": [
    "umsatz.agg({\"Umsatz\":\"mean\"})"
   ]
  },
  {
   "cell_type": "code",
   "execution_count": null,
   "id": "ec6f2614-1a82-4c4d-99d0-64b010c22e06",
   "metadata": {},
   "outputs": [],
   "source": []
  }
 ],
 "metadata": {
  "kernelspec": {
   "display_name": "Python 3 (ipykernel)",
   "language": "python",
   "name": "python3"
  },
  "language_info": {
   "codemirror_mode": {
    "name": "ipython",
    "version": 3
   },
   "file_extension": ".py",
   "mimetype": "text/x-python",
   "name": "python",
   "nbconvert_exporter": "python",
   "pygments_lexer": "ipython3",
   "version": "3.9.13"
  }
 },
 "nbformat": 4,
 "nbformat_minor": 5
}
