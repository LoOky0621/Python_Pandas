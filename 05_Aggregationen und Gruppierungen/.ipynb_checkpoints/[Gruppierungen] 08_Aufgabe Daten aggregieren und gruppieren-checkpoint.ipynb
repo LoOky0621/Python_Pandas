{
 "cells": [
  {
   "cell_type": "markdown",
   "id": "5e63b9ad-78c5-4f49-a87e-cc08fc7cbe6f",
   "metadata": {},
   "source": [
    "# [Gruppierungen] Lösung Aufgabe Daten aggregieren und gruppieren"
   ]
  },
  {
   "cell_type": "code",
   "execution_count": 1,
   "id": "69e05d79-a758-480a-8236-d82230f45519",
   "metadata": {},
   "outputs": [],
   "source": [
    "import pandas as pd\n",
    "import seaborn as sb"
   ]
  },
  {
   "cell_type": "markdown",
   "id": "7dd71dfc-f855-437a-aa86-17266fcff67c",
   "metadata": {},
   "source": [
    "### Datengrundlage"
   ]
  },
  {
   "cell_type": "code",
   "execution_count": 2,
   "id": "9c7ece5f-3f37-4fa2-a310-a4dcf2e860f3",
   "metadata": {},
   "outputs": [],
   "source": [
    "penguins = sb.load_dataset(\"penguins\")"
   ]
  },
  {
   "cell_type": "code",
   "execution_count": 3,
   "id": "c9a522ee-49b4-4b3f-bc93-2240212f34ea",
   "metadata": {},
   "outputs": [
    {
     "data": {
      "text/html": [
       "<div>\n",
       "<style scoped>\n",
       "    .dataframe tbody tr th:only-of-type {\n",
       "        vertical-align: middle;\n",
       "    }\n",
       "\n",
       "    .dataframe tbody tr th {\n",
       "        vertical-align: top;\n",
       "    }\n",
       "\n",
       "    .dataframe thead th {\n",
       "        text-align: right;\n",
       "    }\n",
       "</style>\n",
       "<table border=\"1\" class=\"dataframe\">\n",
       "  <thead>\n",
       "    <tr style=\"text-align: right;\">\n",
       "      <th></th>\n",
       "      <th>species</th>\n",
       "      <th>island</th>\n",
       "      <th>bill_length_mm</th>\n",
       "      <th>bill_depth_mm</th>\n",
       "      <th>flipper_length_mm</th>\n",
       "      <th>body_mass_g</th>\n",
       "      <th>sex</th>\n",
       "    </tr>\n",
       "  </thead>\n",
       "  <tbody>\n",
       "    <tr>\n",
       "      <th>0</th>\n",
       "      <td>Adelie</td>\n",
       "      <td>Torgersen</td>\n",
       "      <td>39.1</td>\n",
       "      <td>18.7</td>\n",
       "      <td>181.0</td>\n",
       "      <td>3750.0</td>\n",
       "      <td>Male</td>\n",
       "    </tr>\n",
       "    <tr>\n",
       "      <th>1</th>\n",
       "      <td>Adelie</td>\n",
       "      <td>Torgersen</td>\n",
       "      <td>39.5</td>\n",
       "      <td>17.4</td>\n",
       "      <td>186.0</td>\n",
       "      <td>3800.0</td>\n",
       "      <td>Female</td>\n",
       "    </tr>\n",
       "    <tr>\n",
       "      <th>2</th>\n",
       "      <td>Adelie</td>\n",
       "      <td>Torgersen</td>\n",
       "      <td>40.3</td>\n",
       "      <td>18.0</td>\n",
       "      <td>195.0</td>\n",
       "      <td>3250.0</td>\n",
       "      <td>Female</td>\n",
       "    </tr>\n",
       "    <tr>\n",
       "      <th>3</th>\n",
       "      <td>Adelie</td>\n",
       "      <td>Torgersen</td>\n",
       "      <td>NaN</td>\n",
       "      <td>NaN</td>\n",
       "      <td>NaN</td>\n",
       "      <td>NaN</td>\n",
       "      <td>NaN</td>\n",
       "    </tr>\n",
       "    <tr>\n",
       "      <th>4</th>\n",
       "      <td>Adelie</td>\n",
       "      <td>Torgersen</td>\n",
       "      <td>36.7</td>\n",
       "      <td>19.3</td>\n",
       "      <td>193.0</td>\n",
       "      <td>3450.0</td>\n",
       "      <td>Female</td>\n",
       "    </tr>\n",
       "  </tbody>\n",
       "</table>\n",
       "</div>"
      ],
      "text/plain": [
       "  species     island  bill_length_mm  bill_depth_mm  flipper_length_mm   \n",
       "0  Adelie  Torgersen            39.1           18.7              181.0  \\\n",
       "1  Adelie  Torgersen            39.5           17.4              186.0   \n",
       "2  Adelie  Torgersen            40.3           18.0              195.0   \n",
       "3  Adelie  Torgersen             NaN            NaN                NaN   \n",
       "4  Adelie  Torgersen            36.7           19.3              193.0   \n",
       "\n",
       "   body_mass_g     sex  \n",
       "0       3750.0    Male  \n",
       "1       3800.0  Female  \n",
       "2       3250.0  Female  \n",
       "3          NaN     NaN  \n",
       "4       3450.0  Female  "
      ]
     },
     "execution_count": 3,
     "metadata": {},
     "output_type": "execute_result"
    }
   ],
   "source": [
    "penguins.head()"
   ]
  },
  {
   "cell_type": "markdown",
   "id": "6414b6a6-b426-46a6-b4a5-724d5f72fde4",
   "metadata": {},
   "source": [
    "- Bill = Schnabel\n",
    "- Flipper = Flügel\n",
    "- Body = Körper"
   ]
  },
  {
   "cell_type": "markdown",
   "id": "ed9cad2d-b925-4e99-b930-7f30d8321e38",
   "metadata": {},
   "source": [
    "- species (Gattung)\t\n",
    "- island (Insel)\n",
    "- bill_length_mm (Schnabellänge)\n",
    "- bill_depth_mm\t(Schnabeltiefe)\n",
    "- flipper_length_mm\t(Schnabellänge)\n",
    "- body_mass_g (Körpermasse)\t\n",
    "- sex (Geschlecht)"
   ]
  },
  {
   "cell_type": "markdown",
   "id": "72c986e3-db3e-414c-94e2-5fffbfa38486",
   "metadata": {},
   "source": [
    "## 1) Aggregationen"
   ]
  },
  {
   "cell_type": "markdown",
   "id": "10d3a7a8-2b45-4945-ad97-dbe616ca43a3",
   "metadata": {},
   "source": [
    "### 1.1) Describe()-Funktion"
   ]
  },
  {
   "cell_type": "markdown",
   "id": "b06bdccc-b2fe-42ea-b3f3-52b5c5cceaed",
   "metadata": {},
   "source": [
    "*Verwende die describe()-Funktion zur Einschätzung der Lageverteilung aller numerischen Variablen*"
   ]
  },
  {
   "cell_type": "code",
   "execution_count": null,
   "id": "ba450d03-dd12-4370-a0a1-d340fc900cdb",
   "metadata": {},
   "outputs": [],
   "source": []
  },
  {
   "cell_type": "markdown",
   "id": "d5c2ff47-e4ec-4e53-b4c1-ade51b5b9378",
   "metadata": {},
   "source": [
    "### 1.2) Funktionen zur Berechnung"
   ]
  },
  {
   "cell_type": "markdown",
   "id": "977ffe52-570a-46a3-8839-38d63e5e5621",
   "metadata": {},
   "source": [
    "*Berechne die nachfolgenden Aggregationsfunktionen für die Körpermasse*"
   ]
  },
  {
   "cell_type": "markdown",
   "id": "27bf43c1-e8f8-4e39-b4e5-dac0eaed9e82",
   "metadata": {},
   "source": [
    "- Summe \n",
    "- Anzahl\n",
    "- Minimum\n",
    "- Maximum\n",
    "- Mittelwert\n",
    "- Median\n",
    "- 0.25- und 0.75-Quantil\n",
    "- 0.15- und 0.85-Perzentil\n",
    "- Standardabweichung\n",
    "- Varianz\n",
    "- mad (mittlere absolute Abweichung)\n",
    "\n",
    "*Hinweis: Verwende die print()-Funktion, um die Bezeichnung der jeweiligen Kennzahl als String zusätzlich auszugeben*"
   ]
  },
  {
   "cell_type": "code",
   "execution_count": null,
   "id": "eed67315-6596-413e-bb1b-c50b093948fc",
   "metadata": {},
   "outputs": [],
   "source": []
  },
  {
   "cell_type": "markdown",
   "id": "ed81dda6-5c1d-44c5-8176-71258890d669",
   "metadata": {},
   "source": [
    "### 1.3) agg- und aggregate-Funktion"
   ]
  },
  {
   "cell_type": "markdown",
   "id": "06da7e53-9496-4db5-a8b1-4b54b1153a6f",
   "metadata": {},
   "source": [
    "*Verwende nun die agg- und aggregate-Funktion zur Berechnung der Kennzahlen*"
   ]
  },
  {
   "cell_type": "code",
   "execution_count": null,
   "id": "5ab15167-932f-41c2-a05f-52423ef1c55d",
   "metadata": {},
   "outputs": [],
   "source": []
  },
  {
   "cell_type": "markdown",
   "id": "658d0569-3e1a-4c63-b23b-a0cf98448940",
   "metadata": {},
   "source": [
    "## 2) Gruppierungen"
   ]
  },
  {
   "cell_type": "markdown",
   "id": "92cd15d8-c13b-4e78-b271-7a8665b79b6f",
   "metadata": {},
   "source": [
    "### 2.1) GroupBy"
   ]
  },
  {
   "cell_type": "markdown",
   "id": "b53f959b-124f-470d-8168-792040d88d8c",
   "metadata": {},
   "source": [
    "*Erstelle eine Gruppierung, um die durchschnittlichen Mittelwerte der Pinguin-Gattungen zu zeigen. Verwende zusätzlich die transpose()-Funktion*"
   ]
  },
  {
   "cell_type": "code",
   "execution_count": null,
   "id": "2fa4a8a1-1fa4-4f25-b798-efd13d1732ad",
   "metadata": {},
   "outputs": [],
   "source": []
  },
  {
   "cell_type": "markdown",
   "id": "8ac37168-dc32-4801-b608-71fc8e8542bf",
   "metadata": {},
   "source": [
    "### 2.2) Filterungen und Gruppierungen"
   ]
  },
  {
   "cell_type": "markdown",
   "id": "facfcd2d-6677-4b9f-986a-ae71d7ee8728",
   "metadata": {},
   "source": [
    "*Welche Inseln gibt es?*"
   ]
  },
  {
   "cell_type": "code",
   "execution_count": null,
   "id": "ab1065d6-f312-470b-8d89-23c0cce232cf",
   "metadata": {},
   "outputs": [],
   "source": []
  },
  {
   "cell_type": "markdown",
   "id": "1a595d06-feac-45db-95db-dd0b2af923c1",
   "metadata": {},
   "source": [
    "*Filtere nun die Datenbasis ausschließlich auf \"Biscoe\". Gruppiere die Biscoe-Datenbasis nun nach dem arithmetischen Mittel von bill_depth_mm und flipper_length_mm*"
   ]
  },
  {
   "cell_type": "code",
   "execution_count": null,
   "id": "8233e176-9118-4f91-846e-a38c9a208a58",
   "metadata": {},
   "outputs": [],
   "source": []
  },
  {
   "cell_type": "markdown",
   "id": "65f327ec-f68a-49d1-ab71-cb66b92dfd49",
   "metadata": {},
   "source": [
    "## 3) Apply und Lambda"
   ]
  },
  {
   "cell_type": "markdown",
   "id": "c6299900-bb15-477c-aa02-aef048565fdc",
   "metadata": {},
   "source": [
    "### 3.1) Funktionen und Apply"
   ]
  },
  {
   "cell_type": "markdown",
   "id": "67b1cb55-d80d-4409-858e-f5ed33c2acef",
   "metadata": {},
   "source": [
    "*Erstelle eine Funktion, welche die Körpermasse in gramm unwandelt in kilogramm*"
   ]
  },
  {
   "cell_type": "code",
   "execution_count": null,
   "id": "f12023bf-564b-4776-88a0-81d83aafbfae",
   "metadata": {},
   "outputs": [],
   "source": []
  },
  {
   "cell_type": "markdown",
   "id": "90bf1698-04ca-4b1e-8b03-d509d6259bb2",
   "metadata": {},
   "source": [
    "### 3.2) Lambda und Apply"
   ]
  },
  {
   "cell_type": "markdown",
   "id": "b68c2309-dc7a-4524-b000-85c2e7a46f5e",
   "metadata": {},
   "source": [
    "*Verwende nun einen Lambda-Ausdruck für die Funktion aus Aufgabe 3.1)*"
   ]
  },
  {
   "cell_type": "code",
   "execution_count": null,
   "id": "fa1673fa-cc31-46d2-b404-23fc27ee25ed",
   "metadata": {},
   "outputs": [],
   "source": []
  }
 ],
 "metadata": {
  "kernelspec": {
   "display_name": "Python 3 (ipykernel)",
   "language": "python",
   "name": "python3"
  },
  "language_info": {
   "codemirror_mode": {
    "name": "ipython",
    "version": 3
   },
   "file_extension": ".py",
   "mimetype": "text/x-python",
   "name": "python",
   "nbconvert_exporter": "python",
   "pygments_lexer": "ipython3",
   "version": "3.9.13"
  }
 },
 "nbformat": 4,
 "nbformat_minor": 5
}
