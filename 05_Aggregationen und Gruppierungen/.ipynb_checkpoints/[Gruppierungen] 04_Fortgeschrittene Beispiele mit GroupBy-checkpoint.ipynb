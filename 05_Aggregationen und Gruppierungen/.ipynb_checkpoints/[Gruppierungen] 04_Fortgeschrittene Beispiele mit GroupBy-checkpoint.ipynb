{
 "cells": [
  {
   "cell_type": "markdown",
   "id": "5e63b9ad-78c5-4f49-a87e-cc08fc7cbe6f",
   "metadata": {},
   "source": [
    "# [Gruppierungen] Fortgeschrittene Beispiele mit GroupBy"
   ]
  },
  {
   "cell_type": "code",
   "execution_count": 1,
   "id": "69e05d79-a758-480a-8236-d82230f45519",
   "metadata": {},
   "outputs": [],
   "source": [
    "import pandas as pd\n",
    "umsatz = pd.read_csv(\"datengrundlage.xls\")"
   ]
  },
  {
   "cell_type": "markdown",
   "id": "5ef6a031-c71a-4756-8b63-2eedc3005e0e",
   "metadata": {},
   "source": [
    "## Datengrundlage filtern und gruppieren"
   ]
  },
  {
   "cell_type": "markdown",
   "id": "53dfe6c5-2800-4273-a63f-9942f22fd99a",
   "metadata": {},
   "source": [
    "### Mexiko filtern"
   ]
  },
  {
   "cell_type": "code",
   "execution_count": null,
   "id": "db1727c0-126a-4c38-a17a-05f968c9e9b3",
   "metadata": {},
   "outputs": [],
   "source": []
  },
  {
   "cell_type": "markdown",
   "id": "c97799a6-41db-403e-a8e2-5202797964e6",
   "metadata": {},
   "source": [
    "#### Welche Städte gibt es?"
   ]
  },
  {
   "cell_type": "code",
   "execution_count": null,
   "id": "995952f1-928a-4243-b101-f5382e468bee",
   "metadata": {},
   "outputs": [],
   "source": []
  },
  {
   "cell_type": "markdown",
   "id": "3226686e-46a7-4c5f-99d6-0b5f3bfbd854",
   "metadata": {},
   "source": [
    "### Mexiko Datengrundlage"
   ]
  },
  {
   "cell_type": "code",
   "execution_count": null,
   "id": "05e6d418-e974-4429-9120-ad13d82071ab",
   "metadata": {},
   "outputs": [],
   "source": []
  },
  {
   "cell_type": "markdown",
   "id": "7f5aecce-8675-431d-bcac-6b02ee3ae291",
   "metadata": {},
   "source": [
    "### Gruppierung nach Städten"
   ]
  },
  {
   "cell_type": "code",
   "execution_count": null,
   "id": "45bacfcb-aa49-4ca6-8975-64a6e330f4dd",
   "metadata": {},
   "outputs": [],
   "source": []
  },
  {
   "cell_type": "markdown",
   "id": "8d0ea55d-83c7-4810-b95e-f2f91afa927b",
   "metadata": {},
   "source": [
    "### Gruppieren nach mehreren Kategorien"
   ]
  },
  {
   "cell_type": "markdown",
   "id": "fb9ab460-0ea9-4645-a711-82ab81930144",
   "metadata": {},
   "source": [
    "#### Wie sieht der Median der Kosten aus des Vereinigten Königreichs nach Bereich und Stadt?"
   ]
  },
  {
   "cell_type": "code",
   "execution_count": null,
   "id": "3667e833-b81a-4c3a-b5e5-fc3ace54041e",
   "metadata": {},
   "outputs": [],
   "source": []
  },
  {
   "cell_type": "markdown",
   "id": "39266e13-3d7b-4acf-a231-b7da210c8269",
   "metadata": {},
   "source": [
    "### Gruppieren nach mehreren numerischen Werten"
   ]
  },
  {
   "cell_type": "markdown",
   "id": "b0fceaa0-bfaa-465c-8bf1-90950a91a00f",
   "metadata": {},
   "source": [
    "#### Wie viele unterschiedliche Ausprägungen von Logistik-Code und Kunde gibt es?"
   ]
  },
  {
   "cell_type": "code",
   "execution_count": null,
   "id": "0715c162-7350-4eaa-aa11-13af146dbd9b",
   "metadata": {},
   "outputs": [],
   "source": []
  },
  {
   "cell_type": "markdown",
   "id": "820fe1a7-4c97-4f65-b174-9edc9cee58e3",
   "metadata": {},
   "source": [
    "### Gruppierung nach Kunde für Umsatz (Standardabweichung) und Kosten (Maximum)"
   ]
  },
  {
   "cell_type": "code",
   "execution_count": null,
   "id": "ecf3619e-84c4-45b6-98b5-c5f6197ff594",
   "metadata": {},
   "outputs": [],
   "source": []
  }
 ],
 "metadata": {
  "kernelspec": {
   "display_name": "Python 3 (ipykernel)",
   "language": "python",
   "name": "python3"
  },
  "language_info": {
   "codemirror_mode": {
    "name": "ipython",
    "version": 3
   },
   "file_extension": ".py",
   "mimetype": "text/x-python",
   "name": "python",
   "nbconvert_exporter": "python",
   "pygments_lexer": "ipython3",
   "version": "3.9.13"
  }
 },
 "nbformat": 4,
 "nbformat_minor": 5
}
