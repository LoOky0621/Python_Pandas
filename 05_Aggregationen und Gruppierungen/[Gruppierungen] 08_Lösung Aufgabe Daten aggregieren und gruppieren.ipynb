{
 "cells": [
  {
   "cell_type": "markdown",
   "id": "5e63b9ad-78c5-4f49-a87e-cc08fc7cbe6f",
   "metadata": {},
   "source": [
    "# [Gruppierungen] Lösung Aufgabe Daten aggregieren und gruppieren"
   ]
  },
  {
   "cell_type": "code",
   "execution_count": 1,
   "id": "69e05d79-a758-480a-8236-d82230f45519",
   "metadata": {},
   "outputs": [],
   "source": [
    "import pandas as pd\n",
    "import seaborn as sb"
   ]
  },
  {
   "cell_type": "markdown",
   "id": "7dd71dfc-f855-437a-aa86-17266fcff67c",
   "metadata": {},
   "source": [
    "### Datengrundlage"
   ]
  },
  {
   "cell_type": "code",
   "execution_count": 2,
   "id": "9c7ece5f-3f37-4fa2-a310-a4dcf2e860f3",
   "metadata": {},
   "outputs": [],
   "source": [
    "penguins = sb.load_dataset(\"penguins\")"
   ]
  },
  {
   "cell_type": "code",
   "execution_count": 3,
   "id": "c9a522ee-49b4-4b3f-bc93-2240212f34ea",
   "metadata": {},
   "outputs": [
    {
     "data": {
      "text/html": [
       "<div>\n",
       "<style scoped>\n",
       "    .dataframe tbody tr th:only-of-type {\n",
       "        vertical-align: middle;\n",
       "    }\n",
       "\n",
       "    .dataframe tbody tr th {\n",
       "        vertical-align: top;\n",
       "    }\n",
       "\n",
       "    .dataframe thead th {\n",
       "        text-align: right;\n",
       "    }\n",
       "</style>\n",
       "<table border=\"1\" class=\"dataframe\">\n",
       "  <thead>\n",
       "    <tr style=\"text-align: right;\">\n",
       "      <th></th>\n",
       "      <th>species</th>\n",
       "      <th>island</th>\n",
       "      <th>bill_length_mm</th>\n",
       "      <th>bill_depth_mm</th>\n",
       "      <th>flipper_length_mm</th>\n",
       "      <th>body_mass_g</th>\n",
       "      <th>sex</th>\n",
       "    </tr>\n",
       "  </thead>\n",
       "  <tbody>\n",
       "    <tr>\n",
       "      <th>0</th>\n",
       "      <td>Adelie</td>\n",
       "      <td>Torgersen</td>\n",
       "      <td>39.1</td>\n",
       "      <td>18.7</td>\n",
       "      <td>181.0</td>\n",
       "      <td>3750.0</td>\n",
       "      <td>Male</td>\n",
       "    </tr>\n",
       "    <tr>\n",
       "      <th>1</th>\n",
       "      <td>Adelie</td>\n",
       "      <td>Torgersen</td>\n",
       "      <td>39.5</td>\n",
       "      <td>17.4</td>\n",
       "      <td>186.0</td>\n",
       "      <td>3800.0</td>\n",
       "      <td>Female</td>\n",
       "    </tr>\n",
       "    <tr>\n",
       "      <th>2</th>\n",
       "      <td>Adelie</td>\n",
       "      <td>Torgersen</td>\n",
       "      <td>40.3</td>\n",
       "      <td>18.0</td>\n",
       "      <td>195.0</td>\n",
       "      <td>3250.0</td>\n",
       "      <td>Female</td>\n",
       "    </tr>\n",
       "    <tr>\n",
       "      <th>3</th>\n",
       "      <td>Adelie</td>\n",
       "      <td>Torgersen</td>\n",
       "      <td>NaN</td>\n",
       "      <td>NaN</td>\n",
       "      <td>NaN</td>\n",
       "      <td>NaN</td>\n",
       "      <td>NaN</td>\n",
       "    </tr>\n",
       "    <tr>\n",
       "      <th>4</th>\n",
       "      <td>Adelie</td>\n",
       "      <td>Torgersen</td>\n",
       "      <td>36.7</td>\n",
       "      <td>19.3</td>\n",
       "      <td>193.0</td>\n",
       "      <td>3450.0</td>\n",
       "      <td>Female</td>\n",
       "    </tr>\n",
       "  </tbody>\n",
       "</table>\n",
       "</div>"
      ],
      "text/plain": [
       "  species     island  bill_length_mm  bill_depth_mm  flipper_length_mm   \n",
       "0  Adelie  Torgersen            39.1           18.7              181.0  \\\n",
       "1  Adelie  Torgersen            39.5           17.4              186.0   \n",
       "2  Adelie  Torgersen            40.3           18.0              195.0   \n",
       "3  Adelie  Torgersen             NaN            NaN                NaN   \n",
       "4  Adelie  Torgersen            36.7           19.3              193.0   \n",
       "\n",
       "   body_mass_g     sex  \n",
       "0       3750.0    Male  \n",
       "1       3800.0  Female  \n",
       "2       3250.0  Female  \n",
       "3          NaN     NaN  \n",
       "4       3450.0  Female  "
      ]
     },
     "execution_count": 3,
     "metadata": {},
     "output_type": "execute_result"
    }
   ],
   "source": [
    "penguins.head()"
   ]
  },
  {
   "cell_type": "markdown",
   "id": "6414b6a6-b426-46a6-b4a5-724d5f72fde4",
   "metadata": {},
   "source": [
    "- Bill = Schnabel\n",
    "- Flipper = Flügel\n",
    "- Body = Körper"
   ]
  },
  {
   "cell_type": "markdown",
   "id": "ed9cad2d-b925-4e99-b930-7f30d8321e38",
   "metadata": {},
   "source": [
    "- species (Gattung)\t\n",
    "- island (Insel)\n",
    "- bill_length_mm (Schnabellänge)\n",
    "- bill_depth_mm\t(Schnabeltiefe)\n",
    "- flipper_length_mm\t(Schnabellänge)\n",
    "- body_mass_g (Körpermasse)\t\n",
    "- sex (Geschlecht)"
   ]
  },
  {
   "cell_type": "markdown",
   "id": "72c986e3-db3e-414c-94e2-5fffbfa38486",
   "metadata": {},
   "source": [
    "## 1) Aggregationen"
   ]
  },
  {
   "cell_type": "markdown",
   "id": "10d3a7a8-2b45-4945-ad97-dbe616ca43a3",
   "metadata": {},
   "source": [
    "### 1.1) Describe()-Funktion"
   ]
  },
  {
   "cell_type": "markdown",
   "id": "b06bdccc-b2fe-42ea-b3f3-52b5c5cceaed",
   "metadata": {},
   "source": [
    "*Verwende die describe()-Funktion zur Einschätzung der Lageverteilung aller numerischen Variablen*"
   ]
  },
  {
   "cell_type": "code",
   "execution_count": 5,
   "id": "ba450d03-dd12-4370-a0a1-d340fc900cdb",
   "metadata": {},
   "outputs": [
    {
     "data": {
      "text/html": [
       "<div>\n",
       "<style scoped>\n",
       "    .dataframe tbody tr th:only-of-type {\n",
       "        vertical-align: middle;\n",
       "    }\n",
       "\n",
       "    .dataframe tbody tr th {\n",
       "        vertical-align: top;\n",
       "    }\n",
       "\n",
       "    .dataframe thead th {\n",
       "        text-align: right;\n",
       "    }\n",
       "</style>\n",
       "<table border=\"1\" class=\"dataframe\">\n",
       "  <thead>\n",
       "    <tr style=\"text-align: right;\">\n",
       "      <th></th>\n",
       "      <th>count</th>\n",
       "      <th>mean</th>\n",
       "      <th>std</th>\n",
       "      <th>min</th>\n",
       "      <th>25%</th>\n",
       "      <th>50%</th>\n",
       "      <th>75%</th>\n",
       "      <th>max</th>\n",
       "    </tr>\n",
       "  </thead>\n",
       "  <tbody>\n",
       "    <tr>\n",
       "      <th>bill_length_mm</th>\n",
       "      <td>342.0</td>\n",
       "      <td>43.921930</td>\n",
       "      <td>5.459584</td>\n",
       "      <td>32.1</td>\n",
       "      <td>39.225</td>\n",
       "      <td>44.45</td>\n",
       "      <td>48.5</td>\n",
       "      <td>59.6</td>\n",
       "    </tr>\n",
       "    <tr>\n",
       "      <th>bill_depth_mm</th>\n",
       "      <td>342.0</td>\n",
       "      <td>17.151170</td>\n",
       "      <td>1.974793</td>\n",
       "      <td>13.1</td>\n",
       "      <td>15.600</td>\n",
       "      <td>17.30</td>\n",
       "      <td>18.7</td>\n",
       "      <td>21.5</td>\n",
       "    </tr>\n",
       "    <tr>\n",
       "      <th>flipper_length_mm</th>\n",
       "      <td>342.0</td>\n",
       "      <td>200.915205</td>\n",
       "      <td>14.061714</td>\n",
       "      <td>172.0</td>\n",
       "      <td>190.000</td>\n",
       "      <td>197.00</td>\n",
       "      <td>213.0</td>\n",
       "      <td>231.0</td>\n",
       "    </tr>\n",
       "    <tr>\n",
       "      <th>body_mass_g</th>\n",
       "      <td>342.0</td>\n",
       "      <td>4201.754386</td>\n",
       "      <td>801.954536</td>\n",
       "      <td>2700.0</td>\n",
       "      <td>3550.000</td>\n",
       "      <td>4050.00</td>\n",
       "      <td>4750.0</td>\n",
       "      <td>6300.0</td>\n",
       "    </tr>\n",
       "  </tbody>\n",
       "</table>\n",
       "</div>"
      ],
      "text/plain": [
       "                   count         mean         std     min       25%      50%   \n",
       "bill_length_mm     342.0    43.921930    5.459584    32.1    39.225    44.45  \\\n",
       "bill_depth_mm      342.0    17.151170    1.974793    13.1    15.600    17.30   \n",
       "flipper_length_mm  342.0   200.915205   14.061714   172.0   190.000   197.00   \n",
       "body_mass_g        342.0  4201.754386  801.954536  2700.0  3550.000  4050.00   \n",
       "\n",
       "                      75%     max  \n",
       "bill_length_mm       48.5    59.6  \n",
       "bill_depth_mm        18.7    21.5  \n",
       "flipper_length_mm   213.0   231.0  \n",
       "body_mass_g        4750.0  6300.0  "
      ]
     },
     "execution_count": 5,
     "metadata": {},
     "output_type": "execute_result"
    }
   ],
   "source": [
    "penguins.describe().transpose()"
   ]
  },
  {
   "cell_type": "code",
   "execution_count": 7,
   "id": "933ac59d-c571-4e87-9fbc-df89b58fee26",
   "metadata": {},
   "outputs": [
    {
     "data": {
      "text/plain": [
       "species               object\n",
       "island                object\n",
       "bill_length_mm       float64\n",
       "bill_depth_mm        float64\n",
       "flipper_length_mm    float64\n",
       "body_mass_g          float64\n",
       "sex                   object\n",
       "dtype: object"
      ]
     },
     "execution_count": 7,
     "metadata": {},
     "output_type": "execute_result"
    }
   ],
   "source": [
    "penguins.dtypes"
   ]
  },
  {
   "cell_type": "code",
   "execution_count": 9,
   "id": "5c96c4b6-30d4-44b5-bdda-3f393bc65c3f",
   "metadata": {},
   "outputs": [
    {
     "name": "stdout",
     "output_type": "stream",
     "text": [
      "7\n"
     ]
    }
   ],
   "source": [
    "print(len(penguins.columns))"
   ]
  },
  {
   "cell_type": "code",
   "execution_count": 10,
   "id": "06021e08-6231-4b6d-9ae6-e5c09a713c7a",
   "metadata": {},
   "outputs": [
    {
     "data": {
      "text/html": [
       "<div>\n",
       "<style scoped>\n",
       "    .dataframe tbody tr th:only-of-type {\n",
       "        vertical-align: middle;\n",
       "    }\n",
       "\n",
       "    .dataframe tbody tr th {\n",
       "        vertical-align: top;\n",
       "    }\n",
       "\n",
       "    .dataframe thead th {\n",
       "        text-align: right;\n",
       "    }\n",
       "</style>\n",
       "<table border=\"1\" class=\"dataframe\">\n",
       "  <thead>\n",
       "    <tr style=\"text-align: right;\">\n",
       "      <th></th>\n",
       "      <th>count</th>\n",
       "      <th>mean</th>\n",
       "      <th>std</th>\n",
       "      <th>min</th>\n",
       "      <th>25%</th>\n",
       "      <th>50%</th>\n",
       "      <th>75%</th>\n",
       "      <th>max</th>\n",
       "    </tr>\n",
       "  </thead>\n",
       "  <tbody>\n",
       "    <tr>\n",
       "      <th>bill_length_mm</th>\n",
       "      <td>342.0</td>\n",
       "      <td>43.921930</td>\n",
       "      <td>5.459584</td>\n",
       "      <td>32.1</td>\n",
       "      <td>39.225</td>\n",
       "      <td>44.45</td>\n",
       "      <td>48.5</td>\n",
       "      <td>59.6</td>\n",
       "    </tr>\n",
       "    <tr>\n",
       "      <th>bill_depth_mm</th>\n",
       "      <td>342.0</td>\n",
       "      <td>17.151170</td>\n",
       "      <td>1.974793</td>\n",
       "      <td>13.1</td>\n",
       "      <td>15.600</td>\n",
       "      <td>17.30</td>\n",
       "      <td>18.7</td>\n",
       "      <td>21.5</td>\n",
       "    </tr>\n",
       "    <tr>\n",
       "      <th>flipper_length_mm</th>\n",
       "      <td>342.0</td>\n",
       "      <td>200.915205</td>\n",
       "      <td>14.061714</td>\n",
       "      <td>172.0</td>\n",
       "      <td>190.000</td>\n",
       "      <td>197.00</td>\n",
       "      <td>213.0</td>\n",
       "      <td>231.0</td>\n",
       "    </tr>\n",
       "    <tr>\n",
       "      <th>body_mass_g</th>\n",
       "      <td>342.0</td>\n",
       "      <td>4201.754386</td>\n",
       "      <td>801.954536</td>\n",
       "      <td>2700.0</td>\n",
       "      <td>3550.000</td>\n",
       "      <td>4050.00</td>\n",
       "      <td>4750.0</td>\n",
       "      <td>6300.0</td>\n",
       "    </tr>\n",
       "  </tbody>\n",
       "</table>\n",
       "</div>"
      ],
      "text/plain": [
       "                   count         mean         std     min       25%      50%   \n",
       "bill_length_mm     342.0    43.921930    5.459584    32.1    39.225    44.45  \\\n",
       "bill_depth_mm      342.0    17.151170    1.974793    13.1    15.600    17.30   \n",
       "flipper_length_mm  342.0   200.915205   14.061714   172.0   190.000   197.00   \n",
       "body_mass_g        342.0  4201.754386  801.954536  2700.0  3550.000  4050.00   \n",
       "\n",
       "                      75%     max  \n",
       "bill_length_mm       48.5    59.6  \n",
       "bill_depth_mm        18.7    21.5  \n",
       "flipper_length_mm   213.0   231.0  \n",
       "body_mass_g        4750.0  6300.0  "
      ]
     },
     "execution_count": 10,
     "metadata": {},
     "output_type": "execute_result"
    }
   ],
   "source": [
    "penguins.iloc[:, 2:len(penguins.columns)-1].describe().transpose()"
   ]
  },
  {
   "cell_type": "markdown",
   "id": "d5c2ff47-e4ec-4e53-b4c1-ade51b5b9378",
   "metadata": {},
   "source": [
    "### 1.2) Funktionen zur Berechnung"
   ]
  },
  {
   "cell_type": "markdown",
   "id": "977ffe52-570a-46a3-8839-38d63e5e5621",
   "metadata": {},
   "source": [
    "*Berechne die nachfolgenden Aggregationsfunktionen für die Körpermasse*"
   ]
  },
  {
   "cell_type": "markdown",
   "id": "27bf43c1-e8f8-4e39-b4e5-dac0eaed9e82",
   "metadata": {},
   "source": [
    "- Summe \n",
    "- Anzahl\n",
    "- Minimum\n",
    "- Maximum\n",
    "- Mittelwert\n",
    "- Median\n",
    "- 0.25- und 0.75-Quantil\n",
    "- 0.15- und 0.85-Perzentil\n",
    "- Standardabweichung\n",
    "- Varianz\n",
    "- mad (mittlere absolute Abweichung)\n",
    "\n",
    "*Hinweis: Verwende die print()-Funktion, um die Bezeichnung der jeweiligen Kennzahl als String zusätzlich auszugeben*"
   ]
  },
  {
   "cell_type": "code",
   "execution_count": 17,
   "id": "eed67315-6596-413e-bb1b-c50b093948fc",
   "metadata": {},
   "outputs": [
    {
     "name": "stdout",
     "output_type": "stream",
     "text": [
      "Summe: 1437000.0\n",
      "Anzahl: 342\n",
      "Minimum: 2700.0\n",
      "Maximum: 6300.0\n",
      "Mittelwert: 4201.754385964912\n",
      "Median: 4050.0\n",
      "Quantile: 0.25    3550.0\n",
      "0.75    4750.0\n",
      "Name: body_mass_g, dtype: float64\n",
      "Perzentile: 0.15    3400.0\n",
      "0.85    5200.0\n",
      "Name: body_mass_g, dtype: float64\n",
      "Standardabweichung: 801.9545356980954\n",
      "Varianz: 643131.0773267477\n"
     ]
    }
   ],
   "source": [
    "print(\"Summe:\", penguins.body_mass_g.sum())\n",
    "print(\"Anzahl:\", penguins.body_mass_g.count())\n",
    "print(\"Minimum:\", penguins.body_mass_g.min())\n",
    "print(\"Maximum:\", penguins.body_mass_g.max())\n",
    "print(\"Mittelwert:\", penguins.body_mass_g.mean())\n",
    "print(\"Median:\", penguins.body_mass_g.median())\n",
    "print(\"Quantile:\", penguins.body_mass_g.quantile(q=[0.25, 0.75]))\n",
    "print(\"Perzentile:\", penguins.body_mass_g.quantile(q=[0.15, 0.85]))\n",
    "print(\"Standardabweichung:\", penguins.body_mass_g.std())\n",
    "print(\"Varianz:\", penguins.body_mass_g.var())"
   ]
  },
  {
   "cell_type": "markdown",
   "id": "ed81dda6-5c1d-44c5-8176-71258890d669",
   "metadata": {},
   "source": [
    "### 1.3) agg- und aggregate-Funktion"
   ]
  },
  {
   "cell_type": "markdown",
   "id": "06da7e53-9496-4db5-a8b1-4b54b1153a6f",
   "metadata": {},
   "source": [
    "*Verwende nun die agg- und aggregate-Funktion zur Berechnung der Kennzahlen*"
   ]
  },
  {
   "cell_type": "code",
   "execution_count": 18,
   "id": "5ab15167-932f-41c2-a05f-52423ef1c55d",
   "metadata": {},
   "outputs": [
    {
     "data": {
      "text/plain": [
       "sum         1.437000e+06\n",
       "count       3.420000e+02\n",
       "min         2.700000e+03\n",
       "max         6.300000e+03\n",
       "mean        4.201754e+03\n",
       "median      4.050000e+03\n",
       "quantile    4.050000e+03\n",
       "std         8.019545e+02\n",
       "var         6.431311e+05\n",
       "Name: body_mass_g, dtype: float64"
      ]
     },
     "execution_count": 18,
     "metadata": {},
     "output_type": "execute_result"
    }
   ],
   "source": [
    "penguins.body_mass_g.agg([\"sum\", \"count\", \"min\", \"max\", \"mean\", \"median\", \"quantile\", \"std\", \"var\"])"
   ]
  },
  {
   "cell_type": "markdown",
   "id": "658d0569-3e1a-4c63-b23b-a0cf98448940",
   "metadata": {},
   "source": [
    "## 2) Gruppierungen"
   ]
  },
  {
   "cell_type": "markdown",
   "id": "92cd15d8-c13b-4e78-b271-7a8665b79b6f",
   "metadata": {},
   "source": [
    "### 2.1) GroupBy"
   ]
  },
  {
   "cell_type": "markdown",
   "id": "b53f959b-124f-470d-8168-792040d88d8c",
   "metadata": {},
   "source": [
    "*Erstelle eine Gruppierung, um die durchschnittlichen Mittelwerte der Pinguin-Gattungen zu zeigen. Verwende zusätzlich die transpose()-Funktion*\n",
    "\n",
    "Variable: flipper_length"
   ]
  },
  {
   "cell_type": "code",
   "execution_count": 19,
   "id": "2fa4a8a1-1fa4-4f25-b798-efd13d1732ad",
   "metadata": {},
   "outputs": [
    {
     "data": {
      "text/html": [
       "<div>\n",
       "<style scoped>\n",
       "    .dataframe tbody tr th:only-of-type {\n",
       "        vertical-align: middle;\n",
       "    }\n",
       "\n",
       "    .dataframe tbody tr th {\n",
       "        vertical-align: top;\n",
       "    }\n",
       "\n",
       "    .dataframe thead th {\n",
       "        text-align: right;\n",
       "    }\n",
       "</style>\n",
       "<table border=\"1\" class=\"dataframe\">\n",
       "  <thead>\n",
       "    <tr style=\"text-align: right;\">\n",
       "      <th>species</th>\n",
       "      <th>Adelie</th>\n",
       "      <th>Chinstrap</th>\n",
       "      <th>Gentoo</th>\n",
       "    </tr>\n",
       "  </thead>\n",
       "  <tbody>\n",
       "    <tr>\n",
       "      <th>flipper_length_mm</th>\n",
       "      <td>189.953642</td>\n",
       "      <td>195.823529</td>\n",
       "      <td>217.186992</td>\n",
       "    </tr>\n",
       "  </tbody>\n",
       "</table>\n",
       "</div>"
      ],
      "text/plain": [
       "species                Adelie   Chinstrap      Gentoo\n",
       "flipper_length_mm  189.953642  195.823529  217.186992"
      ]
     },
     "execution_count": 19,
     "metadata": {},
     "output_type": "execute_result"
    }
   ],
   "source": [
    "penguins.groupby(by=\"species\")[[\"flipper_length_mm\"]].mean().transpose()"
   ]
  },
  {
   "cell_type": "code",
   "execution_count": 20,
   "id": "3100e642-735e-4d44-858c-0ab4bba8c9a7",
   "metadata": {},
   "outputs": [
    {
     "data": {
      "text/html": [
       "<div>\n",
       "<style scoped>\n",
       "    .dataframe tbody tr th:only-of-type {\n",
       "        vertical-align: middle;\n",
       "    }\n",
       "\n",
       "    .dataframe tbody tr th {\n",
       "        vertical-align: top;\n",
       "    }\n",
       "\n",
       "    .dataframe thead th {\n",
       "        text-align: right;\n",
       "    }\n",
       "</style>\n",
       "<table border=\"1\" class=\"dataframe\">\n",
       "  <thead>\n",
       "    <tr style=\"text-align: right;\">\n",
       "      <th>species</th>\n",
       "      <th>Adelie</th>\n",
       "      <th>Chinstrap</th>\n",
       "      <th>Gentoo</th>\n",
       "    </tr>\n",
       "  </thead>\n",
       "  <tbody>\n",
       "    <tr>\n",
       "      <th>flipper_length_mm</th>\n",
       "      <td>189.953642</td>\n",
       "      <td>195.823529</td>\n",
       "      <td>217.186992</td>\n",
       "    </tr>\n",
       "  </tbody>\n",
       "</table>\n",
       "</div>"
      ],
      "text/plain": [
       "species                Adelie   Chinstrap      Gentoo\n",
       "flipper_length_mm  189.953642  195.823529  217.186992"
      ]
     },
     "execution_count": 20,
     "metadata": {},
     "output_type": "execute_result"
    }
   ],
   "source": [
    "penguins.groupby(by=\"species\")[[\"flipper_length_mm\"]].aggregate(\"mean\").transpose()"
   ]
  },
  {
   "cell_type": "code",
   "execution_count": 21,
   "id": "432ace53-7737-418a-ac03-23beebe20de9",
   "metadata": {},
   "outputs": [
    {
     "data": {
      "text/html": [
       "<div>\n",
       "<style scoped>\n",
       "    .dataframe tbody tr th:only-of-type {\n",
       "        vertical-align: middle;\n",
       "    }\n",
       "\n",
       "    .dataframe tbody tr th {\n",
       "        vertical-align: top;\n",
       "    }\n",
       "\n",
       "    .dataframe thead th {\n",
       "        text-align: right;\n",
       "    }\n",
       "</style>\n",
       "<table border=\"1\" class=\"dataframe\">\n",
       "  <thead>\n",
       "    <tr style=\"text-align: right;\">\n",
       "      <th>species</th>\n",
       "      <th>Adelie</th>\n",
       "      <th>Chinstrap</th>\n",
       "      <th>Gentoo</th>\n",
       "    </tr>\n",
       "  </thead>\n",
       "  <tbody>\n",
       "    <tr>\n",
       "      <th>flipper_length_mm</th>\n",
       "      <td>189.953642</td>\n",
       "      <td>195.823529</td>\n",
       "      <td>217.186992</td>\n",
       "    </tr>\n",
       "  </tbody>\n",
       "</table>\n",
       "</div>"
      ],
      "text/plain": [
       "species                Adelie   Chinstrap      Gentoo\n",
       "flipper_length_mm  189.953642  195.823529  217.186992"
      ]
     },
     "execution_count": 21,
     "metadata": {},
     "output_type": "execute_result"
    }
   ],
   "source": [
    "penguins.groupby(by=\"species\")[[\"flipper_length_mm\"]].agg(\"mean\").transpose()"
   ]
  },
  {
   "cell_type": "markdown",
   "id": "8ac37168-dc32-4801-b608-71fc8e8542bf",
   "metadata": {},
   "source": [
    "### 2.2) Filterungen und Gruppierungen"
   ]
  },
  {
   "cell_type": "markdown",
   "id": "facfcd2d-6677-4b9f-986a-ae71d7ee8728",
   "metadata": {},
   "source": [
    "*Welche Inseln gibt es?*"
   ]
  },
  {
   "cell_type": "code",
   "execution_count": 23,
   "id": "ab1065d6-f312-470b-8d89-23c0cce232cf",
   "metadata": {},
   "outputs": [
    {
     "data": {
      "text/plain": [
       "array(['Torgersen', 'Biscoe', 'Dream'], dtype=object)"
      ]
     },
     "execution_count": 23,
     "metadata": {},
     "output_type": "execute_result"
    }
   ],
   "source": [
    "penguins.island.unique()"
   ]
  },
  {
   "cell_type": "markdown",
   "id": "1a595d06-feac-45db-95db-dd0b2af923c1",
   "metadata": {},
   "source": [
    "*Filtere nun die Datenbasis ausschließlich auf \"Biscoe\". Gruppiere die Biscoe-Datenbasis nun nach dem arithmetischen Mittel von bill_depth_mm und flipper_length_mm*"
   ]
  },
  {
   "cell_type": "code",
   "execution_count": 24,
   "id": "8233e176-9118-4f91-846e-a38c9a208a58",
   "metadata": {},
   "outputs": [],
   "source": [
    "biscoe = penguins[penguins.island == \"Biscoe\"]"
   ]
  },
  {
   "cell_type": "code",
   "execution_count": 25,
   "id": "32d70a56-554a-4a21-8324-873fd73a80d7",
   "metadata": {},
   "outputs": [
    {
     "data": {
      "text/html": [
       "<div>\n",
       "<style scoped>\n",
       "    .dataframe tbody tr th:only-of-type {\n",
       "        vertical-align: middle;\n",
       "    }\n",
       "\n",
       "    .dataframe tbody tr th {\n",
       "        vertical-align: top;\n",
       "    }\n",
       "\n",
       "    .dataframe thead th {\n",
       "        text-align: right;\n",
       "    }\n",
       "</style>\n",
       "<table border=\"1\" class=\"dataframe\">\n",
       "  <thead>\n",
       "    <tr style=\"text-align: right;\">\n",
       "      <th></th>\n",
       "      <th>species</th>\n",
       "      <th>island</th>\n",
       "      <th>bill_length_mm</th>\n",
       "      <th>bill_depth_mm</th>\n",
       "      <th>flipper_length_mm</th>\n",
       "      <th>body_mass_g</th>\n",
       "      <th>sex</th>\n",
       "    </tr>\n",
       "  </thead>\n",
       "  <tbody>\n",
       "    <tr>\n",
       "      <th>20</th>\n",
       "      <td>Adelie</td>\n",
       "      <td>Biscoe</td>\n",
       "      <td>37.8</td>\n",
       "      <td>18.3</td>\n",
       "      <td>174.0</td>\n",
       "      <td>3400.0</td>\n",
       "      <td>Female</td>\n",
       "    </tr>\n",
       "    <tr>\n",
       "      <th>21</th>\n",
       "      <td>Adelie</td>\n",
       "      <td>Biscoe</td>\n",
       "      <td>37.7</td>\n",
       "      <td>18.7</td>\n",
       "      <td>180.0</td>\n",
       "      <td>3600.0</td>\n",
       "      <td>Male</td>\n",
       "    </tr>\n",
       "    <tr>\n",
       "      <th>22</th>\n",
       "      <td>Adelie</td>\n",
       "      <td>Biscoe</td>\n",
       "      <td>35.9</td>\n",
       "      <td>19.2</td>\n",
       "      <td>189.0</td>\n",
       "      <td>3800.0</td>\n",
       "      <td>Female</td>\n",
       "    </tr>\n",
       "    <tr>\n",
       "      <th>23</th>\n",
       "      <td>Adelie</td>\n",
       "      <td>Biscoe</td>\n",
       "      <td>38.2</td>\n",
       "      <td>18.1</td>\n",
       "      <td>185.0</td>\n",
       "      <td>3950.0</td>\n",
       "      <td>Male</td>\n",
       "    </tr>\n",
       "    <tr>\n",
       "      <th>24</th>\n",
       "      <td>Adelie</td>\n",
       "      <td>Biscoe</td>\n",
       "      <td>38.8</td>\n",
       "      <td>17.2</td>\n",
       "      <td>180.0</td>\n",
       "      <td>3800.0</td>\n",
       "      <td>Male</td>\n",
       "    </tr>\n",
       "  </tbody>\n",
       "</table>\n",
       "</div>"
      ],
      "text/plain": [
       "   species  island  bill_length_mm  bill_depth_mm  flipper_length_mm   \n",
       "20  Adelie  Biscoe            37.8           18.3              174.0  \\\n",
       "21  Adelie  Biscoe            37.7           18.7              180.0   \n",
       "22  Adelie  Biscoe            35.9           19.2              189.0   \n",
       "23  Adelie  Biscoe            38.2           18.1              185.0   \n",
       "24  Adelie  Biscoe            38.8           17.2              180.0   \n",
       "\n",
       "    body_mass_g     sex  \n",
       "20       3400.0  Female  \n",
       "21       3600.0    Male  \n",
       "22       3800.0  Female  \n",
       "23       3950.0    Male  \n",
       "24       3800.0    Male  "
      ]
     },
     "execution_count": 25,
     "metadata": {},
     "output_type": "execute_result"
    }
   ],
   "source": [
    "biscoe.head()"
   ]
  },
  {
   "cell_type": "code",
   "execution_count": 26,
   "id": "606168a9-e5c9-48d9-a89b-6ddb362438eb",
   "metadata": {},
   "outputs": [
    {
     "data": {
      "text/html": [
       "<div>\n",
       "<style scoped>\n",
       "    .dataframe tbody tr th:only-of-type {\n",
       "        vertical-align: middle;\n",
       "    }\n",
       "\n",
       "    .dataframe tbody tr th {\n",
       "        vertical-align: top;\n",
       "    }\n",
       "\n",
       "    .dataframe thead th {\n",
       "        text-align: right;\n",
       "    }\n",
       "</style>\n",
       "<table border=\"1\" class=\"dataframe\">\n",
       "  <thead>\n",
       "    <tr style=\"text-align: right;\">\n",
       "      <th></th>\n",
       "      <th>bill_depth_mm</th>\n",
       "      <th>flipper_length_mm</th>\n",
       "    </tr>\n",
       "    <tr>\n",
       "      <th>species</th>\n",
       "      <th></th>\n",
       "      <th></th>\n",
       "    </tr>\n",
       "  </thead>\n",
       "  <tbody>\n",
       "    <tr>\n",
       "      <th>Adelie</th>\n",
       "      <td>18.370455</td>\n",
       "      <td>188.795455</td>\n",
       "    </tr>\n",
       "    <tr>\n",
       "      <th>Gentoo</th>\n",
       "      <td>14.982114</td>\n",
       "      <td>217.186992</td>\n",
       "    </tr>\n",
       "  </tbody>\n",
       "</table>\n",
       "</div>"
      ],
      "text/plain": [
       "         bill_depth_mm  flipper_length_mm\n",
       "species                                  \n",
       "Adelie       18.370455         188.795455\n",
       "Gentoo       14.982114         217.186992"
      ]
     },
     "execution_count": 26,
     "metadata": {},
     "output_type": "execute_result"
    }
   ],
   "source": [
    "biscoe.groupby(by=\"species\").agg({\"bill_depth_mm\":\"mean\", \"flipper_length_mm\":\"mean\"})"
   ]
  },
  {
   "cell_type": "markdown",
   "id": "65f327ec-f68a-49d1-ab71-cb66b92dfd49",
   "metadata": {},
   "source": [
    "## 3) Apply und Lambda"
   ]
  },
  {
   "cell_type": "markdown",
   "id": "c6299900-bb15-477c-aa02-aef048565fdc",
   "metadata": {},
   "source": [
    "### 3.1) Funktionen und Apply"
   ]
  },
  {
   "cell_type": "markdown",
   "id": "67b1cb55-d80d-4409-858e-f5ed33c2acef",
   "metadata": {},
   "source": [
    "*Erstelle eine Funktion, welche die Körpermasse in gramm unwandelt in kilogramm*"
   ]
  },
  {
   "cell_type": "code",
   "execution_count": 27,
   "id": "f12023bf-564b-4776-88a0-81d83aafbfae",
   "metadata": {},
   "outputs": [],
   "source": [
    "def conversion(x):\n",
    "    return x / 1000"
   ]
  },
  {
   "cell_type": "code",
   "execution_count": 28,
   "id": "3ccc359d-0c3e-47c0-bd96-4f7febc4f2a3",
   "metadata": {},
   "outputs": [
    {
     "data": {
      "text/html": [
       "<div>\n",
       "<style scoped>\n",
       "    .dataframe tbody tr th:only-of-type {\n",
       "        vertical-align: middle;\n",
       "    }\n",
       "\n",
       "    .dataframe tbody tr th {\n",
       "        vertical-align: top;\n",
       "    }\n",
       "\n",
       "    .dataframe thead th {\n",
       "        text-align: right;\n",
       "    }\n",
       "</style>\n",
       "<table border=\"1\" class=\"dataframe\">\n",
       "  <thead>\n",
       "    <tr style=\"text-align: right;\">\n",
       "      <th></th>\n",
       "      <th></th>\n",
       "      <th>body_mass_g</th>\n",
       "    </tr>\n",
       "    <tr>\n",
       "      <th>species</th>\n",
       "      <th></th>\n",
       "      <th></th>\n",
       "    </tr>\n",
       "  </thead>\n",
       "  <tbody>\n",
       "    <tr>\n",
       "      <th rowspan=\"5\" valign=\"top\">Adelie</th>\n",
       "      <th>0</th>\n",
       "      <td>3.75</td>\n",
       "    </tr>\n",
       "    <tr>\n",
       "      <th>1</th>\n",
       "      <td>3.80</td>\n",
       "    </tr>\n",
       "    <tr>\n",
       "      <th>2</th>\n",
       "      <td>3.25</td>\n",
       "    </tr>\n",
       "    <tr>\n",
       "      <th>3</th>\n",
       "      <td>NaN</td>\n",
       "    </tr>\n",
       "    <tr>\n",
       "      <th>4</th>\n",
       "      <td>3.45</td>\n",
       "    </tr>\n",
       "    <tr>\n",
       "      <th>...</th>\n",
       "      <th>...</th>\n",
       "      <td>...</td>\n",
       "    </tr>\n",
       "    <tr>\n",
       "      <th rowspan=\"5\" valign=\"top\">Gentoo</th>\n",
       "      <th>339</th>\n",
       "      <td>NaN</td>\n",
       "    </tr>\n",
       "    <tr>\n",
       "      <th>340</th>\n",
       "      <td>4.85</td>\n",
       "    </tr>\n",
       "    <tr>\n",
       "      <th>341</th>\n",
       "      <td>5.75</td>\n",
       "    </tr>\n",
       "    <tr>\n",
       "      <th>342</th>\n",
       "      <td>5.20</td>\n",
       "    </tr>\n",
       "    <tr>\n",
       "      <th>343</th>\n",
       "      <td>5.40</td>\n",
       "    </tr>\n",
       "  </tbody>\n",
       "</table>\n",
       "<p>344 rows × 1 columns</p>\n",
       "</div>"
      ],
      "text/plain": [
       "             body_mass_g\n",
       "species                 \n",
       "Adelie  0           3.75\n",
       "        1           3.80\n",
       "        2           3.25\n",
       "        3            NaN\n",
       "        4           3.45\n",
       "...                  ...\n",
       "Gentoo  339          NaN\n",
       "        340         4.85\n",
       "        341         5.75\n",
       "        342         5.20\n",
       "        343         5.40\n",
       "\n",
       "[344 rows x 1 columns]"
      ]
     },
     "execution_count": 28,
     "metadata": {},
     "output_type": "execute_result"
    }
   ],
   "source": [
    "penguins.groupby(by=\"species\")[[\"body_mass_g\"]].apply(conversion)"
   ]
  },
  {
   "cell_type": "markdown",
   "id": "90bf1698-04ca-4b1e-8b03-d509d6259bb2",
   "metadata": {},
   "source": [
    "### 3.2) Lambda und Apply"
   ]
  },
  {
   "cell_type": "markdown",
   "id": "b68c2309-dc7a-4524-b000-85c2e7a46f5e",
   "metadata": {},
   "source": [
    "*Verwende nun einen Lambda-Ausdruck für die Funktion aus Aufgabe 3.1)*"
   ]
  },
  {
   "cell_type": "code",
   "execution_count": 30,
   "id": "fa1673fa-cc31-46d2-b404-23fc27ee25ed",
   "metadata": {},
   "outputs": [],
   "source": [
    "conversion2 = lambda x: x / 1000"
   ]
  },
  {
   "cell_type": "code",
   "execution_count": 31,
   "id": "9675c379-d355-41a3-859d-996f1ffd857c",
   "metadata": {},
   "outputs": [
    {
     "data": {
      "text/html": [
       "<div>\n",
       "<style scoped>\n",
       "    .dataframe tbody tr th:only-of-type {\n",
       "        vertical-align: middle;\n",
       "    }\n",
       "\n",
       "    .dataframe tbody tr th {\n",
       "        vertical-align: top;\n",
       "    }\n",
       "\n",
       "    .dataframe thead th {\n",
       "        text-align: right;\n",
       "    }\n",
       "</style>\n",
       "<table border=\"1\" class=\"dataframe\">\n",
       "  <thead>\n",
       "    <tr style=\"text-align: right;\">\n",
       "      <th></th>\n",
       "      <th></th>\n",
       "      <th>body_mass_g</th>\n",
       "    </tr>\n",
       "    <tr>\n",
       "      <th>species</th>\n",
       "      <th></th>\n",
       "      <th></th>\n",
       "    </tr>\n",
       "  </thead>\n",
       "  <tbody>\n",
       "    <tr>\n",
       "      <th rowspan=\"5\" valign=\"top\">Adelie</th>\n",
       "      <th>0</th>\n",
       "      <td>3.75</td>\n",
       "    </tr>\n",
       "    <tr>\n",
       "      <th>1</th>\n",
       "      <td>3.80</td>\n",
       "    </tr>\n",
       "    <tr>\n",
       "      <th>2</th>\n",
       "      <td>3.25</td>\n",
       "    </tr>\n",
       "    <tr>\n",
       "      <th>3</th>\n",
       "      <td>NaN</td>\n",
       "    </tr>\n",
       "    <tr>\n",
       "      <th>4</th>\n",
       "      <td>3.45</td>\n",
       "    </tr>\n",
       "    <tr>\n",
       "      <th>...</th>\n",
       "      <th>...</th>\n",
       "      <td>...</td>\n",
       "    </tr>\n",
       "    <tr>\n",
       "      <th rowspan=\"5\" valign=\"top\">Gentoo</th>\n",
       "      <th>339</th>\n",
       "      <td>NaN</td>\n",
       "    </tr>\n",
       "    <tr>\n",
       "      <th>340</th>\n",
       "      <td>4.85</td>\n",
       "    </tr>\n",
       "    <tr>\n",
       "      <th>341</th>\n",
       "      <td>5.75</td>\n",
       "    </tr>\n",
       "    <tr>\n",
       "      <th>342</th>\n",
       "      <td>5.20</td>\n",
       "    </tr>\n",
       "    <tr>\n",
       "      <th>343</th>\n",
       "      <td>5.40</td>\n",
       "    </tr>\n",
       "  </tbody>\n",
       "</table>\n",
       "<p>344 rows × 1 columns</p>\n",
       "</div>"
      ],
      "text/plain": [
       "             body_mass_g\n",
       "species                 \n",
       "Adelie  0           3.75\n",
       "        1           3.80\n",
       "        2           3.25\n",
       "        3            NaN\n",
       "        4           3.45\n",
       "...                  ...\n",
       "Gentoo  339          NaN\n",
       "        340         4.85\n",
       "        341         5.75\n",
       "        342         5.20\n",
       "        343         5.40\n",
       "\n",
       "[344 rows x 1 columns]"
      ]
     },
     "execution_count": 31,
     "metadata": {},
     "output_type": "execute_result"
    }
   ],
   "source": [
    "penguins.groupby(by=\"species\")[[\"body_mass_g\"]].apply(conversion2)"
   ]
  },
  {
   "cell_type": "code",
   "execution_count": null,
   "id": "37dd6642-1115-4b3a-b1bc-2f3be750b364",
   "metadata": {},
   "outputs": [],
   "source": []
  }
 ],
 "metadata": {
  "kernelspec": {
   "display_name": "Python 3 (ipykernel)",
   "language": "python",
   "name": "python3"
  },
  "language_info": {
   "codemirror_mode": {
    "name": "ipython",
    "version": 3
   },
   "file_extension": ".py",
   "mimetype": "text/x-python",
   "name": "python",
   "nbconvert_exporter": "python",
   "pygments_lexer": "ipython3",
   "version": "3.9.13"
  }
 },
 "nbformat": 4,
 "nbformat_minor": 5
}
