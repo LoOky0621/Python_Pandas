{
 "cells": [
  {
   "cell_type": "markdown",
   "id": "5e63b9ad-78c5-4f49-a87e-cc08fc7cbe6f",
   "metadata": {},
   "source": [
    "# [Gruppierungen] Fortgeschrittene Beispiele mit GroupBy"
   ]
  },
  {
   "cell_type": "code",
   "execution_count": 2,
   "id": "69e05d79-a758-480a-8236-d82230f45519",
   "metadata": {},
   "outputs": [],
   "source": [
    "import pandas as pd\n",
    "umsatz = pd.read_csv(\"datengrundlage.xls\")"
   ]
  },
  {
   "cell_type": "markdown",
   "id": "5ef6a031-c71a-4756-8b63-2eedc3005e0e",
   "metadata": {},
   "source": [
    "## Datengrundlage filtern und gruppieren"
   ]
  },
  {
   "cell_type": "code",
   "execution_count": 4,
   "id": "4c41d988-1bb2-4ea8-b4df-3b6c525630f5",
   "metadata": {},
   "outputs": [
    {
     "data": {
      "text/html": [
       "<div>\n",
       "<style scoped>\n",
       "    .dataframe tbody tr th:only-of-type {\n",
       "        vertical-align: middle;\n",
       "    }\n",
       "\n",
       "    .dataframe tbody tr th {\n",
       "        vertical-align: top;\n",
       "    }\n",
       "\n",
       "    .dataframe thead th {\n",
       "        text-align: right;\n",
       "    }\n",
       "</style>\n",
       "<table border=\"1\" class=\"dataframe\">\n",
       "  <thead>\n",
       "    <tr style=\"text-align: right;\">\n",
       "      <th></th>\n",
       "      <th>Nr</th>\n",
       "      <th>Datum</th>\n",
       "      <th>Jahr</th>\n",
       "      <th>Land</th>\n",
       "      <th>Stadt</th>\n",
       "      <th>Umsatz</th>\n",
       "      <th>Kosten</th>\n",
       "      <th>Rücksendung</th>\n",
       "      <th>Bereich</th>\n",
       "      <th>Produktgruppe</th>\n",
       "      <th>Logistik-Code</th>\n",
       "      <th>Kunde</th>\n",
       "    </tr>\n",
       "  </thead>\n",
       "  <tbody>\n",
       "    <tr>\n",
       "      <th>0</th>\n",
       "      <td>1</td>\n",
       "      <td>1/1/2025</td>\n",
       "      <td>2025</td>\n",
       "      <td>Südkorea</td>\n",
       "      <td>Seoul</td>\n",
       "      <td>5534.55</td>\n",
       "      <td>4427.64</td>\n",
       "      <td>NaN</td>\n",
       "      <td>Bereich-5</td>\n",
       "      <td>prd-3</td>\n",
       "      <td>6-43647-1</td>\n",
       "      <td>C-85</td>\n",
       "    </tr>\n",
       "    <tr>\n",
       "      <th>1</th>\n",
       "      <td>2</td>\n",
       "      <td>1/2/2025</td>\n",
       "      <td>2025</td>\n",
       "      <td>Südkorea</td>\n",
       "      <td>Seoul</td>\n",
       "      <td>6284.70</td>\n",
       "      <td>7164.56</td>\n",
       "      <td>NaN</td>\n",
       "      <td>Bereich-5</td>\n",
       "      <td>prd-1</td>\n",
       "      <td>2-43647-1</td>\n",
       "      <td>C-107</td>\n",
       "    </tr>\n",
       "    <tr>\n",
       "      <th>2</th>\n",
       "      <td>3</td>\n",
       "      <td>1/3/2025</td>\n",
       "      <td>2025</td>\n",
       "      <td>Vereinigtes Königreich</td>\n",
       "      <td>London</td>\n",
       "      <td>5437.65</td>\n",
       "      <td>6198.92</td>\n",
       "      <td>NaN</td>\n",
       "      <td>Bereich-1</td>\n",
       "      <td>prd-56</td>\n",
       "      <td>7-43647-1</td>\n",
       "      <td>C-141</td>\n",
       "    </tr>\n",
       "  </tbody>\n",
       "</table>\n",
       "</div>"
      ],
      "text/plain": [
       "   Nr     Datum  Jahr                    Land   Stadt   Umsatz   Kosten   \n",
       "0   1  1/1/2025  2025                Südkorea   Seoul  5534.55  4427.64  \\\n",
       "1   2  1/2/2025  2025                Südkorea   Seoul  6284.70  7164.56   \n",
       "2   3  1/3/2025  2025  Vereinigtes Königreich  London  5437.65  6198.92   \n",
       "\n",
       "   Rücksendung    Bereich Produktgruppe Logistik-Code  Kunde  \n",
       "0          NaN  Bereich-5         prd-3     6-43647-1   C-85  \n",
       "1          NaN  Bereich-5         prd-1     2-43647-1  C-107  \n",
       "2          NaN  Bereich-1        prd-56     7-43647-1  C-141  "
      ]
     },
     "execution_count": 4,
     "metadata": {},
     "output_type": "execute_result"
    }
   ],
   "source": [
    "umsatz.head(3)"
   ]
  },
  {
   "cell_type": "markdown",
   "id": "53dfe6c5-2800-4273-a63f-9942f22fd99a",
   "metadata": {},
   "source": [
    "### Mexiko filtern"
   ]
  },
  {
   "cell_type": "code",
   "execution_count": 8,
   "id": "cac84a39-8e8e-4993-8f98-055d87a9ebf6",
   "metadata": {},
   "outputs": [],
   "source": [
    "umsatz[umsatz.iloc[:, 3] == \"Mexiko\"]"
   ]
  },
  {
   "cell_type": "code",
   "execution_count": 9,
   "id": "942ca011-5e81-415b-a5ee-5b84460797ee",
   "metadata": {},
   "outputs": [
    {
     "data": {
      "text/html": [
       "<div>\n",
       "<style scoped>\n",
       "    .dataframe tbody tr th:only-of-type {\n",
       "        vertical-align: middle;\n",
       "    }\n",
       "\n",
       "    .dataframe tbody tr th {\n",
       "        vertical-align: top;\n",
       "    }\n",
       "\n",
       "    .dataframe thead th {\n",
       "        text-align: right;\n",
       "    }\n",
       "</style>\n",
       "<table border=\"1\" class=\"dataframe\">\n",
       "  <thead>\n",
       "    <tr style=\"text-align: right;\">\n",
       "      <th></th>\n",
       "      <th>Nr</th>\n",
       "      <th>Datum</th>\n",
       "      <th>Jahr</th>\n",
       "      <th>Land</th>\n",
       "      <th>Stadt</th>\n",
       "      <th>Umsatz</th>\n",
       "      <th>Kosten</th>\n",
       "      <th>Rücksendung</th>\n",
       "      <th>Bereich</th>\n",
       "      <th>Produktgruppe</th>\n",
       "      <th>Logistik-Code</th>\n",
       "      <th>Kunde</th>\n",
       "    </tr>\n",
       "  </thead>\n",
       "  <tbody>\n",
       "    <tr>\n",
       "      <th>27</th>\n",
       "      <td>28</td>\n",
       "      <td>1/28/2025</td>\n",
       "      <td>2025</td>\n",
       "      <td>Mexiko</td>\n",
       "      <td>Oaxaca</td>\n",
       "      <td>7071.60</td>\n",
       "      <td>7778.76</td>\n",
       "      <td>NaN</td>\n",
       "      <td>Bereich-2</td>\n",
       "      <td>prd-98</td>\n",
       "      <td>9-43647-1</td>\n",
       "      <td>C-117</td>\n",
       "    </tr>\n",
       "    <tr>\n",
       "      <th>36</th>\n",
       "      <td>37</td>\n",
       "      <td>2/6/2025</td>\n",
       "      <td>2025</td>\n",
       "      <td>Mexiko</td>\n",
       "      <td>Oaxaca</td>\n",
       "      <td>4595.25</td>\n",
       "      <td>2757.15</td>\n",
       "      <td>NaN</td>\n",
       "      <td>Bereich-2</td>\n",
       "      <td>prd-84</td>\n",
       "      <td>8-43647-1</td>\n",
       "      <td>C-109</td>\n",
       "    </tr>\n",
       "    <tr>\n",
       "      <th>38</th>\n",
       "      <td>39</td>\n",
       "      <td>2/8/2025</td>\n",
       "      <td>2025</td>\n",
       "      <td>Mexiko</td>\n",
       "      <td>Oaxaca</td>\n",
       "      <td>4276.35</td>\n",
       "      <td>2565.81</td>\n",
       "      <td>NaN</td>\n",
       "      <td>Bereich-1</td>\n",
       "      <td>prd-51</td>\n",
       "      <td>9-43648-1</td>\n",
       "      <td>C-117</td>\n",
       "    </tr>\n",
       "    <tr>\n",
       "      <th>45</th>\n",
       "      <td>46</td>\n",
       "      <td>2/15/2025</td>\n",
       "      <td>2025</td>\n",
       "      <td>Mexiko</td>\n",
       "      <td>Oaxaca</td>\n",
       "      <td>6861.60</td>\n",
       "      <td>5489.28</td>\n",
       "      <td>NaN</td>\n",
       "      <td>Bereich-3</td>\n",
       "      <td>prd-60</td>\n",
       "      <td>9-43649-1</td>\n",
       "      <td>C-117</td>\n",
       "    </tr>\n",
       "    <tr>\n",
       "      <th>53</th>\n",
       "      <td>54</td>\n",
       "      <td>2/23/2025</td>\n",
       "      <td>2025</td>\n",
       "      <td>Mexiko</td>\n",
       "      <td>Oaxaca</td>\n",
       "      <td>4633.35</td>\n",
       "      <td>3706.68</td>\n",
       "      <td>NaN</td>\n",
       "      <td>Bereich-3</td>\n",
       "      <td>prd-61</td>\n",
       "      <td>9-43650-1</td>\n",
       "      <td>C-117</td>\n",
       "    </tr>\n",
       "  </tbody>\n",
       "</table>\n",
       "</div>"
      ],
      "text/plain": [
       "    Nr      Datum  Jahr    Land   Stadt   Umsatz   Kosten  Rücksendung   \n",
       "27  28  1/28/2025  2025  Mexiko  Oaxaca  7071.60  7778.76          NaN  \\\n",
       "36  37   2/6/2025  2025  Mexiko  Oaxaca  4595.25  2757.15          NaN   \n",
       "38  39   2/8/2025  2025  Mexiko  Oaxaca  4276.35  2565.81          NaN   \n",
       "45  46  2/15/2025  2025  Mexiko  Oaxaca  6861.60  5489.28          NaN   \n",
       "53  54  2/23/2025  2025  Mexiko  Oaxaca  4633.35  3706.68          NaN   \n",
       "\n",
       "      Bereich Produktgruppe Logistik-Code  Kunde  \n",
       "27  Bereich-2        prd-98     9-43647-1  C-117  \n",
       "36  Bereich-2        prd-84     8-43647-1  C-109  \n",
       "38  Bereich-1        prd-51     9-43648-1  C-117  \n",
       "45  Bereich-3        prd-60     9-43649-1  C-117  \n",
       "53  Bereich-3        prd-61     9-43650-1  C-117  "
      ]
     },
     "execution_count": 9,
     "metadata": {},
     "output_type": "execute_result"
    }
   ],
   "source": [
    "mexiko.head()"
   ]
  },
  {
   "cell_type": "markdown",
   "id": "c97799a6-41db-403e-a8e2-5202797964e6",
   "metadata": {},
   "source": [
    "#### Welche Städte gibt es?"
   ]
  },
  {
   "cell_type": "code",
   "execution_count": 10,
   "id": "995952f1-928a-4243-b101-f5382e468bee",
   "metadata": {},
   "outputs": [
    {
     "data": {
      "text/plain": [
       "array(['Oaxaca', 'Puebla', 'Veracruz', 'Monterrey', 'Ciudad Juárez',\n",
       "       'Cancún', 'Guanajuato', 'San Luis Potosi', 'Durango', 'Acapulco',\n",
       "       'Torreón'], dtype=object)"
      ]
     },
     "execution_count": 10,
     "metadata": {},
     "output_type": "execute_result"
    }
   ],
   "source": [
    "mexiko.Stadt.unique()"
   ]
  },
  {
   "cell_type": "markdown",
   "id": "3226686e-46a7-4c5f-99d6-0b5f3bfbd854",
   "metadata": {},
   "source": [
    "### Mexiko Datengrundlage"
   ]
  },
  {
   "cell_type": "code",
   "execution_count": 11,
   "id": "05e6d418-e974-4429-9120-ad13d82071ab",
   "metadata": {},
   "outputs": [],
   "source": [
    "mexiko = umsatz[umsatz.iloc[:, 3] == \"Mexiko\"]"
   ]
  },
  {
   "cell_type": "markdown",
   "id": "7f5aecce-8675-431d-bcac-6b02ee3ae291",
   "metadata": {},
   "source": [
    "### Gruppierung nach Städten"
   ]
  },
  {
   "cell_type": "code",
   "execution_count": 13,
   "id": "45bacfcb-aa49-4ca6-8975-64a6e330f4dd",
   "metadata": {},
   "outputs": [
    {
     "data": {
      "text/html": [
       "<div>\n",
       "<style scoped>\n",
       "    .dataframe tbody tr th:only-of-type {\n",
       "        vertical-align: middle;\n",
       "    }\n",
       "\n",
       "    .dataframe tbody tr th {\n",
       "        vertical-align: top;\n",
       "    }\n",
       "\n",
       "    .dataframe thead th {\n",
       "        text-align: right;\n",
       "    }\n",
       "</style>\n",
       "<table border=\"1\" class=\"dataframe\">\n",
       "  <thead>\n",
       "    <tr style=\"text-align: right;\">\n",
       "      <th>Stadt</th>\n",
       "      <th>Acapulco</th>\n",
       "      <th>Cancún</th>\n",
       "      <th>Ciudad Juárez</th>\n",
       "      <th>Durango</th>\n",
       "      <th>Guanajuato</th>\n",
       "      <th>Monterrey</th>\n",
       "      <th>Oaxaca</th>\n",
       "      <th>Puebla</th>\n",
       "      <th>San Luis Potosi</th>\n",
       "      <th>Torreón</th>\n",
       "      <th>Veracruz</th>\n",
       "    </tr>\n",
       "  </thead>\n",
       "  <tbody>\n",
       "    <tr>\n",
       "      <th>Umsatz</th>\n",
       "      <td>6147.4</td>\n",
       "      <td>6271.377273</td>\n",
       "      <td>6302.768182</td>\n",
       "      <td>6075.43</td>\n",
       "      <td>6378.9</td>\n",
       "      <td>6511.3625</td>\n",
       "      <td>5800.1</td>\n",
       "      <td>6369.075</td>\n",
       "      <td>6734.740909</td>\n",
       "      <td>5607.9</td>\n",
       "      <td>5949.123529</td>\n",
       "    </tr>\n",
       "  </tbody>\n",
       "</table>\n",
       "</div>"
      ],
      "text/plain": [
       "Stadt   Acapulco       Cancún  Ciudad Juárez  Durango  Guanajuato  Monterrey   \n",
       "Umsatz    6147.4  6271.377273    6302.768182  6075.43      6378.9  6511.3625  \\\n",
       "\n",
       "Stadt   Oaxaca    Puebla  San Luis Potosi  Torreón     Veracruz  \n",
       "Umsatz  5800.1  6369.075      6734.740909   5607.9  5949.123529  "
      ]
     },
     "execution_count": 13,
     "metadata": {},
     "output_type": "execute_result"
    }
   ],
   "source": [
    "mexiko.groupby(by=\"Stadt\").agg({\"Umsatz\":\"mean\"}).transpose()"
   ]
  },
  {
   "cell_type": "markdown",
   "id": "8d0ea55d-83c7-4810-b95e-f2f91afa927b",
   "metadata": {},
   "source": [
    "### Gruppieren nach mehreren Kategorien"
   ]
  },
  {
   "cell_type": "markdown",
   "id": "fb9ab460-0ea9-4645-a711-82ab81930144",
   "metadata": {},
   "source": [
    "#### Wie sieht der Median der Kosten aus des Vereinigten Königreichs nach Bereich und Stadt?"
   ]
  },
  {
   "cell_type": "code",
   "execution_count": 16,
   "id": "3667e833-b81a-4c3a-b5e5-fc3ace54041e",
   "metadata": {},
   "outputs": [],
   "source": [
    "uk = umsatz[umsatz.Land == \"Vereinigtes Königreich\"]"
   ]
  },
  {
   "cell_type": "code",
   "execution_count": 17,
   "id": "71310ce5-7e87-45cb-8256-48739a1ee8e0",
   "metadata": {},
   "outputs": [
    {
     "data": {
      "text/html": [
       "<div>\n",
       "<style scoped>\n",
       "    .dataframe tbody tr th:only-of-type {\n",
       "        vertical-align: middle;\n",
       "    }\n",
       "\n",
       "    .dataframe tbody tr th {\n",
       "        vertical-align: top;\n",
       "    }\n",
       "\n",
       "    .dataframe thead th {\n",
       "        text-align: right;\n",
       "    }\n",
       "</style>\n",
       "<table border=\"1\" class=\"dataframe\">\n",
       "  <thead>\n",
       "    <tr style=\"text-align: right;\">\n",
       "      <th></th>\n",
       "      <th>Nr</th>\n",
       "      <th>Datum</th>\n",
       "      <th>Jahr</th>\n",
       "      <th>Land</th>\n",
       "      <th>Stadt</th>\n",
       "      <th>Umsatz</th>\n",
       "      <th>Kosten</th>\n",
       "      <th>Rücksendung</th>\n",
       "      <th>Bereich</th>\n",
       "      <th>Produktgruppe</th>\n",
       "      <th>Logistik-Code</th>\n",
       "      <th>Kunde</th>\n",
       "    </tr>\n",
       "  </thead>\n",
       "  <tbody>\n",
       "    <tr>\n",
       "      <th>2</th>\n",
       "      <td>3</td>\n",
       "      <td>1/3/2025</td>\n",
       "      <td>2025</td>\n",
       "      <td>Vereinigtes Königreich</td>\n",
       "      <td>London</td>\n",
       "      <td>5437.65</td>\n",
       "      <td>6198.92</td>\n",
       "      <td>NaN</td>\n",
       "      <td>Bereich-1</td>\n",
       "      <td>prd-56</td>\n",
       "      <td>7-43647-1</td>\n",
       "      <td>C-141</td>\n",
       "    </tr>\n",
       "  </tbody>\n",
       "</table>\n",
       "</div>"
      ],
      "text/plain": [
       "   Nr     Datum  Jahr                    Land   Stadt   Umsatz   Kosten   \n",
       "2   3  1/3/2025  2025  Vereinigtes Königreich  London  5437.65  6198.92  \\\n",
       "\n",
       "   Rücksendung    Bereich Produktgruppe Logistik-Code  Kunde  \n",
       "2          NaN  Bereich-1        prd-56     7-43647-1  C-141  "
      ]
     },
     "execution_count": 17,
     "metadata": {},
     "output_type": "execute_result"
    }
   ],
   "source": [
    "uk.head(1)"
   ]
  },
  {
   "cell_type": "code",
   "execution_count": 19,
   "id": "fe9bc54e-d20c-49d8-9360-fea238350d2b",
   "metadata": {},
   "outputs": [
    {
     "data": {
      "text/html": [
       "<div>\n",
       "<style scoped>\n",
       "    .dataframe tbody tr th:only-of-type {\n",
       "        vertical-align: middle;\n",
       "    }\n",
       "\n",
       "    .dataframe tbody tr th {\n",
       "        vertical-align: top;\n",
       "    }\n",
       "\n",
       "    .dataframe thead tr th {\n",
       "        text-align: left;\n",
       "    }\n",
       "</style>\n",
       "<table border=\"1\" class=\"dataframe\">\n",
       "  <thead>\n",
       "    <tr>\n",
       "      <th>Bereich</th>\n",
       "      <th colspan=\"7\" halign=\"left\">Bereich-1</th>\n",
       "      <th colspan=\"3\" halign=\"left\">Bereich-2</th>\n",
       "      <th>...</th>\n",
       "      <th colspan=\"3\" halign=\"left\">Bereich-4</th>\n",
       "      <th colspan=\"7\" halign=\"left\">Bereich-5</th>\n",
       "    </tr>\n",
       "    <tr>\n",
       "      <th>Stadt</th>\n",
       "      <th>Birmingham</th>\n",
       "      <th>Bristol</th>\n",
       "      <th>Leeds</th>\n",
       "      <th>Leicester</th>\n",
       "      <th>Liverpool</th>\n",
       "      <th>London</th>\n",
       "      <th>Manchester</th>\n",
       "      <th>Birmingham</th>\n",
       "      <th>Bristol</th>\n",
       "      <th>Liverpool</th>\n",
       "      <th>...</th>\n",
       "      <th>Liverpool</th>\n",
       "      <th>London</th>\n",
       "      <th>Manchester</th>\n",
       "      <th>Birmingham</th>\n",
       "      <th>Bristol</th>\n",
       "      <th>Leeds</th>\n",
       "      <th>Leicester</th>\n",
       "      <th>Liverpool</th>\n",
       "      <th>London</th>\n",
       "      <th>Manchester</th>\n",
       "    </tr>\n",
       "  </thead>\n",
       "  <tbody>\n",
       "    <tr>\n",
       "      <th>Kosten</th>\n",
       "      <td>5605.5</td>\n",
       "      <td>5022.84</td>\n",
       "      <td>4183.44</td>\n",
       "      <td>6055.86</td>\n",
       "      <td>6918.84</td>\n",
       "      <td>5506.8</td>\n",
       "      <td>5279.52</td>\n",
       "      <td>6263.4</td>\n",
       "      <td>5116.98</td>\n",
       "      <td>6735.36</td>\n",
       "      <td>...</td>\n",
       "      <td>5578.98</td>\n",
       "      <td>3971.4</td>\n",
       "      <td>5178.24</td>\n",
       "      <td>6385.32</td>\n",
       "      <td>4957.98</td>\n",
       "      <td>5702.04</td>\n",
       "      <td>4961.64</td>\n",
       "      <td>5750.64</td>\n",
       "      <td>6738.12</td>\n",
       "      <td>5596.32</td>\n",
       "    </tr>\n",
       "  </tbody>\n",
       "</table>\n",
       "<p>1 rows × 33 columns</p>\n",
       "</div>"
      ],
      "text/plain": [
       "Bereich  Bereich-1                                                            \n",
       "Stadt   Birmingham  Bristol    Leeds Leicester Liverpool  London Manchester   \n",
       "Kosten      5605.5  5022.84  4183.44   6055.86   6918.84  5506.8    5279.52  \\\n",
       "\n",
       "Bereich  Bereich-2                     ... Bereich-4                      \n",
       "Stadt   Birmingham  Bristol Liverpool  ... Liverpool  London Manchester   \n",
       "Kosten      6263.4  5116.98   6735.36  ...   5578.98  3971.4    5178.24  \\\n",
       "\n",
       "Bereich  Bereich-5                                                            \n",
       "Stadt   Birmingham  Bristol    Leeds Leicester Liverpool   London Manchester  \n",
       "Kosten     6385.32  4957.98  5702.04   4961.64   5750.64  6738.12    5596.32  \n",
       "\n",
       "[1 rows x 33 columns]"
      ]
     },
     "execution_count": 19,
     "metadata": {},
     "output_type": "execute_result"
    }
   ],
   "source": [
    "uk.groupby(by=[\"Bereich\", \"Stadt\"]).agg({\"Kosten\":\"median\"}).transpose()"
   ]
  },
  {
   "cell_type": "markdown",
   "id": "39266e13-3d7b-4acf-a231-b7da210c8269",
   "metadata": {},
   "source": [
    "### Gruppieren nach mehreren numerischen Werten"
   ]
  },
  {
   "cell_type": "markdown",
   "id": "b0fceaa0-bfaa-465c-8bf1-90950a91a00f",
   "metadata": {},
   "source": [
    "#### Wie viele unterschiedliche Ausprägungen von Logistik-Code und Kunde gibt es?"
   ]
  },
  {
   "cell_type": "code",
   "execution_count": 22,
   "id": "0715c162-7350-4eaa-aa11-13af146dbd9b",
   "metadata": {},
   "outputs": [
    {
     "name": "stdout",
     "output_type": "stream",
     "text": [
      "598\n",
      "11\n"
     ]
    }
   ],
   "source": [
    "print(len(umsatz[\"Logistik-Code\"].unique()))\n",
    "print(len(umsatz[\"Kunde\"].unique()))"
   ]
  },
  {
   "cell_type": "markdown",
   "id": "820fe1a7-4c97-4f65-b174-9edc9cee58e3",
   "metadata": {},
   "source": [
    "### Gruppierung nach Kunde für Umsatz (Standardabweichung) und Kosten (Maximum)"
   ]
  },
  {
   "cell_type": "code",
   "execution_count": 23,
   "id": "ecf3619e-84c4-45b6-98b5-c5f6197ff594",
   "metadata": {},
   "outputs": [
    {
     "data": {
      "text/html": [
       "<div>\n",
       "<style scoped>\n",
       "    .dataframe tbody tr th:only-of-type {\n",
       "        vertical-align: middle;\n",
       "    }\n",
       "\n",
       "    .dataframe tbody tr th {\n",
       "        vertical-align: top;\n",
       "    }\n",
       "\n",
       "    .dataframe thead th {\n",
       "        text-align: right;\n",
       "    }\n",
       "</style>\n",
       "<table border=\"1\" class=\"dataframe\">\n",
       "  <thead>\n",
       "    <tr style=\"text-align: right;\">\n",
       "      <th></th>\n",
       "      <th>Umsatz</th>\n",
       "      <th>Kosten</th>\n",
       "    </tr>\n",
       "    <tr>\n",
       "      <th>Kunde</th>\n",
       "      <th></th>\n",
       "      <th></th>\n",
       "    </tr>\n",
       "  </thead>\n",
       "  <tbody>\n",
       "    <tr>\n",
       "      <th>C-107</th>\n",
       "      <td>1218.526107</td>\n",
       "      <td>7512.37</td>\n",
       "    </tr>\n",
       "    <tr>\n",
       "      <th>C-109</th>\n",
       "      <td>1475.300186</td>\n",
       "      <td>8634.48</td>\n",
       "    </tr>\n",
       "    <tr>\n",
       "      <th>C-115</th>\n",
       "      <td>1381.297646</td>\n",
       "      <td>9774.19</td>\n",
       "    </tr>\n",
       "    <tr>\n",
       "      <th>C-117</th>\n",
       "      <td>1252.225275</td>\n",
       "      <td>7778.76</td>\n",
       "    </tr>\n",
       "    <tr>\n",
       "      <th>C-124</th>\n",
       "      <td>1075.688967</td>\n",
       "      <td>9789.41</td>\n",
       "    </tr>\n",
       "    <tr>\n",
       "      <th>C-137</th>\n",
       "      <td>976.451095</td>\n",
       "      <td>5738.16</td>\n",
       "    </tr>\n",
       "    <tr>\n",
       "      <th>C-141</th>\n",
       "      <td>1134.676711</td>\n",
       "      <td>7073.41</td>\n",
       "    </tr>\n",
       "    <tr>\n",
       "      <th>C-53</th>\n",
       "      <td>1020.875504</td>\n",
       "      <td>7708.64</td>\n",
       "    </tr>\n",
       "    <tr>\n",
       "      <th>C-65</th>\n",
       "      <td>1680.315843</td>\n",
       "      <td>12141.68</td>\n",
       "    </tr>\n",
       "    <tr>\n",
       "      <th>C-76</th>\n",
       "      <td>1472.607996</td>\n",
       "      <td>10760.52</td>\n",
       "    </tr>\n",
       "    <tr>\n",
       "      <th>C-85</th>\n",
       "      <td>1179.747904</td>\n",
       "      <td>7019.93</td>\n",
       "    </tr>\n",
       "  </tbody>\n",
       "</table>\n",
       "</div>"
      ],
      "text/plain": [
       "            Umsatz    Kosten\n",
       "Kunde                       \n",
       "C-107  1218.526107   7512.37\n",
       "C-109  1475.300186   8634.48\n",
       "C-115  1381.297646   9774.19\n",
       "C-117  1252.225275   7778.76\n",
       "C-124  1075.688967   9789.41\n",
       "C-137   976.451095   5738.16\n",
       "C-141  1134.676711   7073.41\n",
       "C-53   1020.875504   7708.64\n",
       "C-65   1680.315843  12141.68\n",
       "C-76   1472.607996  10760.52\n",
       "C-85   1179.747904   7019.93"
      ]
     },
     "execution_count": 23,
     "metadata": {},
     "output_type": "execute_result"
    }
   ],
   "source": [
    "umsatz.groupby(by=[\"Kunde\"]).agg({\"Umsatz\":\"std\", \"Kosten\":\"max\"})"
   ]
  },
  {
   "cell_type": "code",
   "execution_count": null,
   "id": "2c2bea9b-64a0-4898-ab3d-9aa1585ae173",
   "metadata": {},
   "outputs": [],
   "source": []
  }
 ],
 "metadata": {
  "kernelspec": {
   "display_name": "Python 3 (ipykernel)",
   "language": "python",
   "name": "python3"
  },
  "language_info": {
   "codemirror_mode": {
    "name": "ipython",
    "version": 3
   },
   "file_extension": ".py",
   "mimetype": "text/x-python",
   "name": "python",
   "nbconvert_exporter": "python",
   "pygments_lexer": "ipython3",
   "version": "3.9.13"
  }
 },
 "nbformat": 4,
 "nbformat_minor": 5
}
