{
 "cells": [
  {
   "cell_type": "markdown",
   "id": "ab255f87-973c-4b8f-9091-442a4820e2a1",
   "metadata": {},
   "source": [
    "# [Merges & Joins] Daten einfach verknüpfen über concat"
   ]
  },
  {
   "cell_type": "code",
   "execution_count": 3,
   "id": "f02030e4-d202-48c6-a3bd-796fcd0e2eb3",
   "metadata": {},
   "outputs": [],
   "source": [
    "import pandas as pd"
   ]
  },
  {
   "cell_type": "markdown",
   "id": "6502617a-73c2-4042-978f-b2d7c7cf9cba",
   "metadata": {},
   "source": [
    "## Series verknüpfen"
   ]
  },
  {
   "cell_type": "code",
   "execution_count": 5,
   "id": "4480651e-3cec-47b9-9c05-4f400bd88206",
   "metadata": {},
   "outputs": [],
   "source": [
    "series1 = pd.Series([\"merkur\", \"neptun\", \"mars\"])\n",
    "series2 = pd.Series([\"venus\", \"uranus\", \"pluto\"])"
   ]
  },
  {
   "cell_type": "code",
   "execution_count": 7,
   "id": "3047b1b2-a4ba-4064-9eab-588f9692595e",
   "metadata": {},
   "outputs": [],
   "source": [
    "series3 = pd.concat([series1, series2])"
   ]
  },
  {
   "cell_type": "code",
   "execution_count": 8,
   "id": "0449a6ec-c612-4e74-949a-c437c9b005f3",
   "metadata": {},
   "outputs": [
    {
     "data": {
      "text/plain": [
       "0    merkur\n",
       "1    neptun\n",
       "2      mars\n",
       "0     venus\n",
       "1    uranus\n",
       "2     pluto\n",
       "dtype: object"
      ]
     },
     "execution_count": 8,
     "metadata": {},
     "output_type": "execute_result"
    }
   ],
   "source": [
    "series3"
   ]
  },
  {
   "cell_type": "code",
   "execution_count": 10,
   "id": "38878baf-7737-4afb-8a96-ef15f1f81110",
   "metadata": {},
   "outputs": [
    {
     "data": {
      "text/plain": [
       "Gruppe 1  Gruppe 2\n",
       "series1   0           merkur\n",
       "          1           neptun\n",
       "          2             mars\n",
       "series2   0            venus\n",
       "          1           uranus\n",
       "          2            pluto\n",
       "dtype: object"
      ]
     },
     "execution_count": 10,
     "metadata": {},
     "output_type": "execute_result"
    }
   ],
   "source": [
    "pd.concat([series1, series2], keys=[\"series1\", \"series2\"], names=[\"Gruppe 1\", \"Gruppe 2\"])"
   ]
  },
  {
   "cell_type": "markdown",
   "id": "b75cc1d8-aac5-4b8f-8bf5-0659b3e23bb4",
   "metadata": {},
   "source": [
    "## DataFrames verknüpfen"
   ]
  },
  {
   "cell_type": "code",
   "execution_count": 12,
   "id": "3ac69f8f-e8f9-46ab-bac7-184d14a02fcb",
   "metadata": {},
   "outputs": [],
   "source": [
    "planeten1 = pd.DataFrame(data=[[\"merkur\", 222], [\"neptun\", 4676], [\"mars\", 401]], \n",
    "                        columns = [\"Planet\", \"Entfernung zur Erde in Mio. km\"])\n",
    "\n",
    "planeten2 = pd.DataFrame(data=[[\"venus\", 261], [\"uranus\", 3157], [\"pluto\", 7528]], \n",
    "                        columns = [\"Planet\", \"Entfernung zur Erde in Mio. km\"])"
   ]
  },
  {
   "cell_type": "code",
   "execution_count": 14,
   "id": "aa9f42c6-1ca7-48a7-84ac-5594df35c27c",
   "metadata": {},
   "outputs": [
    {
     "name": "stdout",
     "output_type": "stream",
     "text": [
      "   Planet  Entfernung zur Erde in Mio. km\n",
      "0  merkur                             222\n",
      "1  neptun                            4676\n",
      "2    mars                             401\n",
      "   Planet  Entfernung zur Erde in Mio. km\n",
      "0   venus                             261\n",
      "1  uranus                            3157\n",
      "2   pluto                            7528\n"
     ]
    }
   ],
   "source": [
    "print(planeten1)\n",
    "print(planeten2)"
   ]
  },
  {
   "cell_type": "code",
   "execution_count": 15,
   "id": "4148ac16-5db2-4099-a479-9fadaa7e91d1",
   "metadata": {},
   "outputs": [
    {
     "data": {
      "text/html": [
       "<div>\n",
       "<style scoped>\n",
       "    .dataframe tbody tr th:only-of-type {\n",
       "        vertical-align: middle;\n",
       "    }\n",
       "\n",
       "    .dataframe tbody tr th {\n",
       "        vertical-align: top;\n",
       "    }\n",
       "\n",
       "    .dataframe thead th {\n",
       "        text-align: right;\n",
       "    }\n",
       "</style>\n",
       "<table border=\"1\" class=\"dataframe\">\n",
       "  <thead>\n",
       "    <tr style=\"text-align: right;\">\n",
       "      <th></th>\n",
       "      <th>Planet</th>\n",
       "      <th>Entfernung zur Erde in Mio. km</th>\n",
       "    </tr>\n",
       "  </thead>\n",
       "  <tbody>\n",
       "    <tr>\n",
       "      <th>0</th>\n",
       "      <td>merkur</td>\n",
       "      <td>222</td>\n",
       "    </tr>\n",
       "    <tr>\n",
       "      <th>1</th>\n",
       "      <td>neptun</td>\n",
       "      <td>4676</td>\n",
       "    </tr>\n",
       "    <tr>\n",
       "      <th>2</th>\n",
       "      <td>mars</td>\n",
       "      <td>401</td>\n",
       "    </tr>\n",
       "    <tr>\n",
       "      <th>0</th>\n",
       "      <td>venus</td>\n",
       "      <td>261</td>\n",
       "    </tr>\n",
       "    <tr>\n",
       "      <th>1</th>\n",
       "      <td>uranus</td>\n",
       "      <td>3157</td>\n",
       "    </tr>\n",
       "    <tr>\n",
       "      <th>2</th>\n",
       "      <td>pluto</td>\n",
       "      <td>7528</td>\n",
       "    </tr>\n",
       "  </tbody>\n",
       "</table>\n",
       "</div>"
      ],
      "text/plain": [
       "   Planet  Entfernung zur Erde in Mio. km\n",
       "0  merkur                             222\n",
       "1  neptun                            4676\n",
       "2    mars                             401\n",
       "0   venus                             261\n",
       "1  uranus                            3157\n",
       "2   pluto                            7528"
      ]
     },
     "execution_count": 15,
     "metadata": {},
     "output_type": "execute_result"
    }
   ],
   "source": [
    "pd.concat([planeten1, planeten2])"
   ]
  },
  {
   "cell_type": "code",
   "execution_count": 16,
   "id": "af6494d0-2aec-49c4-97ba-adedb0d866ca",
   "metadata": {},
   "outputs": [
    {
     "data": {
      "text/html": [
       "<div>\n",
       "<style scoped>\n",
       "    .dataframe tbody tr th:only-of-type {\n",
       "        vertical-align: middle;\n",
       "    }\n",
       "\n",
       "    .dataframe tbody tr th {\n",
       "        vertical-align: top;\n",
       "    }\n",
       "\n",
       "    .dataframe thead th {\n",
       "        text-align: right;\n",
       "    }\n",
       "</style>\n",
       "<table border=\"1\" class=\"dataframe\">\n",
       "  <thead>\n",
       "    <tr style=\"text-align: right;\">\n",
       "      <th></th>\n",
       "      <th>Planet</th>\n",
       "      <th>Entfernung zur Erde in Mio. km</th>\n",
       "    </tr>\n",
       "  </thead>\n",
       "  <tbody>\n",
       "    <tr>\n",
       "      <th>0</th>\n",
       "      <td>merkur</td>\n",
       "      <td>222</td>\n",
       "    </tr>\n",
       "    <tr>\n",
       "      <th>1</th>\n",
       "      <td>neptun</td>\n",
       "      <td>4676</td>\n",
       "    </tr>\n",
       "    <tr>\n",
       "      <th>2</th>\n",
       "      <td>mars</td>\n",
       "      <td>401</td>\n",
       "    </tr>\n",
       "    <tr>\n",
       "      <th>0</th>\n",
       "      <td>venus</td>\n",
       "      <td>261</td>\n",
       "    </tr>\n",
       "    <tr>\n",
       "      <th>1</th>\n",
       "      <td>uranus</td>\n",
       "      <td>3157</td>\n",
       "    </tr>\n",
       "    <tr>\n",
       "      <th>2</th>\n",
       "      <td>pluto</td>\n",
       "      <td>7528</td>\n",
       "    </tr>\n",
       "  </tbody>\n",
       "</table>\n",
       "</div>"
      ],
      "text/plain": [
       "   Planet  Entfernung zur Erde in Mio. km\n",
       "0  merkur                             222\n",
       "1  neptun                            4676\n",
       "2    mars                             401\n",
       "0   venus                             261\n",
       "1  uranus                            3157\n",
       "2   pluto                            7528"
      ]
     },
     "execution_count": 16,
     "metadata": {},
     "output_type": "execute_result"
    }
   ],
   "source": [
    "pd.concat([planeten1, planeten2], join=\"inner\")"
   ]
  },
  {
   "cell_type": "code",
   "execution_count": null,
   "id": "3f381acc-d86b-4c88-a9d8-7914388706f5",
   "metadata": {},
   "outputs": [],
   "source": []
  }
 ],
 "metadata": {
  "kernelspec": {
   "display_name": "Python 3 (ipykernel)",
   "language": "python",
   "name": "python3"
  },
  "language_info": {
   "codemirror_mode": {
    "name": "ipython",
    "version": 3
   },
   "file_extension": ".py",
   "mimetype": "text/x-python",
   "name": "python",
   "nbconvert_exporter": "python",
   "pygments_lexer": "ipython3",
   "version": "3.9.13"
  }
 },
 "nbformat": 4,
 "nbformat_minor": 5
}
