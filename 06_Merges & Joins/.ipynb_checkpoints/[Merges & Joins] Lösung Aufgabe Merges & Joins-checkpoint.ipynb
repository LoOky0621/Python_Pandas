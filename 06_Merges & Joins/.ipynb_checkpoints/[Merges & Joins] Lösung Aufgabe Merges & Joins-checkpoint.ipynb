{
 "cells": [
  {
   "cell_type": "markdown",
   "id": "ab255f87-973c-4b8f-9091-442a4820e2a1",
   "metadata": {},
   "source": [
    "# [Merges & Joins] Lösung Aufgabe Merges & Joins"
   ]
  },
  {
   "cell_type": "code",
   "execution_count": 14,
   "id": "2b52a1b8-c81c-4168-bbc1-c84081834b11",
   "metadata": {},
   "outputs": [],
   "source": [
    "import pandas as pd"
   ]
  },
  {
   "cell_type": "markdown",
   "id": "f5ae46e0-f079-4bbc-9627-e88110d42e6a",
   "metadata": {},
   "source": [
    "## 1) Daten einlesen"
   ]
  },
  {
   "cell_type": "markdown",
   "id": "1a9cad5f-dafe-4e11-b34f-8ab339313100",
   "metadata": {},
   "source": [
    "*Gegeben sind die Excel-Dateien \"Umsatz.xlsx\" und \"Kunden.xlsx\". Verwende Pandas, um die Daten einzulesen und als DataFrames zu speichern*"
   ]
  },
  {
   "cell_type": "code",
   "execution_count": null,
   "id": "a5c4202d-d3ca-410e-8e0f-c39c11e18f24",
   "metadata": {},
   "outputs": [],
   "source": []
  },
  {
   "cell_type": "markdown",
   "id": "72c2cfae-b617-4607-81cf-9cbb8770dccc",
   "metadata": {},
   "source": [
    "## 2) INNERJOIN"
   ]
  },
  {
   "cell_type": "markdown",
   "id": "805b15e0-96eb-44d3-a2d3-18c252e58ffa",
   "metadata": {},
   "source": [
    "*Nutze einen Innerjoin, um die Daten zu verbinden. Wie viele Datensätze liegen vor?*"
   ]
  },
  {
   "cell_type": "code",
   "execution_count": null,
   "id": "7e6b648b-2382-4c2a-9078-95dbca605b6d",
   "metadata": {},
   "outputs": [],
   "source": []
  },
  {
   "cell_type": "markdown",
   "id": "b768ac6b-563c-43e9-82ad-1249d9464520",
   "metadata": {},
   "source": [
    "## 3) OUTERJOIN"
   ]
  },
  {
   "cell_type": "markdown",
   "id": "d0d97e61-431a-4910-93b8-2b410427efc0",
   "metadata": {},
   "source": [
    "*Setze nun einen Outerjoin ein*"
   ]
  },
  {
   "cell_type": "code",
   "execution_count": null,
   "id": "d34eddc7-cc09-4257-9db2-4f62aad5b616",
   "metadata": {},
   "outputs": [],
   "source": []
  },
  {
   "cell_type": "markdown",
   "id": "996f2f26-9af2-4cd3-b6c6-e15c7070a29c",
   "metadata": {},
   "source": [
    "## 4) LEFTJOIN"
   ]
  },
  {
   "cell_type": "markdown",
   "id": "f666d6b2-e6b3-4af8-b731-5bdddaa4635e",
   "metadata": {},
   "source": [
    "*Verwende nun einen Leftjoin*"
   ]
  },
  {
   "cell_type": "code",
   "execution_count": null,
   "id": "c6e49295-412a-49b9-824e-4d454b155303",
   "metadata": {},
   "outputs": [],
   "source": []
  },
  {
   "cell_type": "markdown",
   "id": "ada64919-4edf-433c-977f-cb38c7c3939f",
   "metadata": {},
   "source": [
    "## 5) RIGHTJOIN"
   ]
  },
  {
   "cell_type": "markdown",
   "id": "8f5c0faf-4612-4e3f-a1cf-13b5bbc4e850",
   "metadata": {},
   "source": [
    "*Wie viele Einträge liegen bei einem Rightjoin vor?*"
   ]
  },
  {
   "cell_type": "code",
   "execution_count": null,
   "id": "14100d1a-82a9-4fe1-967f-a29a86eef594",
   "metadata": {},
   "outputs": [],
   "source": []
  },
  {
   "cell_type": "markdown",
   "id": "3a73401b-2ead-4a1f-a926-91e15daa019d",
   "metadata": {},
   "source": [
    "## 6) LEFT-ANTIJOIN"
   ]
  },
  {
   "cell_type": "markdown",
   "id": "d341ddf8-15cb-4dd4-85bf-6da4456f299c",
   "metadata": {},
   "source": [
    "*Verwende nun einen Left-Antijoin*"
   ]
  },
  {
   "cell_type": "code",
   "execution_count": null,
   "id": "7c5f59e8-33a6-422b-9710-39a228ca6acf",
   "metadata": {},
   "outputs": [],
   "source": []
  },
  {
   "cell_type": "markdown",
   "id": "85d913a4-c320-4421-be76-b0098eacf7e8",
   "metadata": {},
   "source": [
    "## 7) RIGHT-ANTIJOIN"
   ]
  },
  {
   "cell_type": "markdown",
   "id": "2f0bfb72-4e20-4302-adb3-ced17ad98fb8",
   "metadata": {},
   "source": [
    "*Verwende nun einen Right-Antijoin*"
   ]
  },
  {
   "cell_type": "code",
   "execution_count": null,
   "id": "8f9417a2-a00c-4f7d-83e4-fb89628177c4",
   "metadata": {},
   "outputs": [],
   "source": []
  }
 ],
 "metadata": {
  "kernelspec": {
   "display_name": "Python 3 (ipykernel)",
   "language": "python",
   "name": "python3"
  },
  "language_info": {
   "codemirror_mode": {
    "name": "ipython",
    "version": 3
   },
   "file_extension": ".py",
   "mimetype": "text/x-python",
   "name": "python",
   "nbconvert_exporter": "python",
   "pygments_lexer": "ipython3",
   "version": "3.9.13"
  }
 },
 "nbformat": 4,
 "nbformat_minor": 5
}
