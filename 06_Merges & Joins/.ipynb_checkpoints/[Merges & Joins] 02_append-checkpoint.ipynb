{
 "cells": [
  {
   "cell_type": "markdown",
   "id": "ab255f87-973c-4b8f-9091-442a4820e2a1",
   "metadata": {},
   "source": [
    "# [Merges & Joins] append()-Funktion"
   ]
  },
  {
   "cell_type": "code",
   "execution_count": 1,
   "id": "f02030e4-d202-48c6-a3bd-796fcd0e2eb3",
   "metadata": {},
   "outputs": [],
   "source": [
    "import pandas as pd"
   ]
  },
  {
   "cell_type": "code",
   "execution_count": 2,
   "id": "47673e22-fcd7-485b-9c0a-c866a4a4e3f5",
   "metadata": {},
   "outputs": [],
   "source": [
    "# pd.concat?"
   ]
  },
  {
   "cell_type": "markdown",
   "id": "6502617a-73c2-4042-978f-b2d7c7cf9cba",
   "metadata": {},
   "source": [
    "## Series verknüpfen"
   ]
  },
  {
   "cell_type": "code",
   "execution_count": 3,
   "id": "8d2da5e0-3217-4644-b4f9-fea757f7a30a",
   "metadata": {},
   "outputs": [],
   "source": [
    "series1 = pd.Series(['merkur', 'neptun', 'mars'])\n",
    "series2 = pd.Series(['venus', 'uranus', 'pluto'])"
   ]
  },
  {
   "cell_type": "code",
   "execution_count": 4,
   "id": "b5a90431-275c-4873-a86e-262f6dcd90f7",
   "metadata": {},
   "outputs": [
    {
     "data": {
      "text/plain": [
       "0    merkur\n",
       "1    neptun\n",
       "2      mars\n",
       "0     venus\n",
       "1    uranus\n",
       "2     pluto\n",
       "dtype: object"
      ]
     },
     "execution_count": 4,
     "metadata": {},
     "output_type": "execute_result"
    }
   ],
   "source": [
    "pd.concat([series1, series2])"
   ]
  },
  {
   "cell_type": "code",
   "execution_count": 5,
   "id": "8bc08663-3c85-4be8-8fe7-43b96e9f9282",
   "metadata": {},
   "outputs": [
    {
     "data": {
      "text/plain": [
       "series1  0    merkur\n",
       "         1    neptun\n",
       "         2      mars\n",
       "series2  0     venus\n",
       "         1    uranus\n",
       "         2     pluto\n",
       "dtype: object"
      ]
     },
     "execution_count": 5,
     "metadata": {},
     "output_type": "execute_result"
    }
   ],
   "source": [
    "pd.concat([series1, series2], keys=['series1', 'series2'])"
   ]
  },
  {
   "cell_type": "code",
   "execution_count": 6,
   "id": "937bbe77-6a4b-4cd8-ae34-f7346a7a7397",
   "metadata": {},
   "outputs": [
    {
     "data": {
      "text/plain": [
       "Gruppe 1  Gruppe 2\n",
       "series1   0           merkur\n",
       "          1           neptun\n",
       "          2             mars\n",
       "series2   0            venus\n",
       "          1           uranus\n",
       "          2            pluto\n",
       "dtype: object"
      ]
     },
     "execution_count": 6,
     "metadata": {},
     "output_type": "execute_result"
    }
   ],
   "source": [
    "pd.concat([series1, series2], \n",
    "          keys=['series1', 'series2'], \n",
    "          names = [\"Gruppe 1\", \"Gruppe 2\"])"
   ]
  },
  {
   "cell_type": "markdown",
   "id": "b75cc1d8-aac5-4b8f-8bf5-0659b3e23bb4",
   "metadata": {},
   "source": [
    "## Append-Funktion"
   ]
  },
  {
   "cell_type": "code",
   "execution_count": 11,
   "id": "d32f2f27-5315-42d1-8cae-02d0df5098dc",
   "metadata": {},
   "outputs": [],
   "source": [
    "planeten1 = pd.DataFrame([['merkur', 222], ['neptun', 4687], ['mars', 401]],\n",
    "                   columns=['Planet', 'Entfernung zur Erde in Mio. km'])\n",
    "\n",
    "planeten2 = pd.DataFrame([['venus', 261], ['uranus', 3157], ['pluto', 7528]],\n",
    "                   columns=['Planet', 'Entfernung zur Erde in Mio. km'])"
   ]
  },
  {
   "cell_type": "code",
   "execution_count": 13,
   "id": "be745311-7bb2-4f48-8fa2-fcdaad3d48cb",
   "metadata": {},
   "outputs": [
    {
     "name": "stdout",
     "output_type": "stream",
     "text": [
      "Object `pd.DataFrame.append` not found.\n"
     ]
    }
   ],
   "source": [
    "pd.DataFrame.append?"
   ]
  },
  {
   "cell_type": "code",
   "execution_count": 12,
   "id": "bb77fd31-3383-4f9d-b547-37ed2fe862f5",
   "metadata": {},
   "outputs": [
    {
     "ename": "AttributeError",
     "evalue": "'DataFrame' object has no attribute 'append'",
     "output_type": "error",
     "traceback": [
      "\u001b[1;31m---------------------------------------------------------------------------\u001b[0m",
      "\u001b[1;31mAttributeError\u001b[0m                            Traceback (most recent call last)",
      "\u001b[1;32m~\\AppData\\Local\\Temp\\ipykernel_11148\\727051551.py\u001b[0m in \u001b[0;36m<module>\u001b[1;34m\u001b[0m\n\u001b[1;32m----> 1\u001b[1;33m \u001b[0mplaneten1\u001b[0m\u001b[1;33m.\u001b[0m\u001b[0mappend\u001b[0m\u001b[1;33m(\u001b[0m\u001b[0mplaneten2\u001b[0m\u001b[1;33m)\u001b[0m\u001b[1;33m\u001b[0m\u001b[1;33m\u001b[0m\u001b[0m\n\u001b[0m",
      "\u001b[1;32m~\\anaconda3\\lib\\site-packages\\pandas\\core\\generic.py\u001b[0m in \u001b[0;36m__getattr__\u001b[1;34m(self, name)\u001b[0m\n\u001b[0;32m   5987\u001b[0m         ):\n\u001b[0;32m   5988\u001b[0m             \u001b[1;32mreturn\u001b[0m \u001b[0mself\u001b[0m\u001b[1;33m[\u001b[0m\u001b[0mname\u001b[0m\u001b[1;33m]\u001b[0m\u001b[1;33m\u001b[0m\u001b[1;33m\u001b[0m\u001b[0m\n\u001b[1;32m-> 5989\u001b[1;33m         \u001b[1;32mreturn\u001b[0m \u001b[0mobject\u001b[0m\u001b[1;33m.\u001b[0m\u001b[0m__getattribute__\u001b[0m\u001b[1;33m(\u001b[0m\u001b[0mself\u001b[0m\u001b[1;33m,\u001b[0m \u001b[0mname\u001b[0m\u001b[1;33m)\u001b[0m\u001b[1;33m\u001b[0m\u001b[1;33m\u001b[0m\u001b[0m\n\u001b[0m\u001b[0;32m   5990\u001b[0m \u001b[1;33m\u001b[0m\u001b[0m\n\u001b[0;32m   5991\u001b[0m     \u001b[1;32mdef\u001b[0m \u001b[0m__setattr__\u001b[0m\u001b[1;33m(\u001b[0m\u001b[0mself\u001b[0m\u001b[1;33m,\u001b[0m \u001b[0mname\u001b[0m\u001b[1;33m:\u001b[0m \u001b[0mstr\u001b[0m\u001b[1;33m,\u001b[0m \u001b[0mvalue\u001b[0m\u001b[1;33m)\u001b[0m \u001b[1;33m->\u001b[0m \u001b[1;32mNone\u001b[0m\u001b[1;33m:\u001b[0m\u001b[1;33m\u001b[0m\u001b[1;33m\u001b[0m\u001b[0m\n",
      "\u001b[1;31mAttributeError\u001b[0m: 'DataFrame' object has no attribute 'append'"
     ]
    }
   ],
   "source": [
    "planeten1.append(planeten2)"
   ]
  },
  {
   "cell_type": "code",
   "execution_count": 6,
   "id": "e5c2fda3-b341-4b19-9ed6-f67a9ef2450f",
   "metadata": {},
   "outputs": [
    {
     "name": "stdout",
     "output_type": "stream",
     "text": [
      "0    merkur\n",
      "1    neptun\n",
      "2      mars\n",
      "0     venus\n",
      "1    uranus\n",
      "2     pluto\n",
      "dtype: object\n"
     ]
    },
    {
     "name": "stderr",
     "output_type": "stream",
     "text": [
      "C:\\Users\\Fabio\\AppData\\Local\\Temp\\ipykernel_3412\\3413698158.py:1: FutureWarning: The series.append method is deprecated and will be removed from pandas in a future version. Use pandas.concat instead.\n",
      "  print(series1.append(series2))\n"
     ]
    }
   ],
   "source": [
    "print(series1.append(series2))"
   ]
  },
  {
   "cell_type": "code",
   "execution_count": null,
   "id": "d8cf4fbe-7b66-49cd-a20b-f1e02e671b70",
   "metadata": {},
   "outputs": [],
   "source": []
  }
 ],
 "metadata": {
  "kernelspec": {
   "display_name": "Python 3 (ipykernel)",
   "language": "python",
   "name": "python3"
  },
  "language_info": {
   "codemirror_mode": {
    "name": "ipython",
    "version": 3
   },
   "file_extension": ".py",
   "mimetype": "text/x-python",
   "name": "python",
   "nbconvert_exporter": "python",
   "pygments_lexer": "ipython3",
   "version": "3.9.13"
  }
 },
 "nbformat": 4,
 "nbformat_minor": 5
}
