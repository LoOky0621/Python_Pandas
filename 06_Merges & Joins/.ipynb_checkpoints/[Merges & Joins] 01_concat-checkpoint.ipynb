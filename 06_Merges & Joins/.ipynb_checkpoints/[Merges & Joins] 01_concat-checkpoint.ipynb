{
 "cells": [
  {
   "cell_type": "markdown",
   "id": "ab255f87-973c-4b8f-9091-442a4820e2a1",
   "metadata": {},
   "source": [
    "# [Merges & Joins] Daten einfach verknüpfen über concat"
   ]
  },
  {
   "cell_type": "code",
   "execution_count": 1,
   "id": "f02030e4-d202-48c6-a3bd-796fcd0e2eb3",
   "metadata": {},
   "outputs": [],
   "source": [
    "import pandas as pd"
   ]
  },
  {
   "cell_type": "markdown",
   "id": "6502617a-73c2-4042-978f-b2d7c7cf9cba",
   "metadata": {},
   "source": [
    "## Series verknüpfen"
   ]
  },
  {
   "cell_type": "code",
   "execution_count": null,
   "id": "3047b1b2-a4ba-4064-9eab-588f9692595e",
   "metadata": {},
   "outputs": [],
   "source": []
  },
  {
   "cell_type": "markdown",
   "id": "b75cc1d8-aac5-4b8f-8bf5-0659b3e23bb4",
   "metadata": {},
   "source": [
    "## DataFrames verknüpfen"
   ]
  },
  {
   "cell_type": "code",
   "execution_count": null,
   "id": "3ac69f8f-e8f9-46ab-bac7-184d14a02fcb",
   "metadata": {},
   "outputs": [],
   "source": []
  }
 ],
 "metadata": {
  "kernelspec": {
   "display_name": "Python 3 (ipykernel)",
   "language": "python",
   "name": "python3"
  },
  "language_info": {
   "codemirror_mode": {
    "name": "ipython",
    "version": 3
   },
   "file_extension": ".py",
   "mimetype": "text/x-python",
   "name": "python",
   "nbconvert_exporter": "python",
   "pygments_lexer": "ipython3",
   "version": "3.9.13"
  }
 },
 "nbformat": 4,
 "nbformat_minor": 5
}
