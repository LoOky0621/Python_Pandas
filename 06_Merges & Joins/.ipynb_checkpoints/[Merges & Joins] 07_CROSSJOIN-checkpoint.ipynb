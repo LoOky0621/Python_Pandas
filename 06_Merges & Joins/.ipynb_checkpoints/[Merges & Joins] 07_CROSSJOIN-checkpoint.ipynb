{
 "cells": [
  {
   "cell_type": "markdown",
   "id": "ab255f87-973c-4b8f-9091-442a4820e2a1",
   "metadata": {},
   "source": [
    "# [Merges & Joins] CROSSJOIN"
   ]
  },
  {
   "cell_type": "markdown",
   "id": "a15660e5-80a1-4319-80a0-42da5dcbc58b",
   "metadata": {},
   "source": [
    "*Ein Cross-Join gibt alle möglichen Zeilenkombinationen aus zwei Tabellen zurück*"
   ]
  },
  {
   "cell_type": "code",
   "execution_count": 1,
   "id": "f02030e4-d202-48c6-a3bd-796fcd0e2eb3",
   "metadata": {},
   "outputs": [],
   "source": [
    "import pandas as pd"
   ]
  },
  {
   "cell_type": "code",
   "execution_count": 2,
   "id": "f1f42d0f-e708-44c6-9465-fb00252b779e",
   "metadata": {},
   "outputs": [],
   "source": [
    "fertigung = pd.read_excel(\"fertigung.xlsx\")\n",
    "produkt = pd.read_excel(\"produkt.xlsx\")"
   ]
  },
  {
   "cell_type": "code",
   "execution_count": null,
   "id": "501ac458-acad-41e1-aa5c-1be04c14bd01",
   "metadata": {},
   "outputs": [],
   "source": []
  }
 ],
 "metadata": {
  "kernelspec": {
   "display_name": "Python 3 (ipykernel)",
   "language": "python",
   "name": "python3"
  },
  "language_info": {
   "codemirror_mode": {
    "name": "ipython",
    "version": 3
   },
   "file_extension": ".py",
   "mimetype": "text/x-python",
   "name": "python",
   "nbconvert_exporter": "python",
   "pygments_lexer": "ipython3",
   "version": "3.9.13"
  }
 },
 "nbformat": 4,
 "nbformat_minor": 5
}
