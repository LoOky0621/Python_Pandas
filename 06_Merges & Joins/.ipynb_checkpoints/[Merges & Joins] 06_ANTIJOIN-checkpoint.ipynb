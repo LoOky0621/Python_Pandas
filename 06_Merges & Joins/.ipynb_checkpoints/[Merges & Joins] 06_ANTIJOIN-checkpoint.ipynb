{
 "cells": [
  {
   "cell_type": "markdown",
   "id": "ab255f87-973c-4b8f-9091-442a4820e2a1",
   "metadata": {},
   "source": [
    "# [Merges & Joins] ANTIJOIN"
   ]
  },
  {
   "cell_type": "code",
   "execution_count": 1,
   "id": "f02030e4-d202-48c6-a3bd-796fcd0e2eb3",
   "metadata": {},
   "outputs": [],
   "source": [
    "import pandas as pd"
   ]
  },
  {
   "cell_type": "code",
   "execution_count": 2,
   "id": "9d67983d-613a-4319-a7b4-42e9b4e1650f",
   "metadata": {},
   "outputs": [],
   "source": [
    "fertigung = pd.read_excel(\"fertigung.xlsx\")\n",
    "produkt = pd.read_excel(\"produkt.xlsx\")"
   ]
  },
  {
   "cell_type": "code",
   "execution_count": null,
   "id": "2d3ce968-1267-44ce-8fc0-7830064c6e4d",
   "metadata": {},
   "outputs": [],
   "source": []
  }
 ],
 "metadata": {
  "kernelspec": {
   "display_name": "Python 3 (ipykernel)",
   "language": "python",
   "name": "python3"
  },
  "language_info": {
   "codemirror_mode": {
    "name": "ipython",
    "version": 3
   },
   "file_extension": ".py",
   "mimetype": "text/x-python",
   "name": "python",
   "nbconvert_exporter": "python",
   "pygments_lexer": "ipython3",
   "version": "3.9.13"
  }
 },
 "nbformat": 4,
 "nbformat_minor": 5
}
