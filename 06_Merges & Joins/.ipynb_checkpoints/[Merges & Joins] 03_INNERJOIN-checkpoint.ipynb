{
 "cells": [
  {
   "cell_type": "markdown",
   "id": "ab255f87-973c-4b8f-9091-442a4820e2a1",
   "metadata": {},
   "source": [
    "# [Merges & Joins] INNERJOIN"
   ]
  },
  {
   "cell_type": "code",
   "execution_count": 1,
   "id": "f02030e4-d202-48c6-a3bd-796fcd0e2eb3",
   "metadata": {},
   "outputs": [],
   "source": [
    "import pandas as pd"
   ]
  },
  {
   "cell_type": "markdown",
   "id": "de5f3e79-4a1c-4223-b1f8-27e574a68ffe",
   "metadata": {},
   "source": [
    "## Beispiel: Erstellte DataFrames"
   ]
  },
  {
   "cell_type": "code",
   "execution_count": 3,
   "id": "ff9a00f9-e318-488c-91ef-bf12cb3d557a",
   "metadata": {},
   "outputs": [],
   "source": [
    "planeten1 = pd.DataFrame([['merkur', 222], ['neptun', 4687], ['mars', 401]],\n",
    "                   columns=['Planet', 'Entfernung zur Erde in Mio. km'])\n",
    "\n",
    "planeten2 = pd.DataFrame([['venus', 261], ['uranus', 3157], ['pluto', 7528]],\n",
    "                   columns=['Planet', 'Entfernung zur Erde in Mio. km'])"
   ]
  },
  {
   "cell_type": "markdown",
   "id": "0433ae8b-c45f-4719-8508-110149a8277f",
   "metadata": {},
   "source": [
    "## Innerjoin mit eingelesenen Daten"
   ]
  },
  {
   "cell_type": "markdown",
   "id": "97976397-15ad-4240-9ce1-2eea3cd5c950",
   "metadata": {},
   "source": [
    "#### on-Parameter"
   ]
  },
  {
   "cell_type": "code",
   "execution_count": null,
   "id": "9084cd08-4ca6-4019-b67e-8f788db32f28",
   "metadata": {},
   "outputs": [],
   "source": []
  },
  {
   "cell_type": "markdown",
   "id": "12f11934-2aa3-4d95-bc27-d1c2bdbd743f",
   "metadata": {},
   "source": [
    "#### how-Parameter"
   ]
  },
  {
   "cell_type": "code",
   "execution_count": null,
   "id": "4bd2d160-42dd-44b6-ba1f-b83c15a05443",
   "metadata": {},
   "outputs": [],
   "source": []
  },
  {
   "cell_type": "markdown",
   "id": "e230de62-6991-4137-8aa5-2500c8582e4b",
   "metadata": {},
   "source": [
    "### Alternative Schreibweise"
   ]
  },
  {
   "cell_type": "code",
   "execution_count": null,
   "id": "1efa4ac1-6b23-4420-baab-30c83bb156e2",
   "metadata": {},
   "outputs": [],
   "source": []
  }
 ],
 "metadata": {
  "kernelspec": {
   "display_name": "Python 3 (ipykernel)",
   "language": "python",
   "name": "python3"
  },
  "language_info": {
   "codemirror_mode": {
    "name": "ipython",
    "version": 3
   },
   "file_extension": ".py",
   "mimetype": "text/x-python",
   "name": "python",
   "nbconvert_exporter": "python",
   "pygments_lexer": "ipython3",
   "version": "3.9.13"
  }
 },
 "nbformat": 4,
 "nbformat_minor": 5
}
