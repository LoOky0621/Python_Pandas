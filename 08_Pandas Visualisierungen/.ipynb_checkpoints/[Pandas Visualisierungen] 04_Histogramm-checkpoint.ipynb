{
 "cells": [
  {
   "cell_type": "markdown",
   "id": "0f10a710-1a49-4565-bd3f-dcc16da6322d",
   "metadata": {},
   "source": [
    "# [Pandas Visualisierungen] Histogramm"
   ]
  },
  {
   "cell_type": "code",
   "execution_count": 1,
   "id": "4fa08c90-16c5-47fb-94b0-4166369589ca",
   "metadata": {},
   "outputs": [],
   "source": [
    "import pandas as pd\n",
    "from matplotlib import pyplot as plt"
   ]
  },
  {
   "cell_type": "code",
   "execution_count": 2,
   "id": "53c55c3a-8be8-436c-b865-b0fe39ebf2cc",
   "metadata": {},
   "outputs": [],
   "source": [
    "umsatz = pd.read_csv(\"datengrundlage.xls\")"
   ]
  },
  {
   "cell_type": "markdown",
   "id": "3a2e1b38-2fa4-4fd2-96ed-d79568d36433",
   "metadata": {},
   "source": [
    "## Histogramm visualisieren"
   ]
  },
  {
   "cell_type": "markdown",
   "id": "733220b2-5425-4459-8cd6-8fae80237354",
   "metadata": {},
   "source": [
    "### Variante 1"
   ]
  },
  {
   "cell_type": "code",
   "execution_count": null,
   "id": "d238511d-b0e8-497d-83e5-1e475c303668",
   "metadata": {},
   "outputs": [],
   "source": []
  },
  {
   "cell_type": "markdown",
   "id": "9cb4f6a1-9e0e-435e-8183-d825e6f719f8",
   "metadata": {},
   "source": [
    "### Variante 2"
   ]
  },
  {
   "cell_type": "code",
   "execution_count": null,
   "id": "39d90e88-0b93-45bc-ac2f-2cd8f0d1ef82",
   "metadata": {},
   "outputs": [],
   "source": []
  },
  {
   "cell_type": "markdown",
   "id": "38407b6d-50ec-49a9-9c2e-49c65e5911cd",
   "metadata": {},
   "source": [
    "### bins-Parameter"
   ]
  },
  {
   "cell_type": "code",
   "execution_count": null,
   "id": "62cf36d0-ac03-4728-9c1a-71ff7da2b9c5",
   "metadata": {},
   "outputs": [],
   "source": []
  },
  {
   "cell_type": "markdown",
   "id": "172f1e4a-1332-42a5-9994-e3691700033d",
   "metadata": {},
   "source": [
    "### Mehrere Datenreihen"
   ]
  },
  {
   "cell_type": "code",
   "execution_count": null,
   "id": "a08ef1df-652d-4125-80a1-4e6eae592379",
   "metadata": {},
   "outputs": [],
   "source": []
  },
  {
   "cell_type": "markdown",
   "id": "04275329-5735-4de5-b2d2-6e4880ed60a9",
   "metadata": {},
   "source": [
    "### Filterungen"
   ]
  },
  {
   "cell_type": "code",
   "execution_count": null,
   "id": "f57ff937-a52f-4d6a-8bca-164ff3c9c461",
   "metadata": {},
   "outputs": [],
   "source": []
  }
 ],
 "metadata": {
  "kernelspec": {
   "display_name": "Python 3 (ipykernel)",
   "language": "python",
   "name": "python3"
  },
  "language_info": {
   "codemirror_mode": {
    "name": "ipython",
    "version": 3
   },
   "file_extension": ".py",
   "mimetype": "text/x-python",
   "name": "python",
   "nbconvert_exporter": "python",
   "pygments_lexer": "ipython3",
   "version": "3.9.13"
  }
 },
 "nbformat": 4,
 "nbformat_minor": 5
}
