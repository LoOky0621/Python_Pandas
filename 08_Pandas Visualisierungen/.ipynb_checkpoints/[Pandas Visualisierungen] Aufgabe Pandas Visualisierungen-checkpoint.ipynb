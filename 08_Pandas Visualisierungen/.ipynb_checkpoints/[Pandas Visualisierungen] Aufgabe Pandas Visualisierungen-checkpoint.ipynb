{
 "cells": [
  {
   "cell_type": "markdown",
   "id": "0f10a710-1a49-4565-bd3f-dcc16da6322d",
   "metadata": {},
   "source": [
    "# [Pandas Visualisierungen] Weitere Visualisierungstypen"
   ]
  },
  {
   "cell_type": "code",
   "execution_count": 1,
   "id": "4fa08c90-16c5-47fb-94b0-4166369589ca",
   "metadata": {},
   "outputs": [],
   "source": [
    "import pandas as pd\n",
    "import seaborn as sb"
   ]
  },
  {
   "cell_type": "code",
   "execution_count": 2,
   "id": "a22348b7-d908-41ab-a53f-d8f8bfb2d441",
   "metadata": {},
   "outputs": [
    {
     "data": {
      "text/plain": [
       "['anagrams',\n",
       " 'anscombe',\n",
       " 'attention',\n",
       " 'brain_networks',\n",
       " 'car_crashes',\n",
       " 'diamonds',\n",
       " 'dots',\n",
       " 'dowjones',\n",
       " 'exercise',\n",
       " 'flights',\n",
       " 'fmri',\n",
       " 'geyser',\n",
       " 'glue',\n",
       " 'healthexp',\n",
       " 'iris',\n",
       " 'mpg',\n",
       " 'penguins',\n",
       " 'planets',\n",
       " 'seaice',\n",
       " 'taxis',\n",
       " 'tips',\n",
       " 'titanic']"
      ]
     },
     "execution_count": 2,
     "metadata": {},
     "output_type": "execute_result"
    }
   ],
   "source": [
    "sb.get_dataset_names()"
   ]
  },
  {
   "cell_type": "markdown",
   "id": "12279eda-0962-4e36-80a0-08ab090e164c",
   "metadata": {},
   "source": [
    "### glue-Datensatz"
   ]
  },
  {
   "cell_type": "markdown",
   "id": "9929e1a9-e00c-40d4-aae3-2c3e4a011465",
   "metadata": {},
   "source": [
    "**General Language Understanding Evaluation**\n",
    "\n",
    "- Natural Language Understanding\n",
    "\n",
    "- Plattform zur Bewertung und Analyse von NLP- und NLU-Modellen"
   ]
  },
  {
   "cell_type": "code",
   "execution_count": 3,
   "id": "1c39a450-f9ff-486b-a7a0-f361c586ca15",
   "metadata": {},
   "outputs": [
    {
     "data": {
      "text/html": [
       "<div>\n",
       "<style scoped>\n",
       "    .dataframe tbody tr th:only-of-type {\n",
       "        vertical-align: middle;\n",
       "    }\n",
       "\n",
       "    .dataframe tbody tr th {\n",
       "        vertical-align: top;\n",
       "    }\n",
       "\n",
       "    .dataframe thead th {\n",
       "        text-align: right;\n",
       "    }\n",
       "</style>\n",
       "<table border=\"1\" class=\"dataframe\">\n",
       "  <thead>\n",
       "    <tr style=\"text-align: right;\">\n",
       "      <th></th>\n",
       "      <th>Model</th>\n",
       "      <th>Year</th>\n",
       "      <th>Encoder</th>\n",
       "      <th>Task</th>\n",
       "      <th>Score</th>\n",
       "    </tr>\n",
       "  </thead>\n",
       "  <tbody>\n",
       "    <tr>\n",
       "      <th>0</th>\n",
       "      <td>ERNIE</td>\n",
       "      <td>2019</td>\n",
       "      <td>Transformer</td>\n",
       "      <td>CoLA</td>\n",
       "      <td>75.5</td>\n",
       "    </tr>\n",
       "    <tr>\n",
       "      <th>1</th>\n",
       "      <td>T5</td>\n",
       "      <td>2019</td>\n",
       "      <td>Transformer</td>\n",
       "      <td>CoLA</td>\n",
       "      <td>71.6</td>\n",
       "    </tr>\n",
       "    <tr>\n",
       "      <th>2</th>\n",
       "      <td>RoBERTa</td>\n",
       "      <td>2019</td>\n",
       "      <td>Transformer</td>\n",
       "      <td>CoLA</td>\n",
       "      <td>67.8</td>\n",
       "    </tr>\n",
       "    <tr>\n",
       "      <th>3</th>\n",
       "      <td>BERT</td>\n",
       "      <td>2018</td>\n",
       "      <td>Transformer</td>\n",
       "      <td>CoLA</td>\n",
       "      <td>60.5</td>\n",
       "    </tr>\n",
       "    <tr>\n",
       "      <th>4</th>\n",
       "      <td>BiLSTM+ELMo</td>\n",
       "      <td>2018</td>\n",
       "      <td>LSTM</td>\n",
       "      <td>CoLA</td>\n",
       "      <td>32.1</td>\n",
       "    </tr>\n",
       "    <tr>\n",
       "      <th>...</th>\n",
       "      <td>...</td>\n",
       "      <td>...</td>\n",
       "      <td>...</td>\n",
       "      <td>...</td>\n",
       "      <td>...</td>\n",
       "    </tr>\n",
       "    <tr>\n",
       "      <th>59</th>\n",
       "      <td>BERT</td>\n",
       "      <td>2018</td>\n",
       "      <td>Transformer</td>\n",
       "      <td>RTE</td>\n",
       "      <td>70.1</td>\n",
       "    </tr>\n",
       "    <tr>\n",
       "      <th>60</th>\n",
       "      <td>BiLSTM+ELMo</td>\n",
       "      <td>2018</td>\n",
       "      <td>LSTM</td>\n",
       "      <td>RTE</td>\n",
       "      <td>57.4</td>\n",
       "    </tr>\n",
       "    <tr>\n",
       "      <th>61</th>\n",
       "      <td>BiLSTM+CoVe</td>\n",
       "      <td>2017</td>\n",
       "      <td>LSTM</td>\n",
       "      <td>RTE</td>\n",
       "      <td>52.7</td>\n",
       "    </tr>\n",
       "    <tr>\n",
       "      <th>62</th>\n",
       "      <td>BiLSTM+Attn</td>\n",
       "      <td>2017</td>\n",
       "      <td>LSTM</td>\n",
       "      <td>RTE</td>\n",
       "      <td>58.4</td>\n",
       "    </tr>\n",
       "    <tr>\n",
       "      <th>63</th>\n",
       "      <td>BiLSTM</td>\n",
       "      <td>2017</td>\n",
       "      <td>LSTM</td>\n",
       "      <td>RTE</td>\n",
       "      <td>57.4</td>\n",
       "    </tr>\n",
       "  </tbody>\n",
       "</table>\n",
       "<p>64 rows × 5 columns</p>\n",
       "</div>"
      ],
      "text/plain": [
       "          Model  Year      Encoder  Task  Score\n",
       "0         ERNIE  2019  Transformer  CoLA   75.5\n",
       "1            T5  2019  Transformer  CoLA   71.6\n",
       "2       RoBERTa  2019  Transformer  CoLA   67.8\n",
       "3          BERT  2018  Transformer  CoLA   60.5\n",
       "4   BiLSTM+ELMo  2018         LSTM  CoLA   32.1\n",
       "..          ...   ...          ...   ...    ...\n",
       "59         BERT  2018  Transformer   RTE   70.1\n",
       "60  BiLSTM+ELMo  2018         LSTM   RTE   57.4\n",
       "61  BiLSTM+CoVe  2017         LSTM   RTE   52.7\n",
       "62  BiLSTM+Attn  2017         LSTM   RTE   58.4\n",
       "63       BiLSTM  2017         LSTM   RTE   57.4\n",
       "\n",
       "[64 rows x 5 columns]"
      ]
     },
     "execution_count": 3,
     "metadata": {},
     "output_type": "execute_result"
    }
   ],
   "source": [
    "glue = sb.load_dataset(\"glue\")\n",
    "glue"
   ]
  },
  {
   "cell_type": "markdown",
   "id": "ee3bbe97-fdbb-4e36-b55c-e208b14ca0c3",
   "metadata": {},
   "source": [
    "### Sprachverständnisaufgaben"
   ]
  },
  {
   "cell_type": "code",
   "execution_count": 17,
   "id": "cac5aa9d-43e4-4098-8a65-54cf698d49fc",
   "metadata": {},
   "outputs": [
    {
     "data": {
      "text/plain": [
       "array(['CoLA', 'SST-2', 'MRPC', 'STS-B', 'QQP', 'MNLI', 'QNLI', 'RTE'],\n",
       "      dtype=object)"
      ]
     },
     "execution_count": 17,
     "metadata": {},
     "output_type": "execute_result"
    }
   ],
   "source": [
    "glue.Task.unique()"
   ]
  },
  {
   "cell_type": "markdown",
   "id": "aec00f8f-95a6-4215-bd87-5107f9bbae8b",
   "metadata": {},
   "source": [
    "1. CoLA (Corpus of Linguistic Acceptability)\n",
    "2. MRPC (Microsoft Research Paraphrase Corpus)\n",
    "3. SST-2 (Stanford Sentiment Treebank)\n",
    "4. QQP (Quora Question Pairs)\n",
    "5. STS-B (Semantic Textual Similarity Benchmark)\n",
    "6. MNLI (Multi-Genre Natural Language Inference)\n",
    "7. QNLI (Question NLI)\n",
    "8. WNLI (Winograd NLI)\n",
    "9. RTE (Recognizing Textual Entailment)"
   ]
  },
  {
   "cell_type": "markdown",
   "id": "822d4fe4-cf81-4a55-81fb-9131f6d43fe0",
   "metadata": {},
   "source": [
    "## 1. Linien- und Flächendiagramm"
   ]
  },
  {
   "cell_type": "markdown",
   "id": "a93b3d4f-1f59-4bc2-9d42-fe1731f6fe28",
   "metadata": {},
   "source": [
    "*Visualisiere den Score in einem Linien- und Flächendiagramm. Füge Diagrammbeschriftung und Achsenbeschriftungen hinzu. Verwende die Farbe \"orange\"*"
   ]
  },
  {
   "cell_type": "code",
   "execution_count": null,
   "id": "626bb7eb-4454-42c2-a393-87dd4ea23282",
   "metadata": {},
   "outputs": [],
   "source": []
  },
  {
   "cell_type": "markdown",
   "id": "f623794c-7b22-4f50-a6a1-3786d0d270fa",
   "metadata": {},
   "source": [
    "## 2. Balkendiagramme"
   ]
  },
  {
   "cell_type": "markdown",
   "id": "eaa004a4-418a-4441-982e-1957b00014b0",
   "metadata": {},
   "source": [
    "*Veranschauliche den Score nun in einem Balkendiagramm sortiert nach den einzelnen Jahren. Verwende die Farbe \"dunkelblau\"*"
   ]
  },
  {
   "cell_type": "code",
   "execution_count": null,
   "id": "b965e1b6-f479-4916-8888-3ec71687aecc",
   "metadata": {},
   "outputs": [],
   "source": []
  },
  {
   "cell_type": "markdown",
   "id": "aeaca703-184d-46ec-a496-6f67e6a80c36",
   "metadata": {},
   "source": [
    "## 3. Boxplot"
   ]
  },
  {
   "cell_type": "markdown",
   "id": "71600991-4677-47b3-8363-bd2254bec12e",
   "metadata": {},
   "source": [
    "*Verwende nun einen Boxplot jeweils für den Score und aufgeteilt nach:*\n",
    "\n",
    "- Model\n",
    "\n",
    "- Year\n",
    "\n",
    "- Encoder"
   ]
  },
  {
   "cell_type": "code",
   "execution_count": null,
   "id": "a2c9bef6-a02f-452d-bc18-19d7d20288bf",
   "metadata": {},
   "outputs": [],
   "source": []
  },
  {
   "cell_type": "markdown",
   "id": "05b12fa1-b320-45f4-82a3-3424e516d356",
   "metadata": {},
   "source": [
    "## 4. Histogramm"
   ]
  },
  {
   "cell_type": "markdown",
   "id": "e45ceb60-66fe-440e-81ee-36da58bdba58",
   "metadata": {},
   "source": [
    "*Veranschauliche den Score auch in einem Histogramm und setze den bins-Parameter auf 25*\n",
    "\n",
    "*Zeichne zwei weitere Histogramme unterteilt nach Model und Year*"
   ]
  },
  {
   "cell_type": "code",
   "execution_count": null,
   "id": "b5c05961-b2b0-4489-a078-ab0101169b4a",
   "metadata": {},
   "outputs": [],
   "source": []
  },
  {
   "cell_type": "markdown",
   "id": "2b02b161-a47e-467e-9f34-c7cce86c31c3",
   "metadata": {},
   "source": [
    "## 5. Kuchendiagramm"
   ]
  },
  {
   "cell_type": "markdown",
   "id": "f7501ef3-f579-442d-8437-afff1aa9972a",
   "metadata": {},
   "source": [
    "*Verwende ein Kuchendiagramm, um den Score nach Models aufzugliedern*"
   ]
  },
  {
   "cell_type": "code",
   "execution_count": null,
   "id": "614c7221-1655-47e2-abc0-62e38e29034a",
   "metadata": {},
   "outputs": [],
   "source": []
  }
 ],
 "metadata": {
  "kernelspec": {
   "display_name": "Python 3 (ipykernel)",
   "language": "python",
   "name": "python3"
  },
  "language_info": {
   "codemirror_mode": {
    "name": "ipython",
    "version": 3
   },
   "file_extension": ".py",
   "mimetype": "text/x-python",
   "name": "python",
   "nbconvert_exporter": "python",
   "pygments_lexer": "ipython3",
   "version": "3.9.13"
  }
 },
 "nbformat": 4,
 "nbformat_minor": 5
}
